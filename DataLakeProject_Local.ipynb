{
 "cells": [
  {
   "cell_type": "code",
   "execution_count": 1,
   "id": "316b1964",
   "metadata": {},
   "outputs": [],
   "source": [
    "import findspark\n",
    "findspark.init()"
   ]
  },
  {
   "cell_type": "code",
   "execution_count": 2,
   "id": "ee6c546d",
   "metadata": {},
   "outputs": [],
   "source": [
    "import configparser\n",
    "from datetime import datetime\n",
    "import os\n",
    "from pyspark.sql import SparkSession\n",
    "from pyspark.sql.functions import udf, col\n",
    "from pyspark.sql.functions import year, month, dayofmonth, hour, weekofyear, date_format\n",
    "import pyspark.sql.types as TS\n",
    "from pyspark.sql.functions import dayofweek\n",
    "from pyspark.sql.functions import monotonically_increasing_id"
   ]
  },
  {
   "cell_type": "code",
   "execution_count": 3,
   "id": "9a3a9236",
   "metadata": {},
   "outputs": [],
   "source": [
    "# config = configparser.ConfigParser()\n",
    "# config.read('dl.cfg')\n",
    "\n",
    "# os.environ['AWS_ACCESS_KEY_ID']=config['AWS']['AWS_ACCESS_KEY_ID']\n",
    "# os.environ['AWS_SECRET_ACCESS_KEY']=config['AWS']['AWS_SECRET_ACCESS_KEY']"
   ]
  },
  {
   "cell_type": "code",
   "execution_count": 4,
   "id": "14d04253",
   "metadata": {},
   "outputs": [],
   "source": [
    "def create_spark_session():\n",
    "    spark = SparkSession \\\n",
    "        .builder \\\n",
    "        .config(\"spark.jars.packages\", \"org.apache.hadoop:hadoop-aws:2.7.0\") \\\n",
    "        .getOrCreate()\n",
    "    return spark"
   ]
  },
  {
   "cell_type": "code",
   "execution_count": 5,
   "id": "fab7a8de",
   "metadata": {},
   "outputs": [],
   "source": [
    "def process_song_data(spark):\n",
    "    # get filepath to song data file\n",
    "    \n",
    "    # read song data file\n",
    "    df = spark.read.json('C:/Users/gonza/Downloads/song-data/song_data/*/*/*/*.json')\n",
    "\n",
    "    # extract columns to create songs table\n",
    "    songs_table = df.select('song_id','title','artist_id','year','duration')\n",
    "    \n",
    "    # write songs table to parquet files partitioned by year and artist\n",
    "    songs_table.write.partitionBy('year','artist_id').mode('overwrite').parquet('C:/Users/gonza/Downloads/parquet')\n",
    "\n",
    "    # extract columns to create artists table\n",
    "    artists_table = df.select('artist_id','artist_name','artist_location',\n",
    "                              'artist_latitude','artist_longitude')\n",
    "    \n",
    "    # write artists table to parquet files\n",
    "    artists_table.write.mode('overwrite').parquet('C:/Users/gonza/Downloads/parquet')\n"
   ]
  },
  {
   "cell_type": "code",
   "execution_count": 6,
   "id": "ed931a02",
   "metadata": {},
   "outputs": [],
   "source": [
    "def process_log_data(spark):\n",
    "    # get filepath to log data file\n",
    "\n",
    "    # read log data file\n",
    "    df = spark.read.json('log-data')\n",
    "    \n",
    "    # filter by actions for song plays\n",
    "    df = df.where(df.page == 'NextSong')\n",
    "\n",
    "    # extract columns for users table    \n",
    "    users_table = df.select('userId','firstName','lastName','gender','level')\n",
    "    \n",
    "    # write users table to parquet files\n",
    "    users_table.write.mode('overwrite').parquet('C:/Users/gonza/Downloads/parquet')\n",
    "\n",
    "    # create timestamp column from original timestamp column\n",
    "    get_timestamp = udf(lambda x: datetime.fromtimestamp(x/1000), TS.TimestampType())\n",
    "    df = df.withColumn('ts_timestamp',get_timestamp('ts'))\n",
    "    \n",
    "    # create datetime column from original timestamp column\n",
    "#     get_datetime = udf()\n",
    "#     df = \n",
    "    \n",
    "    # extract columns to create time table\n",
    "    time_table = df.select('ts_timestamp', hour('ts_timestamp').alias('hour'), dayofmonth('ts_timestamp').alias('day'), weekofyear('ts_timestamp').alias('weekofyear'),\n",
    "                           month('ts_timestamp').alias('month'), year('ts_timestamp').alias('year'), dayofweek('ts_timestamp').alias('dayofweek'))\n",
    "    \n",
    "    # write time table to parquet files partitioned by year and month\n",
    "    time_table.write.partitionBy('year', 'month').mode('overwrite').parquet('C:/Users/gonza/Downloads/parquet')\n",
    "\n",
    "    # read in song data to use for songplays table\n",
    "    song_df = spark.read.json('C:/Users/gonza/Downloads/song-data/song_data/*/*/*/*.json')\n",
    "\n",
    "    # extract columns from joined song and log datasets to create songplays table \n",
    "    songplays_table = df.join(song_df, df['song'] == song_df['title']).drop('title')\n",
    "    songplays_table = songplays_table.withColumn('songplay_id', monotonically_increasing_id()).select('songplay_id','ts_timestamp', 'userId', 'level',\n",
    "                                                                                                      'song_id', 'artist_id', 'sessionId', 'location', 'userAgent')\n",
    "    # create year and month columns for the partition \n",
    "    songplays_table = songplays_table.withColumn('year', year('ts_timestamp')).withColumn('month', month('ts_timestamp'))\n",
    "    \n",
    "    # write songplays table to parquet files partitioned by year and month\n",
    "    songplays_table.write.partitionBy('year', 'month').mode('overwrite').parquet('C:/Users/gonza/Downloads/parquet')"
   ]
  },
  {
   "cell_type": "code",
   "execution_count": 7,
   "id": "d966f461",
   "metadata": {},
   "outputs": [
    {
     "name": "stdout",
     "output_type": "stream",
     "text": [
      "Correct execution\n"
     ]
    }
   ],
   "source": [
    "def main():\n",
    "    spark = create_spark_session()\n",
    "    input_data = \"\"\n",
    "    output_data = \"C:/Users/gonza/Downloads/parquet\"\n",
    "    \n",
    "    process_song_data(spark)    \n",
    "    process_log_data(spark)\n",
    "    \n",
    "    print('Correct execution')\n",
    "\n",
    "\n",
    "if __name__ == \"__main__\":\n",
    "    main()\n"
   ]
  }
 ],
 "metadata": {
  "kernelspec": {
   "display_name": "Python 3 (ipykernel)",
   "language": "python",
   "name": "python3"
  },
  "language_info": {
   "codemirror_mode": {
    "name": "ipython",
    "version": 3
   },
   "file_extension": ".py",
   "mimetype": "text/x-python",
   "name": "python",
   "nbconvert_exporter": "python",
   "pygments_lexer": "ipython3",
   "version": "3.9.2"
  }
 },
 "nbformat": 4,
 "nbformat_minor": 5
}

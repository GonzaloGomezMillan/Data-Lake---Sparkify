{
 "cells": [
  {
   "cell_type": "code",
   "execution_count": 1,
   "id": "fe30fae0-a750-4937-9a83-62b11f63b312",
   "metadata": {
    "execution": {
     "iopub.execute_input": "2022-12-30T06:56:40.062834Z",
     "iopub.status.busy": "2022-12-30T06:56:40.062333Z",
     "iopub.status.idle": "2022-12-30T06:57:15.849717Z",
     "shell.execute_reply": "2022-12-30T06:57:15.848119Z",
     "shell.execute_reply.started": "2022-12-30T06:56:40.062798Z"
    },
    "tags": []
   },
   "outputs": [
    {
     "data": {
      "application/vnd.jupyter.widget-view+json": {
       "model_id": "5d4cc6c301914892a32b070e19f6d9ec",
       "version_major": 2,
       "version_minor": 0
      },
      "text/plain": [
       "VBox()"
      ]
     },
     "metadata": {},
     "output_type": "display_data"
    },
    {
     "name": "stdout",
     "output_type": "stream",
     "text": [
      "Starting Spark application\n"
     ]
    },
    {
     "data": {
      "text/html": [
       "<table>\n",
       "<tr><th>ID</th><th>YARN Application ID</th><th>Kind</th><th>State</th><th>Spark UI</th><th>Driver log</th><th>Current session?</th></tr><tr><td>1</td><td>application_1672382354672_0002</td><td>pyspark</td><td>idle</td><td><a target=\"_blank\" href=\"http://ip-172-31-33-86.us-west-2.compute.internal:20888/proxy/application_1672382354672_0002/\">Link</a></td><td><a target=\"_blank\" href=\"http://ip-172-31-37-80.us-west-2.compute.internal:8042/node/containerlogs/container_1672382354672_0002_01_000001/livy\">Link</a></td><td>✔</td></tr></table>"
      ],
      "text/plain": [
       "<IPython.core.display.HTML object>"
      ]
     },
     "metadata": {},
     "output_type": "display_data"
    },
    {
     "data": {
      "application/vnd.jupyter.widget-view+json": {
       "model_id": "",
       "version_major": 2,
       "version_minor": 0
      },
      "text/plain": [
       "FloatProgress(value=0.0, bar_style='info', description='Progress:', layout=Layout(height='25px', width='50%'),…"
      ]
     },
     "metadata": {},
     "output_type": "display_data"
    },
    {
     "name": "stdout",
     "output_type": "stream",
     "text": [
      "SparkSession available as 'spark'.\n"
     ]
    },
    {
     "data": {
      "application/vnd.jupyter.widget-view+json": {
       "model_id": "",
       "version_major": 2,
       "version_minor": 0
      },
      "text/plain": [
       "FloatProgress(value=0.0, bar_style='info', description='Progress:', layout=Layout(height='25px', width='50%'),…"
      ]
     },
     "metadata": {},
     "output_type": "display_data"
    }
   ],
   "source": [
    "import configparser\n",
    "from datetime import datetime\n",
    "# import pandas as pd\n",
    "import os\n",
    "from pyspark.sql import SparkSession\n",
    "from pyspark.sql.functions import udf, col\n",
    "from pyspark.sql.functions import year, month, dayofmonth, hour, weekofyear, date_format"
   ]
  },
  {
   "cell_type": "code",
   "execution_count": 2,
   "id": "83a9db09-2d0a-4abf-9b94-e01b97c187de",
   "metadata": {
    "execution": {
     "iopub.execute_input": "2022-12-30T06:57:15.855734Z",
     "iopub.status.busy": "2022-12-30T06:57:15.855299Z",
     "iopub.status.idle": "2022-12-30T06:57:16.165463Z",
     "shell.execute_reply": "2022-12-30T06:57:16.161559Z",
     "shell.execute_reply.started": "2022-12-30T06:57:15.855688Z"
    }
   },
   "outputs": [
    {
     "data": {
      "application/vnd.jupyter.widget-view+json": {
       "model_id": "944499c0a61441acbabf6db60bc57d82",
       "version_major": 2,
       "version_minor": 0
      },
      "text/plain": [
       "VBox()"
      ]
     },
     "metadata": {},
     "output_type": "display_data"
    },
    {
     "data": {
      "application/vnd.jupyter.widget-view+json": {
       "model_id": "",
       "version_major": 2,
       "version_minor": 0
      },
      "text/plain": [
       "FloatProgress(value=0.0, bar_style='info', description='Progress:', layout=Layout(height='25px', width='50%'),…"
      ]
     },
     "metadata": {},
     "output_type": "display_data"
    }
   ],
   "source": [
    "def create_spark_session():\n",
    "    spark = SparkSession \\\n",
    "        .builder \\\n",
    "        .config(\"spark.jars.packages\", \"org.apache.hadoop:hadoop-aws:2.7.0\") \\\n",
    "        .getOrCreate()\n",
    "    return spark"
   ]
  },
  {
   "cell_type": "code",
   "execution_count": 3,
   "id": "8970de16-3962-4d43-8268-454162a1bee8",
   "metadata": {
    "execution": {
     "iopub.execute_input": "2022-12-30T06:57:16.179268Z",
     "iopub.status.busy": "2022-12-30T06:57:16.174649Z",
     "iopub.status.idle": "2022-12-30T06:57:16.496034Z",
     "shell.execute_reply": "2022-12-30T06:57:16.490754Z",
     "shell.execute_reply.started": "2022-12-30T06:57:16.178564Z"
    }
   },
   "outputs": [
    {
     "data": {
      "application/vnd.jupyter.widget-view+json": {
       "model_id": "ec53c896324440a6a210125e9d0d5e5a",
       "version_major": 2,
       "version_minor": 0
      },
      "text/plain": [
       "VBox()"
      ]
     },
     "metadata": {},
     "output_type": "display_data"
    },
    {
     "data": {
      "application/vnd.jupyter.widget-view+json": {
       "model_id": "",
       "version_major": 2,
       "version_minor": 0
      },
      "text/plain": [
       "FloatProgress(value=0.0, bar_style='info', description='Progress:', layout=Layout(height='25px', width='50%'),…"
      ]
     },
     "metadata": {},
     "output_type": "display_data"
    }
   ],
   "source": [
    "def process_song_data(spark, input_data, output_data):\n",
    "    # get filepath to song data file\n",
    "    song_data = '{}{}'.format(input_data, 'song_data/*/*/*/*.json')\n",
    "    \n",
    "    # read song data file\n",
    "    df = spark.read.json(song_data)\n",
    "    \n",
    "    # extract columns to create songs table\n",
    "    songs_table = df.select('song_id','title','artist_id','year','duration')\n",
    "    \n",
    "    # write songs table to parquet files partitioned by year and artist\n",
    "    songs_table.write.partitionBy('year','artist_id').mode('overwrite').parquet(output_data + \"songs/\")\n",
    "\n",
    "    # extract columns to create artists table\n",
    "    artists_table = df.select('artist_id','artist_name','artist_location',\n",
    "                                   'artist_latitude','artist_longitude')\n",
    "    \n",
    "    # write artists table to parquet files\n",
    "    artists_table.write.mode('overwrite').parquet(output_data + \"artists/\")\n"
   ]
  },
  {
   "cell_type": "code",
   "execution_count": 4,
   "id": "c9eea733-c67c-4bd9-bb64-ec5ef40db8b1",
   "metadata": {
    "execution": {
     "iopub.execute_input": "2022-12-30T06:57:16.499368Z",
     "iopub.status.busy": "2022-12-30T06:57:16.498415Z",
     "iopub.status.idle": "2022-12-30T06:57:16.803903Z",
     "shell.execute_reply": "2022-12-30T06:57:16.803167Z",
     "shell.execute_reply.started": "2022-12-30T06:57:16.499096Z"
    }
   },
   "outputs": [
    {
     "data": {
      "application/vnd.jupyter.widget-view+json": {
       "model_id": "9be143cfdb74406e843aa97e1d1c7be3",
       "version_major": 2,
       "version_minor": 0
      },
      "text/plain": [
       "VBox()"
      ]
     },
     "metadata": {},
     "output_type": "display_data"
    },
    {
     "data": {
      "application/vnd.jupyter.widget-view+json": {
       "model_id": "",
       "version_major": 2,
       "version_minor": 0
      },
      "text/plain": [
       "FloatProgress(value=0.0, bar_style='info', description='Progress:', layout=Layout(height='25px', width='50%'),…"
      ]
     },
     "metadata": {},
     "output_type": "display_data"
    }
   ],
   "source": [
    "def process_log_data(spark, input_data, output_data):\n",
    "    # get filepath to log data file\n",
    "    log_data = '{}{}'.format(input_data, 'log_data/*/*/*.json')\n",
    "\n",
    "    # read log data file\n",
    "    df = spark.read.json(log_data)\n",
    "    print('Data read!!!')\n",
    "    # filter by actions for song plays\n",
    "    df = df.where(df.page == 'NextSong')\n",
    "\n",
    "    # extract columns for users table    \n",
    "    users_table = df.select('userId','firstName','lastName','gender','level')\n",
    "    users_table.show(10)\n",
    "    \n",
    "    # write users table to parquet files\n",
    "    users_table.write.mode('overwrite').parquet(output_data + \"users/\")\n",
    "\n",
    "    # create timestamp column from original timestamp column\n",
    "    get_timestamp = udf(lambda x: datetime.fromtimestamp(x/1000), TS.TimestampType())\n",
    "    df = df.withColumn('ts_timestamp',get_timestamp('ts'))\n",
    "    \n",
    "    # create datetime column from original timestamp column\n",
    "#     get_datetime = udf()\n",
    "#     df = \n",
    "    \n",
    "    # extract columns to create time table\n",
    "    time_table = df.select('ts_timestamp', hour('ts_timestamp').alias('hour'), dayofmonth('ts_timestamp').alias('day'), weekofyear('ts_timestamp').alias('weekofyear'),\n",
    "                           month('ts_timestamp').alias('month'), year('ts_timestamp').alias('year'), dayofweek('ts_timestamp').alias('dayofweek'))\n",
    "    \n",
    "    # write time table to parquet files partitioned by year and month\n",
    "    time_table.write.partitionBy('year', 'month').mode('overwrite').parquet(output_data + \"time/\")\n",
    "\n",
    "    # read in song data to use for songplays table\n",
    "    song_df = spark.read.json(song_data)\n",
    "\n",
    "    # extract columns from joined song and log datasets to create songplays table \n",
    "    songplays_table = df.join(song_df, df['song'] == song_df['title']).drop('title')\n",
    "    songplays_table = songplays_table.withColumn('songplay_id', monotonically_increasing_id()).select('songplay_id','ts_timestamp', 'userId', 'level',\n",
    "                                                                                                      'song_id', 'artist_id', 'sessionId', 'location', 'userAgent')\n",
    "    # create year and month columns for the partition \n",
    "    songplays_table = songplays_table.withColumn('year', year('ts_timestamp')).withColumn('month', month('ts_timestamp'))\n",
    "    \n",
    "    # write songplays table to parquet files partitioned by year and month\n",
    "    songplays_table.write.partitionBy('year', 'month').mode('overwrite').parquet(output_data + \"songplays/\")"
   ]
  },
  {
   "cell_type": "code",
   "execution_count": 5,
   "id": "ba82e3d7-509d-434c-8989-d204d77ee377",
   "metadata": {
    "execution": {
     "iopub.execute_input": "2022-12-30T06:57:16.806154Z",
     "iopub.status.busy": "2022-12-30T06:57:16.805365Z",
     "iopub.status.idle": "2022-12-30T06:57:17.053665Z",
     "shell.execute_reply": "2022-12-30T06:57:17.052676Z",
     "shell.execute_reply.started": "2022-12-30T06:57:16.806111Z"
    }
   },
   "outputs": [
    {
     "data": {
      "application/vnd.jupyter.widget-view+json": {
       "model_id": "cd8410e8871f4440ac721c33d169ec08",
       "version_major": 2,
       "version_minor": 0
      },
      "text/plain": [
       "VBox()"
      ]
     },
     "metadata": {},
     "output_type": "display_data"
    },
    {
     "data": {
      "application/vnd.jupyter.widget-view+json": {
       "model_id": "",
       "version_major": 2,
       "version_minor": 0
      },
      "text/plain": [
       "FloatProgress(value=0.0, bar_style='info', description='Progress:', layout=Layout(height='25px', width='50%'),…"
      ]
     },
     "metadata": {},
     "output_type": "display_data"
    }
   ],
   "source": [
    "def main():\n",
    "    spark = create_spark_session()\n",
    "    input_data = \"s3a://udacity-dend/\"\n",
    "    output_data = \"s3a://sparkifyggo/\"\n",
    "    \n",
    "    process_song_data(spark, input_data, output_data)    \n",
    "    process_log_data(spark, input_data, output_data)"
   ]
  },
  {
   "cell_type": "code",
   "execution_count": null,
   "id": "333cfc64-a01f-4b4d-8045-6e35fddb4b99",
   "metadata": {
    "execution": {
     "iopub.execute_input": "2022-12-30T06:57:17.055513Z",
     "iopub.status.busy": "2022-12-30T06:57:17.054841Z"
    }
   },
   "outputs": [
    {
     "data": {
      "application/vnd.jupyter.widget-view+json": {
       "model_id": "220e8dc401244e0795ab2c2996102702",
       "version_major": 2,
       "version_minor": 0
      },
      "text/plain": [
       "VBox()"
      ]
     },
     "metadata": {},
     "output_type": "display_data"
    },
    {
     "data": {
      "application/vnd.jupyter.widget-view+json": {
       "model_id": "34d8d01c459c4060814955d8c94b002a",
       "version_major": 2,
       "version_minor": 0
      },
      "text/plain": [
       "FloatProgress(value=0.0, bar_style='info', description='Progress:', layout=Layout(height='25px', width='50%'),…"
      ]
     },
     "metadata": {},
     "output_type": "display_data"
    }
   ],
   "source": [
    "main()"
   ]
  },
  {
   "cell_type": "code",
   "execution_count": null,
   "id": "8c7a28f2-bc8c-4940-add2-2db9146c765c",
   "metadata": {},
   "outputs": [],
   "source": []
  },
  {
   "cell_type": "code",
   "execution_count": null,
   "id": "4380d5dd-724a-4daa-9b36-461537e78c0e",
   "metadata": {},
   "outputs": [],
   "source": []
  },
  {
   "cell_type": "code",
   "execution_count": null,
   "id": "ba5c9c66-5d49-4d07-89e0-b76c0378c956",
   "metadata": {},
   "outputs": [],
   "source": []
  },
  {
   "cell_type": "code",
   "execution_count": null,
   "id": "2b5bcdf1-045f-43f5-a71e-0d5176530d13",
   "metadata": {},
   "outputs": [],
   "source": []
  },
  {
   "cell_type": "code",
   "execution_count": null,
   "id": "4065fbfe-c1a0-4394-a184-8932947bcf33",
   "metadata": {},
   "outputs": [],
   "source": []
  },
  {
   "cell_type": "code",
   "execution_count": null,
   "id": "78bce057-299e-4387-b6e3-fcb3e9daf1db",
   "metadata": {},
   "outputs": [],
   "source": []
  }
 ],
 "metadata": {
  "kernelspec": {
   "display_name": "PySpark",
   "language": "",
   "name": "pysparkkernel"
  },
  "language_info": {
   "codemirror_mode": {
    "name": "python",
    "version": 2
   },
   "mimetype": "text/x-python",
   "name": "pyspark",
   "pygments_lexer": "python2"
  }
 },
 "nbformat": 4,
 "nbformat_minor": 5
}

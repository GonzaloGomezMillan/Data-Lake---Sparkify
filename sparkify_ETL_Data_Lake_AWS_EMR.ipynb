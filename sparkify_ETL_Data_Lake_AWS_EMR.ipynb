{
 "cells": [
  {
   "cell_type": "code",
   "execution_count": 1,
   "id": "fe30fae0-a750-4937-9a83-62b11f63b312",
   "metadata": {
    "execution": {
     "iopub.execute_input": "2022-12-30T10:33:06.598172Z",
     "iopub.status.busy": "2022-12-30T10:33:06.596114Z",
     "iopub.status.idle": "2022-12-30T10:33:42.322660Z",
     "shell.execute_reply": "2022-12-30T10:33:42.321604Z",
     "shell.execute_reply.started": "2022-12-30T10:33:06.598098Z"
    },
    "tags": []
   },
   "outputs": [
    {
     "data": {
      "application/vnd.jupyter.widget-view+json": {
       "model_id": "785af368b6ff49928654879efacc9450",
       "version_major": 2,
       "version_minor": 0
      },
      "text/plain": [
       "VBox()"
      ]
     },
     "metadata": {},
     "output_type": "display_data"
    },
    {
     "name": "stdout",
     "output_type": "stream",
     "text": [
      "Starting Spark application\n"
     ]
    },
    {
     "data": {
      "text/html": [
       "<table>\n",
       "<tr><th>ID</th><th>YARN Application ID</th><th>Kind</th><th>State</th><th>Spark UI</th><th>Driver log</th><th>Current session?</th></tr><tr><td>4</td><td>application_1672393822429_0005</td><td>pyspark</td><td>idle</td><td><a target=\"_blank\" href=\"http://ip-172-31-27-102.us-west-2.compute.internal:20888/proxy/application_1672393822429_0005/\">Link</a></td><td><a target=\"_blank\" href=\"http://ip-172-31-23-5.us-west-2.compute.internal:8042/node/containerlogs/container_1672393822429_0005_01_000001/livy\">Link</a></td><td>✔</td></tr></table>"
      ],
      "text/plain": [
       "<IPython.core.display.HTML object>"
      ]
     },
     "metadata": {},
     "output_type": "display_data"
    },
    {
     "data": {
      "application/vnd.jupyter.widget-view+json": {
       "model_id": "",
       "version_major": 2,
       "version_minor": 0
      },
      "text/plain": [
       "FloatProgress(value=0.0, bar_style='info', description='Progress:', layout=Layout(height='25px', width='50%'),…"
      ]
     },
     "metadata": {},
     "output_type": "display_data"
    },
    {
     "name": "stdout",
     "output_type": "stream",
     "text": [
      "SparkSession available as 'spark'.\n"
     ]
    },
    {
     "data": {
      "application/vnd.jupyter.widget-view+json": {
       "model_id": "",
       "version_major": 2,
       "version_minor": 0
      },
      "text/plain": [
       "FloatProgress(value=0.0, bar_style='info', description='Progress:', layout=Layout(height='25px', width='50%'),…"
      ]
     },
     "metadata": {},
     "output_type": "display_data"
    }
   ],
   "source": [
    "import configparser\n",
    "from datetime import datetime\n",
    "import os\n",
    "from pyspark.sql import SparkSession\n",
    "from pyspark.sql.functions import udf, col\n",
    "from pyspark.sql.functions import year, month, dayofmonth, hour, weekofyear, date_format"
   ]
  },
  {
   "cell_type": "code",
   "execution_count": 2,
   "id": "83a9db09-2d0a-4abf-9b94-e01b97c187de",
   "metadata": {
    "execution": {
     "iopub.execute_input": "2022-12-30T10:39:58.973269Z",
     "iopub.status.busy": "2022-12-30T10:39:58.972956Z",
     "iopub.status.idle": "2022-12-30T10:39:59.165392Z",
     "shell.execute_reply": "2022-12-30T10:39:59.164270Z",
     "shell.execute_reply.started": "2022-12-30T10:39:58.973243Z"
    },
    "tags": []
   },
   "outputs": [
    {
     "data": {
      "application/vnd.jupyter.widget-view+json": {
       "model_id": "6b70da3b6549445a8746abfa62f16ea0",
       "version_major": 2,
       "version_minor": 0
      },
      "text/plain": [
       "VBox()"
      ]
     },
     "metadata": {},
     "output_type": "display_data"
    },
    {
     "data": {
      "application/vnd.jupyter.widget-view+json": {
       "model_id": "",
       "version_major": 2,
       "version_minor": 0
      },
      "text/plain": [
       "FloatProgress(value=0.0, bar_style='info', description='Progress:', layout=Layout(height='25px', width='50%'),…"
      ]
     },
     "metadata": {},
     "output_type": "display_data"
    }
   ],
   "source": [
    "def create_spark_session():\n",
    "    spark = SparkSession \\\n",
    "        .builder \\\n",
    "        .config(\"spark.jars.packages\", \"org.apache.hadoop:hadoop-aws:2.7.0\") \\\n",
    "        .getOrCreate()\n",
    "    return spark"
   ]
  },
  {
   "cell_type": "code",
   "execution_count": 3,
   "id": "8970de16-3962-4d43-8268-454162a1bee8",
   "metadata": {
    "execution": {
     "iopub.execute_input": "2022-12-30T10:40:00.363836Z",
     "iopub.status.busy": "2022-12-30T10:40:00.363474Z",
     "iopub.status.idle": "2022-12-30T10:40:00.593509Z",
     "shell.execute_reply": "2022-12-30T10:40:00.592594Z",
     "shell.execute_reply.started": "2022-12-30T10:40:00.363807Z"
    },
    "tags": []
   },
   "outputs": [
    {
     "data": {
      "application/vnd.jupyter.widget-view+json": {
       "model_id": "056c281d5c7446e28ff7f065d00cff6f",
       "version_major": 2,
       "version_minor": 0
      },
      "text/plain": [
       "VBox()"
      ]
     },
     "metadata": {},
     "output_type": "display_data"
    },
    {
     "data": {
      "application/vnd.jupyter.widget-view+json": {
       "model_id": "",
       "version_major": 2,
       "version_minor": 0
      },
      "text/plain": [
       "FloatProgress(value=0.0, bar_style='info', description='Progress:', layout=Layout(height='25px', width='50%'),…"
      ]
     },
     "metadata": {},
     "output_type": "display_data"
    }
   ],
   "source": [
    "def process_song_data(spark, input_data, output_data):\n",
    "    # get filepath to song data file\n",
    "    song_data = '{}{}'.format(input_data, 'song_data/*/*/*/*.json')\n",
    "    \n",
    "    # read song data file\n",
    "    df = spark.read.json(song_data)\n",
    "    \n",
    "    # extract columns to create songs table\n",
    "    songs_table = df.select('song_id','title','artist_id','year','duration')\n",
    "    \n",
    "    # write songs table to parquet files partitioned by year and artist\n",
    "    songs_table.write.partitionBy('year','artist_id').mode('overwrite').parquet(output_data + \"songs/\")\n",
    "\n",
    "    # extract columns to create artists table\n",
    "    artists_table = df.select('artist_id','artist_name','artist_location',\n",
    "                                   'artist_latitude','artist_longitude')\n",
    "    \n",
    "    # write artists table to parquet files\n",
    "    artists_table.write.mode('overwrite').parquet(output_data + \"artists/\")\n"
   ]
  },
  {
   "cell_type": "code",
   "execution_count": 4,
   "id": "c9eea733-c67c-4bd9-bb64-ec5ef40db8b1",
   "metadata": {
    "execution": {
     "iopub.execute_input": "2022-12-30T10:40:02.381647Z",
     "iopub.status.busy": "2022-12-30T10:40:02.381207Z",
     "iopub.status.idle": "2022-12-30T10:40:02.706174Z",
     "shell.execute_reply": "2022-12-30T10:40:02.702679Z",
     "shell.execute_reply.started": "2022-12-30T10:40:02.381611Z"
    },
    "tags": []
   },
   "outputs": [
    {
     "data": {
      "application/vnd.jupyter.widget-view+json": {
       "model_id": "b0e79fb6e7c8449eaefa4aea39d0a771",
       "version_major": 2,
       "version_minor": 0
      },
      "text/plain": [
       "VBox()"
      ]
     },
     "metadata": {},
     "output_type": "display_data"
    },
    {
     "data": {
      "application/vnd.jupyter.widget-view+json": {
       "model_id": "",
       "version_major": 2,
       "version_minor": 0
      },
      "text/plain": [
       "FloatProgress(value=0.0, bar_style='info', description='Progress:', layout=Layout(height='25px', width='50%'),…"
      ]
     },
     "metadata": {},
     "output_type": "display_data"
    }
   ],
   "source": [
    "def process_log_data(spark, input_data, output_data):\n",
    "    # get filepath to log data file\n",
    "    log_data = '{}{}'.format(input_data, 'log_data/*/*/*.json')\n",
    "    song_data = '{}{}'.format(input_data, 'song_data/*/*/*/*.json')\n",
    "\n",
    "    # read log data file\n",
    "    df = spark.read.json(log_data)\n",
    "    \n",
    "    # filter by actions for song plays\n",
    "    df = df.where(df.page == 'NextSong')\n",
    "\n",
    "    # extract columns for users table    \n",
    "    users_table = df.select('userId','firstName','lastName','gender','level')\n",
    "    \n",
    "    # write users table to parquet files\n",
    "    users_table.write.mode('overwrite').parquet(output_data + \"users/\")\n",
    "\n",
    "    # create timestamp column from original timestamp column\n",
    "    get_timestamp = udf(lambda x: datetime.fromtimestamp(x/1000), TS.TimestampType())\n",
    "    df = df.withColumn('ts_timestamp',get_timestamp('ts'))\n",
    "    \n",
    "    # create datetime column from original timestamp column\n",
    "#     get_datetime = udf()\n",
    "#     df = \n",
    "    \n",
    "    # extract columns to create time table\n",
    "    time_table = df.select('ts_timestamp', hour('ts_timestamp').alias('hour'), dayofmonth('ts_timestamp').alias('day'), weekofyear('ts_timestamp').alias('weekofyear'),\n",
    "                           month('ts_timestamp').alias('month'), year('ts_timestamp').alias('year'), dayofweek('ts_timestamp').alias('dayofweek'))\n",
    "    \n",
    "    # write time table to parquet files partitioned by year and month\n",
    "    time_table.write.partitionBy('year', 'month').mode('overwrite').parquet(output_data + \"time/\")\n",
    "\n",
    "    # read in song data to use for songplays table\n",
    "    song_df = spark.read.json(song_data)\n",
    "\n",
    "    # extract columns from joined song and log datasets to create songplays table \n",
    "    songplays_table = df.join(song_df, df['song'] == song_df['title']).drop('title')\n",
    "    songplays_table = songplays_table.withColumn('songplay_id', monotonically_increasing_id()).select('songplay_id','ts_timestamp', 'userId', 'level',\n",
    "                                                                                                      'song_id', 'artist_id', 'sessionId', 'location', 'userAgent')\n",
    "    # create year and month columns for the partition \n",
    "    songplays_table = songplays_table.withColumn('year', year('ts_timestamp')).withColumn('month', month('ts_timestamp'))\n",
    "    \n",
    "    # write songplays table to parquet files partitioned by year and month\n",
    "    songplays_table.write.partitionBy('year', 'month').mode('overwrite').parquet(output_data + \"songplays/\")"
   ]
  },
  {
   "cell_type": "code",
   "execution_count": 5,
   "id": "ba82e3d7-509d-434c-8989-d204d77ee377",
   "metadata": {
    "execution": {
     "iopub.execute_input": "2022-12-30T10:40:07.653516Z",
     "iopub.status.busy": "2022-12-30T10:40:07.653194Z",
     "iopub.status.idle": "2022-12-30T10:40:07.875844Z",
     "shell.execute_reply": "2022-12-30T10:40:07.874480Z",
     "shell.execute_reply.started": "2022-12-30T10:40:07.653490Z"
    },
    "tags": []
   },
   "outputs": [
    {
     "data": {
      "application/vnd.jupyter.widget-view+json": {
       "model_id": "4b280b93d13444f584efb3b9380dd93f",
       "version_major": 2,
       "version_minor": 0
      },
      "text/plain": [
       "VBox()"
      ]
     },
     "metadata": {},
     "output_type": "display_data"
    },
    {
     "data": {
      "application/vnd.jupyter.widget-view+json": {
       "model_id": "",
       "version_major": 2,
       "version_minor": 0
      },
      "text/plain": [
       "FloatProgress(value=0.0, bar_style='info', description='Progress:', layout=Layout(height='25px', width='50%'),…"
      ]
     },
     "metadata": {},
     "output_type": "display_data"
    }
   ],
   "source": [
    "def main():\n",
    "    spark = create_spark_session()\n",
    "    input_data = \"s3a://udacity-dend/\"\n",
    "    output_data = \"s3a://sparkifyggo/\"\n",
    "    \n",
    "    process_song_data(spark, input_data, output_data)    \n",
    "    process_log_data(spark, input_data, output_data)"
   ]
  },
  {
   "cell_type": "code",
   "execution_count": null,
   "id": "333cfc64-a01f-4b4d-8045-6e35fddb4b99",
   "metadata": {},
   "outputs": [],
   "source": [
    "# main()"
   ]
  },
  {
   "cell_type": "code",
   "execution_count": 6,
   "id": "78bce057-299e-4387-b6e3-fcb3e9daf1db",
   "metadata": {
    "execution": {
     "iopub.execute_input": "2022-12-30T10:40:10.100133Z",
     "iopub.status.busy": "2022-12-30T10:40:10.098236Z",
     "iopub.status.idle": "2022-12-30T10:40:11.240329Z",
     "shell.execute_reply": "2022-12-30T10:40:11.238304Z",
     "shell.execute_reply.started": "2022-12-30T10:40:10.100089Z"
    },
    "tags": []
   },
   "outputs": [
    {
     "data": {
      "application/vnd.jupyter.widget-view+json": {
       "model_id": "e3e2eac710674a64aa5f573d758e8b46",
       "version_major": 2,
       "version_minor": 0
      },
      "text/plain": [
       "VBox()"
      ]
     },
     "metadata": {},
     "output_type": "display_data"
    },
    {
     "data": {
      "application/vnd.jupyter.widget-view+json": {
       "model_id": "",
       "version_major": 2,
       "version_minor": 0
      },
      "text/plain": [
       "FloatProgress(value=0.0, bar_style='info', description='Progress:', layout=Layout(height='25px', width='50%'),…"
      ]
     },
     "metadata": {},
     "output_type": "display_data"
    }
   ],
   "source": [
    "spark = create_spark_session()"
   ]
  },
  {
   "cell_type": "code",
   "execution_count": 25,
   "id": "e72c059d-3b5a-4380-8624-149c1eefa1a4",
   "metadata": {
    "execution": {
     "iopub.execute_input": "2022-12-30T10:47:59.652313Z",
     "iopub.status.busy": "2022-12-30T10:47:59.651994Z",
     "iopub.status.idle": "2022-12-30T10:50:20.261838Z",
     "shell.execute_reply": "2022-12-30T10:50:20.259287Z",
     "shell.execute_reply.started": "2022-12-30T10:47:59.652287Z"
    },
    "tags": []
   },
   "outputs": [
    {
     "data": {
      "application/vnd.jupyter.widget-view+json": {
       "model_id": "776579ab26eb4a57825219da743eaec9",
       "version_major": 2,
       "version_minor": 0
      },
      "text/plain": [
       "VBox()"
      ]
     },
     "metadata": {},
     "output_type": "display_data"
    },
    {
     "data": {
      "application/vnd.jupyter.widget-view+json": {
       "model_id": "",
       "version_major": 2,
       "version_minor": 0
      },
      "text/plain": [
       "FloatProgress(value=0.0, bar_style='info', description='Progress:', layout=Layout(height='25px', width='50%'),…"
      ]
     },
     "metadata": {},
     "output_type": "display_data"
    },
    {
     "name": "stdout",
     "output_type": "stream",
     "text": [
      "+--------------------+--------------------+--------------------+--------------------+--------------------+--------------------+--------------------+--------------------+--------------------+--------------------+--------------------+------------+\n",
      "|                 _c0|                 _c1|                 _c2|                 _c3|                 _c4|                 _c5|                 _c6|                 _c7|                 _c8|                 _c9|                _c10|        _c11|\n",
      "+--------------------+--------------------+--------------------+--------------------+--------------------+--------------------+--------------------+--------------------+--------------------+--------------------+--------------------+------------+\n",
      "|{\"artist_id\":\"AR4...|\"artist_latitude\"...|\"artist_location\"...| \\\"fc44f8f60d13ab...| event)' target=\\...|\"artist_longitude...|\"artist_name\":\"Bi...|\"duration\":233.22077|       \"num_songs\":1|\"song_id\":\"SOVIYJ...|\"title\":\"The Dead...|\"year\":1983}|\n",
      "|{\"artist_id\":\"AR4...|\"artist_latitude\"...|\"artist_location\"...| \\\"fc44f8f60d13ab...| event)' target=\\...|\"artist_longitude...|\"artist_name\":\"Bi...|\"duration\":287.92118|       \"num_songs\":1|\"song_id\":\"SOVYXY...|\"title\":\"Rebel Ye...|\"year\":1983}|\n",
      "|{\"artist_id\":\"ARQ...|\"artist_latitude\"...|\"artist_location\":\"\"|\"artist_longitude...|\"artist_name\":\"Yv...|\"duration\":196.04853|       \"num_songs\":1|\"song_id\":\"SOEPTV...|\"title\":\"To Zucch...|           \"year\":0}|                null|        null|\n",
      "|{\"artist_id\":\"AR4...|\"artist_latitude\"...|\"artist_location\"...| \\\"fc44f8f60d13ab...| event)' target=\\...|\"artist_longitude...|\"artist_name\":\"Bi...|\"duration\":247.53587|       \"num_songs\":1|\"song_id\":\"SOLQYS...|\"title\":\"Mony Mon...|\"year\":1987}|\n",
      "|{\"artist_id\":\"AR3...|\"artist_latitude\"...|\"artist_location\":\"\"|\"artist_longitude...|\"artist_name\":\"Ru...|\"duration\":273.44934|       \"num_songs\":1|\"song_id\":\"SOVPFJ...|\"title\":\"Barcelon...|        \"year\":2000}|                null|        null|\n",
      "+--------------------+--------------------+--------------------+--------------------+--------------------+--------------------+--------------------+--------------------+--------------------+--------------------+--------------------+------------+\n",
      "only showing top 5 rows"
     ]
    }
   ],
   "source": [
    "input_data = \"s3a://udacity-dend/\"\n",
    "song_data = '{}{}'.format(input_data, 'song_data/*/*/*/*.json')\n",
    "df = spark.read.csv(song_data)\n",
    "df.show(5)"
   ]
  },
  {
   "cell_type": "code",
   "execution_count": 26,
   "id": "33559ba8-fa0d-4c68-9780-c18d7c671b73",
   "metadata": {
    "execution": {
     "iopub.execute_input": "2022-12-30T10:52:18.723973Z",
     "iopub.status.busy": "2022-12-30T10:52:18.723667Z",
     "iopub.status.idle": "2022-12-30T10:52:18.962984Z",
     "shell.execute_reply": "2022-12-30T10:52:18.961841Z",
     "shell.execute_reply.started": "2022-12-30T10:52:18.723948Z"
    },
    "tags": []
   },
   "outputs": [
    {
     "data": {
      "application/vnd.jupyter.widget-view+json": {
       "model_id": "cc5286f8d9394e82a9d70c9de3a74deb",
       "version_major": 2,
       "version_minor": 0
      },
      "text/plain": [
       "VBox()"
      ]
     },
     "metadata": {},
     "output_type": "display_data"
    },
    {
     "data": {
      "application/vnd.jupyter.widget-view+json": {
       "model_id": "",
       "version_major": 2,
       "version_minor": 0
      },
      "text/plain": [
       "FloatProgress(value=0.0, bar_style='info', description='Progress:', layout=Layout(height='25px', width='50%'),…"
      ]
     },
     "metadata": {},
     "output_type": "display_data"
    },
    {
     "name": "stdout",
     "output_type": "stream",
     "text": [
      "['_c0', '_c1', '_c2', '_c3', '_c4', '_c5', '_c6', '_c7', '_c8', '_c9', '_c10', '_c11']"
     ]
    }
   ],
   "source": [
    "df.columns"
   ]
  }
 ],
 "metadata": {
  "kernelspec": {
   "display_name": "PySpark",
   "language": "",
   "name": "pysparkkernel"
  },
  "language_info": {
   "codemirror_mode": {
    "name": "python",
    "version": 2
   },
   "mimetype": "text/x-python",
   "name": "pyspark",
   "pygments_lexer": "python2"
  }
 },
 "nbformat": 4,
 "nbformat_minor": 5
}

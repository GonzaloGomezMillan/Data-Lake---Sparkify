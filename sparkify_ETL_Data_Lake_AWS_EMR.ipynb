{
 "cells": [
  {
   "cell_type": "code",
   "execution_count": 1,
   "id": "fe30fae0-a750-4937-9a83-62b11f63b312",
   "metadata": {
    "execution": {
     "iopub.execute_input": "2023-01-27T16:30:48.038737Z",
     "iopub.status.busy": "2023-01-27T16:30:48.038096Z",
     "iopub.status.idle": "2023-01-27T16:31:25.346160Z",
     "shell.execute_reply": "2023-01-27T16:31:25.344891Z",
     "shell.execute_reply.started": "2023-01-27T16:30:48.038694Z"
    },
    "tags": []
   },
   "outputs": [
    {
     "data": {
      "application/vnd.jupyter.widget-view+json": {
       "model_id": "3aefba01818945c28d92ff5c2ae0d957",
       "version_major": 2,
       "version_minor": 0
      },
      "text/plain": [
       "VBox()"
      ]
     },
     "metadata": {},
     "output_type": "display_data"
    },
    {
     "name": "stdout",
     "output_type": "stream",
     "text": [
      "Starting Spark application\n"
     ]
    },
    {
     "data": {
      "text/html": [
       "<table>\n",
       "<tr><th>ID</th><th>YARN Application ID</th><th>Kind</th><th>State</th><th>Spark UI</th><th>Driver log</th><th>Current session?</th></tr><tr><td>0</td><td>application_1674836326174_0001</td><td>pyspark</td><td>idle</td><td><a target=\"_blank\" href=\"http://ip-172-31-27-107.us-west-2.compute.internal:20888/proxy/application_1674836326174_0001/\">Link</a></td><td><a target=\"_blank\" href=\"http://ip-172-31-29-181.us-west-2.compute.internal:8042/node/containerlogs/container_1674836326174_0001_01_000001/livy\">Link</a></td><td>✔</td></tr></table>"
      ],
      "text/plain": [
       "<IPython.core.display.HTML object>"
      ]
     },
     "metadata": {},
     "output_type": "display_data"
    },
    {
     "data": {
      "application/vnd.jupyter.widget-view+json": {
       "model_id": "",
       "version_major": 2,
       "version_minor": 0
      },
      "text/plain": [
       "FloatProgress(value=0.0, bar_style='info', description='Progress:', layout=Layout(height='25px', width='50%'),…"
      ]
     },
     "metadata": {},
     "output_type": "display_data"
    },
    {
     "name": "stdout",
     "output_type": "stream",
     "text": [
      "SparkSession available as 'spark'.\n"
     ]
    },
    {
     "data": {
      "application/vnd.jupyter.widget-view+json": {
       "model_id": "",
       "version_major": 2,
       "version_minor": 0
      },
      "text/plain": [
       "FloatProgress(value=0.0, bar_style='info', description='Progress:', layout=Layout(height='25px', width='50%'),…"
      ]
     },
     "metadata": {},
     "output_type": "display_data"
    }
   ],
   "source": [
    "import configparser\n",
    "from datetime import datetime\n",
    "import os\n",
    "from pyspark.sql import SparkSession\n",
    "from pyspark.sql.functions import udf, col\n",
    "from pyspark.sql.functions import year, month, dayofmonth, hour, weekofyear, date_format\n",
    "import pyspark.sql.types as TS\n",
    "from pyspark.sql.functions import dayofweek\n",
    "from pyspark.sql.functions import monotonically_increasing_id"
   ]
  },
  {
   "cell_type": "code",
   "execution_count": 2,
   "id": "83a9db09-2d0a-4abf-9b94-e01b97c187de",
   "metadata": {
    "execution": {
     "iopub.execute_input": "2023-01-27T16:31:25.350668Z",
     "iopub.status.busy": "2023-01-27T16:31:25.348971Z",
     "iopub.status.idle": "2023-01-27T16:31:25.657656Z",
     "shell.execute_reply": "2023-01-27T16:31:25.656334Z",
     "shell.execute_reply.started": "2023-01-27T16:31:25.349696Z"
    },
    "tags": []
   },
   "outputs": [
    {
     "data": {
      "application/vnd.jupyter.widget-view+json": {
       "model_id": "5c8b0f8ec5724eeca5ba60247469fcb7",
       "version_major": 2,
       "version_minor": 0
      },
      "text/plain": [
       "VBox()"
      ]
     },
     "metadata": {},
     "output_type": "display_data"
    },
    {
     "data": {
      "application/vnd.jupyter.widget-view+json": {
       "model_id": "",
       "version_major": 2,
       "version_minor": 0
      },
      "text/plain": [
       "FloatProgress(value=0.0, bar_style='info', description='Progress:', layout=Layout(height='25px', width='50%'),…"
      ]
     },
     "metadata": {},
     "output_type": "display_data"
    }
   ],
   "source": [
    "def create_spark_session():\n",
    "    '''\n",
    "    Function which creates a SparkSession, which is an entry point to underlying Spark functionality in order to \n",
    "    programmatically create Spark RDD, DataFrame, and DataSet.\n",
    "    \n",
    "    OUTPUT:\n",
    "    spark: SparkSession\n",
    "    '''\n",
    "    spark = SparkSession \\\n",
    "        .builder \\\n",
    "        .config(\"spark.jars.packages\", \"org.apache.hadoop:hadoop-aws:2.7.0\") \\\n",
    "        .getOrCreate()\n",
    "    return spark"
   ]
  },
  {
   "cell_type": "code",
   "execution_count": 3,
   "id": "8970de16-3962-4d43-8268-454162a1bee8",
   "metadata": {
    "execution": {
     "iopub.execute_input": "2023-01-27T16:31:25.712387Z",
     "iopub.status.busy": "2023-01-27T16:31:25.659198Z",
     "iopub.status.idle": "2023-01-27T16:31:26.008147Z",
     "shell.execute_reply": "2023-01-27T16:31:26.006920Z",
     "shell.execute_reply.started": "2023-01-27T16:31:25.712331Z"
    },
    "tags": []
   },
   "outputs": [
    {
     "data": {
      "application/vnd.jupyter.widget-view+json": {
       "model_id": "7b8e32dce3ae46fb9d0778a5b56b590a",
       "version_major": 2,
       "version_minor": 0
      },
      "text/plain": [
       "VBox()"
      ]
     },
     "metadata": {},
     "output_type": "display_data"
    },
    {
     "data": {
      "application/vnd.jupyter.widget-view+json": {
       "model_id": "",
       "version_major": 2,
       "version_minor": 0
      },
      "text/plain": [
       "FloatProgress(value=0.0, bar_style='info', description='Progress:', layout=Layout(height='25px', width='50%'),…"
      ]
     },
     "metadata": {},
     "output_type": "display_data"
    }
   ],
   "source": [
    "def process_song_data(spark, input_data, output_data):\n",
    "    '''\n",
    "    Function which loads the data from the S3 bucket, creates the songs_table and artists_table and saves them as parquet files.\n",
    "    \n",
    "    INPUT:\n",
    "    spark: SparkSession\n",
    "    input_data (string): S3 bucket address of the input data\n",
    "    output_data (string): S3 bucket address to save the processed data\n",
    "    '''\n",
    "    # get filepath to song data file\n",
    "    song_data = '{}{}'.format(input_data, 'song_data/A/A/A/*.json')\n",
    "    \n",
    "    # read song data file\n",
    "    df = spark.read.json(song_data)\n",
    "    \n",
    "    # extract columns to create songs table\n",
    "    songs_table = df.select('song_id','title','artist_id','year','duration').dropDuplicates(['song_id'])\n",
    "    \n",
    "    # write songs table to parquet files partitioned by year and artist\n",
    "    songs_table.write.partitionBy('year','artist_id').mode('overwrite').parquet(output_data + \"songs/\")\n",
    "\n",
    "    # extract columns to create artists table\n",
    "    artists_table = df.select('artist_id','artist_name','artist_location','artist_latitude',\n",
    "                              'artist_longitude').dropDuplicates(['artist_id'])\n",
    "    \n",
    "    # write artists table to parquet files\n",
    "    artists_table.write.mode('overwrite').parquet(output_data + \"artists/\")\n"
   ]
  },
  {
   "cell_type": "code",
   "execution_count": 4,
   "id": "c9eea733-c67c-4bd9-bb64-ec5ef40db8b1",
   "metadata": {
    "execution": {
     "iopub.execute_input": "2023-01-27T16:31:26.014292Z",
     "iopub.status.busy": "2023-01-27T16:31:26.013409Z",
     "iopub.status.idle": "2023-01-27T16:31:26.339205Z",
     "shell.execute_reply": "2023-01-27T16:31:26.338055Z",
     "shell.execute_reply.started": "2023-01-27T16:31:26.014244Z"
    },
    "tags": []
   },
   "outputs": [
    {
     "data": {
      "application/vnd.jupyter.widget-view+json": {
       "model_id": "82a1f0cf43454c0583c9f45a8f9133d3",
       "version_major": 2,
       "version_minor": 0
      },
      "text/plain": [
       "VBox()"
      ]
     },
     "metadata": {},
     "output_type": "display_data"
    },
    {
     "data": {
      "application/vnd.jupyter.widget-view+json": {
       "model_id": "",
       "version_major": 2,
       "version_minor": 0
      },
      "text/plain": [
       "FloatProgress(value=0.0, bar_style='info', description='Progress:', layout=Layout(height='25px', width='50%'),…"
      ]
     },
     "metadata": {},
     "output_type": "display_data"
    }
   ],
   "source": [
    "def process_log_data(spark, input_data, output_data):\n",
    "    '''\n",
    "    Function which loads the data from the S3 bucket, creates the users_table, time_table and songplays_table and saves\n",
    "    them as parquet files.\n",
    "    \n",
    "    INPUT:\n",
    "    spark: SparkSession\n",
    "    input_data (string): S3 bucket address of the input data\n",
    "    output_data (string): S3 bucket address to save the processed data\n",
    "    '''\n",
    "    # get filepath to log data file\n",
    "    log_data = '{}{}'.format(input_data, 'log_data/*/*/*.json')\n",
    "    song_data = '{}{}'.format(input_data, 'song_data/*/*/*/*.json')\n",
    "\n",
    "    # read log data file\n",
    "    df = spark.read.json(log_data)\n",
    "    \n",
    "    # filter by actions for song plays\n",
    "    df = df.where(df.page == 'NextSong')\n",
    "\n",
    "    # extract columns for users table    \n",
    "    users_table = df.select('userId','firstName','lastName','gender','level').dropDuplicates(['userId'])\n",
    "    \n",
    "    # write users table to parquet files\n",
    "    users_table.write.mode('overwrite').parquet(output_data + \"users/\")\n",
    "\n",
    "    # create timestamp column from original timestamp column\n",
    "    get_timestamp = udf(lambda x: datetime.fromtimestamp(x/1000), TS.TimestampType())\n",
    "    df = df.withColumn('ts_timestamp',get_timestamp('ts'))\n",
    "    \n",
    "    # create datetime column from original timestamp column\n",
    "#     get_datetime = udf()\n",
    "#     df = \n",
    "    \n",
    "    # extract columns to create time table\n",
    "    time_table = df.select('ts_timestamp', hour('ts_timestamp').alias('hour'), dayofmonth('ts_timestamp').alias('day'),\n",
    "          weekofyear('ts_timestamp').alias('weekofyear'),month('ts_timestamp').alias('month'), \n",
    "          year('ts_timestamp').alias('year'), dayofweek('ts_timestamp').alias('dayofweek')).dropDuplicates(['ts_timestamp'])\n",
    "    \n",
    "    # write time table to parquet files partitioned by year and month\n",
    "    time_table.write.partitionBy('year', 'month').mode('overwrite').parquet(output_data + \"time/\")\n",
    "\n",
    "    # read in song data to use for songplays table\n",
    "    song_df = spark.read.json(song_data)\n",
    "\n",
    "    # extract columns from joined song and log datasets to create songplays table \n",
    "    songplays_table = df.join(song_df, df['song'] == song_df['title']).drop('title')\n",
    "    songplays_table = songplays_table.withColumn('songplay_id', monotonically_increasing_id()).select('songplay_id','ts_timestamp', 'userId', 'level',\n",
    "                                                                                                      'song_id', 'artist_id', 'sessionId', 'location', 'userAgent')\n",
    "    # create year and month columns for the partition \n",
    "    songplays_table = songplays_table.withColumn('year', year('ts_timestamp')).withColumn('month', month('ts_timestamp'))\n",
    "    \n",
    "    # write songplays table to parquet files partitioned by year and month\n",
    "    songplays_table.write.partitionBy('year', 'month').mode('overwrite').parquet(output_data + \"songplays/\")"
   ]
  },
  {
   "cell_type": "code",
   "execution_count": 5,
   "id": "ba82e3d7-509d-434c-8989-d204d77ee377",
   "metadata": {
    "execution": {
     "iopub.execute_input": "2023-01-27T16:31:26.341507Z",
     "iopub.status.busy": "2023-01-27T16:31:26.340677Z",
     "iopub.status.idle": "2023-01-27T16:31:26.634748Z",
     "shell.execute_reply": "2023-01-27T16:31:26.633510Z",
     "shell.execute_reply.started": "2023-01-27T16:31:26.341466Z"
    },
    "tags": []
   },
   "outputs": [
    {
     "data": {
      "application/vnd.jupyter.widget-view+json": {
       "model_id": "149dace4756a4f84bbc948aec68233aa",
       "version_major": 2,
       "version_minor": 0
      },
      "text/plain": [
       "VBox()"
      ]
     },
     "metadata": {},
     "output_type": "display_data"
    },
    {
     "data": {
      "application/vnd.jupyter.widget-view+json": {
       "model_id": "",
       "version_major": 2,
       "version_minor": 0
      },
      "text/plain": [
       "FloatProgress(value=0.0, bar_style='info', description='Progress:', layout=Layout(height='25px', width='50%'),…"
      ]
     },
     "metadata": {},
     "output_type": "display_data"
    }
   ],
   "source": [
    "def main():\n",
    "    '''\n",
    "    Main function which runs the defined code to create an star schema optimized for queries on song play analysis.\n",
    "    '''\n",
    "    spark = create_spark_session()\n",
    "    input_data = \"s3a://udacity-dend/\"\n",
    "    output_data = \"s3a://sparkifyggo/\"\n",
    "    \n",
    "    process_song_data(spark, input_data, output_data)\n",
    "    process_log_data(spark, input_data, output_data)\n",
    "    # process_log_data(spark, input_data, output_data)"
   ]
  },
  {
   "cell_type": "code",
   "execution_count": 6,
   "id": "333cfc64-a01f-4b4d-8045-6e35fddb4b99",
   "metadata": {
    "execution": {
     "iopub.execute_input": "2023-01-27T16:31:26.639455Z",
     "iopub.status.busy": "2023-01-27T16:31:26.638425Z",
     "iopub.status.idle": "2023-01-27T16:44:25.739034Z",
     "shell.execute_reply": "2023-01-27T16:44:25.737988Z",
     "shell.execute_reply.started": "2023-01-27T16:31:26.639409Z"
    },
    "tags": []
   },
   "outputs": [
    {
     "data": {
      "application/vnd.jupyter.widget-view+json": {
       "model_id": "67110c41c9df4c5ea03807141581151d",
       "version_major": 2,
       "version_minor": 0
      },
      "text/plain": [
       "VBox()"
      ]
     },
     "metadata": {},
     "output_type": "display_data"
    },
    {
     "data": {
      "application/vnd.jupyter.widget-view+json": {
       "model_id": "",
       "version_major": 2,
       "version_minor": 0
      },
      "text/plain": [
       "FloatProgress(value=0.0, bar_style='info', description='Progress:', layout=Layout(height='25px', width='50%'),…"
      ]
     },
     "metadata": {},
     "output_type": "display_data"
    },
    {
     "name": "stdout",
     "output_type": "stream",
     "text": [
      "----------------------------------------\n",
      "Exception happened during processing of request from ('127.0.0.1', 42080)\n",
      "Traceback (most recent call last):\n",
      "  File \"/usr/lib64/python3.6/socketserver.py\", line 320, in _handle_request_noblock\n",
      "    self.process_request(request, client_address)\n",
      "  File \"/usr/lib64/python3.6/socketserver.py\", line 351, in process_request\n",
      "    self.finish_request(request, client_address)\n",
      "  File \"/usr/lib64/python3.6/socketserver.py\", line 364, in finish_request\n",
      "    self.RequestHandlerClass(request, client_address, self)\n",
      "  File \"/usr/lib64/python3.6/socketserver.py\", line 724, in __init__\n",
      "    self.handle()\n",
      "  File \"/usr/lib/spark/python/lib/pyspark.zip/pyspark/accumulators.py\", line 266, in handle\n",
      "    poll(authenticate_and_accum_updates)\n",
      "  File \"/usr/lib/spark/python/lib/pyspark.zip/pyspark/accumulators.py\", line 241, in poll\n",
      "    if func():\n",
      "  File \"/usr/lib/spark/python/lib/pyspark.zip/pyspark/accumulators.py\", line 254, in authenticate_and_accum_updates\n",
      "    received_token = self.rfile.read(len(auth_token))\n",
      "TypeError: object of type 'NoneType' has no len()\n",
      "----------------------------------------"
     ]
    }
   ],
   "source": [
    "main()"
   ]
  },
  {
   "cell_type": "code",
   "execution_count": 7,
   "id": "7a1fafb2-a1d7-4f53-98cf-845a35a6ce3c",
   "metadata": {
    "execution": {
     "iopub.execute_input": "2023-01-27T16:44:25.742138Z",
     "iopub.status.busy": "2023-01-27T16:44:25.741505Z",
     "iopub.status.idle": "2023-01-27T16:44:26.080662Z",
     "shell.execute_reply": "2023-01-27T16:44:26.079277Z",
     "shell.execute_reply.started": "2023-01-27T16:44:25.742093Z"
    },
    "tags": []
   },
   "outputs": [
    {
     "data": {
      "application/vnd.jupyter.widget-view+json": {
       "model_id": "a976e1dc7e2f481ea0ee31ed82af04f0",
       "version_major": 2,
       "version_minor": 0
      },
      "text/plain": [
       "VBox()"
      ]
     },
     "metadata": {},
     "output_type": "display_data"
    },
    {
     "data": {
      "application/vnd.jupyter.widget-view+json": {
       "model_id": "",
       "version_major": 2,
       "version_minor": 0
      },
      "text/plain": [
       "FloatProgress(value=0.0, bar_style='info', description='Progress:', layout=Layout(height='25px', width='50%'),…"
      ]
     },
     "metadata": {},
     "output_type": "display_data"
    }
   ],
   "source": [
    "# spark = create_spark_session()"
   ]
  },
  {
   "cell_type": "code",
   "execution_count": 8,
   "id": "0003f814-0980-4f6b-a766-ef177195dc9e",
   "metadata": {
    "execution": {
     "iopub.execute_input": "2023-01-27T16:44:26.082889Z",
     "iopub.status.busy": "2023-01-27T16:44:26.082300Z",
     "iopub.status.idle": "2023-01-27T16:44:26.360787Z",
     "shell.execute_reply": "2023-01-27T16:44:26.359536Z",
     "shell.execute_reply.started": "2023-01-27T16:44:26.082848Z"
    },
    "tags": []
   },
   "outputs": [
    {
     "data": {
      "application/vnd.jupyter.widget-view+json": {
       "model_id": "df1099cdfffa4526ae6fe5fa78f932b9",
       "version_major": 2,
       "version_minor": 0
      },
      "text/plain": [
       "VBox()"
      ]
     },
     "metadata": {},
     "output_type": "display_data"
    },
    {
     "data": {
      "application/vnd.jupyter.widget-view+json": {
       "model_id": "",
       "version_major": 2,
       "version_minor": 0
      },
      "text/plain": [
       "FloatProgress(value=0.0, bar_style='info', description='Progress:', layout=Layout(height='25px', width='50%'),…"
      ]
     },
     "metadata": {},
     "output_type": "display_data"
    }
   ],
   "source": [
    "# input_data = \"s3a://udacity-dend/\"\n",
    "# song_data = '{}{}'.format(input_data, 'song_data/*/*/*/*.json')\n",
    "# df = spark.read.json(song_data)\n",
    "# df.show(5)"
   ]
  },
  {
   "cell_type": "code",
   "execution_count": 9,
   "id": "e5ad251e-a1b0-455b-8f0e-6e1ded186bff",
   "metadata": {
    "execution": {
     "iopub.execute_input": "2023-01-27T16:44:26.362926Z",
     "iopub.status.busy": "2023-01-27T16:44:26.362189Z",
     "iopub.status.idle": "2023-01-27T16:44:26.728975Z",
     "shell.execute_reply": "2023-01-27T16:44:26.725222Z",
     "shell.execute_reply.started": "2023-01-27T16:44:26.362898Z"
    },
    "tags": []
   },
   "outputs": [
    {
     "data": {
      "application/vnd.jupyter.widget-view+json": {
       "model_id": "00b03118340c45a4abfb3064530e03b3",
       "version_major": 2,
       "version_minor": 0
      },
      "text/plain": [
       "VBox()"
      ]
     },
     "metadata": {},
     "output_type": "display_data"
    },
    {
     "data": {
      "application/vnd.jupyter.widget-view+json": {
       "model_id": "",
       "version_major": 2,
       "version_minor": 0
      },
      "text/plain": [
       "FloatProgress(value=0.0, bar_style='info', description='Progress:', layout=Layout(height='25px', width='50%'),…"
      ]
     },
     "metadata": {},
     "output_type": "display_data"
    }
   ],
   "source": [
    "# df.show(5)"
   ]
  },
  {
   "cell_type": "code",
   "execution_count": 10,
   "id": "f16aa776-5427-40e5-a1d9-68f91e4bc0dd",
   "metadata": {
    "execution": {
     "iopub.execute_input": "2023-01-27T16:44:26.731554Z",
     "iopub.status.busy": "2023-01-27T16:44:26.731239Z",
     "iopub.status.idle": "2023-01-27T16:44:27.034925Z",
     "shell.execute_reply": "2023-01-27T16:44:27.034076Z",
     "shell.execute_reply.started": "2023-01-27T16:44:26.731513Z"
    },
    "tags": []
   },
   "outputs": [
    {
     "data": {
      "application/vnd.jupyter.widget-view+json": {
       "model_id": "c3fc2d0a29df4a3c968c0f056849f052",
       "version_major": 2,
       "version_minor": 0
      },
      "text/plain": [
       "VBox()"
      ]
     },
     "metadata": {},
     "output_type": "display_data"
    },
    {
     "data": {
      "application/vnd.jupyter.widget-view+json": {
       "model_id": "",
       "version_major": 2,
       "version_minor": 0
      },
      "text/plain": [
       "FloatProgress(value=0.0, bar_style='info', description='Progress:', layout=Layout(height='25px', width='50%'),…"
      ]
     },
     "metadata": {},
     "output_type": "display_data"
    }
   ],
   "source": [
    "# input_data = \"s3a://udacity-dend/\"\n",
    "# output_data = \"s3a://sparkifyggo/\"\n",
    "# log_data = '{}{}'.format(input_data, 'log_data/*/*/*.json')\n",
    "# song_data = '{}{}'.format(input_data, 'song_data/*/*/*/*.json')"
   ]
  },
  {
   "cell_type": "code",
   "execution_count": 11,
   "id": "7270b045-8546-4a37-bdef-5df2e59a9710",
   "metadata": {
    "execution": {
     "iopub.execute_input": "2023-01-27T16:44:27.039485Z",
     "iopub.status.busy": "2023-01-27T16:44:27.039203Z",
     "iopub.status.idle": "2023-01-27T16:44:27.321202Z",
     "shell.execute_reply": "2023-01-27T16:44:27.319980Z",
     "shell.execute_reply.started": "2023-01-27T16:44:27.039459Z"
    },
    "tags": []
   },
   "outputs": [
    {
     "data": {
      "application/vnd.jupyter.widget-view+json": {
       "model_id": "84d50cdd628d4f68ae05889ccef923f8",
       "version_major": 2,
       "version_minor": 0
      },
      "text/plain": [
       "VBox()"
      ]
     },
     "metadata": {},
     "output_type": "display_data"
    },
    {
     "data": {
      "application/vnd.jupyter.widget-view+json": {
       "model_id": "",
       "version_major": 2,
       "version_minor": 0
      },
      "text/plain": [
       "FloatProgress(value=0.0, bar_style='info', description='Progress:', layout=Layout(height='25px', width='50%'),…"
      ]
     },
     "metadata": {},
     "output_type": "display_data"
    }
   ],
   "source": [
    "# # read log data file\n",
    "# df = spark.read.json(log_data)"
   ]
  },
  {
   "cell_type": "code",
   "execution_count": 12,
   "id": "b243eb64-f63a-4e43-81e8-7e379af00675",
   "metadata": {
    "execution": {
     "iopub.execute_input": "2023-01-27T16:44:27.322973Z",
     "iopub.status.busy": "2023-01-27T16:44:27.322521Z",
     "iopub.status.idle": "2023-01-27T16:44:27.631796Z",
     "shell.execute_reply": "2023-01-27T16:44:27.630922Z",
     "shell.execute_reply.started": "2023-01-27T16:44:27.322932Z"
    },
    "tags": []
   },
   "outputs": [
    {
     "data": {
      "application/vnd.jupyter.widget-view+json": {
       "model_id": "5a805ec4126547a89669f47f98f7d451",
       "version_major": 2,
       "version_minor": 0
      },
      "text/plain": [
       "VBox()"
      ]
     },
     "metadata": {},
     "output_type": "display_data"
    },
    {
     "data": {
      "application/vnd.jupyter.widget-view+json": {
       "model_id": "",
       "version_major": 2,
       "version_minor": 0
      },
      "text/plain": [
       "FloatProgress(value=0.0, bar_style='info', description='Progress:', layout=Layout(height='25px', width='50%'),…"
      ]
     },
     "metadata": {},
     "output_type": "display_data"
    }
   ],
   "source": [
    "# # filter by actions for song plays\n",
    "# df = df.where(df.page == 'NextSong')\n",
    "# df.show(5)"
   ]
  },
  {
   "cell_type": "code",
   "execution_count": 13,
   "id": "80415a89-6d75-4ecf-9282-5dd165ae3f0a",
   "metadata": {
    "execution": {
     "iopub.execute_input": "2023-01-27T16:44:27.633676Z",
     "iopub.status.busy": "2023-01-27T16:44:27.633114Z",
     "iopub.status.idle": "2023-01-27T16:44:27.940998Z",
     "shell.execute_reply": "2023-01-27T16:44:27.939643Z",
     "shell.execute_reply.started": "2023-01-27T16:44:27.633632Z"
    },
    "tags": []
   },
   "outputs": [
    {
     "data": {
      "application/vnd.jupyter.widget-view+json": {
       "model_id": "d8052fe154de4997bc0bb0221e011807",
       "version_major": 2,
       "version_minor": 0
      },
      "text/plain": [
       "VBox()"
      ]
     },
     "metadata": {},
     "output_type": "display_data"
    },
    {
     "data": {
      "application/vnd.jupyter.widget-view+json": {
       "model_id": "",
       "version_major": 2,
       "version_minor": 0
      },
      "text/plain": [
       "FloatProgress(value=0.0, bar_style='info', description='Progress:', layout=Layout(height='25px', width='50%'),…"
      ]
     },
     "metadata": {},
     "output_type": "display_data"
    }
   ],
   "source": [
    "# # extract columns for users table    \n",
    "# users_table = df.select('userId','firstName','lastName','gender','level')\n",
    "# users_table.show(5)"
   ]
  },
  {
   "cell_type": "code",
   "execution_count": 14,
   "id": "fc163abf-7ff3-44af-a9b6-adb1a71bf2d3",
   "metadata": {
    "execution": {
     "iopub.execute_input": "2023-01-27T16:44:27.946119Z",
     "iopub.status.busy": "2023-01-27T16:44:27.945747Z",
     "iopub.status.idle": "2023-01-27T16:44:28.242418Z",
     "shell.execute_reply": "2023-01-27T16:44:28.241563Z",
     "shell.execute_reply.started": "2023-01-27T16:44:27.946088Z"
    },
    "tags": []
   },
   "outputs": [
    {
     "data": {
      "application/vnd.jupyter.widget-view+json": {
       "model_id": "ead349959f79446ab41c12e6c18004ce",
       "version_major": 2,
       "version_minor": 0
      },
      "text/plain": [
       "VBox()"
      ]
     },
     "metadata": {},
     "output_type": "display_data"
    },
    {
     "data": {
      "application/vnd.jupyter.widget-view+json": {
       "model_id": "",
       "version_major": 2,
       "version_minor": 0
      },
      "text/plain": [
       "FloatProgress(value=0.0, bar_style='info', description='Progress:', layout=Layout(height='25px', width='50%'),…"
      ]
     },
     "metadata": {},
     "output_type": "display_data"
    }
   ],
   "source": [
    "# # write users table to parquet files\n",
    "# users_table.write.mode('overwrite').parquet(output_data + \"users/\")"
   ]
  },
  {
   "cell_type": "code",
   "execution_count": 15,
   "id": "26f07db9-2419-4dd0-b429-3400917d5c61",
   "metadata": {
    "execution": {
     "iopub.execute_input": "2023-01-27T16:44:28.245447Z",
     "iopub.status.busy": "2023-01-27T16:44:28.245163Z",
     "iopub.status.idle": "2023-01-27T16:44:28.543975Z",
     "shell.execute_reply": "2023-01-27T16:44:28.540616Z",
     "shell.execute_reply.started": "2023-01-27T16:44:28.245419Z"
    },
    "tags": []
   },
   "outputs": [
    {
     "data": {
      "application/vnd.jupyter.widget-view+json": {
       "model_id": "a23e27d6bbdb4722be3f07aa8ede9f02",
       "version_major": 2,
       "version_minor": 0
      },
      "text/plain": [
       "VBox()"
      ]
     },
     "metadata": {},
     "output_type": "display_data"
    },
    {
     "data": {
      "application/vnd.jupyter.widget-view+json": {
       "model_id": "",
       "version_major": 2,
       "version_minor": 0
      },
      "text/plain": [
       "FloatProgress(value=0.0, bar_style='info', description='Progress:', layout=Layout(height='25px', width='50%'),…"
      ]
     },
     "metadata": {},
     "output_type": "display_data"
    }
   ],
   "source": [
    "# # create timestamp column from original timestamp column\n",
    "# get_timestamp = udf(lambda x: datetime.fromtimestamp(x/1000), TS.TimestampType())\n",
    "# df = df.withColumn('ts_timestamp',get_timestamp('ts'))\n",
    "# df.select('ts_timestamp').show(5)"
   ]
  },
  {
   "cell_type": "code",
   "execution_count": 16,
   "id": "8b973d5c-235a-41a6-a5c9-b570f0ab0b72",
   "metadata": {
    "execution": {
     "iopub.execute_input": "2023-01-27T16:44:28.548503Z",
     "iopub.status.busy": "2023-01-27T16:44:28.548195Z",
     "iopub.status.idle": "2023-01-27T16:44:28.840759Z",
     "shell.execute_reply": "2023-01-27T16:44:28.839551Z",
     "shell.execute_reply.started": "2023-01-27T16:44:28.548476Z"
    },
    "tags": []
   },
   "outputs": [
    {
     "data": {
      "application/vnd.jupyter.widget-view+json": {
       "model_id": "8b8dcc53154e4131936ad966d9b4e336",
       "version_major": 2,
       "version_minor": 0
      },
      "text/plain": [
       "VBox()"
      ]
     },
     "metadata": {},
     "output_type": "display_data"
    },
    {
     "data": {
      "application/vnd.jupyter.widget-view+json": {
       "model_id": "",
       "version_major": 2,
       "version_minor": 0
      },
      "text/plain": [
       "FloatProgress(value=0.0, bar_style='info', description='Progress:', layout=Layout(height='25px', width='50%'),…"
      ]
     },
     "metadata": {},
     "output_type": "display_data"
    }
   ],
   "source": [
    "# # extract columns to create time table\n",
    "# time_table = df.select('ts_timestamp', hour('ts_timestamp').alias('hour'), dayofmonth('ts_timestamp').alias('day'), weekofyear('ts_timestamp').alias('weekofyear'),\n",
    "#                            month('ts_timestamp').alias('month'), year('ts_timestamp').alias('year'), dayofweek('ts_timestamp').alias('dayofweek'))\n",
    "# time_table.show(5)"
   ]
  },
  {
   "cell_type": "code",
   "execution_count": 17,
   "id": "e3c32597-9914-45f0-8753-f7ba24dae29e",
   "metadata": {
    "execution": {
     "iopub.execute_input": "2023-01-27T16:44:28.842892Z",
     "iopub.status.busy": "2023-01-27T16:44:28.842204Z",
     "iopub.status.idle": "2023-01-27T16:44:29.226078Z",
     "shell.execute_reply": "2023-01-27T16:44:29.225245Z",
     "shell.execute_reply.started": "2023-01-27T16:44:28.842852Z"
    },
    "tags": []
   },
   "outputs": [
    {
     "data": {
      "application/vnd.jupyter.widget-view+json": {
       "model_id": "0c3a71d5b4e14a47b6c671ab2680baf1",
       "version_major": 2,
       "version_minor": 0
      },
      "text/plain": [
       "VBox()"
      ]
     },
     "metadata": {},
     "output_type": "display_data"
    },
    {
     "data": {
      "application/vnd.jupyter.widget-view+json": {
       "model_id": "",
       "version_major": 2,
       "version_minor": 0
      },
      "text/plain": [
       "FloatProgress(value=0.0, bar_style='info', description='Progress:', layout=Layout(height='25px', width='50%'),…"
      ]
     },
     "metadata": {},
     "output_type": "display_data"
    }
   ],
   "source": [
    "# # write time table to parquet files partitioned by year and month\n",
    "# time_table.write.partitionBy('year', 'month').mode('overwrite').parquet(output_data + \"time/\")"
   ]
  },
  {
   "cell_type": "code",
   "execution_count": 18,
   "id": "261382ee-dc22-466f-baab-cc37b94ec8b2",
   "metadata": {
    "execution": {
     "iopub.execute_input": "2023-01-27T16:44:29.231211Z",
     "iopub.status.busy": "2023-01-27T16:44:29.230916Z",
     "iopub.status.idle": "2023-01-27T16:44:29.547831Z",
     "shell.execute_reply": "2023-01-27T16:44:29.546892Z",
     "shell.execute_reply.started": "2023-01-27T16:44:29.231182Z"
    },
    "tags": []
   },
   "outputs": [
    {
     "data": {
      "application/vnd.jupyter.widget-view+json": {
       "model_id": "56a45d6898f5474cbded883866494deb",
       "version_major": 2,
       "version_minor": 0
      },
      "text/plain": [
       "VBox()"
      ]
     },
     "metadata": {},
     "output_type": "display_data"
    },
    {
     "data": {
      "application/vnd.jupyter.widget-view+json": {
       "model_id": "",
       "version_major": 2,
       "version_minor": 0
      },
      "text/plain": [
       "FloatProgress(value=0.0, bar_style='info', description='Progress:', layout=Layout(height='25px', width='50%'),…"
      ]
     },
     "metadata": {},
     "output_type": "display_data"
    }
   ],
   "source": [
    "# # read in song data to use for songplays table\n",
    "# song_df = spark.read.json(song_data)"
   ]
  },
  {
   "cell_type": "code",
   "execution_count": 19,
   "id": "1bf8094b-f0b7-44ec-8e89-bd2267d34e99",
   "metadata": {
    "execution": {
     "iopub.execute_input": "2023-01-27T16:44:29.553024Z",
     "iopub.status.busy": "2023-01-27T16:44:29.552600Z",
     "iopub.status.idle": "2023-01-27T16:44:29.924075Z",
     "shell.execute_reply": "2023-01-27T16:44:29.922878Z",
     "shell.execute_reply.started": "2023-01-27T16:44:29.552979Z"
    },
    "tags": []
   },
   "outputs": [
    {
     "data": {
      "application/vnd.jupyter.widget-view+json": {
       "model_id": "d04cf198f3b04295877925b0e10c966b",
       "version_major": 2,
       "version_minor": 0
      },
      "text/plain": [
       "VBox()"
      ]
     },
     "metadata": {},
     "output_type": "display_data"
    },
    {
     "data": {
      "application/vnd.jupyter.widget-view+json": {
       "model_id": "",
       "version_major": 2,
       "version_minor": 0
      },
      "text/plain": [
       "FloatProgress(value=0.0, bar_style='info', description='Progress:', layout=Layout(height='25px', width='50%'),…"
      ]
     },
     "metadata": {},
     "output_type": "display_data"
    }
   ],
   "source": [
    "# # extract columns from joined song and log datasets to create songplays table \n",
    "# songplays_table = df.join(song_df, df['song'] == song_df['title']).drop('title')\n",
    "# songplays_table = songplays_table.withColumn('songplay_id', monotonically_increasing_id()).select('songplay_id','ts_timestamp', 'userId', 'level',\n",
    "#                                                                                                     'song_id', 'artist_id', 'sessionId', 'location', 'userAgent')\n",
    "# songplays_table.show(5)"
   ]
  },
  {
   "cell_type": "code",
   "execution_count": 20,
   "id": "7f980588-7d49-4762-8347-de83e3369597",
   "metadata": {
    "execution": {
     "iopub.execute_input": "2023-01-27T16:44:29.929558Z",
     "iopub.status.busy": "2023-01-27T16:44:29.928774Z",
     "iopub.status.idle": "2023-01-27T16:44:30.244280Z",
     "shell.execute_reply": "2023-01-27T16:44:30.243243Z",
     "shell.execute_reply.started": "2023-01-27T16:44:29.929512Z"
    },
    "tags": []
   },
   "outputs": [
    {
     "data": {
      "application/vnd.jupyter.widget-view+json": {
       "model_id": "71d3652ad0f4470fa51874101b697777",
       "version_major": 2,
       "version_minor": 0
      },
      "text/plain": [
       "VBox()"
      ]
     },
     "metadata": {},
     "output_type": "display_data"
    },
    {
     "data": {
      "application/vnd.jupyter.widget-view+json": {
       "model_id": "",
       "version_major": 2,
       "version_minor": 0
      },
      "text/plain": [
       "FloatProgress(value=0.0, bar_style='info', description='Progress:', layout=Layout(height='25px', width='50%'),…"
      ]
     },
     "metadata": {},
     "output_type": "display_data"
    }
   ],
   "source": [
    "# # create year and month columns for the partition \n",
    "# songplays_table = songplays_table.withColumn('year', year('ts_timestamp')).withColumn('month', month('ts_timestamp'))\n",
    "# songplays_table.show(5)"
   ]
  },
  {
   "cell_type": "code",
   "execution_count": 21,
   "id": "0e166f38-7124-4fdb-8d67-cd517b34b5bd",
   "metadata": {
    "execution": {
     "iopub.execute_input": "2023-01-27T16:44:30.247149Z",
     "iopub.status.busy": "2023-01-27T16:44:30.246667Z",
     "iopub.status.idle": "2023-01-27T16:44:30.618292Z",
     "shell.execute_reply": "2023-01-27T16:44:30.617015Z",
     "shell.execute_reply.started": "2023-01-27T16:44:30.247117Z"
    },
    "tags": []
   },
   "outputs": [
    {
     "data": {
      "application/vnd.jupyter.widget-view+json": {
       "model_id": "13ca70b8ca8b44c9877dd5306f650bc0",
       "version_major": 2,
       "version_minor": 0
      },
      "text/plain": [
       "VBox()"
      ]
     },
     "metadata": {},
     "output_type": "display_data"
    },
    {
     "data": {
      "application/vnd.jupyter.widget-view+json": {
       "model_id": "",
       "version_major": 2,
       "version_minor": 0
      },
      "text/plain": [
       "FloatProgress(value=0.0, bar_style='info', description='Progress:', layout=Layout(height='25px', width='50%'),…"
      ]
     },
     "metadata": {},
     "output_type": "display_data"
    }
   ],
   "source": [
    "# # write songplays table to parquet files partitioned by year and month\n",
    "# songplays_table.write.partitionBy('year', 'month').mode('overwrite').parquet(output_data + \"songplays/\")"
   ]
  }
 ],
 "metadata": {
  "kernelspec": {
   "display_name": "PySpark",
   "language": "",
   "name": "pysparkkernel"
  },
  "language_info": {
   "codemirror_mode": {
    "name": "python",
    "version": 2
   },
   "mimetype": "text/x-python",
   "name": "pyspark",
   "pygments_lexer": "python2"
  }
 },
 "nbformat": 4,
 "nbformat_minor": 5
}

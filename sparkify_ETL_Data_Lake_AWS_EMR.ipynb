{
 "cells": [
  {
   "cell_type": "code",
   "execution_count": 1,
   "id": "fe30fae0-a750-4937-9a83-62b11f63b312",
   "metadata": {
    "execution": {
     "iopub.execute_input": "2023-01-17T18:15:49.582424Z",
     "iopub.status.busy": "2023-01-17T18:15:49.582072Z",
     "iopub.status.idle": "2023-01-17T18:16:24.941920Z",
     "shell.execute_reply": "2023-01-17T18:16:24.941034Z",
     "shell.execute_reply.started": "2023-01-17T18:15:49.582388Z"
    },
    "tags": []
   },
   "outputs": [
    {
     "data": {
      "application/vnd.jupyter.widget-view+json": {
       "model_id": "c55c31190fa94721b499c656e080e9f3",
       "version_major": 2,
       "version_minor": 0
      },
      "text/plain": [
       "VBox()"
      ]
     },
     "metadata": {},
     "output_type": "display_data"
    },
    {
     "name": "stdout",
     "output_type": "stream",
     "text": [
      "Starting Spark application\n"
     ]
    },
    {
     "data": {
      "text/html": [
       "<table>\n",
       "<tr><th>ID</th><th>YARN Application ID</th><th>Kind</th><th>State</th><th>Spark UI</th><th>Driver log</th><th>Current session?</th></tr><tr><td>2</td><td>application_1673976564786_0003</td><td>pyspark</td><td>idle</td><td><a target=\"_blank\" href=\"http://ip-172-31-8-203.us-west-2.compute.internal:20888/proxy/application_1673976564786_0003/\">Link</a></td><td><a target=\"_blank\" href=\"http://ip-172-31-9-35.us-west-2.compute.internal:8042/node/containerlogs/container_1673976564786_0003_01_000001/livy\">Link</a></td><td>✔</td></tr></table>"
      ],
      "text/plain": [
       "<IPython.core.display.HTML object>"
      ]
     },
     "metadata": {},
     "output_type": "display_data"
    },
    {
     "data": {
      "application/vnd.jupyter.widget-view+json": {
       "model_id": "",
       "version_major": 2,
       "version_minor": 0
      },
      "text/plain": [
       "FloatProgress(value=0.0, bar_style='info', description='Progress:', layout=Layout(height='25px', width='50%'),…"
      ]
     },
     "metadata": {},
     "output_type": "display_data"
    },
    {
     "name": "stdout",
     "output_type": "stream",
     "text": [
      "SparkSession available as 'spark'.\n"
     ]
    },
    {
     "data": {
      "application/vnd.jupyter.widget-view+json": {
       "model_id": "",
       "version_major": 2,
       "version_minor": 0
      },
      "text/plain": [
       "FloatProgress(value=0.0, bar_style='info', description='Progress:', layout=Layout(height='25px', width='50%'),…"
      ]
     },
     "metadata": {},
     "output_type": "display_data"
    }
   ],
   "source": [
    "import configparser\n",
    "from datetime import datetime\n",
    "import os\n",
    "from pyspark.sql import SparkSession\n",
    "from pyspark.sql.functions import udf, col\n",
    "from pyspark.sql.functions import year, month, dayofmonth, hour, weekofyear, date_format\n",
    "import pyspark.sql.types as TS\n",
    "from pyspark.sql.functions import dayofweek\n",
    "from pyspark.sql.functions import monotonically_increasing_id"
   ]
  },
  {
   "cell_type": "code",
   "execution_count": 2,
   "id": "83a9db09-2d0a-4abf-9b94-e01b97c187de",
   "metadata": {
    "execution": {
     "iopub.execute_input": "2023-01-17T18:16:24.944199Z",
     "iopub.status.busy": "2023-01-17T18:16:24.943516Z",
     "iopub.status.idle": "2023-01-17T18:16:25.179651Z",
     "shell.execute_reply": "2023-01-17T18:16:25.178610Z",
     "shell.execute_reply.started": "2023-01-17T18:16:24.944160Z"
    },
    "tags": []
   },
   "outputs": [
    {
     "data": {
      "application/vnd.jupyter.widget-view+json": {
       "model_id": "716409380b9f45f7a85ae19cabbed2b6",
       "version_major": 2,
       "version_minor": 0
      },
      "text/plain": [
       "VBox()"
      ]
     },
     "metadata": {},
     "output_type": "display_data"
    },
    {
     "data": {
      "application/vnd.jupyter.widget-view+json": {
       "model_id": "",
       "version_major": 2,
       "version_minor": 0
      },
      "text/plain": [
       "FloatProgress(value=0.0, bar_style='info', description='Progress:', layout=Layout(height='25px', width='50%'),…"
      ]
     },
     "metadata": {},
     "output_type": "display_data"
    }
   ],
   "source": [
    "def create_spark_session():\n",
    "    spark = SparkSession \\\n",
    "        .builder \\\n",
    "        .config(\"spark.jars.packages\", \"org.apache.hadoop:hadoop-aws:2.7.0\") \\\n",
    "        .getOrCreate()\n",
    "    return spark"
   ]
  },
  {
   "cell_type": "code",
   "execution_count": 3,
   "id": "8970de16-3962-4d43-8268-454162a1bee8",
   "metadata": {
    "execution": {
     "iopub.execute_input": "2023-01-17T18:16:25.234287Z",
     "iopub.status.busy": "2023-01-17T18:16:25.233636Z",
     "iopub.status.idle": "2023-01-17T18:16:25.530575Z",
     "shell.execute_reply": "2023-01-17T18:16:25.517147Z",
     "shell.execute_reply.started": "2023-01-17T18:16:25.234233Z"
    },
    "tags": []
   },
   "outputs": [
    {
     "data": {
      "application/vnd.jupyter.widget-view+json": {
       "model_id": "9870ef892bbc402397324a8b1a63d9f4",
       "version_major": 2,
       "version_minor": 0
      },
      "text/plain": [
       "VBox()"
      ]
     },
     "metadata": {},
     "output_type": "display_data"
    },
    {
     "data": {
      "application/vnd.jupyter.widget-view+json": {
       "model_id": "",
       "version_major": 2,
       "version_minor": 0
      },
      "text/plain": [
       "FloatProgress(value=0.0, bar_style='info', description='Progress:', layout=Layout(height='25px', width='50%'),…"
      ]
     },
     "metadata": {},
     "output_type": "display_data"
    }
   ],
   "source": [
    "def process_song_data(spark, input_data, output_data):\n",
    "    # get filepath to song data file\n",
    "    song_data = '{}{}'.format(input_data, 'song_data/*/*/*/*.json')\n",
    "    \n",
    "    # read song data file\n",
    "    df = spark.read.json(song_data)\n",
    "    \n",
    "    # extract columns to create songs table\n",
    "    songs_table = df.select('song_id','title','artist_id','year','duration')\n",
    "    \n",
    "    # write songs table to parquet files partitioned by year and artist\n",
    "    songs_table.write.partitionBy('year','artist_id').mode('overwrite').parquet(output_data + \"songs/\")\n",
    "\n",
    "    # extract columns to create artists table\n",
    "    artists_table = df.select('artist_id','artist_name','artist_location',\n",
    "                                   'artist_latitude','artist_longitude')\n",
    "    \n",
    "    # write artists table to parquet files\n",
    "    artists_table.write.mode('overwrite').parquet(output_data + \"artists/\")\n"
   ]
  },
  {
   "cell_type": "code",
   "execution_count": 4,
   "id": "c9eea733-c67c-4bd9-bb64-ec5ef40db8b1",
   "metadata": {
    "execution": {
     "iopub.execute_input": "2023-01-17T18:16:25.532833Z",
     "iopub.status.busy": "2023-01-17T18:16:25.532156Z",
     "iopub.status.idle": "2023-01-17T18:16:25.834180Z",
     "shell.execute_reply": "2023-01-17T18:16:25.833149Z",
     "shell.execute_reply.started": "2023-01-17T18:16:25.532791Z"
    },
    "tags": []
   },
   "outputs": [
    {
     "data": {
      "application/vnd.jupyter.widget-view+json": {
       "model_id": "0ca3caca27604bf09fbd949b65cc72b1",
       "version_major": 2,
       "version_minor": 0
      },
      "text/plain": [
       "VBox()"
      ]
     },
     "metadata": {},
     "output_type": "display_data"
    },
    {
     "data": {
      "application/vnd.jupyter.widget-view+json": {
       "model_id": "",
       "version_major": 2,
       "version_minor": 0
      },
      "text/plain": [
       "FloatProgress(value=0.0, bar_style='info', description='Progress:', layout=Layout(height='25px', width='50%'),…"
      ]
     },
     "metadata": {},
     "output_type": "display_data"
    }
   ],
   "source": [
    "def process_log_data(spark, input_data, output_data):\n",
    "    # get filepath to log data file\n",
    "    log_data = '{}{}'.format(input_data, 'log_data/*/*/*.json')\n",
    "    song_data = '{}{}'.format(input_data, 'song_data/*/*/*/*.json')\n",
    "\n",
    "    # read log data file\n",
    "    df = spark.read.json(log_data)\n",
    "    \n",
    "    # filter by actions for song plays\n",
    "    df = df.where(df.page == 'NextSong')\n",
    "\n",
    "    # extract columns for users table    \n",
    "    users_table = df.select('userId','firstName','lastName','gender','level')\n",
    "    \n",
    "    # write users table to parquet files\n",
    "    users_table.write.mode('overwrite').parquet(output_data + \"users/\")\n",
    "\n",
    "    # create timestamp column from original timestamp column\n",
    "    get_timestamp = udf(lambda x: datetime.fromtimestamp(x/1000), TS.TimestampType())\n",
    "    df = df.withColumn('ts_timestamp',get_timestamp('ts'))\n",
    "    \n",
    "    # create datetime column from original timestamp column\n",
    "#     get_datetime = udf()\n",
    "#     df = \n",
    "    \n",
    "    # extract columns to create time table\n",
    "    time_table = df.select('ts_timestamp', hour('ts_timestamp').alias('hour'), dayofmonth('ts_timestamp').alias('day'), weekofyear('ts_timestamp').alias('weekofyear'),\n",
    "                           month('ts_timestamp').alias('month'), year('ts_timestamp').alias('year'), dayofweek('ts_timestamp').alias('dayofweek'))\n",
    "    \n",
    "    # write time table to parquet files partitioned by year and month\n",
    "    time_table.write.partitionBy('year', 'month').mode('overwrite').parquet(output_data + \"time/\")\n",
    "\n",
    "    # read in song data to use for songplays table\n",
    "    song_df = spark.read.json(song_data)\n",
    "\n",
    "    # extract columns from joined song and log datasets to create songplays table \n",
    "    songplays_table = df.join(song_df, df['song'] == song_df['title']).drop('title')\n",
    "    songplays_table = songplays_table.withColumn('songplay_id', monotonically_increasing_id()).select('songplay_id','ts_timestamp', 'userId', 'level',\n",
    "                                                                                                      'song_id', 'artist_id', 'sessionId', 'location', 'userAgent')\n",
    "    # create year and month columns for the partition \n",
    "    songplays_table = songplays_table.withColumn('year', year('ts_timestamp')).withColumn('month', month('ts_timestamp'))\n",
    "    \n",
    "    # write songplays table to parquet files partitioned by year and month\n",
    "    songplays_table.write.partitionBy('year', 'month').mode('overwrite').parquet(output_data + \"songplays/\")"
   ]
  },
  {
   "cell_type": "code",
   "execution_count": 5,
   "id": "ba82e3d7-509d-434c-8989-d204d77ee377",
   "metadata": {
    "execution": {
     "iopub.execute_input": "2023-01-17T18:16:25.837907Z",
     "iopub.status.busy": "2023-01-17T18:16:25.837634Z",
     "iopub.status.idle": "2023-01-17T18:16:26.072384Z",
     "shell.execute_reply": "2023-01-17T18:16:26.071421Z",
     "shell.execute_reply.started": "2023-01-17T18:16:25.837880Z"
    },
    "tags": []
   },
   "outputs": [
    {
     "data": {
      "application/vnd.jupyter.widget-view+json": {
       "model_id": "c450d0f4ee564ee3929dfa47f1c8cb3d",
       "version_major": 2,
       "version_minor": 0
      },
      "text/plain": [
       "VBox()"
      ]
     },
     "metadata": {},
     "output_type": "display_data"
    },
    {
     "data": {
      "application/vnd.jupyter.widget-view+json": {
       "model_id": "",
       "version_major": 2,
       "version_minor": 0
      },
      "text/plain": [
       "FloatProgress(value=0.0, bar_style='info', description='Progress:', layout=Layout(height='25px', width='50%'),…"
      ]
     },
     "metadata": {},
     "output_type": "display_data"
    }
   ],
   "source": [
    "def main():\n",
    "    spark = create_spark_session()\n",
    "    input_data = \"s3a://udacity-dend/\"\n",
    "    output_data = \"s3a://sparkifyggo/\"\n",
    "    \n",
    "    process_log_data(spark, input_data, output_data)\n",
    "    process_song_data(spark, input_data, output_data)    \n",
    "    # process_log_data(spark, input_data, output_data)"
   ]
  },
  {
   "cell_type": "code",
   "execution_count": 6,
   "id": "333cfc64-a01f-4b4d-8045-6e35fddb4b99",
   "metadata": {
    "execution": {
     "iopub.execute_input": "2023-01-17T18:16:26.074334Z",
     "iopub.status.busy": "2023-01-17T18:16:26.073617Z",
     "iopub.status.idle": "2023-01-17T19:16:28.535329Z",
     "shell.execute_reply": "2023-01-17T19:16:28.534260Z",
     "shell.execute_reply.started": "2023-01-17T18:16:26.074291Z"
    },
    "tags": []
   },
   "outputs": [
    {
     "data": {
      "application/vnd.jupyter.widget-view+json": {
       "model_id": "e4c8e9fbac154ff089002b1a6c9aa12c",
       "version_major": 2,
       "version_minor": 0
      },
      "text/plain": [
       "VBox()"
      ]
     },
     "metadata": {},
     "output_type": "display_data"
    },
    {
     "data": {
      "application/vnd.jupyter.widget-view+json": {
       "model_id": "80d42e0b9b8947d4991bf8f586083123",
       "version_major": 2,
       "version_minor": 0
      },
      "text/plain": [
       "FloatProgress(value=0.0, bar_style='info', description='Progress:', layout=Layout(height='25px', width='50%'),…"
      ]
     },
     "metadata": {},
     "output_type": "display_data"
    },
    {
     "name": "stderr",
     "output_type": "stream",
     "text": [
      "An error was encountered:\n",
      "Invalid status code '400' from https://172.31.8.203:18888/sessions/2/statements/6 with error payload: \"requirement failed: Session isn't active.\"\n"
     ]
    }
   ],
   "source": [
    "main()"
   ]
  },
  {
   "cell_type": "code",
   "execution_count": 7,
   "id": "7a1fafb2-a1d7-4f53-98cf-845a35a6ce3c",
   "metadata": {
    "execution": {
     "iopub.execute_input": "2023-01-17T19:16:28.548454Z",
     "iopub.status.busy": "2023-01-17T19:16:28.544379Z",
     "iopub.status.idle": "2023-01-17T19:16:28.878968Z",
     "shell.execute_reply": "2023-01-17T19:16:28.877984Z",
     "shell.execute_reply.started": "2023-01-17T19:16:28.548398Z"
    },
    "tags": []
   },
   "outputs": [
    {
     "data": {
      "application/vnd.jupyter.widget-view+json": {
       "model_id": "eb4fc30b9a1f4a09aca0a57ffb5cbcba",
       "version_major": 2,
       "version_minor": 0
      },
      "text/plain": [
       "VBox()"
      ]
     },
     "metadata": {},
     "output_type": "display_data"
    },
    {
     "name": "stderr",
     "output_type": "stream",
     "text": [
      "An error was encountered:\n",
      "Session 2 unexpectedly reached final status 'dead'. See logs:\n",
      "stdout: \n",
      "\n",
      "stderr: \n",
      "23/01/17 18:34:38 INFO TaskSetManager: Starting task 411.0 in stage 11.0 (TID 41829, ip-172-31-1-104.us-west-2.compute.internal, executor 6, partition 411, PROCESS_LOCAL, 11075 bytes)\n",
      "23/01/17 18:34:38 INFO TaskSetManager: Finished task 399.0 in stage 11.0 (TID 41817) in 11841 ms on ip-172-31-1-104.us-west-2.compute.internal (executor 6) (400/466)\n",
      "23/01/17 18:34:42 INFO TaskSetManager: Starting task 412.0 in stage 11.0 (TID 41830, ip-172-31-9-35.us-west-2.compute.internal, executor 5, partition 412, PROCESS_LOCAL, 11075 bytes)\n",
      "23/01/17 18:34:42 INFO TaskSetManager: Finished task 400.0 in stage 11.0 (TID 41818) in 11574 ms on ip-172-31-9-35.us-west-2.compute.internal (executor 5) (401/466)\n",
      "23/01/17 18:34:43 INFO TaskSetManager: Starting task 413.0 in stage 11.0 (TID 41831, ip-172-31-9-35.us-west-2.compute.internal, executor 5, partition 413, PROCESS_LOCAL, 11075 bytes)\n",
      "23/01/17 18:34:43 INFO TaskSetManager: Finished task 401.0 in stage 11.0 (TID 41819) in 11232 ms on ip-172-31-9-35.us-west-2.compute.internal (executor 5) (402/466)\n",
      "23/01/17 18:34:45 INFO TaskSetManager: Starting task 414.0 in stage 11.0 (TID 41832, ip-172-31-9-35.us-west-2.compute.internal, executor 5, partition 414, PROCESS_LOCAL, 11075 bytes)\n",
      "23/01/17 18:34:45 INFO TaskSetManager: Finished task 402.0 in stage 11.0 (TID 41820) in 11017 ms on ip-172-31-9-35.us-west-2.compute.internal (executor 5) (403/466)\n",
      "23/01/17 18:34:45 INFO TaskSetManager: Starting task 415.0 in stage 11.0 (TID 41833, ip-172-31-1-104.us-west-2.compute.internal, executor 7, partition 415, PROCESS_LOCAL, 11075 bytes)\n",
      "23/01/17 18:34:45 INFO TaskSetManager: Finished task 403.0 in stage 11.0 (TID 41821) in 10661 ms on ip-172-31-1-104.us-west-2.compute.internal (executor 7) (404/466)\n",
      "23/01/17 18:34:45 INFO TaskSetManager: Starting task 416.0 in stage 11.0 (TID 41834, ip-172-31-1-104.us-west-2.compute.internal, executor 7, partition 416, PROCESS_LOCAL, 11075 bytes)\n",
      "23/01/17 18:34:45 INFO TaskSetManager: Finished task 404.0 in stage 11.0 (TID 41822) in 10601 ms on ip-172-31-1-104.us-west-2.compute.internal (executor 7) (405/466)\n",
      "23/01/17 18:34:46 INFO TaskSetManager: Starting task 417.0 in stage 11.0 (TID 41835, ip-172-31-1-104.us-west-2.compute.internal, executor 7, partition 417, PROCESS_LOCAL, 11075 bytes)\n",
      "23/01/17 18:34:46 INFO TaskSetManager: Finished task 405.0 in stage 11.0 (TID 41823) in 10445 ms on ip-172-31-1-104.us-west-2.compute.internal (executor 7) (406/466)\n",
      "23/01/17 18:34:46 INFO TaskSetManager: Starting task 418.0 in stage 11.0 (TID 41836, ip-172-31-1-104.us-west-2.compute.internal, executor 7, partition 418, PROCESS_LOCAL, 11075 bytes)\n",
      "23/01/17 18:34:46 INFO TaskSetManager: Finished task 406.0 in stage 11.0 (TID 41824) in 10663 ms on ip-172-31-1-104.us-west-2.compute.internal (executor 7) (407/466)\n",
      "23/01/17 18:34:47 INFO TaskSetManager: Starting task 419.0 in stage 11.0 (TID 41837, ip-172-31-9-35.us-west-2.compute.internal, executor 5, partition 419, PROCESS_LOCAL, 11075 bytes)\n",
      "23/01/17 18:34:47 INFO TaskSetManager: Finished task 407.0 in stage 11.0 (TID 41825) in 11364 ms on ip-172-31-9-35.us-west-2.compute.internal (executor 5) (408/466)\n",
      "23/01/17 18:34:47 INFO TaskSetManager: Starting task 420.0 in stage 11.0 (TID 41838, ip-172-31-1-104.us-west-2.compute.internal, executor 6, partition 420, PROCESS_LOCAL, 11075 bytes)\n",
      "23/01/17 18:34:47 INFO TaskSetManager: Finished task 409.0 in stage 11.0 (TID 41827) in 11282 ms on ip-172-31-1-104.us-west-2.compute.internal (executor 6) (409/466)\n",
      "23/01/17 18:34:48 INFO TaskSetManager: Starting task 421.0 in stage 11.0 (TID 41839, ip-172-31-1-104.us-west-2.compute.internal, executor 6, partition 421, PROCESS_LOCAL, 11075 bytes)\n",
      "23/01/17 18:34:48 INFO TaskSetManager: Finished task 408.0 in stage 11.0 (TID 41826) in 11594 ms on ip-172-31-1-104.us-west-2.compute.internal (executor 6) (410/466)\n",
      "23/01/17 18:34:48 INFO TaskSetManager: Starting task 422.0 in stage 11.0 (TID 41840, ip-172-31-1-104.us-west-2.compute.internal, executor 6, partition 422, PROCESS_LOCAL, 11075 bytes)\n",
      "23/01/17 18:34:48 INFO TaskSetManager: Finished task 410.0 in stage 11.0 (TID 41828) in 11385 ms on ip-172-31-1-104.us-west-2.compute.internal (executor 6) (411/466)\n",
      "23/01/17 18:34:49 INFO TaskSetManager: Starting task 423.0 in stage 11.0 (TID 41841, ip-172-31-1-104.us-west-2.compute.internal, executor 6, partition 423, PROCESS_LOCAL, 11075 bytes)\n",
      "23/01/17 18:34:49 INFO TaskSetManager: Finished task 411.0 in stage 11.0 (TID 41829) in 11198 ms on ip-172-31-1-104.us-west-2.compute.internal (executor 6) (412/466)\n",
      "23/01/17 18:34:53 INFO TaskSetManager: Starting task 424.0 in stage 11.0 (TID 41842, ip-172-31-9-35.us-west-2.compute.internal, executor 5, partition 424, PROCESS_LOCAL, 11075 bytes)\n",
      "23/01/17 18:34:53 INFO TaskSetManager: Finished task 412.0 in stage 11.0 (TID 41830) in 11275 ms on ip-172-31-9-35.us-west-2.compute.internal (executor 5) (413/466)\n",
      "23/01/17 18:34:54 INFO TaskSetManager: Starting task 425.0 in stage 11.0 (TID 41843, ip-172-31-9-35.us-west-2.compute.internal, executor 5, partition 425, PROCESS_LOCAL, 11075 bytes)\n",
      "23/01/17 18:34:54 INFO TaskSetManager: Finished task 413.0 in stage 11.0 (TID 41831) in 11106 ms on ip-172-31-9-35.us-west-2.compute.internal (executor 5) (414/466)\n",
      "23/01/17 18:34:56 INFO TaskSetManager: Starting task 426.0 in stage 11.0 (TID 41844, ip-172-31-1-104.us-west-2.compute.internal, executor 7, partition 426, PROCESS_LOCAL, 11075 bytes)\n",
      "23/01/17 18:34:56 INFO TaskSetManager: Finished task 415.0 in stage 11.0 (TID 41833) in 10930 ms on ip-172-31-1-104.us-west-2.compute.internal (executor 7) (415/466)\n",
      "23/01/17 18:34:56 INFO TaskSetManager: Starting task 427.0 in stage 11.0 (TID 41845, ip-172-31-9-35.us-west-2.compute.internal, executor 5, partition 427, PROCESS_LOCAL, 11075 bytes)\n",
      "23/01/17 18:34:56 INFO TaskSetManager: Finished task 414.0 in stage 11.0 (TID 41832) in 11596 ms on ip-172-31-9-35.us-west-2.compute.internal (executor 5) (416/466)\n",
      "23/01/17 18:34:56 INFO TaskSetManager: Starting task 428.0 in stage 11.0 (TID 41846, ip-172-31-1-104.us-west-2.compute.internal, executor 7, partition 428, PROCESS_LOCAL, 11075 bytes)\n",
      "23/01/17 18:34:56 INFO TaskSetManager: Finished task 417.0 in stage 11.0 (TID 41835) in 10684 ms on ip-172-31-1-104.us-west-2.compute.internal (executor 7) (417/466)\n",
      "23/01/17 18:34:57 INFO TaskSetManager: Starting task 429.0 in stage 11.0 (TID 41847, ip-172-31-1-104.us-west-2.compute.internal, executor 7, partition 429, PROCESS_LOCAL, 11075 bytes)\n",
      "23/01/17 18:34:57 INFO TaskSetManager: Finished task 416.0 in stage 11.0 (TID 41834) in 11117 ms on ip-172-31-1-104.us-west-2.compute.internal (executor 7) (418/466)\n",
      "23/01/17 18:34:57 INFO TaskSetManager: Starting task 430.0 in stage 11.0 (TID 41848, ip-172-31-1-104.us-west-2.compute.internal, executor 7, partition 430, PROCESS_LOCAL, 11075 bytes)\n",
      "23/01/17 18:34:57 INFO TaskSetManager: Finished task 418.0 in stage 11.0 (TID 41836) in 10716 ms on ip-172-31-1-104.us-west-2.compute.internal (executor 7) (419/466)\n",
      "23/01/17 18:34:58 INFO TaskSetManager: Starting task 431.0 in stage 11.0 (TID 41849, ip-172-31-9-35.us-west-2.compute.internal, executor 5, partition 431, PROCESS_LOCAL, 11075 bytes)\n",
      "23/01/17 18:34:58 INFO TaskSetManager: Finished task 419.0 in stage 11.0 (TID 41837) in 11219 ms on ip-172-31-9-35.us-west-2.compute.internal (executor 5) (420/466)\n",
      "23/01/17 18:34:58 INFO TaskSetManager: Starting task 432.0 in stage 11.0 (TID 41850, ip-172-31-1-104.us-west-2.compute.internal, executor 6, partition 432, PROCESS_LOCAL, 11075 bytes)\n",
      "23/01/17 18:34:58 INFO TaskSetManager: Finished task 420.0 in stage 11.0 (TID 41838) in 11160 ms on ip-172-31-1-104.us-west-2.compute.internal (executor 6) (421/466)\n",
      "23/01/17 18:34:59 INFO TaskSetManager: Starting task 433.0 in stage 11.0 (TID 41851, ip-172-31-1-104.us-west-2.compute.internal, executor 6, partition 433, PROCESS_LOCAL, 11075 bytes)\n",
      "23/01/17 18:34:59 INFO TaskSetManager: Finished task 422.0 in stage 11.0 (TID 41840) in 10933 ms on ip-172-31-1-104.us-west-2.compute.internal (executor 6) (422/466)\n",
      "23/01/17 18:34:59 INFO TaskSetManager: Starting task 434.0 in stage 11.0 (TID 41852, ip-172-31-1-104.us-west-2.compute.internal, executor 6, partition 434, PROCESS_LOCAL, 11075 bytes)\n",
      "23/01/17 18:34:59 INFO TaskSetManager: Finished task 421.0 in stage 11.0 (TID 41839) in 11017 ms on ip-172-31-1-104.us-west-2.compute.internal (executor 6) (423/466)\n",
      "23/01/17 18:35:00 INFO TaskSetManager: Starting task 435.0 in stage 11.0 (TID 41853, ip-172-31-1-104.us-west-2.compute.internal, executor 6, partition 435, PROCESS_LOCAL, 11075 bytes)\n",
      "23/01/17 18:35:00 INFO TaskSetManager: Finished task 423.0 in stage 11.0 (TID 41841) in 10647 ms on ip-172-31-1-104.us-west-2.compute.internal (executor 6) (424/466)\n",
      "23/01/17 18:35:05 INFO TaskSetManager: Starting task 436.0 in stage 11.0 (TID 41854, ip-172-31-9-35.us-west-2.compute.internal, executor 5, partition 436, PROCESS_LOCAL, 11075 bytes)\n",
      "23/01/17 18:35:05 INFO TaskSetManager: Finished task 424.0 in stage 11.0 (TID 41842) in 12557 ms on ip-172-31-9-35.us-west-2.compute.internal (executor 5) (425/466)\n",
      "23/01/17 18:35:06 INFO TaskSetManager: Starting task 437.0 in stage 11.0 (TID 41855, ip-172-31-9-35.us-west-2.compute.internal, executor 5, partition 437, PROCESS_LOCAL, 11075 bytes)\n",
      "23/01/17 18:35:06 INFO TaskSetManager: Finished task 425.0 in stage 11.0 (TID 41843) in 12661 ms on ip-172-31-9-35.us-west-2.compute.internal (executor 5) (426/466)\n",
      "23/01/17 18:35:08 INFO TaskSetManager: Starting task 438.0 in stage 11.0 (TID 41856, ip-172-31-1-104.us-west-2.compute.internal, executor 7, partition 438, PROCESS_LOCAL, 11075 bytes)\n",
      "23/01/17 18:35:08 INFO TaskSetManager: Finished task 428.0 in stage 11.0 (TID 41846) in 11922 ms on ip-172-31-1-104.us-west-2.compute.internal (executor 7) (427/466)\n",
      "23/01/17 18:35:08 INFO TaskSetManager: Starting task 439.0 in stage 11.0 (TID 41857, ip-172-31-1-104.us-west-2.compute.internal, executor 7, partition 439, PROCESS_LOCAL, 11075 bytes)\n",
      "23/01/17 18:35:08 INFO TaskSetManager: Finished task 429.0 in stage 11.0 (TID 41847) in 11868 ms on ip-172-31-1-104.us-west-2.compute.internal (executor 7) (428/466)\n",
      "23/01/17 18:35:09 INFO TaskSetManager: Starting task 440.0 in stage 11.0 (TID 41858, ip-172-31-9-35.us-west-2.compute.internal, executor 5, partition 440, PROCESS_LOCAL, 11075 bytes)\n",
      "23/01/17 18:35:09 INFO TaskSetManager: Finished task 427.0 in stage 11.0 (TID 41845) in 12856 ms on ip-172-31-9-35.us-west-2.compute.internal (executor 5) (429/466)\n",
      "23/01/17 18:35:09 INFO TaskSetManager: Starting task 441.0 in stage 11.0 (TID 41859, ip-172-31-1-104.us-west-2.compute.internal, executor 7, partition 441, PROCESS_LOCAL, 11075 bytes)\n",
      "23/01/17 18:35:09 INFO TaskSetManager: Finished task 430.0 in stage 11.0 (TID 41848) in 12024 ms on ip-172-31-1-104.us-west-2.compute.internal (executor 7) (430/466)\n",
      "23/01/17 18:35:10 INFO TaskSetManager: Starting task 442.0 in stage 11.0 (TID 41860, ip-172-31-1-104.us-west-2.compute.internal, executor 7, partition 442, PROCESS_LOCAL, 11075 bytes)\n",
      "23/01/17 18:35:10 INFO TaskSetManager: Finished task 426.0 in stage 11.0 (TID 41844) in 13797 ms on ip-172-31-1-104.us-west-2.compute.internal (executor 7) (431/466)\n",
      "23/01/17 18:35:10 INFO TaskSetManager: Starting task 443.0 in stage 11.0 (TID 41861, ip-172-31-1-104.us-west-2.compute.internal, executor 6, partition 443, PROCESS_LOCAL, 11075 bytes)\n",
      "23/01/17 18:35:10 INFO TaskSetManager: Finished task 432.0 in stage 11.0 (TID 41850) in 11823 ms on ip-172-31-1-104.us-west-2.compute.internal (executor 6) (432/466)\n",
      "23/01/17 18:35:10 INFO TaskSetManager: Starting task 444.0 in stage 11.0 (TID 41862, ip-172-31-1-104.us-west-2.compute.internal, executor 6, partition 444, PROCESS_LOCAL, 11075 bytes)\n",
      "23/01/17 18:35:10 INFO TaskSetManager: Finished task 433.0 in stage 11.0 (TID 41851) in 11918 ms on ip-172-31-1-104.us-west-2.compute.internal (executor 6) (433/466)\n",
      "23/01/17 18:35:11 INFO TaskSetManager: Starting task 445.0 in stage 11.0 (TID 41863, ip-172-31-1-104.us-west-2.compute.internal, executor 6, partition 445, PROCESS_LOCAL, 11075 bytes)\n",
      "23/01/17 18:35:11 INFO TaskSetManager: Finished task 434.0 in stage 11.0 (TID 41852) in 12060 ms on ip-172-31-1-104.us-west-2.compute.internal (executor 6) (434/466)\n",
      "23/01/17 18:35:12 INFO TaskSetManager: Starting task 446.0 in stage 11.0 (TID 41864, ip-172-31-9-35.us-west-2.compute.internal, executor 5, partition 446, PROCESS_LOCAL, 11075 bytes)\n",
      "23/01/17 18:35:12 INFO TaskSetManager: Finished task 431.0 in stage 11.0 (TID 41849) in 13466 ms on ip-172-31-9-35.us-west-2.compute.internal (executor 5) (435/466)\n",
      "23/01/17 18:35:12 INFO TaskSetManager: Starting task 447.0 in stage 11.0 (TID 41865, ip-172-31-1-104.us-west-2.compute.internal, executor 6, partition 447, PROCESS_LOCAL, 11075 bytes)\n",
      "23/01/17 18:35:12 INFO TaskSetManager: Finished task 435.0 in stage 11.0 (TID 41853) in 12221 ms on ip-172-31-1-104.us-west-2.compute.internal (executor 6) (436/466)\n",
      "23/01/17 18:35:17 INFO TaskSetManager: Starting task 448.0 in stage 11.0 (TID 41866, ip-172-31-9-35.us-west-2.compute.internal, executor 5, partition 448, PROCESS_LOCAL, 11075 bytes)\n",
      "23/01/17 18:35:17 INFO TaskSetManager: Finished task 436.0 in stage 11.0 (TID 41854) in 11933 ms on ip-172-31-9-35.us-west-2.compute.internal (executor 5) (437/466)\n",
      "23/01/17 18:35:18 INFO TaskSetManager: Starting task 449.0 in stage 11.0 (TID 41867, ip-172-31-9-35.us-west-2.compute.internal, executor 5, partition 449, PROCESS_LOCAL, 11075 bytes)\n",
      "23/01/17 18:35:18 INFO TaskSetManager: Finished task 437.0 in stage 11.0 (TID 41855) in 12075 ms on ip-172-31-9-35.us-west-2.compute.internal (executor 5) (438/466)\n",
      "23/01/17 18:35:21 INFO TaskSetManager: Starting task 450.0 in stage 11.0 (TID 41868, ip-172-31-1-104.us-west-2.compute.internal, executor 7, partition 450, PROCESS_LOCAL, 11075 bytes)\n",
      "23/01/17 18:35:21 INFO TaskSetManager: Finished task 438.0 in stage 11.0 (TID 41856) in 12792 ms on ip-172-31-1-104.us-west-2.compute.internal (executor 7) (439/466)\n",
      "23/01/17 18:35:21 INFO TaskSetManager: Starting task 451.0 in stage 11.0 (TID 41869, ip-172-31-9-35.us-west-2.compute.internal, executor 5, partition 451, PROCESS_LOCAL, 11075 bytes)\n",
      "23/01/17 18:35:21 INFO TaskSetManager: Finished task 440.0 in stage 11.0 (TID 41858) in 12348 ms on ip-172-31-9-35.us-west-2.compute.internal (executor 5) (440/466)\n",
      "23/01/17 18:35:22 INFO TaskSetManager: Starting task 452.0 in stage 11.0 (TID 41870, ip-172-31-1-104.us-west-2.compute.internal, executor 7, partition 452, PROCESS_LOCAL, 11075 bytes)\n",
      "23/01/17 18:35:22 INFO TaskSetManager: Finished task 439.0 in stage 11.0 (TID 41857) in 13185 ms on ip-172-31-1-104.us-west-2.compute.internal (executor 7) (441/466)\n",
      "23/01/17 18:35:22 INFO TaskSetManager: Starting task 453.0 in stage 11.0 (TID 41871, ip-172-31-1-104.us-west-2.compute.internal, executor 7, partition 453, PROCESS_LOCAL, 11075 bytes)\n",
      "23/01/17 18:35:22 INFO TaskSetManager: Finished task 441.0 in stage 11.0 (TID 41859) in 12589 ms on ip-172-31-1-104.us-west-2.compute.internal (executor 7) (442/466)\n",
      "23/01/17 18:35:22 INFO TaskSetManager: Starting task 454.0 in stage 11.0 (TID 41872, ip-172-31-1-104.us-west-2.compute.internal, executor 7, partition 454, PROCESS_LOCAL, 11075 bytes)\n",
      "23/01/17 18:35:22 INFO TaskSetManager: Finished task 442.0 in stage 11.0 (TID 41860) in 12103 ms on ip-172-31-1-104.us-west-2.compute.internal (executor 7) (443/466)\n",
      "23/01/17 18:35:22 INFO TaskSetManager: Starting task 455.0 in stage 11.0 (TID 41873, ip-172-31-1-104.us-west-2.compute.internal, executor 6, partition 455, PROCESS_LOCAL, 11075 bytes)\n",
      "23/01/17 18:35:22 INFO TaskSetManager: Finished task 443.0 in stage 11.0 (TID 41861) in 11934 ms on ip-172-31-1-104.us-west-2.compute.internal (executor 6) (444/466)\n",
      "23/01/17 18:35:22 INFO TaskSetManager: Starting task 456.0 in stage 11.0 (TID 41874, ip-172-31-1-104.us-west-2.compute.internal, executor 6, partition 456, PROCESS_LOCAL, 11075 bytes)\n",
      "23/01/17 18:35:22 INFO TaskSetManager: Finished task 444.0 in stage 11.0 (TID 41862) in 11748 ms on ip-172-31-1-104.us-west-2.compute.internal (executor 6) (445/466)\n",
      "23/01/17 18:35:23 INFO TaskSetManager: Starting task 457.0 in stage 11.0 (TID 41875, ip-172-31-1-104.us-west-2.compute.internal, executor 6, partition 457, PROCESS_LOCAL, 11075 bytes)\n",
      "23/01/17 18:35:23 INFO TaskSetManager: Finished task 445.0 in stage 11.0 (TID 41863) in 11922 ms on ip-172-31-1-104.us-west-2.compute.internal (executor 6) (446/466)\n",
      "23/01/17 18:35:24 INFO TaskSetManager: Starting task 458.0 in stage 11.0 (TID 41876, ip-172-31-1-104.us-west-2.compute.internal, executor 6, partition 458, PROCESS_LOCAL, 11075 bytes)\n",
      "23/01/17 18:35:24 INFO TaskSetManager: Finished task 447.0 in stage 11.0 (TID 41865) in 12123 ms on ip-172-31-1-104.us-west-2.compute.internal (executor 6) (447/466)\n",
      "23/01/17 18:35:24 INFO TaskSetManager: Starting task 459.0 in stage 11.0 (TID 41877, ip-172-31-9-35.us-west-2.compute.internal, executor 5, partition 459, PROCESS_LOCAL, 11075 bytes)\n",
      "23/01/17 18:35:24 INFO TaskSetManager: Finished task 446.0 in stage 11.0 (TID 41864) in 12510 ms on ip-172-31-9-35.us-west-2.compute.internal (executor 5) (448/466)\n"
     ]
    }
   ],
   "source": [
    "# spark = create_spark_session()"
   ]
  },
  {
   "cell_type": "code",
   "execution_count": 8,
   "id": "0003f814-0980-4f6b-a766-ef177195dc9e",
   "metadata": {
    "execution": {
     "iopub.execute_input": "2023-01-17T19:16:28.881848Z",
     "iopub.status.busy": "2023-01-17T19:16:28.881198Z",
     "iopub.status.idle": "2023-01-17T19:16:29.061860Z",
     "shell.execute_reply": "2023-01-17T19:16:29.060959Z",
     "shell.execute_reply.started": "2023-01-17T19:16:28.881783Z"
    },
    "tags": []
   },
   "outputs": [
    {
     "data": {
      "application/vnd.jupyter.widget-view+json": {
       "model_id": "57441f3c1ec649cd9f74376ab586f9eb",
       "version_major": 2,
       "version_minor": 0
      },
      "text/plain": [
       "VBox()"
      ]
     },
     "metadata": {},
     "output_type": "display_data"
    },
    {
     "name": "stderr",
     "output_type": "stream",
     "text": [
      "An error was encountered:\n",
      "Session 2 unexpectedly reached final status 'dead'. See logs:\n",
      "stdout: \n",
      "\n",
      "stderr: \n",
      "23/01/17 18:34:38 INFO TaskSetManager: Starting task 411.0 in stage 11.0 (TID 41829, ip-172-31-1-104.us-west-2.compute.internal, executor 6, partition 411, PROCESS_LOCAL, 11075 bytes)\n",
      "23/01/17 18:34:38 INFO TaskSetManager: Finished task 399.0 in stage 11.0 (TID 41817) in 11841 ms on ip-172-31-1-104.us-west-2.compute.internal (executor 6) (400/466)\n",
      "23/01/17 18:34:42 INFO TaskSetManager: Starting task 412.0 in stage 11.0 (TID 41830, ip-172-31-9-35.us-west-2.compute.internal, executor 5, partition 412, PROCESS_LOCAL, 11075 bytes)\n",
      "23/01/17 18:34:42 INFO TaskSetManager: Finished task 400.0 in stage 11.0 (TID 41818) in 11574 ms on ip-172-31-9-35.us-west-2.compute.internal (executor 5) (401/466)\n",
      "23/01/17 18:34:43 INFO TaskSetManager: Starting task 413.0 in stage 11.0 (TID 41831, ip-172-31-9-35.us-west-2.compute.internal, executor 5, partition 413, PROCESS_LOCAL, 11075 bytes)\n",
      "23/01/17 18:34:43 INFO TaskSetManager: Finished task 401.0 in stage 11.0 (TID 41819) in 11232 ms on ip-172-31-9-35.us-west-2.compute.internal (executor 5) (402/466)\n",
      "23/01/17 18:34:45 INFO TaskSetManager: Starting task 414.0 in stage 11.0 (TID 41832, ip-172-31-9-35.us-west-2.compute.internal, executor 5, partition 414, PROCESS_LOCAL, 11075 bytes)\n",
      "23/01/17 18:34:45 INFO TaskSetManager: Finished task 402.0 in stage 11.0 (TID 41820) in 11017 ms on ip-172-31-9-35.us-west-2.compute.internal (executor 5) (403/466)\n",
      "23/01/17 18:34:45 INFO TaskSetManager: Starting task 415.0 in stage 11.0 (TID 41833, ip-172-31-1-104.us-west-2.compute.internal, executor 7, partition 415, PROCESS_LOCAL, 11075 bytes)\n",
      "23/01/17 18:34:45 INFO TaskSetManager: Finished task 403.0 in stage 11.0 (TID 41821) in 10661 ms on ip-172-31-1-104.us-west-2.compute.internal (executor 7) (404/466)\n",
      "23/01/17 18:34:45 INFO TaskSetManager: Starting task 416.0 in stage 11.0 (TID 41834, ip-172-31-1-104.us-west-2.compute.internal, executor 7, partition 416, PROCESS_LOCAL, 11075 bytes)\n",
      "23/01/17 18:34:45 INFO TaskSetManager: Finished task 404.0 in stage 11.0 (TID 41822) in 10601 ms on ip-172-31-1-104.us-west-2.compute.internal (executor 7) (405/466)\n",
      "23/01/17 18:34:46 INFO TaskSetManager: Starting task 417.0 in stage 11.0 (TID 41835, ip-172-31-1-104.us-west-2.compute.internal, executor 7, partition 417, PROCESS_LOCAL, 11075 bytes)\n",
      "23/01/17 18:34:46 INFO TaskSetManager: Finished task 405.0 in stage 11.0 (TID 41823) in 10445 ms on ip-172-31-1-104.us-west-2.compute.internal (executor 7) (406/466)\n",
      "23/01/17 18:34:46 INFO TaskSetManager: Starting task 418.0 in stage 11.0 (TID 41836, ip-172-31-1-104.us-west-2.compute.internal, executor 7, partition 418, PROCESS_LOCAL, 11075 bytes)\n",
      "23/01/17 18:34:46 INFO TaskSetManager: Finished task 406.0 in stage 11.0 (TID 41824) in 10663 ms on ip-172-31-1-104.us-west-2.compute.internal (executor 7) (407/466)\n",
      "23/01/17 18:34:47 INFO TaskSetManager: Starting task 419.0 in stage 11.0 (TID 41837, ip-172-31-9-35.us-west-2.compute.internal, executor 5, partition 419, PROCESS_LOCAL, 11075 bytes)\n",
      "23/01/17 18:34:47 INFO TaskSetManager: Finished task 407.0 in stage 11.0 (TID 41825) in 11364 ms on ip-172-31-9-35.us-west-2.compute.internal (executor 5) (408/466)\n",
      "23/01/17 18:34:47 INFO TaskSetManager: Starting task 420.0 in stage 11.0 (TID 41838, ip-172-31-1-104.us-west-2.compute.internal, executor 6, partition 420, PROCESS_LOCAL, 11075 bytes)\n",
      "23/01/17 18:34:47 INFO TaskSetManager: Finished task 409.0 in stage 11.0 (TID 41827) in 11282 ms on ip-172-31-1-104.us-west-2.compute.internal (executor 6) (409/466)\n",
      "23/01/17 18:34:48 INFO TaskSetManager: Starting task 421.0 in stage 11.0 (TID 41839, ip-172-31-1-104.us-west-2.compute.internal, executor 6, partition 421, PROCESS_LOCAL, 11075 bytes)\n",
      "23/01/17 18:34:48 INFO TaskSetManager: Finished task 408.0 in stage 11.0 (TID 41826) in 11594 ms on ip-172-31-1-104.us-west-2.compute.internal (executor 6) (410/466)\n",
      "23/01/17 18:34:48 INFO TaskSetManager: Starting task 422.0 in stage 11.0 (TID 41840, ip-172-31-1-104.us-west-2.compute.internal, executor 6, partition 422, PROCESS_LOCAL, 11075 bytes)\n",
      "23/01/17 18:34:48 INFO TaskSetManager: Finished task 410.0 in stage 11.0 (TID 41828) in 11385 ms on ip-172-31-1-104.us-west-2.compute.internal (executor 6) (411/466)\n",
      "23/01/17 18:34:49 INFO TaskSetManager: Starting task 423.0 in stage 11.0 (TID 41841, ip-172-31-1-104.us-west-2.compute.internal, executor 6, partition 423, PROCESS_LOCAL, 11075 bytes)\n",
      "23/01/17 18:34:49 INFO TaskSetManager: Finished task 411.0 in stage 11.0 (TID 41829) in 11198 ms on ip-172-31-1-104.us-west-2.compute.internal (executor 6) (412/466)\n",
      "23/01/17 18:34:53 INFO TaskSetManager: Starting task 424.0 in stage 11.0 (TID 41842, ip-172-31-9-35.us-west-2.compute.internal, executor 5, partition 424, PROCESS_LOCAL, 11075 bytes)\n",
      "23/01/17 18:34:53 INFO TaskSetManager: Finished task 412.0 in stage 11.0 (TID 41830) in 11275 ms on ip-172-31-9-35.us-west-2.compute.internal (executor 5) (413/466)\n",
      "23/01/17 18:34:54 INFO TaskSetManager: Starting task 425.0 in stage 11.0 (TID 41843, ip-172-31-9-35.us-west-2.compute.internal, executor 5, partition 425, PROCESS_LOCAL, 11075 bytes)\n",
      "23/01/17 18:34:54 INFO TaskSetManager: Finished task 413.0 in stage 11.0 (TID 41831) in 11106 ms on ip-172-31-9-35.us-west-2.compute.internal (executor 5) (414/466)\n",
      "23/01/17 18:34:56 INFO TaskSetManager: Starting task 426.0 in stage 11.0 (TID 41844, ip-172-31-1-104.us-west-2.compute.internal, executor 7, partition 426, PROCESS_LOCAL, 11075 bytes)\n",
      "23/01/17 18:34:56 INFO TaskSetManager: Finished task 415.0 in stage 11.0 (TID 41833) in 10930 ms on ip-172-31-1-104.us-west-2.compute.internal (executor 7) (415/466)\n",
      "23/01/17 18:34:56 INFO TaskSetManager: Starting task 427.0 in stage 11.0 (TID 41845, ip-172-31-9-35.us-west-2.compute.internal, executor 5, partition 427, PROCESS_LOCAL, 11075 bytes)\n",
      "23/01/17 18:34:56 INFO TaskSetManager: Finished task 414.0 in stage 11.0 (TID 41832) in 11596 ms on ip-172-31-9-35.us-west-2.compute.internal (executor 5) (416/466)\n",
      "23/01/17 18:34:56 INFO TaskSetManager: Starting task 428.0 in stage 11.0 (TID 41846, ip-172-31-1-104.us-west-2.compute.internal, executor 7, partition 428, PROCESS_LOCAL, 11075 bytes)\n",
      "23/01/17 18:34:56 INFO TaskSetManager: Finished task 417.0 in stage 11.0 (TID 41835) in 10684 ms on ip-172-31-1-104.us-west-2.compute.internal (executor 7) (417/466)\n",
      "23/01/17 18:34:57 INFO TaskSetManager: Starting task 429.0 in stage 11.0 (TID 41847, ip-172-31-1-104.us-west-2.compute.internal, executor 7, partition 429, PROCESS_LOCAL, 11075 bytes)\n",
      "23/01/17 18:34:57 INFO TaskSetManager: Finished task 416.0 in stage 11.0 (TID 41834) in 11117 ms on ip-172-31-1-104.us-west-2.compute.internal (executor 7) (418/466)\n",
      "23/01/17 18:34:57 INFO TaskSetManager: Starting task 430.0 in stage 11.0 (TID 41848, ip-172-31-1-104.us-west-2.compute.internal, executor 7, partition 430, PROCESS_LOCAL, 11075 bytes)\n",
      "23/01/17 18:34:57 INFO TaskSetManager: Finished task 418.0 in stage 11.0 (TID 41836) in 10716 ms on ip-172-31-1-104.us-west-2.compute.internal (executor 7) (419/466)\n",
      "23/01/17 18:34:58 INFO TaskSetManager: Starting task 431.0 in stage 11.0 (TID 41849, ip-172-31-9-35.us-west-2.compute.internal, executor 5, partition 431, PROCESS_LOCAL, 11075 bytes)\n",
      "23/01/17 18:34:58 INFO TaskSetManager: Finished task 419.0 in stage 11.0 (TID 41837) in 11219 ms on ip-172-31-9-35.us-west-2.compute.internal (executor 5) (420/466)\n",
      "23/01/17 18:34:58 INFO TaskSetManager: Starting task 432.0 in stage 11.0 (TID 41850, ip-172-31-1-104.us-west-2.compute.internal, executor 6, partition 432, PROCESS_LOCAL, 11075 bytes)\n",
      "23/01/17 18:34:58 INFO TaskSetManager: Finished task 420.0 in stage 11.0 (TID 41838) in 11160 ms on ip-172-31-1-104.us-west-2.compute.internal (executor 6) (421/466)\n",
      "23/01/17 18:34:59 INFO TaskSetManager: Starting task 433.0 in stage 11.0 (TID 41851, ip-172-31-1-104.us-west-2.compute.internal, executor 6, partition 433, PROCESS_LOCAL, 11075 bytes)\n",
      "23/01/17 18:34:59 INFO TaskSetManager: Finished task 422.0 in stage 11.0 (TID 41840) in 10933 ms on ip-172-31-1-104.us-west-2.compute.internal (executor 6) (422/466)\n",
      "23/01/17 18:34:59 INFO TaskSetManager: Starting task 434.0 in stage 11.0 (TID 41852, ip-172-31-1-104.us-west-2.compute.internal, executor 6, partition 434, PROCESS_LOCAL, 11075 bytes)\n",
      "23/01/17 18:34:59 INFO TaskSetManager: Finished task 421.0 in stage 11.0 (TID 41839) in 11017 ms on ip-172-31-1-104.us-west-2.compute.internal (executor 6) (423/466)\n",
      "23/01/17 18:35:00 INFO TaskSetManager: Starting task 435.0 in stage 11.0 (TID 41853, ip-172-31-1-104.us-west-2.compute.internal, executor 6, partition 435, PROCESS_LOCAL, 11075 bytes)\n",
      "23/01/17 18:35:00 INFO TaskSetManager: Finished task 423.0 in stage 11.0 (TID 41841) in 10647 ms on ip-172-31-1-104.us-west-2.compute.internal (executor 6) (424/466)\n",
      "23/01/17 18:35:05 INFO TaskSetManager: Starting task 436.0 in stage 11.0 (TID 41854, ip-172-31-9-35.us-west-2.compute.internal, executor 5, partition 436, PROCESS_LOCAL, 11075 bytes)\n",
      "23/01/17 18:35:05 INFO TaskSetManager: Finished task 424.0 in stage 11.0 (TID 41842) in 12557 ms on ip-172-31-9-35.us-west-2.compute.internal (executor 5) (425/466)\n",
      "23/01/17 18:35:06 INFO TaskSetManager: Starting task 437.0 in stage 11.0 (TID 41855, ip-172-31-9-35.us-west-2.compute.internal, executor 5, partition 437, PROCESS_LOCAL, 11075 bytes)\n",
      "23/01/17 18:35:06 INFO TaskSetManager: Finished task 425.0 in stage 11.0 (TID 41843) in 12661 ms on ip-172-31-9-35.us-west-2.compute.internal (executor 5) (426/466)\n",
      "23/01/17 18:35:08 INFO TaskSetManager: Starting task 438.0 in stage 11.0 (TID 41856, ip-172-31-1-104.us-west-2.compute.internal, executor 7, partition 438, PROCESS_LOCAL, 11075 bytes)\n",
      "23/01/17 18:35:08 INFO TaskSetManager: Finished task 428.0 in stage 11.0 (TID 41846) in 11922 ms on ip-172-31-1-104.us-west-2.compute.internal (executor 7) (427/466)\n",
      "23/01/17 18:35:08 INFO TaskSetManager: Starting task 439.0 in stage 11.0 (TID 41857, ip-172-31-1-104.us-west-2.compute.internal, executor 7, partition 439, PROCESS_LOCAL, 11075 bytes)\n",
      "23/01/17 18:35:08 INFO TaskSetManager: Finished task 429.0 in stage 11.0 (TID 41847) in 11868 ms on ip-172-31-1-104.us-west-2.compute.internal (executor 7) (428/466)\n",
      "23/01/17 18:35:09 INFO TaskSetManager: Starting task 440.0 in stage 11.0 (TID 41858, ip-172-31-9-35.us-west-2.compute.internal, executor 5, partition 440, PROCESS_LOCAL, 11075 bytes)\n",
      "23/01/17 18:35:09 INFO TaskSetManager: Finished task 427.0 in stage 11.0 (TID 41845) in 12856 ms on ip-172-31-9-35.us-west-2.compute.internal (executor 5) (429/466)\n",
      "23/01/17 18:35:09 INFO TaskSetManager: Starting task 441.0 in stage 11.0 (TID 41859, ip-172-31-1-104.us-west-2.compute.internal, executor 7, partition 441, PROCESS_LOCAL, 11075 bytes)\n",
      "23/01/17 18:35:09 INFO TaskSetManager: Finished task 430.0 in stage 11.0 (TID 41848) in 12024 ms on ip-172-31-1-104.us-west-2.compute.internal (executor 7) (430/466)\n",
      "23/01/17 18:35:10 INFO TaskSetManager: Starting task 442.0 in stage 11.0 (TID 41860, ip-172-31-1-104.us-west-2.compute.internal, executor 7, partition 442, PROCESS_LOCAL, 11075 bytes)\n",
      "23/01/17 18:35:10 INFO TaskSetManager: Finished task 426.0 in stage 11.0 (TID 41844) in 13797 ms on ip-172-31-1-104.us-west-2.compute.internal (executor 7) (431/466)\n",
      "23/01/17 18:35:10 INFO TaskSetManager: Starting task 443.0 in stage 11.0 (TID 41861, ip-172-31-1-104.us-west-2.compute.internal, executor 6, partition 443, PROCESS_LOCAL, 11075 bytes)\n",
      "23/01/17 18:35:10 INFO TaskSetManager: Finished task 432.0 in stage 11.0 (TID 41850) in 11823 ms on ip-172-31-1-104.us-west-2.compute.internal (executor 6) (432/466)\n",
      "23/01/17 18:35:10 INFO TaskSetManager: Starting task 444.0 in stage 11.0 (TID 41862, ip-172-31-1-104.us-west-2.compute.internal, executor 6, partition 444, PROCESS_LOCAL, 11075 bytes)\n",
      "23/01/17 18:35:10 INFO TaskSetManager: Finished task 433.0 in stage 11.0 (TID 41851) in 11918 ms on ip-172-31-1-104.us-west-2.compute.internal (executor 6) (433/466)\n",
      "23/01/17 18:35:11 INFO TaskSetManager: Starting task 445.0 in stage 11.0 (TID 41863, ip-172-31-1-104.us-west-2.compute.internal, executor 6, partition 445, PROCESS_LOCAL, 11075 bytes)\n",
      "23/01/17 18:35:11 INFO TaskSetManager: Finished task 434.0 in stage 11.0 (TID 41852) in 12060 ms on ip-172-31-1-104.us-west-2.compute.internal (executor 6) (434/466)\n",
      "23/01/17 18:35:12 INFO TaskSetManager: Starting task 446.0 in stage 11.0 (TID 41864, ip-172-31-9-35.us-west-2.compute.internal, executor 5, partition 446, PROCESS_LOCAL, 11075 bytes)\n",
      "23/01/17 18:35:12 INFO TaskSetManager: Finished task 431.0 in stage 11.0 (TID 41849) in 13466 ms on ip-172-31-9-35.us-west-2.compute.internal (executor 5) (435/466)\n",
      "23/01/17 18:35:12 INFO TaskSetManager: Starting task 447.0 in stage 11.0 (TID 41865, ip-172-31-1-104.us-west-2.compute.internal, executor 6, partition 447, PROCESS_LOCAL, 11075 bytes)\n",
      "23/01/17 18:35:12 INFO TaskSetManager: Finished task 435.0 in stage 11.0 (TID 41853) in 12221 ms on ip-172-31-1-104.us-west-2.compute.internal (executor 6) (436/466)\n",
      "23/01/17 18:35:17 INFO TaskSetManager: Starting task 448.0 in stage 11.0 (TID 41866, ip-172-31-9-35.us-west-2.compute.internal, executor 5, partition 448, PROCESS_LOCAL, 11075 bytes)\n",
      "23/01/17 18:35:17 INFO TaskSetManager: Finished task 436.0 in stage 11.0 (TID 41854) in 11933 ms on ip-172-31-9-35.us-west-2.compute.internal (executor 5) (437/466)\n",
      "23/01/17 18:35:18 INFO TaskSetManager: Starting task 449.0 in stage 11.0 (TID 41867, ip-172-31-9-35.us-west-2.compute.internal, executor 5, partition 449, PROCESS_LOCAL, 11075 bytes)\n",
      "23/01/17 18:35:18 INFO TaskSetManager: Finished task 437.0 in stage 11.0 (TID 41855) in 12075 ms on ip-172-31-9-35.us-west-2.compute.internal (executor 5) (438/466)\n",
      "23/01/17 18:35:21 INFO TaskSetManager: Starting task 450.0 in stage 11.0 (TID 41868, ip-172-31-1-104.us-west-2.compute.internal, executor 7, partition 450, PROCESS_LOCAL, 11075 bytes)\n",
      "23/01/17 18:35:21 INFO TaskSetManager: Finished task 438.0 in stage 11.0 (TID 41856) in 12792 ms on ip-172-31-1-104.us-west-2.compute.internal (executor 7) (439/466)\n",
      "23/01/17 18:35:21 INFO TaskSetManager: Starting task 451.0 in stage 11.0 (TID 41869, ip-172-31-9-35.us-west-2.compute.internal, executor 5, partition 451, PROCESS_LOCAL, 11075 bytes)\n",
      "23/01/17 18:35:21 INFO TaskSetManager: Finished task 440.0 in stage 11.0 (TID 41858) in 12348 ms on ip-172-31-9-35.us-west-2.compute.internal (executor 5) (440/466)\n",
      "23/01/17 18:35:22 INFO TaskSetManager: Starting task 452.0 in stage 11.0 (TID 41870, ip-172-31-1-104.us-west-2.compute.internal, executor 7, partition 452, PROCESS_LOCAL, 11075 bytes)\n",
      "23/01/17 18:35:22 INFO TaskSetManager: Finished task 439.0 in stage 11.0 (TID 41857) in 13185 ms on ip-172-31-1-104.us-west-2.compute.internal (executor 7) (441/466)\n",
      "23/01/17 18:35:22 INFO TaskSetManager: Starting task 453.0 in stage 11.0 (TID 41871, ip-172-31-1-104.us-west-2.compute.internal, executor 7, partition 453, PROCESS_LOCAL, 11075 bytes)\n",
      "23/01/17 18:35:22 INFO TaskSetManager: Finished task 441.0 in stage 11.0 (TID 41859) in 12589 ms on ip-172-31-1-104.us-west-2.compute.internal (executor 7) (442/466)\n",
      "23/01/17 18:35:22 INFO TaskSetManager: Starting task 454.0 in stage 11.0 (TID 41872, ip-172-31-1-104.us-west-2.compute.internal, executor 7, partition 454, PROCESS_LOCAL, 11075 bytes)\n",
      "23/01/17 18:35:22 INFO TaskSetManager: Finished task 442.0 in stage 11.0 (TID 41860) in 12103 ms on ip-172-31-1-104.us-west-2.compute.internal (executor 7) (443/466)\n",
      "23/01/17 18:35:22 INFO TaskSetManager: Starting task 455.0 in stage 11.0 (TID 41873, ip-172-31-1-104.us-west-2.compute.internal, executor 6, partition 455, PROCESS_LOCAL, 11075 bytes)\n",
      "23/01/17 18:35:22 INFO TaskSetManager: Finished task 443.0 in stage 11.0 (TID 41861) in 11934 ms on ip-172-31-1-104.us-west-2.compute.internal (executor 6) (444/466)\n",
      "23/01/17 18:35:22 INFO TaskSetManager: Starting task 456.0 in stage 11.0 (TID 41874, ip-172-31-1-104.us-west-2.compute.internal, executor 6, partition 456, PROCESS_LOCAL, 11075 bytes)\n",
      "23/01/17 18:35:22 INFO TaskSetManager: Finished task 444.0 in stage 11.0 (TID 41862) in 11748 ms on ip-172-31-1-104.us-west-2.compute.internal (executor 6) (445/466)\n",
      "23/01/17 18:35:23 INFO TaskSetManager: Starting task 457.0 in stage 11.0 (TID 41875, ip-172-31-1-104.us-west-2.compute.internal, executor 6, partition 457, PROCESS_LOCAL, 11075 bytes)\n",
      "23/01/17 18:35:23 INFO TaskSetManager: Finished task 445.0 in stage 11.0 (TID 41863) in 11922 ms on ip-172-31-1-104.us-west-2.compute.internal (executor 6) (446/466)\n",
      "23/01/17 18:35:24 INFO TaskSetManager: Starting task 458.0 in stage 11.0 (TID 41876, ip-172-31-1-104.us-west-2.compute.internal, executor 6, partition 458, PROCESS_LOCAL, 11075 bytes)\n",
      "23/01/17 18:35:24 INFO TaskSetManager: Finished task 447.0 in stage 11.0 (TID 41865) in 12123 ms on ip-172-31-1-104.us-west-2.compute.internal (executor 6) (447/466)\n",
      "23/01/17 18:35:24 INFO TaskSetManager: Starting task 459.0 in stage 11.0 (TID 41877, ip-172-31-9-35.us-west-2.compute.internal, executor 5, partition 459, PROCESS_LOCAL, 11075 bytes)\n",
      "23/01/17 18:35:24 INFO TaskSetManager: Finished task 446.0 in stage 11.0 (TID 41864) in 12510 ms on ip-172-31-9-35.us-west-2.compute.internal (executor 5) (448/466)\n"
     ]
    }
   ],
   "source": [
    "# input_data = \"s3a://udacity-dend/\"\n",
    "# song_data = '{}{}'.format(input_data, 'song_data/*/*/*/*.json')\n",
    "# df = spark.read.json(song_data)\n",
    "# df.show(5)"
   ]
  },
  {
   "cell_type": "code",
   "execution_count": 9,
   "id": "e5ad251e-a1b0-455b-8f0e-6e1ded186bff",
   "metadata": {
    "execution": {
     "iopub.execute_input": "2023-01-17T19:16:29.063536Z",
     "iopub.status.busy": "2023-01-17T19:16:29.063182Z",
     "iopub.status.idle": "2023-01-17T19:16:29.282412Z",
     "shell.execute_reply": "2023-01-17T19:16:29.281388Z",
     "shell.execute_reply.started": "2023-01-17T19:16:29.063497Z"
    },
    "tags": []
   },
   "outputs": [
    {
     "data": {
      "application/vnd.jupyter.widget-view+json": {
       "model_id": "5122a35f729f4b489bd9d6f292f9aad7",
       "version_major": 2,
       "version_minor": 0
      },
      "text/plain": [
       "VBox()"
      ]
     },
     "metadata": {},
     "output_type": "display_data"
    },
    {
     "name": "stderr",
     "output_type": "stream",
     "text": [
      "An error was encountered:\n",
      "Session 2 unexpectedly reached final status 'dead'. See logs:\n",
      "stdout: \n",
      "\n",
      "stderr: \n",
      "23/01/17 18:34:38 INFO TaskSetManager: Starting task 411.0 in stage 11.0 (TID 41829, ip-172-31-1-104.us-west-2.compute.internal, executor 6, partition 411, PROCESS_LOCAL, 11075 bytes)\n",
      "23/01/17 18:34:38 INFO TaskSetManager: Finished task 399.0 in stage 11.0 (TID 41817) in 11841 ms on ip-172-31-1-104.us-west-2.compute.internal (executor 6) (400/466)\n",
      "23/01/17 18:34:42 INFO TaskSetManager: Starting task 412.0 in stage 11.0 (TID 41830, ip-172-31-9-35.us-west-2.compute.internal, executor 5, partition 412, PROCESS_LOCAL, 11075 bytes)\n",
      "23/01/17 18:34:42 INFO TaskSetManager: Finished task 400.0 in stage 11.0 (TID 41818) in 11574 ms on ip-172-31-9-35.us-west-2.compute.internal (executor 5) (401/466)\n",
      "23/01/17 18:34:43 INFO TaskSetManager: Starting task 413.0 in stage 11.0 (TID 41831, ip-172-31-9-35.us-west-2.compute.internal, executor 5, partition 413, PROCESS_LOCAL, 11075 bytes)\n",
      "23/01/17 18:34:43 INFO TaskSetManager: Finished task 401.0 in stage 11.0 (TID 41819) in 11232 ms on ip-172-31-9-35.us-west-2.compute.internal (executor 5) (402/466)\n",
      "23/01/17 18:34:45 INFO TaskSetManager: Starting task 414.0 in stage 11.0 (TID 41832, ip-172-31-9-35.us-west-2.compute.internal, executor 5, partition 414, PROCESS_LOCAL, 11075 bytes)\n",
      "23/01/17 18:34:45 INFO TaskSetManager: Finished task 402.0 in stage 11.0 (TID 41820) in 11017 ms on ip-172-31-9-35.us-west-2.compute.internal (executor 5) (403/466)\n",
      "23/01/17 18:34:45 INFO TaskSetManager: Starting task 415.0 in stage 11.0 (TID 41833, ip-172-31-1-104.us-west-2.compute.internal, executor 7, partition 415, PROCESS_LOCAL, 11075 bytes)\n",
      "23/01/17 18:34:45 INFO TaskSetManager: Finished task 403.0 in stage 11.0 (TID 41821) in 10661 ms on ip-172-31-1-104.us-west-2.compute.internal (executor 7) (404/466)\n",
      "23/01/17 18:34:45 INFO TaskSetManager: Starting task 416.0 in stage 11.0 (TID 41834, ip-172-31-1-104.us-west-2.compute.internal, executor 7, partition 416, PROCESS_LOCAL, 11075 bytes)\n",
      "23/01/17 18:34:45 INFO TaskSetManager: Finished task 404.0 in stage 11.0 (TID 41822) in 10601 ms on ip-172-31-1-104.us-west-2.compute.internal (executor 7) (405/466)\n",
      "23/01/17 18:34:46 INFO TaskSetManager: Starting task 417.0 in stage 11.0 (TID 41835, ip-172-31-1-104.us-west-2.compute.internal, executor 7, partition 417, PROCESS_LOCAL, 11075 bytes)\n",
      "23/01/17 18:34:46 INFO TaskSetManager: Finished task 405.0 in stage 11.0 (TID 41823) in 10445 ms on ip-172-31-1-104.us-west-2.compute.internal (executor 7) (406/466)\n",
      "23/01/17 18:34:46 INFO TaskSetManager: Starting task 418.0 in stage 11.0 (TID 41836, ip-172-31-1-104.us-west-2.compute.internal, executor 7, partition 418, PROCESS_LOCAL, 11075 bytes)\n",
      "23/01/17 18:34:46 INFO TaskSetManager: Finished task 406.0 in stage 11.0 (TID 41824) in 10663 ms on ip-172-31-1-104.us-west-2.compute.internal (executor 7) (407/466)\n",
      "23/01/17 18:34:47 INFO TaskSetManager: Starting task 419.0 in stage 11.0 (TID 41837, ip-172-31-9-35.us-west-2.compute.internal, executor 5, partition 419, PROCESS_LOCAL, 11075 bytes)\n",
      "23/01/17 18:34:47 INFO TaskSetManager: Finished task 407.0 in stage 11.0 (TID 41825) in 11364 ms on ip-172-31-9-35.us-west-2.compute.internal (executor 5) (408/466)\n",
      "23/01/17 18:34:47 INFO TaskSetManager: Starting task 420.0 in stage 11.0 (TID 41838, ip-172-31-1-104.us-west-2.compute.internal, executor 6, partition 420, PROCESS_LOCAL, 11075 bytes)\n",
      "23/01/17 18:34:47 INFO TaskSetManager: Finished task 409.0 in stage 11.0 (TID 41827) in 11282 ms on ip-172-31-1-104.us-west-2.compute.internal (executor 6) (409/466)\n",
      "23/01/17 18:34:48 INFO TaskSetManager: Starting task 421.0 in stage 11.0 (TID 41839, ip-172-31-1-104.us-west-2.compute.internal, executor 6, partition 421, PROCESS_LOCAL, 11075 bytes)\n",
      "23/01/17 18:34:48 INFO TaskSetManager: Finished task 408.0 in stage 11.0 (TID 41826) in 11594 ms on ip-172-31-1-104.us-west-2.compute.internal (executor 6) (410/466)\n",
      "23/01/17 18:34:48 INFO TaskSetManager: Starting task 422.0 in stage 11.0 (TID 41840, ip-172-31-1-104.us-west-2.compute.internal, executor 6, partition 422, PROCESS_LOCAL, 11075 bytes)\n",
      "23/01/17 18:34:48 INFO TaskSetManager: Finished task 410.0 in stage 11.0 (TID 41828) in 11385 ms on ip-172-31-1-104.us-west-2.compute.internal (executor 6) (411/466)\n",
      "23/01/17 18:34:49 INFO TaskSetManager: Starting task 423.0 in stage 11.0 (TID 41841, ip-172-31-1-104.us-west-2.compute.internal, executor 6, partition 423, PROCESS_LOCAL, 11075 bytes)\n",
      "23/01/17 18:34:49 INFO TaskSetManager: Finished task 411.0 in stage 11.0 (TID 41829) in 11198 ms on ip-172-31-1-104.us-west-2.compute.internal (executor 6) (412/466)\n",
      "23/01/17 18:34:53 INFO TaskSetManager: Starting task 424.0 in stage 11.0 (TID 41842, ip-172-31-9-35.us-west-2.compute.internal, executor 5, partition 424, PROCESS_LOCAL, 11075 bytes)\n",
      "23/01/17 18:34:53 INFO TaskSetManager: Finished task 412.0 in stage 11.0 (TID 41830) in 11275 ms on ip-172-31-9-35.us-west-2.compute.internal (executor 5) (413/466)\n",
      "23/01/17 18:34:54 INFO TaskSetManager: Starting task 425.0 in stage 11.0 (TID 41843, ip-172-31-9-35.us-west-2.compute.internal, executor 5, partition 425, PROCESS_LOCAL, 11075 bytes)\n",
      "23/01/17 18:34:54 INFO TaskSetManager: Finished task 413.0 in stage 11.0 (TID 41831) in 11106 ms on ip-172-31-9-35.us-west-2.compute.internal (executor 5) (414/466)\n",
      "23/01/17 18:34:56 INFO TaskSetManager: Starting task 426.0 in stage 11.0 (TID 41844, ip-172-31-1-104.us-west-2.compute.internal, executor 7, partition 426, PROCESS_LOCAL, 11075 bytes)\n",
      "23/01/17 18:34:56 INFO TaskSetManager: Finished task 415.0 in stage 11.0 (TID 41833) in 10930 ms on ip-172-31-1-104.us-west-2.compute.internal (executor 7) (415/466)\n",
      "23/01/17 18:34:56 INFO TaskSetManager: Starting task 427.0 in stage 11.0 (TID 41845, ip-172-31-9-35.us-west-2.compute.internal, executor 5, partition 427, PROCESS_LOCAL, 11075 bytes)\n",
      "23/01/17 18:34:56 INFO TaskSetManager: Finished task 414.0 in stage 11.0 (TID 41832) in 11596 ms on ip-172-31-9-35.us-west-2.compute.internal (executor 5) (416/466)\n",
      "23/01/17 18:34:56 INFO TaskSetManager: Starting task 428.0 in stage 11.0 (TID 41846, ip-172-31-1-104.us-west-2.compute.internal, executor 7, partition 428, PROCESS_LOCAL, 11075 bytes)\n",
      "23/01/17 18:34:56 INFO TaskSetManager: Finished task 417.0 in stage 11.0 (TID 41835) in 10684 ms on ip-172-31-1-104.us-west-2.compute.internal (executor 7) (417/466)\n",
      "23/01/17 18:34:57 INFO TaskSetManager: Starting task 429.0 in stage 11.0 (TID 41847, ip-172-31-1-104.us-west-2.compute.internal, executor 7, partition 429, PROCESS_LOCAL, 11075 bytes)\n",
      "23/01/17 18:34:57 INFO TaskSetManager: Finished task 416.0 in stage 11.0 (TID 41834) in 11117 ms on ip-172-31-1-104.us-west-2.compute.internal (executor 7) (418/466)\n",
      "23/01/17 18:34:57 INFO TaskSetManager: Starting task 430.0 in stage 11.0 (TID 41848, ip-172-31-1-104.us-west-2.compute.internal, executor 7, partition 430, PROCESS_LOCAL, 11075 bytes)\n",
      "23/01/17 18:34:57 INFO TaskSetManager: Finished task 418.0 in stage 11.0 (TID 41836) in 10716 ms on ip-172-31-1-104.us-west-2.compute.internal (executor 7) (419/466)\n",
      "23/01/17 18:34:58 INFO TaskSetManager: Starting task 431.0 in stage 11.0 (TID 41849, ip-172-31-9-35.us-west-2.compute.internal, executor 5, partition 431, PROCESS_LOCAL, 11075 bytes)\n",
      "23/01/17 18:34:58 INFO TaskSetManager: Finished task 419.0 in stage 11.0 (TID 41837) in 11219 ms on ip-172-31-9-35.us-west-2.compute.internal (executor 5) (420/466)\n",
      "23/01/17 18:34:58 INFO TaskSetManager: Starting task 432.0 in stage 11.0 (TID 41850, ip-172-31-1-104.us-west-2.compute.internal, executor 6, partition 432, PROCESS_LOCAL, 11075 bytes)\n",
      "23/01/17 18:34:58 INFO TaskSetManager: Finished task 420.0 in stage 11.0 (TID 41838) in 11160 ms on ip-172-31-1-104.us-west-2.compute.internal (executor 6) (421/466)\n",
      "23/01/17 18:34:59 INFO TaskSetManager: Starting task 433.0 in stage 11.0 (TID 41851, ip-172-31-1-104.us-west-2.compute.internal, executor 6, partition 433, PROCESS_LOCAL, 11075 bytes)\n",
      "23/01/17 18:34:59 INFO TaskSetManager: Finished task 422.0 in stage 11.0 (TID 41840) in 10933 ms on ip-172-31-1-104.us-west-2.compute.internal (executor 6) (422/466)\n",
      "23/01/17 18:34:59 INFO TaskSetManager: Starting task 434.0 in stage 11.0 (TID 41852, ip-172-31-1-104.us-west-2.compute.internal, executor 6, partition 434, PROCESS_LOCAL, 11075 bytes)\n",
      "23/01/17 18:34:59 INFO TaskSetManager: Finished task 421.0 in stage 11.0 (TID 41839) in 11017 ms on ip-172-31-1-104.us-west-2.compute.internal (executor 6) (423/466)\n",
      "23/01/17 18:35:00 INFO TaskSetManager: Starting task 435.0 in stage 11.0 (TID 41853, ip-172-31-1-104.us-west-2.compute.internal, executor 6, partition 435, PROCESS_LOCAL, 11075 bytes)\n",
      "23/01/17 18:35:00 INFO TaskSetManager: Finished task 423.0 in stage 11.0 (TID 41841) in 10647 ms on ip-172-31-1-104.us-west-2.compute.internal (executor 6) (424/466)\n",
      "23/01/17 18:35:05 INFO TaskSetManager: Starting task 436.0 in stage 11.0 (TID 41854, ip-172-31-9-35.us-west-2.compute.internal, executor 5, partition 436, PROCESS_LOCAL, 11075 bytes)\n",
      "23/01/17 18:35:05 INFO TaskSetManager: Finished task 424.0 in stage 11.0 (TID 41842) in 12557 ms on ip-172-31-9-35.us-west-2.compute.internal (executor 5) (425/466)\n",
      "23/01/17 18:35:06 INFO TaskSetManager: Starting task 437.0 in stage 11.0 (TID 41855, ip-172-31-9-35.us-west-2.compute.internal, executor 5, partition 437, PROCESS_LOCAL, 11075 bytes)\n",
      "23/01/17 18:35:06 INFO TaskSetManager: Finished task 425.0 in stage 11.0 (TID 41843) in 12661 ms on ip-172-31-9-35.us-west-2.compute.internal (executor 5) (426/466)\n",
      "23/01/17 18:35:08 INFO TaskSetManager: Starting task 438.0 in stage 11.0 (TID 41856, ip-172-31-1-104.us-west-2.compute.internal, executor 7, partition 438, PROCESS_LOCAL, 11075 bytes)\n",
      "23/01/17 18:35:08 INFO TaskSetManager: Finished task 428.0 in stage 11.0 (TID 41846) in 11922 ms on ip-172-31-1-104.us-west-2.compute.internal (executor 7) (427/466)\n",
      "23/01/17 18:35:08 INFO TaskSetManager: Starting task 439.0 in stage 11.0 (TID 41857, ip-172-31-1-104.us-west-2.compute.internal, executor 7, partition 439, PROCESS_LOCAL, 11075 bytes)\n",
      "23/01/17 18:35:08 INFO TaskSetManager: Finished task 429.0 in stage 11.0 (TID 41847) in 11868 ms on ip-172-31-1-104.us-west-2.compute.internal (executor 7) (428/466)\n",
      "23/01/17 18:35:09 INFO TaskSetManager: Starting task 440.0 in stage 11.0 (TID 41858, ip-172-31-9-35.us-west-2.compute.internal, executor 5, partition 440, PROCESS_LOCAL, 11075 bytes)\n",
      "23/01/17 18:35:09 INFO TaskSetManager: Finished task 427.0 in stage 11.0 (TID 41845) in 12856 ms on ip-172-31-9-35.us-west-2.compute.internal (executor 5) (429/466)\n",
      "23/01/17 18:35:09 INFO TaskSetManager: Starting task 441.0 in stage 11.0 (TID 41859, ip-172-31-1-104.us-west-2.compute.internal, executor 7, partition 441, PROCESS_LOCAL, 11075 bytes)\n",
      "23/01/17 18:35:09 INFO TaskSetManager: Finished task 430.0 in stage 11.0 (TID 41848) in 12024 ms on ip-172-31-1-104.us-west-2.compute.internal (executor 7) (430/466)\n",
      "23/01/17 18:35:10 INFO TaskSetManager: Starting task 442.0 in stage 11.0 (TID 41860, ip-172-31-1-104.us-west-2.compute.internal, executor 7, partition 442, PROCESS_LOCAL, 11075 bytes)\n",
      "23/01/17 18:35:10 INFO TaskSetManager: Finished task 426.0 in stage 11.0 (TID 41844) in 13797 ms on ip-172-31-1-104.us-west-2.compute.internal (executor 7) (431/466)\n",
      "23/01/17 18:35:10 INFO TaskSetManager: Starting task 443.0 in stage 11.0 (TID 41861, ip-172-31-1-104.us-west-2.compute.internal, executor 6, partition 443, PROCESS_LOCAL, 11075 bytes)\n",
      "23/01/17 18:35:10 INFO TaskSetManager: Finished task 432.0 in stage 11.0 (TID 41850) in 11823 ms on ip-172-31-1-104.us-west-2.compute.internal (executor 6) (432/466)\n",
      "23/01/17 18:35:10 INFO TaskSetManager: Starting task 444.0 in stage 11.0 (TID 41862, ip-172-31-1-104.us-west-2.compute.internal, executor 6, partition 444, PROCESS_LOCAL, 11075 bytes)\n",
      "23/01/17 18:35:10 INFO TaskSetManager: Finished task 433.0 in stage 11.0 (TID 41851) in 11918 ms on ip-172-31-1-104.us-west-2.compute.internal (executor 6) (433/466)\n",
      "23/01/17 18:35:11 INFO TaskSetManager: Starting task 445.0 in stage 11.0 (TID 41863, ip-172-31-1-104.us-west-2.compute.internal, executor 6, partition 445, PROCESS_LOCAL, 11075 bytes)\n",
      "23/01/17 18:35:11 INFO TaskSetManager: Finished task 434.0 in stage 11.0 (TID 41852) in 12060 ms on ip-172-31-1-104.us-west-2.compute.internal (executor 6) (434/466)\n",
      "23/01/17 18:35:12 INFO TaskSetManager: Starting task 446.0 in stage 11.0 (TID 41864, ip-172-31-9-35.us-west-2.compute.internal, executor 5, partition 446, PROCESS_LOCAL, 11075 bytes)\n",
      "23/01/17 18:35:12 INFO TaskSetManager: Finished task 431.0 in stage 11.0 (TID 41849) in 13466 ms on ip-172-31-9-35.us-west-2.compute.internal (executor 5) (435/466)\n",
      "23/01/17 18:35:12 INFO TaskSetManager: Starting task 447.0 in stage 11.0 (TID 41865, ip-172-31-1-104.us-west-2.compute.internal, executor 6, partition 447, PROCESS_LOCAL, 11075 bytes)\n",
      "23/01/17 18:35:12 INFO TaskSetManager: Finished task 435.0 in stage 11.0 (TID 41853) in 12221 ms on ip-172-31-1-104.us-west-2.compute.internal (executor 6) (436/466)\n",
      "23/01/17 18:35:17 INFO TaskSetManager: Starting task 448.0 in stage 11.0 (TID 41866, ip-172-31-9-35.us-west-2.compute.internal, executor 5, partition 448, PROCESS_LOCAL, 11075 bytes)\n",
      "23/01/17 18:35:17 INFO TaskSetManager: Finished task 436.0 in stage 11.0 (TID 41854) in 11933 ms on ip-172-31-9-35.us-west-2.compute.internal (executor 5) (437/466)\n",
      "23/01/17 18:35:18 INFO TaskSetManager: Starting task 449.0 in stage 11.0 (TID 41867, ip-172-31-9-35.us-west-2.compute.internal, executor 5, partition 449, PROCESS_LOCAL, 11075 bytes)\n",
      "23/01/17 18:35:18 INFO TaskSetManager: Finished task 437.0 in stage 11.0 (TID 41855) in 12075 ms on ip-172-31-9-35.us-west-2.compute.internal (executor 5) (438/466)\n",
      "23/01/17 18:35:21 INFO TaskSetManager: Starting task 450.0 in stage 11.0 (TID 41868, ip-172-31-1-104.us-west-2.compute.internal, executor 7, partition 450, PROCESS_LOCAL, 11075 bytes)\n",
      "23/01/17 18:35:21 INFO TaskSetManager: Finished task 438.0 in stage 11.0 (TID 41856) in 12792 ms on ip-172-31-1-104.us-west-2.compute.internal (executor 7) (439/466)\n",
      "23/01/17 18:35:21 INFO TaskSetManager: Starting task 451.0 in stage 11.0 (TID 41869, ip-172-31-9-35.us-west-2.compute.internal, executor 5, partition 451, PROCESS_LOCAL, 11075 bytes)\n",
      "23/01/17 18:35:21 INFO TaskSetManager: Finished task 440.0 in stage 11.0 (TID 41858) in 12348 ms on ip-172-31-9-35.us-west-2.compute.internal (executor 5) (440/466)\n",
      "23/01/17 18:35:22 INFO TaskSetManager: Starting task 452.0 in stage 11.0 (TID 41870, ip-172-31-1-104.us-west-2.compute.internal, executor 7, partition 452, PROCESS_LOCAL, 11075 bytes)\n",
      "23/01/17 18:35:22 INFO TaskSetManager: Finished task 439.0 in stage 11.0 (TID 41857) in 13185 ms on ip-172-31-1-104.us-west-2.compute.internal (executor 7) (441/466)\n",
      "23/01/17 18:35:22 INFO TaskSetManager: Starting task 453.0 in stage 11.0 (TID 41871, ip-172-31-1-104.us-west-2.compute.internal, executor 7, partition 453, PROCESS_LOCAL, 11075 bytes)\n",
      "23/01/17 18:35:22 INFO TaskSetManager: Finished task 441.0 in stage 11.0 (TID 41859) in 12589 ms on ip-172-31-1-104.us-west-2.compute.internal (executor 7) (442/466)\n",
      "23/01/17 18:35:22 INFO TaskSetManager: Starting task 454.0 in stage 11.0 (TID 41872, ip-172-31-1-104.us-west-2.compute.internal, executor 7, partition 454, PROCESS_LOCAL, 11075 bytes)\n",
      "23/01/17 18:35:22 INFO TaskSetManager: Finished task 442.0 in stage 11.0 (TID 41860) in 12103 ms on ip-172-31-1-104.us-west-2.compute.internal (executor 7) (443/466)\n",
      "23/01/17 18:35:22 INFO TaskSetManager: Starting task 455.0 in stage 11.0 (TID 41873, ip-172-31-1-104.us-west-2.compute.internal, executor 6, partition 455, PROCESS_LOCAL, 11075 bytes)\n",
      "23/01/17 18:35:22 INFO TaskSetManager: Finished task 443.0 in stage 11.0 (TID 41861) in 11934 ms on ip-172-31-1-104.us-west-2.compute.internal (executor 6) (444/466)\n",
      "23/01/17 18:35:22 INFO TaskSetManager: Starting task 456.0 in stage 11.0 (TID 41874, ip-172-31-1-104.us-west-2.compute.internal, executor 6, partition 456, PROCESS_LOCAL, 11075 bytes)\n",
      "23/01/17 18:35:22 INFO TaskSetManager: Finished task 444.0 in stage 11.0 (TID 41862) in 11748 ms on ip-172-31-1-104.us-west-2.compute.internal (executor 6) (445/466)\n",
      "23/01/17 18:35:23 INFO TaskSetManager: Starting task 457.0 in stage 11.0 (TID 41875, ip-172-31-1-104.us-west-2.compute.internal, executor 6, partition 457, PROCESS_LOCAL, 11075 bytes)\n",
      "23/01/17 18:35:23 INFO TaskSetManager: Finished task 445.0 in stage 11.0 (TID 41863) in 11922 ms on ip-172-31-1-104.us-west-2.compute.internal (executor 6) (446/466)\n",
      "23/01/17 18:35:24 INFO TaskSetManager: Starting task 458.0 in stage 11.0 (TID 41876, ip-172-31-1-104.us-west-2.compute.internal, executor 6, partition 458, PROCESS_LOCAL, 11075 bytes)\n",
      "23/01/17 18:35:24 INFO TaskSetManager: Finished task 447.0 in stage 11.0 (TID 41865) in 12123 ms on ip-172-31-1-104.us-west-2.compute.internal (executor 6) (447/466)\n",
      "23/01/17 18:35:24 INFO TaskSetManager: Starting task 459.0 in stage 11.0 (TID 41877, ip-172-31-9-35.us-west-2.compute.internal, executor 5, partition 459, PROCESS_LOCAL, 11075 bytes)\n",
      "23/01/17 18:35:24 INFO TaskSetManager: Finished task 446.0 in stage 11.0 (TID 41864) in 12510 ms on ip-172-31-9-35.us-west-2.compute.internal (executor 5) (448/466)\n"
     ]
    }
   ],
   "source": [
    "# df.show(5)"
   ]
  },
  {
   "cell_type": "code",
   "execution_count": 10,
   "id": "f16aa776-5427-40e5-a1d9-68f91e4bc0dd",
   "metadata": {
    "execution": {
     "iopub.execute_input": "2023-01-17T19:16:29.288101Z",
     "iopub.status.busy": "2023-01-17T19:16:29.287712Z",
     "iopub.status.idle": "2023-01-17T19:16:29.658086Z",
     "shell.execute_reply": "2023-01-17T19:16:29.657099Z",
     "shell.execute_reply.started": "2023-01-17T19:16:29.288059Z"
    },
    "tags": []
   },
   "outputs": [
    {
     "data": {
      "application/vnd.jupyter.widget-view+json": {
       "model_id": "f65925a006ea452a8adafd492b4bd865",
       "version_major": 2,
       "version_minor": 0
      },
      "text/plain": [
       "VBox()"
      ]
     },
     "metadata": {},
     "output_type": "display_data"
    },
    {
     "name": "stderr",
     "output_type": "stream",
     "text": [
      "An error was encountered:\n",
      "Session 2 unexpectedly reached final status 'dead'. See logs:\n",
      "stdout: \n",
      "\n",
      "stderr: \n",
      "23/01/17 18:34:38 INFO TaskSetManager: Starting task 411.0 in stage 11.0 (TID 41829, ip-172-31-1-104.us-west-2.compute.internal, executor 6, partition 411, PROCESS_LOCAL, 11075 bytes)\n",
      "23/01/17 18:34:38 INFO TaskSetManager: Finished task 399.0 in stage 11.0 (TID 41817) in 11841 ms on ip-172-31-1-104.us-west-2.compute.internal (executor 6) (400/466)\n",
      "23/01/17 18:34:42 INFO TaskSetManager: Starting task 412.0 in stage 11.0 (TID 41830, ip-172-31-9-35.us-west-2.compute.internal, executor 5, partition 412, PROCESS_LOCAL, 11075 bytes)\n",
      "23/01/17 18:34:42 INFO TaskSetManager: Finished task 400.0 in stage 11.0 (TID 41818) in 11574 ms on ip-172-31-9-35.us-west-2.compute.internal (executor 5) (401/466)\n",
      "23/01/17 18:34:43 INFO TaskSetManager: Starting task 413.0 in stage 11.0 (TID 41831, ip-172-31-9-35.us-west-2.compute.internal, executor 5, partition 413, PROCESS_LOCAL, 11075 bytes)\n",
      "23/01/17 18:34:43 INFO TaskSetManager: Finished task 401.0 in stage 11.0 (TID 41819) in 11232 ms on ip-172-31-9-35.us-west-2.compute.internal (executor 5) (402/466)\n",
      "23/01/17 18:34:45 INFO TaskSetManager: Starting task 414.0 in stage 11.0 (TID 41832, ip-172-31-9-35.us-west-2.compute.internal, executor 5, partition 414, PROCESS_LOCAL, 11075 bytes)\n",
      "23/01/17 18:34:45 INFO TaskSetManager: Finished task 402.0 in stage 11.0 (TID 41820) in 11017 ms on ip-172-31-9-35.us-west-2.compute.internal (executor 5) (403/466)\n",
      "23/01/17 18:34:45 INFO TaskSetManager: Starting task 415.0 in stage 11.0 (TID 41833, ip-172-31-1-104.us-west-2.compute.internal, executor 7, partition 415, PROCESS_LOCAL, 11075 bytes)\n",
      "23/01/17 18:34:45 INFO TaskSetManager: Finished task 403.0 in stage 11.0 (TID 41821) in 10661 ms on ip-172-31-1-104.us-west-2.compute.internal (executor 7) (404/466)\n",
      "23/01/17 18:34:45 INFO TaskSetManager: Starting task 416.0 in stage 11.0 (TID 41834, ip-172-31-1-104.us-west-2.compute.internal, executor 7, partition 416, PROCESS_LOCAL, 11075 bytes)\n",
      "23/01/17 18:34:45 INFO TaskSetManager: Finished task 404.0 in stage 11.0 (TID 41822) in 10601 ms on ip-172-31-1-104.us-west-2.compute.internal (executor 7) (405/466)\n",
      "23/01/17 18:34:46 INFO TaskSetManager: Starting task 417.0 in stage 11.0 (TID 41835, ip-172-31-1-104.us-west-2.compute.internal, executor 7, partition 417, PROCESS_LOCAL, 11075 bytes)\n",
      "23/01/17 18:34:46 INFO TaskSetManager: Finished task 405.0 in stage 11.0 (TID 41823) in 10445 ms on ip-172-31-1-104.us-west-2.compute.internal (executor 7) (406/466)\n",
      "23/01/17 18:34:46 INFO TaskSetManager: Starting task 418.0 in stage 11.0 (TID 41836, ip-172-31-1-104.us-west-2.compute.internal, executor 7, partition 418, PROCESS_LOCAL, 11075 bytes)\n",
      "23/01/17 18:34:46 INFO TaskSetManager: Finished task 406.0 in stage 11.0 (TID 41824) in 10663 ms on ip-172-31-1-104.us-west-2.compute.internal (executor 7) (407/466)\n",
      "23/01/17 18:34:47 INFO TaskSetManager: Starting task 419.0 in stage 11.0 (TID 41837, ip-172-31-9-35.us-west-2.compute.internal, executor 5, partition 419, PROCESS_LOCAL, 11075 bytes)\n",
      "23/01/17 18:34:47 INFO TaskSetManager: Finished task 407.0 in stage 11.0 (TID 41825) in 11364 ms on ip-172-31-9-35.us-west-2.compute.internal (executor 5) (408/466)\n",
      "23/01/17 18:34:47 INFO TaskSetManager: Starting task 420.0 in stage 11.0 (TID 41838, ip-172-31-1-104.us-west-2.compute.internal, executor 6, partition 420, PROCESS_LOCAL, 11075 bytes)\n",
      "23/01/17 18:34:47 INFO TaskSetManager: Finished task 409.0 in stage 11.0 (TID 41827) in 11282 ms on ip-172-31-1-104.us-west-2.compute.internal (executor 6) (409/466)\n",
      "23/01/17 18:34:48 INFO TaskSetManager: Starting task 421.0 in stage 11.0 (TID 41839, ip-172-31-1-104.us-west-2.compute.internal, executor 6, partition 421, PROCESS_LOCAL, 11075 bytes)\n",
      "23/01/17 18:34:48 INFO TaskSetManager: Finished task 408.0 in stage 11.0 (TID 41826) in 11594 ms on ip-172-31-1-104.us-west-2.compute.internal (executor 6) (410/466)\n",
      "23/01/17 18:34:48 INFO TaskSetManager: Starting task 422.0 in stage 11.0 (TID 41840, ip-172-31-1-104.us-west-2.compute.internal, executor 6, partition 422, PROCESS_LOCAL, 11075 bytes)\n",
      "23/01/17 18:34:48 INFO TaskSetManager: Finished task 410.0 in stage 11.0 (TID 41828) in 11385 ms on ip-172-31-1-104.us-west-2.compute.internal (executor 6) (411/466)\n",
      "23/01/17 18:34:49 INFO TaskSetManager: Starting task 423.0 in stage 11.0 (TID 41841, ip-172-31-1-104.us-west-2.compute.internal, executor 6, partition 423, PROCESS_LOCAL, 11075 bytes)\n",
      "23/01/17 18:34:49 INFO TaskSetManager: Finished task 411.0 in stage 11.0 (TID 41829) in 11198 ms on ip-172-31-1-104.us-west-2.compute.internal (executor 6) (412/466)\n",
      "23/01/17 18:34:53 INFO TaskSetManager: Starting task 424.0 in stage 11.0 (TID 41842, ip-172-31-9-35.us-west-2.compute.internal, executor 5, partition 424, PROCESS_LOCAL, 11075 bytes)\n",
      "23/01/17 18:34:53 INFO TaskSetManager: Finished task 412.0 in stage 11.0 (TID 41830) in 11275 ms on ip-172-31-9-35.us-west-2.compute.internal (executor 5) (413/466)\n",
      "23/01/17 18:34:54 INFO TaskSetManager: Starting task 425.0 in stage 11.0 (TID 41843, ip-172-31-9-35.us-west-2.compute.internal, executor 5, partition 425, PROCESS_LOCAL, 11075 bytes)\n",
      "23/01/17 18:34:54 INFO TaskSetManager: Finished task 413.0 in stage 11.0 (TID 41831) in 11106 ms on ip-172-31-9-35.us-west-2.compute.internal (executor 5) (414/466)\n",
      "23/01/17 18:34:56 INFO TaskSetManager: Starting task 426.0 in stage 11.0 (TID 41844, ip-172-31-1-104.us-west-2.compute.internal, executor 7, partition 426, PROCESS_LOCAL, 11075 bytes)\n",
      "23/01/17 18:34:56 INFO TaskSetManager: Finished task 415.0 in stage 11.0 (TID 41833) in 10930 ms on ip-172-31-1-104.us-west-2.compute.internal (executor 7) (415/466)\n",
      "23/01/17 18:34:56 INFO TaskSetManager: Starting task 427.0 in stage 11.0 (TID 41845, ip-172-31-9-35.us-west-2.compute.internal, executor 5, partition 427, PROCESS_LOCAL, 11075 bytes)\n",
      "23/01/17 18:34:56 INFO TaskSetManager: Finished task 414.0 in stage 11.0 (TID 41832) in 11596 ms on ip-172-31-9-35.us-west-2.compute.internal (executor 5) (416/466)\n",
      "23/01/17 18:34:56 INFO TaskSetManager: Starting task 428.0 in stage 11.0 (TID 41846, ip-172-31-1-104.us-west-2.compute.internal, executor 7, partition 428, PROCESS_LOCAL, 11075 bytes)\n",
      "23/01/17 18:34:56 INFO TaskSetManager: Finished task 417.0 in stage 11.0 (TID 41835) in 10684 ms on ip-172-31-1-104.us-west-2.compute.internal (executor 7) (417/466)\n",
      "23/01/17 18:34:57 INFO TaskSetManager: Starting task 429.0 in stage 11.0 (TID 41847, ip-172-31-1-104.us-west-2.compute.internal, executor 7, partition 429, PROCESS_LOCAL, 11075 bytes)\n",
      "23/01/17 18:34:57 INFO TaskSetManager: Finished task 416.0 in stage 11.0 (TID 41834) in 11117 ms on ip-172-31-1-104.us-west-2.compute.internal (executor 7) (418/466)\n",
      "23/01/17 18:34:57 INFO TaskSetManager: Starting task 430.0 in stage 11.0 (TID 41848, ip-172-31-1-104.us-west-2.compute.internal, executor 7, partition 430, PROCESS_LOCAL, 11075 bytes)\n",
      "23/01/17 18:34:57 INFO TaskSetManager: Finished task 418.0 in stage 11.0 (TID 41836) in 10716 ms on ip-172-31-1-104.us-west-2.compute.internal (executor 7) (419/466)\n",
      "23/01/17 18:34:58 INFO TaskSetManager: Starting task 431.0 in stage 11.0 (TID 41849, ip-172-31-9-35.us-west-2.compute.internal, executor 5, partition 431, PROCESS_LOCAL, 11075 bytes)\n",
      "23/01/17 18:34:58 INFO TaskSetManager: Finished task 419.0 in stage 11.0 (TID 41837) in 11219 ms on ip-172-31-9-35.us-west-2.compute.internal (executor 5) (420/466)\n",
      "23/01/17 18:34:58 INFO TaskSetManager: Starting task 432.0 in stage 11.0 (TID 41850, ip-172-31-1-104.us-west-2.compute.internal, executor 6, partition 432, PROCESS_LOCAL, 11075 bytes)\n",
      "23/01/17 18:34:58 INFO TaskSetManager: Finished task 420.0 in stage 11.0 (TID 41838) in 11160 ms on ip-172-31-1-104.us-west-2.compute.internal (executor 6) (421/466)\n",
      "23/01/17 18:34:59 INFO TaskSetManager: Starting task 433.0 in stage 11.0 (TID 41851, ip-172-31-1-104.us-west-2.compute.internal, executor 6, partition 433, PROCESS_LOCAL, 11075 bytes)\n",
      "23/01/17 18:34:59 INFO TaskSetManager: Finished task 422.0 in stage 11.0 (TID 41840) in 10933 ms on ip-172-31-1-104.us-west-2.compute.internal (executor 6) (422/466)\n",
      "23/01/17 18:34:59 INFO TaskSetManager: Starting task 434.0 in stage 11.0 (TID 41852, ip-172-31-1-104.us-west-2.compute.internal, executor 6, partition 434, PROCESS_LOCAL, 11075 bytes)\n",
      "23/01/17 18:34:59 INFO TaskSetManager: Finished task 421.0 in stage 11.0 (TID 41839) in 11017 ms on ip-172-31-1-104.us-west-2.compute.internal (executor 6) (423/466)\n",
      "23/01/17 18:35:00 INFO TaskSetManager: Starting task 435.0 in stage 11.0 (TID 41853, ip-172-31-1-104.us-west-2.compute.internal, executor 6, partition 435, PROCESS_LOCAL, 11075 bytes)\n",
      "23/01/17 18:35:00 INFO TaskSetManager: Finished task 423.0 in stage 11.0 (TID 41841) in 10647 ms on ip-172-31-1-104.us-west-2.compute.internal (executor 6) (424/466)\n",
      "23/01/17 18:35:05 INFO TaskSetManager: Starting task 436.0 in stage 11.0 (TID 41854, ip-172-31-9-35.us-west-2.compute.internal, executor 5, partition 436, PROCESS_LOCAL, 11075 bytes)\n",
      "23/01/17 18:35:05 INFO TaskSetManager: Finished task 424.0 in stage 11.0 (TID 41842) in 12557 ms on ip-172-31-9-35.us-west-2.compute.internal (executor 5) (425/466)\n",
      "23/01/17 18:35:06 INFO TaskSetManager: Starting task 437.0 in stage 11.0 (TID 41855, ip-172-31-9-35.us-west-2.compute.internal, executor 5, partition 437, PROCESS_LOCAL, 11075 bytes)\n",
      "23/01/17 18:35:06 INFO TaskSetManager: Finished task 425.0 in stage 11.0 (TID 41843) in 12661 ms on ip-172-31-9-35.us-west-2.compute.internal (executor 5) (426/466)\n",
      "23/01/17 18:35:08 INFO TaskSetManager: Starting task 438.0 in stage 11.0 (TID 41856, ip-172-31-1-104.us-west-2.compute.internal, executor 7, partition 438, PROCESS_LOCAL, 11075 bytes)\n",
      "23/01/17 18:35:08 INFO TaskSetManager: Finished task 428.0 in stage 11.0 (TID 41846) in 11922 ms on ip-172-31-1-104.us-west-2.compute.internal (executor 7) (427/466)\n",
      "23/01/17 18:35:08 INFO TaskSetManager: Starting task 439.0 in stage 11.0 (TID 41857, ip-172-31-1-104.us-west-2.compute.internal, executor 7, partition 439, PROCESS_LOCAL, 11075 bytes)\n",
      "23/01/17 18:35:08 INFO TaskSetManager: Finished task 429.0 in stage 11.0 (TID 41847) in 11868 ms on ip-172-31-1-104.us-west-2.compute.internal (executor 7) (428/466)\n",
      "23/01/17 18:35:09 INFO TaskSetManager: Starting task 440.0 in stage 11.0 (TID 41858, ip-172-31-9-35.us-west-2.compute.internal, executor 5, partition 440, PROCESS_LOCAL, 11075 bytes)\n",
      "23/01/17 18:35:09 INFO TaskSetManager: Finished task 427.0 in stage 11.0 (TID 41845) in 12856 ms on ip-172-31-9-35.us-west-2.compute.internal (executor 5) (429/466)\n",
      "23/01/17 18:35:09 INFO TaskSetManager: Starting task 441.0 in stage 11.0 (TID 41859, ip-172-31-1-104.us-west-2.compute.internal, executor 7, partition 441, PROCESS_LOCAL, 11075 bytes)\n",
      "23/01/17 18:35:09 INFO TaskSetManager: Finished task 430.0 in stage 11.0 (TID 41848) in 12024 ms on ip-172-31-1-104.us-west-2.compute.internal (executor 7) (430/466)\n",
      "23/01/17 18:35:10 INFO TaskSetManager: Starting task 442.0 in stage 11.0 (TID 41860, ip-172-31-1-104.us-west-2.compute.internal, executor 7, partition 442, PROCESS_LOCAL, 11075 bytes)\n",
      "23/01/17 18:35:10 INFO TaskSetManager: Finished task 426.0 in stage 11.0 (TID 41844) in 13797 ms on ip-172-31-1-104.us-west-2.compute.internal (executor 7) (431/466)\n",
      "23/01/17 18:35:10 INFO TaskSetManager: Starting task 443.0 in stage 11.0 (TID 41861, ip-172-31-1-104.us-west-2.compute.internal, executor 6, partition 443, PROCESS_LOCAL, 11075 bytes)\n",
      "23/01/17 18:35:10 INFO TaskSetManager: Finished task 432.0 in stage 11.0 (TID 41850) in 11823 ms on ip-172-31-1-104.us-west-2.compute.internal (executor 6) (432/466)\n",
      "23/01/17 18:35:10 INFO TaskSetManager: Starting task 444.0 in stage 11.0 (TID 41862, ip-172-31-1-104.us-west-2.compute.internal, executor 6, partition 444, PROCESS_LOCAL, 11075 bytes)\n",
      "23/01/17 18:35:10 INFO TaskSetManager: Finished task 433.0 in stage 11.0 (TID 41851) in 11918 ms on ip-172-31-1-104.us-west-2.compute.internal (executor 6) (433/466)\n",
      "23/01/17 18:35:11 INFO TaskSetManager: Starting task 445.0 in stage 11.0 (TID 41863, ip-172-31-1-104.us-west-2.compute.internal, executor 6, partition 445, PROCESS_LOCAL, 11075 bytes)\n",
      "23/01/17 18:35:11 INFO TaskSetManager: Finished task 434.0 in stage 11.0 (TID 41852) in 12060 ms on ip-172-31-1-104.us-west-2.compute.internal (executor 6) (434/466)\n",
      "23/01/17 18:35:12 INFO TaskSetManager: Starting task 446.0 in stage 11.0 (TID 41864, ip-172-31-9-35.us-west-2.compute.internal, executor 5, partition 446, PROCESS_LOCAL, 11075 bytes)\n",
      "23/01/17 18:35:12 INFO TaskSetManager: Finished task 431.0 in stage 11.0 (TID 41849) in 13466 ms on ip-172-31-9-35.us-west-2.compute.internal (executor 5) (435/466)\n",
      "23/01/17 18:35:12 INFO TaskSetManager: Starting task 447.0 in stage 11.0 (TID 41865, ip-172-31-1-104.us-west-2.compute.internal, executor 6, partition 447, PROCESS_LOCAL, 11075 bytes)\n",
      "23/01/17 18:35:12 INFO TaskSetManager: Finished task 435.0 in stage 11.0 (TID 41853) in 12221 ms on ip-172-31-1-104.us-west-2.compute.internal (executor 6) (436/466)\n",
      "23/01/17 18:35:17 INFO TaskSetManager: Starting task 448.0 in stage 11.0 (TID 41866, ip-172-31-9-35.us-west-2.compute.internal, executor 5, partition 448, PROCESS_LOCAL, 11075 bytes)\n",
      "23/01/17 18:35:17 INFO TaskSetManager: Finished task 436.0 in stage 11.0 (TID 41854) in 11933 ms on ip-172-31-9-35.us-west-2.compute.internal (executor 5) (437/466)\n",
      "23/01/17 18:35:18 INFO TaskSetManager: Starting task 449.0 in stage 11.0 (TID 41867, ip-172-31-9-35.us-west-2.compute.internal, executor 5, partition 449, PROCESS_LOCAL, 11075 bytes)\n",
      "23/01/17 18:35:18 INFO TaskSetManager: Finished task 437.0 in stage 11.0 (TID 41855) in 12075 ms on ip-172-31-9-35.us-west-2.compute.internal (executor 5) (438/466)\n",
      "23/01/17 18:35:21 INFO TaskSetManager: Starting task 450.0 in stage 11.0 (TID 41868, ip-172-31-1-104.us-west-2.compute.internal, executor 7, partition 450, PROCESS_LOCAL, 11075 bytes)\n",
      "23/01/17 18:35:21 INFO TaskSetManager: Finished task 438.0 in stage 11.0 (TID 41856) in 12792 ms on ip-172-31-1-104.us-west-2.compute.internal (executor 7) (439/466)\n",
      "23/01/17 18:35:21 INFO TaskSetManager: Starting task 451.0 in stage 11.0 (TID 41869, ip-172-31-9-35.us-west-2.compute.internal, executor 5, partition 451, PROCESS_LOCAL, 11075 bytes)\n",
      "23/01/17 18:35:21 INFO TaskSetManager: Finished task 440.0 in stage 11.0 (TID 41858) in 12348 ms on ip-172-31-9-35.us-west-2.compute.internal (executor 5) (440/466)\n",
      "23/01/17 18:35:22 INFO TaskSetManager: Starting task 452.0 in stage 11.0 (TID 41870, ip-172-31-1-104.us-west-2.compute.internal, executor 7, partition 452, PROCESS_LOCAL, 11075 bytes)\n",
      "23/01/17 18:35:22 INFO TaskSetManager: Finished task 439.0 in stage 11.0 (TID 41857) in 13185 ms on ip-172-31-1-104.us-west-2.compute.internal (executor 7) (441/466)\n",
      "23/01/17 18:35:22 INFO TaskSetManager: Starting task 453.0 in stage 11.0 (TID 41871, ip-172-31-1-104.us-west-2.compute.internal, executor 7, partition 453, PROCESS_LOCAL, 11075 bytes)\n",
      "23/01/17 18:35:22 INFO TaskSetManager: Finished task 441.0 in stage 11.0 (TID 41859) in 12589 ms on ip-172-31-1-104.us-west-2.compute.internal (executor 7) (442/466)\n",
      "23/01/17 18:35:22 INFO TaskSetManager: Starting task 454.0 in stage 11.0 (TID 41872, ip-172-31-1-104.us-west-2.compute.internal, executor 7, partition 454, PROCESS_LOCAL, 11075 bytes)\n",
      "23/01/17 18:35:22 INFO TaskSetManager: Finished task 442.0 in stage 11.0 (TID 41860) in 12103 ms on ip-172-31-1-104.us-west-2.compute.internal (executor 7) (443/466)\n",
      "23/01/17 18:35:22 INFO TaskSetManager: Starting task 455.0 in stage 11.0 (TID 41873, ip-172-31-1-104.us-west-2.compute.internal, executor 6, partition 455, PROCESS_LOCAL, 11075 bytes)\n",
      "23/01/17 18:35:22 INFO TaskSetManager: Finished task 443.0 in stage 11.0 (TID 41861) in 11934 ms on ip-172-31-1-104.us-west-2.compute.internal (executor 6) (444/466)\n",
      "23/01/17 18:35:22 INFO TaskSetManager: Starting task 456.0 in stage 11.0 (TID 41874, ip-172-31-1-104.us-west-2.compute.internal, executor 6, partition 456, PROCESS_LOCAL, 11075 bytes)\n",
      "23/01/17 18:35:22 INFO TaskSetManager: Finished task 444.0 in stage 11.0 (TID 41862) in 11748 ms on ip-172-31-1-104.us-west-2.compute.internal (executor 6) (445/466)\n",
      "23/01/17 18:35:23 INFO TaskSetManager: Starting task 457.0 in stage 11.0 (TID 41875, ip-172-31-1-104.us-west-2.compute.internal, executor 6, partition 457, PROCESS_LOCAL, 11075 bytes)\n",
      "23/01/17 18:35:23 INFO TaskSetManager: Finished task 445.0 in stage 11.0 (TID 41863) in 11922 ms on ip-172-31-1-104.us-west-2.compute.internal (executor 6) (446/466)\n",
      "23/01/17 18:35:24 INFO TaskSetManager: Starting task 458.0 in stage 11.0 (TID 41876, ip-172-31-1-104.us-west-2.compute.internal, executor 6, partition 458, PROCESS_LOCAL, 11075 bytes)\n",
      "23/01/17 18:35:24 INFO TaskSetManager: Finished task 447.0 in stage 11.0 (TID 41865) in 12123 ms on ip-172-31-1-104.us-west-2.compute.internal (executor 6) (447/466)\n",
      "23/01/17 18:35:24 INFO TaskSetManager: Starting task 459.0 in stage 11.0 (TID 41877, ip-172-31-9-35.us-west-2.compute.internal, executor 5, partition 459, PROCESS_LOCAL, 11075 bytes)\n",
      "23/01/17 18:35:24 INFO TaskSetManager: Finished task 446.0 in stage 11.0 (TID 41864) in 12510 ms on ip-172-31-9-35.us-west-2.compute.internal (executor 5) (448/466)\n"
     ]
    }
   ],
   "source": [
    "# input_data = \"s3a://udacity-dend/\"\n",
    "# output_data = \"s3a://sparkifyggo/\"\n",
    "# log_data = '{}{}'.format(input_data, 'log_data/*/*/*.json')\n",
    "# song_data = '{}{}'.format(input_data, 'song_data/*/*/*/*.json')"
   ]
  },
  {
   "cell_type": "code",
   "execution_count": 11,
   "id": "7270b045-8546-4a37-bdef-5df2e59a9710",
   "metadata": {
    "execution": {
     "iopub.execute_input": "2023-01-17T19:16:29.659778Z",
     "iopub.status.busy": "2023-01-17T19:16:29.659425Z",
     "iopub.status.idle": "2023-01-17T19:16:30.131750Z",
     "shell.execute_reply": "2023-01-17T19:16:30.130680Z",
     "shell.execute_reply.started": "2023-01-17T19:16:29.659739Z"
    },
    "tags": []
   },
   "outputs": [
    {
     "data": {
      "application/vnd.jupyter.widget-view+json": {
       "model_id": "6b6a9e3908db45fd9705a1e53e8d45dd",
       "version_major": 2,
       "version_minor": 0
      },
      "text/plain": [
       "VBox()"
      ]
     },
     "metadata": {},
     "output_type": "display_data"
    },
    {
     "name": "stderr",
     "output_type": "stream",
     "text": [
      "An error was encountered:\n",
      "Session 2 unexpectedly reached final status 'dead'. See logs:\n",
      "stdout: \n",
      "\n",
      "stderr: \n",
      "23/01/17 18:34:38 INFO TaskSetManager: Starting task 411.0 in stage 11.0 (TID 41829, ip-172-31-1-104.us-west-2.compute.internal, executor 6, partition 411, PROCESS_LOCAL, 11075 bytes)\n",
      "23/01/17 18:34:38 INFO TaskSetManager: Finished task 399.0 in stage 11.0 (TID 41817) in 11841 ms on ip-172-31-1-104.us-west-2.compute.internal (executor 6) (400/466)\n",
      "23/01/17 18:34:42 INFO TaskSetManager: Starting task 412.0 in stage 11.0 (TID 41830, ip-172-31-9-35.us-west-2.compute.internal, executor 5, partition 412, PROCESS_LOCAL, 11075 bytes)\n",
      "23/01/17 18:34:42 INFO TaskSetManager: Finished task 400.0 in stage 11.0 (TID 41818) in 11574 ms on ip-172-31-9-35.us-west-2.compute.internal (executor 5) (401/466)\n",
      "23/01/17 18:34:43 INFO TaskSetManager: Starting task 413.0 in stage 11.0 (TID 41831, ip-172-31-9-35.us-west-2.compute.internal, executor 5, partition 413, PROCESS_LOCAL, 11075 bytes)\n",
      "23/01/17 18:34:43 INFO TaskSetManager: Finished task 401.0 in stage 11.0 (TID 41819) in 11232 ms on ip-172-31-9-35.us-west-2.compute.internal (executor 5) (402/466)\n",
      "23/01/17 18:34:45 INFO TaskSetManager: Starting task 414.0 in stage 11.0 (TID 41832, ip-172-31-9-35.us-west-2.compute.internal, executor 5, partition 414, PROCESS_LOCAL, 11075 bytes)\n",
      "23/01/17 18:34:45 INFO TaskSetManager: Finished task 402.0 in stage 11.0 (TID 41820) in 11017 ms on ip-172-31-9-35.us-west-2.compute.internal (executor 5) (403/466)\n",
      "23/01/17 18:34:45 INFO TaskSetManager: Starting task 415.0 in stage 11.0 (TID 41833, ip-172-31-1-104.us-west-2.compute.internal, executor 7, partition 415, PROCESS_LOCAL, 11075 bytes)\n",
      "23/01/17 18:34:45 INFO TaskSetManager: Finished task 403.0 in stage 11.0 (TID 41821) in 10661 ms on ip-172-31-1-104.us-west-2.compute.internal (executor 7) (404/466)\n",
      "23/01/17 18:34:45 INFO TaskSetManager: Starting task 416.0 in stage 11.0 (TID 41834, ip-172-31-1-104.us-west-2.compute.internal, executor 7, partition 416, PROCESS_LOCAL, 11075 bytes)\n",
      "23/01/17 18:34:45 INFO TaskSetManager: Finished task 404.0 in stage 11.0 (TID 41822) in 10601 ms on ip-172-31-1-104.us-west-2.compute.internal (executor 7) (405/466)\n",
      "23/01/17 18:34:46 INFO TaskSetManager: Starting task 417.0 in stage 11.0 (TID 41835, ip-172-31-1-104.us-west-2.compute.internal, executor 7, partition 417, PROCESS_LOCAL, 11075 bytes)\n",
      "23/01/17 18:34:46 INFO TaskSetManager: Finished task 405.0 in stage 11.0 (TID 41823) in 10445 ms on ip-172-31-1-104.us-west-2.compute.internal (executor 7) (406/466)\n",
      "23/01/17 18:34:46 INFO TaskSetManager: Starting task 418.0 in stage 11.0 (TID 41836, ip-172-31-1-104.us-west-2.compute.internal, executor 7, partition 418, PROCESS_LOCAL, 11075 bytes)\n",
      "23/01/17 18:34:46 INFO TaskSetManager: Finished task 406.0 in stage 11.0 (TID 41824) in 10663 ms on ip-172-31-1-104.us-west-2.compute.internal (executor 7) (407/466)\n",
      "23/01/17 18:34:47 INFO TaskSetManager: Starting task 419.0 in stage 11.0 (TID 41837, ip-172-31-9-35.us-west-2.compute.internal, executor 5, partition 419, PROCESS_LOCAL, 11075 bytes)\n",
      "23/01/17 18:34:47 INFO TaskSetManager: Finished task 407.0 in stage 11.0 (TID 41825) in 11364 ms on ip-172-31-9-35.us-west-2.compute.internal (executor 5) (408/466)\n",
      "23/01/17 18:34:47 INFO TaskSetManager: Starting task 420.0 in stage 11.0 (TID 41838, ip-172-31-1-104.us-west-2.compute.internal, executor 6, partition 420, PROCESS_LOCAL, 11075 bytes)\n",
      "23/01/17 18:34:47 INFO TaskSetManager: Finished task 409.0 in stage 11.0 (TID 41827) in 11282 ms on ip-172-31-1-104.us-west-2.compute.internal (executor 6) (409/466)\n",
      "23/01/17 18:34:48 INFO TaskSetManager: Starting task 421.0 in stage 11.0 (TID 41839, ip-172-31-1-104.us-west-2.compute.internal, executor 6, partition 421, PROCESS_LOCAL, 11075 bytes)\n",
      "23/01/17 18:34:48 INFO TaskSetManager: Finished task 408.0 in stage 11.0 (TID 41826) in 11594 ms on ip-172-31-1-104.us-west-2.compute.internal (executor 6) (410/466)\n",
      "23/01/17 18:34:48 INFO TaskSetManager: Starting task 422.0 in stage 11.0 (TID 41840, ip-172-31-1-104.us-west-2.compute.internal, executor 6, partition 422, PROCESS_LOCAL, 11075 bytes)\n",
      "23/01/17 18:34:48 INFO TaskSetManager: Finished task 410.0 in stage 11.0 (TID 41828) in 11385 ms on ip-172-31-1-104.us-west-2.compute.internal (executor 6) (411/466)\n",
      "23/01/17 18:34:49 INFO TaskSetManager: Starting task 423.0 in stage 11.0 (TID 41841, ip-172-31-1-104.us-west-2.compute.internal, executor 6, partition 423, PROCESS_LOCAL, 11075 bytes)\n",
      "23/01/17 18:34:49 INFO TaskSetManager: Finished task 411.0 in stage 11.0 (TID 41829) in 11198 ms on ip-172-31-1-104.us-west-2.compute.internal (executor 6) (412/466)\n",
      "23/01/17 18:34:53 INFO TaskSetManager: Starting task 424.0 in stage 11.0 (TID 41842, ip-172-31-9-35.us-west-2.compute.internal, executor 5, partition 424, PROCESS_LOCAL, 11075 bytes)\n",
      "23/01/17 18:34:53 INFO TaskSetManager: Finished task 412.0 in stage 11.0 (TID 41830) in 11275 ms on ip-172-31-9-35.us-west-2.compute.internal (executor 5) (413/466)\n",
      "23/01/17 18:34:54 INFO TaskSetManager: Starting task 425.0 in stage 11.0 (TID 41843, ip-172-31-9-35.us-west-2.compute.internal, executor 5, partition 425, PROCESS_LOCAL, 11075 bytes)\n",
      "23/01/17 18:34:54 INFO TaskSetManager: Finished task 413.0 in stage 11.0 (TID 41831) in 11106 ms on ip-172-31-9-35.us-west-2.compute.internal (executor 5) (414/466)\n",
      "23/01/17 18:34:56 INFO TaskSetManager: Starting task 426.0 in stage 11.0 (TID 41844, ip-172-31-1-104.us-west-2.compute.internal, executor 7, partition 426, PROCESS_LOCAL, 11075 bytes)\n",
      "23/01/17 18:34:56 INFO TaskSetManager: Finished task 415.0 in stage 11.0 (TID 41833) in 10930 ms on ip-172-31-1-104.us-west-2.compute.internal (executor 7) (415/466)\n",
      "23/01/17 18:34:56 INFO TaskSetManager: Starting task 427.0 in stage 11.0 (TID 41845, ip-172-31-9-35.us-west-2.compute.internal, executor 5, partition 427, PROCESS_LOCAL, 11075 bytes)\n",
      "23/01/17 18:34:56 INFO TaskSetManager: Finished task 414.0 in stage 11.0 (TID 41832) in 11596 ms on ip-172-31-9-35.us-west-2.compute.internal (executor 5) (416/466)\n",
      "23/01/17 18:34:56 INFO TaskSetManager: Starting task 428.0 in stage 11.0 (TID 41846, ip-172-31-1-104.us-west-2.compute.internal, executor 7, partition 428, PROCESS_LOCAL, 11075 bytes)\n",
      "23/01/17 18:34:56 INFO TaskSetManager: Finished task 417.0 in stage 11.0 (TID 41835) in 10684 ms on ip-172-31-1-104.us-west-2.compute.internal (executor 7) (417/466)\n",
      "23/01/17 18:34:57 INFO TaskSetManager: Starting task 429.0 in stage 11.0 (TID 41847, ip-172-31-1-104.us-west-2.compute.internal, executor 7, partition 429, PROCESS_LOCAL, 11075 bytes)\n",
      "23/01/17 18:34:57 INFO TaskSetManager: Finished task 416.0 in stage 11.0 (TID 41834) in 11117 ms on ip-172-31-1-104.us-west-2.compute.internal (executor 7) (418/466)\n",
      "23/01/17 18:34:57 INFO TaskSetManager: Starting task 430.0 in stage 11.0 (TID 41848, ip-172-31-1-104.us-west-2.compute.internal, executor 7, partition 430, PROCESS_LOCAL, 11075 bytes)\n",
      "23/01/17 18:34:57 INFO TaskSetManager: Finished task 418.0 in stage 11.0 (TID 41836) in 10716 ms on ip-172-31-1-104.us-west-2.compute.internal (executor 7) (419/466)\n",
      "23/01/17 18:34:58 INFO TaskSetManager: Starting task 431.0 in stage 11.0 (TID 41849, ip-172-31-9-35.us-west-2.compute.internal, executor 5, partition 431, PROCESS_LOCAL, 11075 bytes)\n",
      "23/01/17 18:34:58 INFO TaskSetManager: Finished task 419.0 in stage 11.0 (TID 41837) in 11219 ms on ip-172-31-9-35.us-west-2.compute.internal (executor 5) (420/466)\n",
      "23/01/17 18:34:58 INFO TaskSetManager: Starting task 432.0 in stage 11.0 (TID 41850, ip-172-31-1-104.us-west-2.compute.internal, executor 6, partition 432, PROCESS_LOCAL, 11075 bytes)\n",
      "23/01/17 18:34:58 INFO TaskSetManager: Finished task 420.0 in stage 11.0 (TID 41838) in 11160 ms on ip-172-31-1-104.us-west-2.compute.internal (executor 6) (421/466)\n",
      "23/01/17 18:34:59 INFO TaskSetManager: Starting task 433.0 in stage 11.0 (TID 41851, ip-172-31-1-104.us-west-2.compute.internal, executor 6, partition 433, PROCESS_LOCAL, 11075 bytes)\n",
      "23/01/17 18:34:59 INFO TaskSetManager: Finished task 422.0 in stage 11.0 (TID 41840) in 10933 ms on ip-172-31-1-104.us-west-2.compute.internal (executor 6) (422/466)\n",
      "23/01/17 18:34:59 INFO TaskSetManager: Starting task 434.0 in stage 11.0 (TID 41852, ip-172-31-1-104.us-west-2.compute.internal, executor 6, partition 434, PROCESS_LOCAL, 11075 bytes)\n",
      "23/01/17 18:34:59 INFO TaskSetManager: Finished task 421.0 in stage 11.0 (TID 41839) in 11017 ms on ip-172-31-1-104.us-west-2.compute.internal (executor 6) (423/466)\n",
      "23/01/17 18:35:00 INFO TaskSetManager: Starting task 435.0 in stage 11.0 (TID 41853, ip-172-31-1-104.us-west-2.compute.internal, executor 6, partition 435, PROCESS_LOCAL, 11075 bytes)\n",
      "23/01/17 18:35:00 INFO TaskSetManager: Finished task 423.0 in stage 11.0 (TID 41841) in 10647 ms on ip-172-31-1-104.us-west-2.compute.internal (executor 6) (424/466)\n",
      "23/01/17 18:35:05 INFO TaskSetManager: Starting task 436.0 in stage 11.0 (TID 41854, ip-172-31-9-35.us-west-2.compute.internal, executor 5, partition 436, PROCESS_LOCAL, 11075 bytes)\n",
      "23/01/17 18:35:05 INFO TaskSetManager: Finished task 424.0 in stage 11.0 (TID 41842) in 12557 ms on ip-172-31-9-35.us-west-2.compute.internal (executor 5) (425/466)\n",
      "23/01/17 18:35:06 INFO TaskSetManager: Starting task 437.0 in stage 11.0 (TID 41855, ip-172-31-9-35.us-west-2.compute.internal, executor 5, partition 437, PROCESS_LOCAL, 11075 bytes)\n",
      "23/01/17 18:35:06 INFO TaskSetManager: Finished task 425.0 in stage 11.0 (TID 41843) in 12661 ms on ip-172-31-9-35.us-west-2.compute.internal (executor 5) (426/466)\n",
      "23/01/17 18:35:08 INFO TaskSetManager: Starting task 438.0 in stage 11.0 (TID 41856, ip-172-31-1-104.us-west-2.compute.internal, executor 7, partition 438, PROCESS_LOCAL, 11075 bytes)\n",
      "23/01/17 18:35:08 INFO TaskSetManager: Finished task 428.0 in stage 11.0 (TID 41846) in 11922 ms on ip-172-31-1-104.us-west-2.compute.internal (executor 7) (427/466)\n",
      "23/01/17 18:35:08 INFO TaskSetManager: Starting task 439.0 in stage 11.0 (TID 41857, ip-172-31-1-104.us-west-2.compute.internal, executor 7, partition 439, PROCESS_LOCAL, 11075 bytes)\n",
      "23/01/17 18:35:08 INFO TaskSetManager: Finished task 429.0 in stage 11.0 (TID 41847) in 11868 ms on ip-172-31-1-104.us-west-2.compute.internal (executor 7) (428/466)\n",
      "23/01/17 18:35:09 INFO TaskSetManager: Starting task 440.0 in stage 11.0 (TID 41858, ip-172-31-9-35.us-west-2.compute.internal, executor 5, partition 440, PROCESS_LOCAL, 11075 bytes)\n",
      "23/01/17 18:35:09 INFO TaskSetManager: Finished task 427.0 in stage 11.0 (TID 41845) in 12856 ms on ip-172-31-9-35.us-west-2.compute.internal (executor 5) (429/466)\n",
      "23/01/17 18:35:09 INFO TaskSetManager: Starting task 441.0 in stage 11.0 (TID 41859, ip-172-31-1-104.us-west-2.compute.internal, executor 7, partition 441, PROCESS_LOCAL, 11075 bytes)\n",
      "23/01/17 18:35:09 INFO TaskSetManager: Finished task 430.0 in stage 11.0 (TID 41848) in 12024 ms on ip-172-31-1-104.us-west-2.compute.internal (executor 7) (430/466)\n",
      "23/01/17 18:35:10 INFO TaskSetManager: Starting task 442.0 in stage 11.0 (TID 41860, ip-172-31-1-104.us-west-2.compute.internal, executor 7, partition 442, PROCESS_LOCAL, 11075 bytes)\n",
      "23/01/17 18:35:10 INFO TaskSetManager: Finished task 426.0 in stage 11.0 (TID 41844) in 13797 ms on ip-172-31-1-104.us-west-2.compute.internal (executor 7) (431/466)\n",
      "23/01/17 18:35:10 INFO TaskSetManager: Starting task 443.0 in stage 11.0 (TID 41861, ip-172-31-1-104.us-west-2.compute.internal, executor 6, partition 443, PROCESS_LOCAL, 11075 bytes)\n",
      "23/01/17 18:35:10 INFO TaskSetManager: Finished task 432.0 in stage 11.0 (TID 41850) in 11823 ms on ip-172-31-1-104.us-west-2.compute.internal (executor 6) (432/466)\n",
      "23/01/17 18:35:10 INFO TaskSetManager: Starting task 444.0 in stage 11.0 (TID 41862, ip-172-31-1-104.us-west-2.compute.internal, executor 6, partition 444, PROCESS_LOCAL, 11075 bytes)\n",
      "23/01/17 18:35:10 INFO TaskSetManager: Finished task 433.0 in stage 11.0 (TID 41851) in 11918 ms on ip-172-31-1-104.us-west-2.compute.internal (executor 6) (433/466)\n",
      "23/01/17 18:35:11 INFO TaskSetManager: Starting task 445.0 in stage 11.0 (TID 41863, ip-172-31-1-104.us-west-2.compute.internal, executor 6, partition 445, PROCESS_LOCAL, 11075 bytes)\n",
      "23/01/17 18:35:11 INFO TaskSetManager: Finished task 434.0 in stage 11.0 (TID 41852) in 12060 ms on ip-172-31-1-104.us-west-2.compute.internal (executor 6) (434/466)\n",
      "23/01/17 18:35:12 INFO TaskSetManager: Starting task 446.0 in stage 11.0 (TID 41864, ip-172-31-9-35.us-west-2.compute.internal, executor 5, partition 446, PROCESS_LOCAL, 11075 bytes)\n",
      "23/01/17 18:35:12 INFO TaskSetManager: Finished task 431.0 in stage 11.0 (TID 41849) in 13466 ms on ip-172-31-9-35.us-west-2.compute.internal (executor 5) (435/466)\n",
      "23/01/17 18:35:12 INFO TaskSetManager: Starting task 447.0 in stage 11.0 (TID 41865, ip-172-31-1-104.us-west-2.compute.internal, executor 6, partition 447, PROCESS_LOCAL, 11075 bytes)\n",
      "23/01/17 18:35:12 INFO TaskSetManager: Finished task 435.0 in stage 11.0 (TID 41853) in 12221 ms on ip-172-31-1-104.us-west-2.compute.internal (executor 6) (436/466)\n",
      "23/01/17 18:35:17 INFO TaskSetManager: Starting task 448.0 in stage 11.0 (TID 41866, ip-172-31-9-35.us-west-2.compute.internal, executor 5, partition 448, PROCESS_LOCAL, 11075 bytes)\n",
      "23/01/17 18:35:17 INFO TaskSetManager: Finished task 436.0 in stage 11.0 (TID 41854) in 11933 ms on ip-172-31-9-35.us-west-2.compute.internal (executor 5) (437/466)\n",
      "23/01/17 18:35:18 INFO TaskSetManager: Starting task 449.0 in stage 11.0 (TID 41867, ip-172-31-9-35.us-west-2.compute.internal, executor 5, partition 449, PROCESS_LOCAL, 11075 bytes)\n",
      "23/01/17 18:35:18 INFO TaskSetManager: Finished task 437.0 in stage 11.0 (TID 41855) in 12075 ms on ip-172-31-9-35.us-west-2.compute.internal (executor 5) (438/466)\n",
      "23/01/17 18:35:21 INFO TaskSetManager: Starting task 450.0 in stage 11.0 (TID 41868, ip-172-31-1-104.us-west-2.compute.internal, executor 7, partition 450, PROCESS_LOCAL, 11075 bytes)\n",
      "23/01/17 18:35:21 INFO TaskSetManager: Finished task 438.0 in stage 11.0 (TID 41856) in 12792 ms on ip-172-31-1-104.us-west-2.compute.internal (executor 7) (439/466)\n",
      "23/01/17 18:35:21 INFO TaskSetManager: Starting task 451.0 in stage 11.0 (TID 41869, ip-172-31-9-35.us-west-2.compute.internal, executor 5, partition 451, PROCESS_LOCAL, 11075 bytes)\n",
      "23/01/17 18:35:21 INFO TaskSetManager: Finished task 440.0 in stage 11.0 (TID 41858) in 12348 ms on ip-172-31-9-35.us-west-2.compute.internal (executor 5) (440/466)\n",
      "23/01/17 18:35:22 INFO TaskSetManager: Starting task 452.0 in stage 11.0 (TID 41870, ip-172-31-1-104.us-west-2.compute.internal, executor 7, partition 452, PROCESS_LOCAL, 11075 bytes)\n",
      "23/01/17 18:35:22 INFO TaskSetManager: Finished task 439.0 in stage 11.0 (TID 41857) in 13185 ms on ip-172-31-1-104.us-west-2.compute.internal (executor 7) (441/466)\n",
      "23/01/17 18:35:22 INFO TaskSetManager: Starting task 453.0 in stage 11.0 (TID 41871, ip-172-31-1-104.us-west-2.compute.internal, executor 7, partition 453, PROCESS_LOCAL, 11075 bytes)\n",
      "23/01/17 18:35:22 INFO TaskSetManager: Finished task 441.0 in stage 11.0 (TID 41859) in 12589 ms on ip-172-31-1-104.us-west-2.compute.internal (executor 7) (442/466)\n",
      "23/01/17 18:35:22 INFO TaskSetManager: Starting task 454.0 in stage 11.0 (TID 41872, ip-172-31-1-104.us-west-2.compute.internal, executor 7, partition 454, PROCESS_LOCAL, 11075 bytes)\n",
      "23/01/17 18:35:22 INFO TaskSetManager: Finished task 442.0 in stage 11.0 (TID 41860) in 12103 ms on ip-172-31-1-104.us-west-2.compute.internal (executor 7) (443/466)\n",
      "23/01/17 18:35:22 INFO TaskSetManager: Starting task 455.0 in stage 11.0 (TID 41873, ip-172-31-1-104.us-west-2.compute.internal, executor 6, partition 455, PROCESS_LOCAL, 11075 bytes)\n",
      "23/01/17 18:35:22 INFO TaskSetManager: Finished task 443.0 in stage 11.0 (TID 41861) in 11934 ms on ip-172-31-1-104.us-west-2.compute.internal (executor 6) (444/466)\n",
      "23/01/17 18:35:22 INFO TaskSetManager: Starting task 456.0 in stage 11.0 (TID 41874, ip-172-31-1-104.us-west-2.compute.internal, executor 6, partition 456, PROCESS_LOCAL, 11075 bytes)\n",
      "23/01/17 18:35:22 INFO TaskSetManager: Finished task 444.0 in stage 11.0 (TID 41862) in 11748 ms on ip-172-31-1-104.us-west-2.compute.internal (executor 6) (445/466)\n",
      "23/01/17 18:35:23 INFO TaskSetManager: Starting task 457.0 in stage 11.0 (TID 41875, ip-172-31-1-104.us-west-2.compute.internal, executor 6, partition 457, PROCESS_LOCAL, 11075 bytes)\n",
      "23/01/17 18:35:23 INFO TaskSetManager: Finished task 445.0 in stage 11.0 (TID 41863) in 11922 ms on ip-172-31-1-104.us-west-2.compute.internal (executor 6) (446/466)\n",
      "23/01/17 18:35:24 INFO TaskSetManager: Starting task 458.0 in stage 11.0 (TID 41876, ip-172-31-1-104.us-west-2.compute.internal, executor 6, partition 458, PROCESS_LOCAL, 11075 bytes)\n",
      "23/01/17 18:35:24 INFO TaskSetManager: Finished task 447.0 in stage 11.0 (TID 41865) in 12123 ms on ip-172-31-1-104.us-west-2.compute.internal (executor 6) (447/466)\n",
      "23/01/17 18:35:24 INFO TaskSetManager: Starting task 459.0 in stage 11.0 (TID 41877, ip-172-31-9-35.us-west-2.compute.internal, executor 5, partition 459, PROCESS_LOCAL, 11075 bytes)\n",
      "23/01/17 18:35:24 INFO TaskSetManager: Finished task 446.0 in stage 11.0 (TID 41864) in 12510 ms on ip-172-31-9-35.us-west-2.compute.internal (executor 5) (448/466)\n"
     ]
    }
   ],
   "source": [
    "# # read log data file\n",
    "# df = spark.read.json(log_data)"
   ]
  },
  {
   "cell_type": "code",
   "execution_count": 12,
   "id": "b243eb64-f63a-4e43-81e8-7e379af00675",
   "metadata": {
    "execution": {
     "iopub.execute_input": "2023-01-17T19:16:30.133144Z",
     "iopub.status.busy": "2023-01-17T19:16:30.132814Z",
     "iopub.status.idle": "2023-01-17T19:16:30.472438Z",
     "shell.execute_reply": "2023-01-17T19:16:30.471281Z",
     "shell.execute_reply.started": "2023-01-17T19:16:30.133108Z"
    },
    "tags": []
   },
   "outputs": [
    {
     "data": {
      "application/vnd.jupyter.widget-view+json": {
       "model_id": "5bd4b1e52b9544968e1913e293ceba34",
       "version_major": 2,
       "version_minor": 0
      },
      "text/plain": [
       "VBox()"
      ]
     },
     "metadata": {},
     "output_type": "display_data"
    },
    {
     "name": "stderr",
     "output_type": "stream",
     "text": [
      "An error was encountered:\n",
      "Session 2 unexpectedly reached final status 'dead'. See logs:\n",
      "stdout: \n",
      "\n",
      "stderr: \n",
      "23/01/17 18:34:38 INFO TaskSetManager: Starting task 411.0 in stage 11.0 (TID 41829, ip-172-31-1-104.us-west-2.compute.internal, executor 6, partition 411, PROCESS_LOCAL, 11075 bytes)\n",
      "23/01/17 18:34:38 INFO TaskSetManager: Finished task 399.0 in stage 11.0 (TID 41817) in 11841 ms on ip-172-31-1-104.us-west-2.compute.internal (executor 6) (400/466)\n",
      "23/01/17 18:34:42 INFO TaskSetManager: Starting task 412.0 in stage 11.0 (TID 41830, ip-172-31-9-35.us-west-2.compute.internal, executor 5, partition 412, PROCESS_LOCAL, 11075 bytes)\n",
      "23/01/17 18:34:42 INFO TaskSetManager: Finished task 400.0 in stage 11.0 (TID 41818) in 11574 ms on ip-172-31-9-35.us-west-2.compute.internal (executor 5) (401/466)\n",
      "23/01/17 18:34:43 INFO TaskSetManager: Starting task 413.0 in stage 11.0 (TID 41831, ip-172-31-9-35.us-west-2.compute.internal, executor 5, partition 413, PROCESS_LOCAL, 11075 bytes)\n",
      "23/01/17 18:34:43 INFO TaskSetManager: Finished task 401.0 in stage 11.0 (TID 41819) in 11232 ms on ip-172-31-9-35.us-west-2.compute.internal (executor 5) (402/466)\n",
      "23/01/17 18:34:45 INFO TaskSetManager: Starting task 414.0 in stage 11.0 (TID 41832, ip-172-31-9-35.us-west-2.compute.internal, executor 5, partition 414, PROCESS_LOCAL, 11075 bytes)\n",
      "23/01/17 18:34:45 INFO TaskSetManager: Finished task 402.0 in stage 11.0 (TID 41820) in 11017 ms on ip-172-31-9-35.us-west-2.compute.internal (executor 5) (403/466)\n",
      "23/01/17 18:34:45 INFO TaskSetManager: Starting task 415.0 in stage 11.0 (TID 41833, ip-172-31-1-104.us-west-2.compute.internal, executor 7, partition 415, PROCESS_LOCAL, 11075 bytes)\n",
      "23/01/17 18:34:45 INFO TaskSetManager: Finished task 403.0 in stage 11.0 (TID 41821) in 10661 ms on ip-172-31-1-104.us-west-2.compute.internal (executor 7) (404/466)\n",
      "23/01/17 18:34:45 INFO TaskSetManager: Starting task 416.0 in stage 11.0 (TID 41834, ip-172-31-1-104.us-west-2.compute.internal, executor 7, partition 416, PROCESS_LOCAL, 11075 bytes)\n",
      "23/01/17 18:34:45 INFO TaskSetManager: Finished task 404.0 in stage 11.0 (TID 41822) in 10601 ms on ip-172-31-1-104.us-west-2.compute.internal (executor 7) (405/466)\n",
      "23/01/17 18:34:46 INFO TaskSetManager: Starting task 417.0 in stage 11.0 (TID 41835, ip-172-31-1-104.us-west-2.compute.internal, executor 7, partition 417, PROCESS_LOCAL, 11075 bytes)\n",
      "23/01/17 18:34:46 INFO TaskSetManager: Finished task 405.0 in stage 11.0 (TID 41823) in 10445 ms on ip-172-31-1-104.us-west-2.compute.internal (executor 7) (406/466)\n",
      "23/01/17 18:34:46 INFO TaskSetManager: Starting task 418.0 in stage 11.0 (TID 41836, ip-172-31-1-104.us-west-2.compute.internal, executor 7, partition 418, PROCESS_LOCAL, 11075 bytes)\n",
      "23/01/17 18:34:46 INFO TaskSetManager: Finished task 406.0 in stage 11.0 (TID 41824) in 10663 ms on ip-172-31-1-104.us-west-2.compute.internal (executor 7) (407/466)\n",
      "23/01/17 18:34:47 INFO TaskSetManager: Starting task 419.0 in stage 11.0 (TID 41837, ip-172-31-9-35.us-west-2.compute.internal, executor 5, partition 419, PROCESS_LOCAL, 11075 bytes)\n",
      "23/01/17 18:34:47 INFO TaskSetManager: Finished task 407.0 in stage 11.0 (TID 41825) in 11364 ms on ip-172-31-9-35.us-west-2.compute.internal (executor 5) (408/466)\n",
      "23/01/17 18:34:47 INFO TaskSetManager: Starting task 420.0 in stage 11.0 (TID 41838, ip-172-31-1-104.us-west-2.compute.internal, executor 6, partition 420, PROCESS_LOCAL, 11075 bytes)\n",
      "23/01/17 18:34:47 INFO TaskSetManager: Finished task 409.0 in stage 11.0 (TID 41827) in 11282 ms on ip-172-31-1-104.us-west-2.compute.internal (executor 6) (409/466)\n",
      "23/01/17 18:34:48 INFO TaskSetManager: Starting task 421.0 in stage 11.0 (TID 41839, ip-172-31-1-104.us-west-2.compute.internal, executor 6, partition 421, PROCESS_LOCAL, 11075 bytes)\n",
      "23/01/17 18:34:48 INFO TaskSetManager: Finished task 408.0 in stage 11.0 (TID 41826) in 11594 ms on ip-172-31-1-104.us-west-2.compute.internal (executor 6) (410/466)\n",
      "23/01/17 18:34:48 INFO TaskSetManager: Starting task 422.0 in stage 11.0 (TID 41840, ip-172-31-1-104.us-west-2.compute.internal, executor 6, partition 422, PROCESS_LOCAL, 11075 bytes)\n",
      "23/01/17 18:34:48 INFO TaskSetManager: Finished task 410.0 in stage 11.0 (TID 41828) in 11385 ms on ip-172-31-1-104.us-west-2.compute.internal (executor 6) (411/466)\n",
      "23/01/17 18:34:49 INFO TaskSetManager: Starting task 423.0 in stage 11.0 (TID 41841, ip-172-31-1-104.us-west-2.compute.internal, executor 6, partition 423, PROCESS_LOCAL, 11075 bytes)\n",
      "23/01/17 18:34:49 INFO TaskSetManager: Finished task 411.0 in stage 11.0 (TID 41829) in 11198 ms on ip-172-31-1-104.us-west-2.compute.internal (executor 6) (412/466)\n",
      "23/01/17 18:34:53 INFO TaskSetManager: Starting task 424.0 in stage 11.0 (TID 41842, ip-172-31-9-35.us-west-2.compute.internal, executor 5, partition 424, PROCESS_LOCAL, 11075 bytes)\n",
      "23/01/17 18:34:53 INFO TaskSetManager: Finished task 412.0 in stage 11.0 (TID 41830) in 11275 ms on ip-172-31-9-35.us-west-2.compute.internal (executor 5) (413/466)\n",
      "23/01/17 18:34:54 INFO TaskSetManager: Starting task 425.0 in stage 11.0 (TID 41843, ip-172-31-9-35.us-west-2.compute.internal, executor 5, partition 425, PROCESS_LOCAL, 11075 bytes)\n",
      "23/01/17 18:34:54 INFO TaskSetManager: Finished task 413.0 in stage 11.0 (TID 41831) in 11106 ms on ip-172-31-9-35.us-west-2.compute.internal (executor 5) (414/466)\n",
      "23/01/17 18:34:56 INFO TaskSetManager: Starting task 426.0 in stage 11.0 (TID 41844, ip-172-31-1-104.us-west-2.compute.internal, executor 7, partition 426, PROCESS_LOCAL, 11075 bytes)\n",
      "23/01/17 18:34:56 INFO TaskSetManager: Finished task 415.0 in stage 11.0 (TID 41833) in 10930 ms on ip-172-31-1-104.us-west-2.compute.internal (executor 7) (415/466)\n",
      "23/01/17 18:34:56 INFO TaskSetManager: Starting task 427.0 in stage 11.0 (TID 41845, ip-172-31-9-35.us-west-2.compute.internal, executor 5, partition 427, PROCESS_LOCAL, 11075 bytes)\n",
      "23/01/17 18:34:56 INFO TaskSetManager: Finished task 414.0 in stage 11.0 (TID 41832) in 11596 ms on ip-172-31-9-35.us-west-2.compute.internal (executor 5) (416/466)\n",
      "23/01/17 18:34:56 INFO TaskSetManager: Starting task 428.0 in stage 11.0 (TID 41846, ip-172-31-1-104.us-west-2.compute.internal, executor 7, partition 428, PROCESS_LOCAL, 11075 bytes)\n",
      "23/01/17 18:34:56 INFO TaskSetManager: Finished task 417.0 in stage 11.0 (TID 41835) in 10684 ms on ip-172-31-1-104.us-west-2.compute.internal (executor 7) (417/466)\n",
      "23/01/17 18:34:57 INFO TaskSetManager: Starting task 429.0 in stage 11.0 (TID 41847, ip-172-31-1-104.us-west-2.compute.internal, executor 7, partition 429, PROCESS_LOCAL, 11075 bytes)\n",
      "23/01/17 18:34:57 INFO TaskSetManager: Finished task 416.0 in stage 11.0 (TID 41834) in 11117 ms on ip-172-31-1-104.us-west-2.compute.internal (executor 7) (418/466)\n",
      "23/01/17 18:34:57 INFO TaskSetManager: Starting task 430.0 in stage 11.0 (TID 41848, ip-172-31-1-104.us-west-2.compute.internal, executor 7, partition 430, PROCESS_LOCAL, 11075 bytes)\n",
      "23/01/17 18:34:57 INFO TaskSetManager: Finished task 418.0 in stage 11.0 (TID 41836) in 10716 ms on ip-172-31-1-104.us-west-2.compute.internal (executor 7) (419/466)\n",
      "23/01/17 18:34:58 INFO TaskSetManager: Starting task 431.0 in stage 11.0 (TID 41849, ip-172-31-9-35.us-west-2.compute.internal, executor 5, partition 431, PROCESS_LOCAL, 11075 bytes)\n",
      "23/01/17 18:34:58 INFO TaskSetManager: Finished task 419.0 in stage 11.0 (TID 41837) in 11219 ms on ip-172-31-9-35.us-west-2.compute.internal (executor 5) (420/466)\n",
      "23/01/17 18:34:58 INFO TaskSetManager: Starting task 432.0 in stage 11.0 (TID 41850, ip-172-31-1-104.us-west-2.compute.internal, executor 6, partition 432, PROCESS_LOCAL, 11075 bytes)\n",
      "23/01/17 18:34:58 INFO TaskSetManager: Finished task 420.0 in stage 11.0 (TID 41838) in 11160 ms on ip-172-31-1-104.us-west-2.compute.internal (executor 6) (421/466)\n",
      "23/01/17 18:34:59 INFO TaskSetManager: Starting task 433.0 in stage 11.0 (TID 41851, ip-172-31-1-104.us-west-2.compute.internal, executor 6, partition 433, PROCESS_LOCAL, 11075 bytes)\n",
      "23/01/17 18:34:59 INFO TaskSetManager: Finished task 422.0 in stage 11.0 (TID 41840) in 10933 ms on ip-172-31-1-104.us-west-2.compute.internal (executor 6) (422/466)\n",
      "23/01/17 18:34:59 INFO TaskSetManager: Starting task 434.0 in stage 11.0 (TID 41852, ip-172-31-1-104.us-west-2.compute.internal, executor 6, partition 434, PROCESS_LOCAL, 11075 bytes)\n",
      "23/01/17 18:34:59 INFO TaskSetManager: Finished task 421.0 in stage 11.0 (TID 41839) in 11017 ms on ip-172-31-1-104.us-west-2.compute.internal (executor 6) (423/466)\n",
      "23/01/17 18:35:00 INFO TaskSetManager: Starting task 435.0 in stage 11.0 (TID 41853, ip-172-31-1-104.us-west-2.compute.internal, executor 6, partition 435, PROCESS_LOCAL, 11075 bytes)\n",
      "23/01/17 18:35:00 INFO TaskSetManager: Finished task 423.0 in stage 11.0 (TID 41841) in 10647 ms on ip-172-31-1-104.us-west-2.compute.internal (executor 6) (424/466)\n",
      "23/01/17 18:35:05 INFO TaskSetManager: Starting task 436.0 in stage 11.0 (TID 41854, ip-172-31-9-35.us-west-2.compute.internal, executor 5, partition 436, PROCESS_LOCAL, 11075 bytes)\n",
      "23/01/17 18:35:05 INFO TaskSetManager: Finished task 424.0 in stage 11.0 (TID 41842) in 12557 ms on ip-172-31-9-35.us-west-2.compute.internal (executor 5) (425/466)\n",
      "23/01/17 18:35:06 INFO TaskSetManager: Starting task 437.0 in stage 11.0 (TID 41855, ip-172-31-9-35.us-west-2.compute.internal, executor 5, partition 437, PROCESS_LOCAL, 11075 bytes)\n",
      "23/01/17 18:35:06 INFO TaskSetManager: Finished task 425.0 in stage 11.0 (TID 41843) in 12661 ms on ip-172-31-9-35.us-west-2.compute.internal (executor 5) (426/466)\n",
      "23/01/17 18:35:08 INFO TaskSetManager: Starting task 438.0 in stage 11.0 (TID 41856, ip-172-31-1-104.us-west-2.compute.internal, executor 7, partition 438, PROCESS_LOCAL, 11075 bytes)\n",
      "23/01/17 18:35:08 INFO TaskSetManager: Finished task 428.0 in stage 11.0 (TID 41846) in 11922 ms on ip-172-31-1-104.us-west-2.compute.internal (executor 7) (427/466)\n",
      "23/01/17 18:35:08 INFO TaskSetManager: Starting task 439.0 in stage 11.0 (TID 41857, ip-172-31-1-104.us-west-2.compute.internal, executor 7, partition 439, PROCESS_LOCAL, 11075 bytes)\n",
      "23/01/17 18:35:08 INFO TaskSetManager: Finished task 429.0 in stage 11.0 (TID 41847) in 11868 ms on ip-172-31-1-104.us-west-2.compute.internal (executor 7) (428/466)\n",
      "23/01/17 18:35:09 INFO TaskSetManager: Starting task 440.0 in stage 11.0 (TID 41858, ip-172-31-9-35.us-west-2.compute.internal, executor 5, partition 440, PROCESS_LOCAL, 11075 bytes)\n",
      "23/01/17 18:35:09 INFO TaskSetManager: Finished task 427.0 in stage 11.0 (TID 41845) in 12856 ms on ip-172-31-9-35.us-west-2.compute.internal (executor 5) (429/466)\n",
      "23/01/17 18:35:09 INFO TaskSetManager: Starting task 441.0 in stage 11.0 (TID 41859, ip-172-31-1-104.us-west-2.compute.internal, executor 7, partition 441, PROCESS_LOCAL, 11075 bytes)\n",
      "23/01/17 18:35:09 INFO TaskSetManager: Finished task 430.0 in stage 11.0 (TID 41848) in 12024 ms on ip-172-31-1-104.us-west-2.compute.internal (executor 7) (430/466)\n",
      "23/01/17 18:35:10 INFO TaskSetManager: Starting task 442.0 in stage 11.0 (TID 41860, ip-172-31-1-104.us-west-2.compute.internal, executor 7, partition 442, PROCESS_LOCAL, 11075 bytes)\n",
      "23/01/17 18:35:10 INFO TaskSetManager: Finished task 426.0 in stage 11.0 (TID 41844) in 13797 ms on ip-172-31-1-104.us-west-2.compute.internal (executor 7) (431/466)\n",
      "23/01/17 18:35:10 INFO TaskSetManager: Starting task 443.0 in stage 11.0 (TID 41861, ip-172-31-1-104.us-west-2.compute.internal, executor 6, partition 443, PROCESS_LOCAL, 11075 bytes)\n",
      "23/01/17 18:35:10 INFO TaskSetManager: Finished task 432.0 in stage 11.0 (TID 41850) in 11823 ms on ip-172-31-1-104.us-west-2.compute.internal (executor 6) (432/466)\n",
      "23/01/17 18:35:10 INFO TaskSetManager: Starting task 444.0 in stage 11.0 (TID 41862, ip-172-31-1-104.us-west-2.compute.internal, executor 6, partition 444, PROCESS_LOCAL, 11075 bytes)\n",
      "23/01/17 18:35:10 INFO TaskSetManager: Finished task 433.0 in stage 11.0 (TID 41851) in 11918 ms on ip-172-31-1-104.us-west-2.compute.internal (executor 6) (433/466)\n",
      "23/01/17 18:35:11 INFO TaskSetManager: Starting task 445.0 in stage 11.0 (TID 41863, ip-172-31-1-104.us-west-2.compute.internal, executor 6, partition 445, PROCESS_LOCAL, 11075 bytes)\n",
      "23/01/17 18:35:11 INFO TaskSetManager: Finished task 434.0 in stage 11.0 (TID 41852) in 12060 ms on ip-172-31-1-104.us-west-2.compute.internal (executor 6) (434/466)\n",
      "23/01/17 18:35:12 INFO TaskSetManager: Starting task 446.0 in stage 11.0 (TID 41864, ip-172-31-9-35.us-west-2.compute.internal, executor 5, partition 446, PROCESS_LOCAL, 11075 bytes)\n",
      "23/01/17 18:35:12 INFO TaskSetManager: Finished task 431.0 in stage 11.0 (TID 41849) in 13466 ms on ip-172-31-9-35.us-west-2.compute.internal (executor 5) (435/466)\n",
      "23/01/17 18:35:12 INFO TaskSetManager: Starting task 447.0 in stage 11.0 (TID 41865, ip-172-31-1-104.us-west-2.compute.internal, executor 6, partition 447, PROCESS_LOCAL, 11075 bytes)\n",
      "23/01/17 18:35:12 INFO TaskSetManager: Finished task 435.0 in stage 11.0 (TID 41853) in 12221 ms on ip-172-31-1-104.us-west-2.compute.internal (executor 6) (436/466)\n",
      "23/01/17 18:35:17 INFO TaskSetManager: Starting task 448.0 in stage 11.0 (TID 41866, ip-172-31-9-35.us-west-2.compute.internal, executor 5, partition 448, PROCESS_LOCAL, 11075 bytes)\n",
      "23/01/17 18:35:17 INFO TaskSetManager: Finished task 436.0 in stage 11.0 (TID 41854) in 11933 ms on ip-172-31-9-35.us-west-2.compute.internal (executor 5) (437/466)\n",
      "23/01/17 18:35:18 INFO TaskSetManager: Starting task 449.0 in stage 11.0 (TID 41867, ip-172-31-9-35.us-west-2.compute.internal, executor 5, partition 449, PROCESS_LOCAL, 11075 bytes)\n",
      "23/01/17 18:35:18 INFO TaskSetManager: Finished task 437.0 in stage 11.0 (TID 41855) in 12075 ms on ip-172-31-9-35.us-west-2.compute.internal (executor 5) (438/466)\n",
      "23/01/17 18:35:21 INFO TaskSetManager: Starting task 450.0 in stage 11.0 (TID 41868, ip-172-31-1-104.us-west-2.compute.internal, executor 7, partition 450, PROCESS_LOCAL, 11075 bytes)\n",
      "23/01/17 18:35:21 INFO TaskSetManager: Finished task 438.0 in stage 11.0 (TID 41856) in 12792 ms on ip-172-31-1-104.us-west-2.compute.internal (executor 7) (439/466)\n",
      "23/01/17 18:35:21 INFO TaskSetManager: Starting task 451.0 in stage 11.0 (TID 41869, ip-172-31-9-35.us-west-2.compute.internal, executor 5, partition 451, PROCESS_LOCAL, 11075 bytes)\n",
      "23/01/17 18:35:21 INFO TaskSetManager: Finished task 440.0 in stage 11.0 (TID 41858) in 12348 ms on ip-172-31-9-35.us-west-2.compute.internal (executor 5) (440/466)\n",
      "23/01/17 18:35:22 INFO TaskSetManager: Starting task 452.0 in stage 11.0 (TID 41870, ip-172-31-1-104.us-west-2.compute.internal, executor 7, partition 452, PROCESS_LOCAL, 11075 bytes)\n",
      "23/01/17 18:35:22 INFO TaskSetManager: Finished task 439.0 in stage 11.0 (TID 41857) in 13185 ms on ip-172-31-1-104.us-west-2.compute.internal (executor 7) (441/466)\n",
      "23/01/17 18:35:22 INFO TaskSetManager: Starting task 453.0 in stage 11.0 (TID 41871, ip-172-31-1-104.us-west-2.compute.internal, executor 7, partition 453, PROCESS_LOCAL, 11075 bytes)\n",
      "23/01/17 18:35:22 INFO TaskSetManager: Finished task 441.0 in stage 11.0 (TID 41859) in 12589 ms on ip-172-31-1-104.us-west-2.compute.internal (executor 7) (442/466)\n",
      "23/01/17 18:35:22 INFO TaskSetManager: Starting task 454.0 in stage 11.0 (TID 41872, ip-172-31-1-104.us-west-2.compute.internal, executor 7, partition 454, PROCESS_LOCAL, 11075 bytes)\n",
      "23/01/17 18:35:22 INFO TaskSetManager: Finished task 442.0 in stage 11.0 (TID 41860) in 12103 ms on ip-172-31-1-104.us-west-2.compute.internal (executor 7) (443/466)\n",
      "23/01/17 18:35:22 INFO TaskSetManager: Starting task 455.0 in stage 11.0 (TID 41873, ip-172-31-1-104.us-west-2.compute.internal, executor 6, partition 455, PROCESS_LOCAL, 11075 bytes)\n",
      "23/01/17 18:35:22 INFO TaskSetManager: Finished task 443.0 in stage 11.0 (TID 41861) in 11934 ms on ip-172-31-1-104.us-west-2.compute.internal (executor 6) (444/466)\n",
      "23/01/17 18:35:22 INFO TaskSetManager: Starting task 456.0 in stage 11.0 (TID 41874, ip-172-31-1-104.us-west-2.compute.internal, executor 6, partition 456, PROCESS_LOCAL, 11075 bytes)\n",
      "23/01/17 18:35:22 INFO TaskSetManager: Finished task 444.0 in stage 11.0 (TID 41862) in 11748 ms on ip-172-31-1-104.us-west-2.compute.internal (executor 6) (445/466)\n",
      "23/01/17 18:35:23 INFO TaskSetManager: Starting task 457.0 in stage 11.0 (TID 41875, ip-172-31-1-104.us-west-2.compute.internal, executor 6, partition 457, PROCESS_LOCAL, 11075 bytes)\n",
      "23/01/17 18:35:23 INFO TaskSetManager: Finished task 445.0 in stage 11.0 (TID 41863) in 11922 ms on ip-172-31-1-104.us-west-2.compute.internal (executor 6) (446/466)\n",
      "23/01/17 18:35:24 INFO TaskSetManager: Starting task 458.0 in stage 11.0 (TID 41876, ip-172-31-1-104.us-west-2.compute.internal, executor 6, partition 458, PROCESS_LOCAL, 11075 bytes)\n",
      "23/01/17 18:35:24 INFO TaskSetManager: Finished task 447.0 in stage 11.0 (TID 41865) in 12123 ms on ip-172-31-1-104.us-west-2.compute.internal (executor 6) (447/466)\n",
      "23/01/17 18:35:24 INFO TaskSetManager: Starting task 459.0 in stage 11.0 (TID 41877, ip-172-31-9-35.us-west-2.compute.internal, executor 5, partition 459, PROCESS_LOCAL, 11075 bytes)\n",
      "23/01/17 18:35:24 INFO TaskSetManager: Finished task 446.0 in stage 11.0 (TID 41864) in 12510 ms on ip-172-31-9-35.us-west-2.compute.internal (executor 5) (448/466)\n"
     ]
    }
   ],
   "source": [
    "# # filter by actions for song plays\n",
    "# df = df.where(df.page == 'NextSong')\n",
    "# df.show(5)"
   ]
  },
  {
   "cell_type": "code",
   "execution_count": 13,
   "id": "80415a89-6d75-4ecf-9282-5dd165ae3f0a",
   "metadata": {
    "execution": {
     "iopub.execute_input": "2023-01-17T19:16:30.531055Z",
     "iopub.status.busy": "2023-01-17T19:16:30.474233Z",
     "iopub.status.idle": "2023-01-17T19:16:30.830082Z",
     "shell.execute_reply": "2023-01-17T19:16:30.794666Z",
     "shell.execute_reply.started": "2023-01-17T19:16:30.530992Z"
    },
    "tags": []
   },
   "outputs": [
    {
     "data": {
      "application/vnd.jupyter.widget-view+json": {
       "model_id": "519a32fa4da14458b1236ff0f2a297ec",
       "version_major": 2,
       "version_minor": 0
      },
      "text/plain": [
       "VBox()"
      ]
     },
     "metadata": {},
     "output_type": "display_data"
    },
    {
     "name": "stderr",
     "output_type": "stream",
     "text": [
      "An error was encountered:\n",
      "Session 2 unexpectedly reached final status 'dead'. See logs:\n",
      "stdout: \n",
      "\n",
      "stderr: \n",
      "23/01/17 18:34:38 INFO TaskSetManager: Starting task 411.0 in stage 11.0 (TID 41829, ip-172-31-1-104.us-west-2.compute.internal, executor 6, partition 411, PROCESS_LOCAL, 11075 bytes)\n",
      "23/01/17 18:34:38 INFO TaskSetManager: Finished task 399.0 in stage 11.0 (TID 41817) in 11841 ms on ip-172-31-1-104.us-west-2.compute.internal (executor 6) (400/466)\n",
      "23/01/17 18:34:42 INFO TaskSetManager: Starting task 412.0 in stage 11.0 (TID 41830, ip-172-31-9-35.us-west-2.compute.internal, executor 5, partition 412, PROCESS_LOCAL, 11075 bytes)\n",
      "23/01/17 18:34:42 INFO TaskSetManager: Finished task 400.0 in stage 11.0 (TID 41818) in 11574 ms on ip-172-31-9-35.us-west-2.compute.internal (executor 5) (401/466)\n",
      "23/01/17 18:34:43 INFO TaskSetManager: Starting task 413.0 in stage 11.0 (TID 41831, ip-172-31-9-35.us-west-2.compute.internal, executor 5, partition 413, PROCESS_LOCAL, 11075 bytes)\n",
      "23/01/17 18:34:43 INFO TaskSetManager: Finished task 401.0 in stage 11.0 (TID 41819) in 11232 ms on ip-172-31-9-35.us-west-2.compute.internal (executor 5) (402/466)\n",
      "23/01/17 18:34:45 INFO TaskSetManager: Starting task 414.0 in stage 11.0 (TID 41832, ip-172-31-9-35.us-west-2.compute.internal, executor 5, partition 414, PROCESS_LOCAL, 11075 bytes)\n",
      "23/01/17 18:34:45 INFO TaskSetManager: Finished task 402.0 in stage 11.0 (TID 41820) in 11017 ms on ip-172-31-9-35.us-west-2.compute.internal (executor 5) (403/466)\n",
      "23/01/17 18:34:45 INFO TaskSetManager: Starting task 415.0 in stage 11.0 (TID 41833, ip-172-31-1-104.us-west-2.compute.internal, executor 7, partition 415, PROCESS_LOCAL, 11075 bytes)\n",
      "23/01/17 18:34:45 INFO TaskSetManager: Finished task 403.0 in stage 11.0 (TID 41821) in 10661 ms on ip-172-31-1-104.us-west-2.compute.internal (executor 7) (404/466)\n",
      "23/01/17 18:34:45 INFO TaskSetManager: Starting task 416.0 in stage 11.0 (TID 41834, ip-172-31-1-104.us-west-2.compute.internal, executor 7, partition 416, PROCESS_LOCAL, 11075 bytes)\n",
      "23/01/17 18:34:45 INFO TaskSetManager: Finished task 404.0 in stage 11.0 (TID 41822) in 10601 ms on ip-172-31-1-104.us-west-2.compute.internal (executor 7) (405/466)\n",
      "23/01/17 18:34:46 INFO TaskSetManager: Starting task 417.0 in stage 11.0 (TID 41835, ip-172-31-1-104.us-west-2.compute.internal, executor 7, partition 417, PROCESS_LOCAL, 11075 bytes)\n",
      "23/01/17 18:34:46 INFO TaskSetManager: Finished task 405.0 in stage 11.0 (TID 41823) in 10445 ms on ip-172-31-1-104.us-west-2.compute.internal (executor 7) (406/466)\n",
      "23/01/17 18:34:46 INFO TaskSetManager: Starting task 418.0 in stage 11.0 (TID 41836, ip-172-31-1-104.us-west-2.compute.internal, executor 7, partition 418, PROCESS_LOCAL, 11075 bytes)\n",
      "23/01/17 18:34:46 INFO TaskSetManager: Finished task 406.0 in stage 11.0 (TID 41824) in 10663 ms on ip-172-31-1-104.us-west-2.compute.internal (executor 7) (407/466)\n",
      "23/01/17 18:34:47 INFO TaskSetManager: Starting task 419.0 in stage 11.0 (TID 41837, ip-172-31-9-35.us-west-2.compute.internal, executor 5, partition 419, PROCESS_LOCAL, 11075 bytes)\n",
      "23/01/17 18:34:47 INFO TaskSetManager: Finished task 407.0 in stage 11.0 (TID 41825) in 11364 ms on ip-172-31-9-35.us-west-2.compute.internal (executor 5) (408/466)\n",
      "23/01/17 18:34:47 INFO TaskSetManager: Starting task 420.0 in stage 11.0 (TID 41838, ip-172-31-1-104.us-west-2.compute.internal, executor 6, partition 420, PROCESS_LOCAL, 11075 bytes)\n",
      "23/01/17 18:34:47 INFO TaskSetManager: Finished task 409.0 in stage 11.0 (TID 41827) in 11282 ms on ip-172-31-1-104.us-west-2.compute.internal (executor 6) (409/466)\n",
      "23/01/17 18:34:48 INFO TaskSetManager: Starting task 421.0 in stage 11.0 (TID 41839, ip-172-31-1-104.us-west-2.compute.internal, executor 6, partition 421, PROCESS_LOCAL, 11075 bytes)\n",
      "23/01/17 18:34:48 INFO TaskSetManager: Finished task 408.0 in stage 11.0 (TID 41826) in 11594 ms on ip-172-31-1-104.us-west-2.compute.internal (executor 6) (410/466)\n",
      "23/01/17 18:34:48 INFO TaskSetManager: Starting task 422.0 in stage 11.0 (TID 41840, ip-172-31-1-104.us-west-2.compute.internal, executor 6, partition 422, PROCESS_LOCAL, 11075 bytes)\n",
      "23/01/17 18:34:48 INFO TaskSetManager: Finished task 410.0 in stage 11.0 (TID 41828) in 11385 ms on ip-172-31-1-104.us-west-2.compute.internal (executor 6) (411/466)\n",
      "23/01/17 18:34:49 INFO TaskSetManager: Starting task 423.0 in stage 11.0 (TID 41841, ip-172-31-1-104.us-west-2.compute.internal, executor 6, partition 423, PROCESS_LOCAL, 11075 bytes)\n",
      "23/01/17 18:34:49 INFO TaskSetManager: Finished task 411.0 in stage 11.0 (TID 41829) in 11198 ms on ip-172-31-1-104.us-west-2.compute.internal (executor 6) (412/466)\n",
      "23/01/17 18:34:53 INFO TaskSetManager: Starting task 424.0 in stage 11.0 (TID 41842, ip-172-31-9-35.us-west-2.compute.internal, executor 5, partition 424, PROCESS_LOCAL, 11075 bytes)\n",
      "23/01/17 18:34:53 INFO TaskSetManager: Finished task 412.0 in stage 11.0 (TID 41830) in 11275 ms on ip-172-31-9-35.us-west-2.compute.internal (executor 5) (413/466)\n",
      "23/01/17 18:34:54 INFO TaskSetManager: Starting task 425.0 in stage 11.0 (TID 41843, ip-172-31-9-35.us-west-2.compute.internal, executor 5, partition 425, PROCESS_LOCAL, 11075 bytes)\n",
      "23/01/17 18:34:54 INFO TaskSetManager: Finished task 413.0 in stage 11.0 (TID 41831) in 11106 ms on ip-172-31-9-35.us-west-2.compute.internal (executor 5) (414/466)\n",
      "23/01/17 18:34:56 INFO TaskSetManager: Starting task 426.0 in stage 11.0 (TID 41844, ip-172-31-1-104.us-west-2.compute.internal, executor 7, partition 426, PROCESS_LOCAL, 11075 bytes)\n",
      "23/01/17 18:34:56 INFO TaskSetManager: Finished task 415.0 in stage 11.0 (TID 41833) in 10930 ms on ip-172-31-1-104.us-west-2.compute.internal (executor 7) (415/466)\n",
      "23/01/17 18:34:56 INFO TaskSetManager: Starting task 427.0 in stage 11.0 (TID 41845, ip-172-31-9-35.us-west-2.compute.internal, executor 5, partition 427, PROCESS_LOCAL, 11075 bytes)\n",
      "23/01/17 18:34:56 INFO TaskSetManager: Finished task 414.0 in stage 11.0 (TID 41832) in 11596 ms on ip-172-31-9-35.us-west-2.compute.internal (executor 5) (416/466)\n",
      "23/01/17 18:34:56 INFO TaskSetManager: Starting task 428.0 in stage 11.0 (TID 41846, ip-172-31-1-104.us-west-2.compute.internal, executor 7, partition 428, PROCESS_LOCAL, 11075 bytes)\n",
      "23/01/17 18:34:56 INFO TaskSetManager: Finished task 417.0 in stage 11.0 (TID 41835) in 10684 ms on ip-172-31-1-104.us-west-2.compute.internal (executor 7) (417/466)\n",
      "23/01/17 18:34:57 INFO TaskSetManager: Starting task 429.0 in stage 11.0 (TID 41847, ip-172-31-1-104.us-west-2.compute.internal, executor 7, partition 429, PROCESS_LOCAL, 11075 bytes)\n",
      "23/01/17 18:34:57 INFO TaskSetManager: Finished task 416.0 in stage 11.0 (TID 41834) in 11117 ms on ip-172-31-1-104.us-west-2.compute.internal (executor 7) (418/466)\n",
      "23/01/17 18:34:57 INFO TaskSetManager: Starting task 430.0 in stage 11.0 (TID 41848, ip-172-31-1-104.us-west-2.compute.internal, executor 7, partition 430, PROCESS_LOCAL, 11075 bytes)\n",
      "23/01/17 18:34:57 INFO TaskSetManager: Finished task 418.0 in stage 11.0 (TID 41836) in 10716 ms on ip-172-31-1-104.us-west-2.compute.internal (executor 7) (419/466)\n",
      "23/01/17 18:34:58 INFO TaskSetManager: Starting task 431.0 in stage 11.0 (TID 41849, ip-172-31-9-35.us-west-2.compute.internal, executor 5, partition 431, PROCESS_LOCAL, 11075 bytes)\n",
      "23/01/17 18:34:58 INFO TaskSetManager: Finished task 419.0 in stage 11.0 (TID 41837) in 11219 ms on ip-172-31-9-35.us-west-2.compute.internal (executor 5) (420/466)\n",
      "23/01/17 18:34:58 INFO TaskSetManager: Starting task 432.0 in stage 11.0 (TID 41850, ip-172-31-1-104.us-west-2.compute.internal, executor 6, partition 432, PROCESS_LOCAL, 11075 bytes)\n",
      "23/01/17 18:34:58 INFO TaskSetManager: Finished task 420.0 in stage 11.0 (TID 41838) in 11160 ms on ip-172-31-1-104.us-west-2.compute.internal (executor 6) (421/466)\n",
      "23/01/17 18:34:59 INFO TaskSetManager: Starting task 433.0 in stage 11.0 (TID 41851, ip-172-31-1-104.us-west-2.compute.internal, executor 6, partition 433, PROCESS_LOCAL, 11075 bytes)\n",
      "23/01/17 18:34:59 INFO TaskSetManager: Finished task 422.0 in stage 11.0 (TID 41840) in 10933 ms on ip-172-31-1-104.us-west-2.compute.internal (executor 6) (422/466)\n",
      "23/01/17 18:34:59 INFO TaskSetManager: Starting task 434.0 in stage 11.0 (TID 41852, ip-172-31-1-104.us-west-2.compute.internal, executor 6, partition 434, PROCESS_LOCAL, 11075 bytes)\n",
      "23/01/17 18:34:59 INFO TaskSetManager: Finished task 421.0 in stage 11.0 (TID 41839) in 11017 ms on ip-172-31-1-104.us-west-2.compute.internal (executor 6) (423/466)\n",
      "23/01/17 18:35:00 INFO TaskSetManager: Starting task 435.0 in stage 11.0 (TID 41853, ip-172-31-1-104.us-west-2.compute.internal, executor 6, partition 435, PROCESS_LOCAL, 11075 bytes)\n",
      "23/01/17 18:35:00 INFO TaskSetManager: Finished task 423.0 in stage 11.0 (TID 41841) in 10647 ms on ip-172-31-1-104.us-west-2.compute.internal (executor 6) (424/466)\n",
      "23/01/17 18:35:05 INFO TaskSetManager: Starting task 436.0 in stage 11.0 (TID 41854, ip-172-31-9-35.us-west-2.compute.internal, executor 5, partition 436, PROCESS_LOCAL, 11075 bytes)\n",
      "23/01/17 18:35:05 INFO TaskSetManager: Finished task 424.0 in stage 11.0 (TID 41842) in 12557 ms on ip-172-31-9-35.us-west-2.compute.internal (executor 5) (425/466)\n",
      "23/01/17 18:35:06 INFO TaskSetManager: Starting task 437.0 in stage 11.0 (TID 41855, ip-172-31-9-35.us-west-2.compute.internal, executor 5, partition 437, PROCESS_LOCAL, 11075 bytes)\n",
      "23/01/17 18:35:06 INFO TaskSetManager: Finished task 425.0 in stage 11.0 (TID 41843) in 12661 ms on ip-172-31-9-35.us-west-2.compute.internal (executor 5) (426/466)\n",
      "23/01/17 18:35:08 INFO TaskSetManager: Starting task 438.0 in stage 11.0 (TID 41856, ip-172-31-1-104.us-west-2.compute.internal, executor 7, partition 438, PROCESS_LOCAL, 11075 bytes)\n",
      "23/01/17 18:35:08 INFO TaskSetManager: Finished task 428.0 in stage 11.0 (TID 41846) in 11922 ms on ip-172-31-1-104.us-west-2.compute.internal (executor 7) (427/466)\n",
      "23/01/17 18:35:08 INFO TaskSetManager: Starting task 439.0 in stage 11.0 (TID 41857, ip-172-31-1-104.us-west-2.compute.internal, executor 7, partition 439, PROCESS_LOCAL, 11075 bytes)\n",
      "23/01/17 18:35:08 INFO TaskSetManager: Finished task 429.0 in stage 11.0 (TID 41847) in 11868 ms on ip-172-31-1-104.us-west-2.compute.internal (executor 7) (428/466)\n",
      "23/01/17 18:35:09 INFO TaskSetManager: Starting task 440.0 in stage 11.0 (TID 41858, ip-172-31-9-35.us-west-2.compute.internal, executor 5, partition 440, PROCESS_LOCAL, 11075 bytes)\n",
      "23/01/17 18:35:09 INFO TaskSetManager: Finished task 427.0 in stage 11.0 (TID 41845) in 12856 ms on ip-172-31-9-35.us-west-2.compute.internal (executor 5) (429/466)\n",
      "23/01/17 18:35:09 INFO TaskSetManager: Starting task 441.0 in stage 11.0 (TID 41859, ip-172-31-1-104.us-west-2.compute.internal, executor 7, partition 441, PROCESS_LOCAL, 11075 bytes)\n",
      "23/01/17 18:35:09 INFO TaskSetManager: Finished task 430.0 in stage 11.0 (TID 41848) in 12024 ms on ip-172-31-1-104.us-west-2.compute.internal (executor 7) (430/466)\n",
      "23/01/17 18:35:10 INFO TaskSetManager: Starting task 442.0 in stage 11.0 (TID 41860, ip-172-31-1-104.us-west-2.compute.internal, executor 7, partition 442, PROCESS_LOCAL, 11075 bytes)\n",
      "23/01/17 18:35:10 INFO TaskSetManager: Finished task 426.0 in stage 11.0 (TID 41844) in 13797 ms on ip-172-31-1-104.us-west-2.compute.internal (executor 7) (431/466)\n",
      "23/01/17 18:35:10 INFO TaskSetManager: Starting task 443.0 in stage 11.0 (TID 41861, ip-172-31-1-104.us-west-2.compute.internal, executor 6, partition 443, PROCESS_LOCAL, 11075 bytes)\n",
      "23/01/17 18:35:10 INFO TaskSetManager: Finished task 432.0 in stage 11.0 (TID 41850) in 11823 ms on ip-172-31-1-104.us-west-2.compute.internal (executor 6) (432/466)\n",
      "23/01/17 18:35:10 INFO TaskSetManager: Starting task 444.0 in stage 11.0 (TID 41862, ip-172-31-1-104.us-west-2.compute.internal, executor 6, partition 444, PROCESS_LOCAL, 11075 bytes)\n",
      "23/01/17 18:35:10 INFO TaskSetManager: Finished task 433.0 in stage 11.0 (TID 41851) in 11918 ms on ip-172-31-1-104.us-west-2.compute.internal (executor 6) (433/466)\n",
      "23/01/17 18:35:11 INFO TaskSetManager: Starting task 445.0 in stage 11.0 (TID 41863, ip-172-31-1-104.us-west-2.compute.internal, executor 6, partition 445, PROCESS_LOCAL, 11075 bytes)\n",
      "23/01/17 18:35:11 INFO TaskSetManager: Finished task 434.0 in stage 11.0 (TID 41852) in 12060 ms on ip-172-31-1-104.us-west-2.compute.internal (executor 6) (434/466)\n",
      "23/01/17 18:35:12 INFO TaskSetManager: Starting task 446.0 in stage 11.0 (TID 41864, ip-172-31-9-35.us-west-2.compute.internal, executor 5, partition 446, PROCESS_LOCAL, 11075 bytes)\n",
      "23/01/17 18:35:12 INFO TaskSetManager: Finished task 431.0 in stage 11.0 (TID 41849) in 13466 ms on ip-172-31-9-35.us-west-2.compute.internal (executor 5) (435/466)\n",
      "23/01/17 18:35:12 INFO TaskSetManager: Starting task 447.0 in stage 11.0 (TID 41865, ip-172-31-1-104.us-west-2.compute.internal, executor 6, partition 447, PROCESS_LOCAL, 11075 bytes)\n",
      "23/01/17 18:35:12 INFO TaskSetManager: Finished task 435.0 in stage 11.0 (TID 41853) in 12221 ms on ip-172-31-1-104.us-west-2.compute.internal (executor 6) (436/466)\n",
      "23/01/17 18:35:17 INFO TaskSetManager: Starting task 448.0 in stage 11.0 (TID 41866, ip-172-31-9-35.us-west-2.compute.internal, executor 5, partition 448, PROCESS_LOCAL, 11075 bytes)\n",
      "23/01/17 18:35:17 INFO TaskSetManager: Finished task 436.0 in stage 11.0 (TID 41854) in 11933 ms on ip-172-31-9-35.us-west-2.compute.internal (executor 5) (437/466)\n",
      "23/01/17 18:35:18 INFO TaskSetManager: Starting task 449.0 in stage 11.0 (TID 41867, ip-172-31-9-35.us-west-2.compute.internal, executor 5, partition 449, PROCESS_LOCAL, 11075 bytes)\n",
      "23/01/17 18:35:18 INFO TaskSetManager: Finished task 437.0 in stage 11.0 (TID 41855) in 12075 ms on ip-172-31-9-35.us-west-2.compute.internal (executor 5) (438/466)\n",
      "23/01/17 18:35:21 INFO TaskSetManager: Starting task 450.0 in stage 11.0 (TID 41868, ip-172-31-1-104.us-west-2.compute.internal, executor 7, partition 450, PROCESS_LOCAL, 11075 bytes)\n",
      "23/01/17 18:35:21 INFO TaskSetManager: Finished task 438.0 in stage 11.0 (TID 41856) in 12792 ms on ip-172-31-1-104.us-west-2.compute.internal (executor 7) (439/466)\n",
      "23/01/17 18:35:21 INFO TaskSetManager: Starting task 451.0 in stage 11.0 (TID 41869, ip-172-31-9-35.us-west-2.compute.internal, executor 5, partition 451, PROCESS_LOCAL, 11075 bytes)\n",
      "23/01/17 18:35:21 INFO TaskSetManager: Finished task 440.0 in stage 11.0 (TID 41858) in 12348 ms on ip-172-31-9-35.us-west-2.compute.internal (executor 5) (440/466)\n",
      "23/01/17 18:35:22 INFO TaskSetManager: Starting task 452.0 in stage 11.0 (TID 41870, ip-172-31-1-104.us-west-2.compute.internal, executor 7, partition 452, PROCESS_LOCAL, 11075 bytes)\n",
      "23/01/17 18:35:22 INFO TaskSetManager: Finished task 439.0 in stage 11.0 (TID 41857) in 13185 ms on ip-172-31-1-104.us-west-2.compute.internal (executor 7) (441/466)\n",
      "23/01/17 18:35:22 INFO TaskSetManager: Starting task 453.0 in stage 11.0 (TID 41871, ip-172-31-1-104.us-west-2.compute.internal, executor 7, partition 453, PROCESS_LOCAL, 11075 bytes)\n",
      "23/01/17 18:35:22 INFO TaskSetManager: Finished task 441.0 in stage 11.0 (TID 41859) in 12589 ms on ip-172-31-1-104.us-west-2.compute.internal (executor 7) (442/466)\n",
      "23/01/17 18:35:22 INFO TaskSetManager: Starting task 454.0 in stage 11.0 (TID 41872, ip-172-31-1-104.us-west-2.compute.internal, executor 7, partition 454, PROCESS_LOCAL, 11075 bytes)\n",
      "23/01/17 18:35:22 INFO TaskSetManager: Finished task 442.0 in stage 11.0 (TID 41860) in 12103 ms on ip-172-31-1-104.us-west-2.compute.internal (executor 7) (443/466)\n",
      "23/01/17 18:35:22 INFO TaskSetManager: Starting task 455.0 in stage 11.0 (TID 41873, ip-172-31-1-104.us-west-2.compute.internal, executor 6, partition 455, PROCESS_LOCAL, 11075 bytes)\n",
      "23/01/17 18:35:22 INFO TaskSetManager: Finished task 443.0 in stage 11.0 (TID 41861) in 11934 ms on ip-172-31-1-104.us-west-2.compute.internal (executor 6) (444/466)\n",
      "23/01/17 18:35:22 INFO TaskSetManager: Starting task 456.0 in stage 11.0 (TID 41874, ip-172-31-1-104.us-west-2.compute.internal, executor 6, partition 456, PROCESS_LOCAL, 11075 bytes)\n",
      "23/01/17 18:35:22 INFO TaskSetManager: Finished task 444.0 in stage 11.0 (TID 41862) in 11748 ms on ip-172-31-1-104.us-west-2.compute.internal (executor 6) (445/466)\n",
      "23/01/17 18:35:23 INFO TaskSetManager: Starting task 457.0 in stage 11.0 (TID 41875, ip-172-31-1-104.us-west-2.compute.internal, executor 6, partition 457, PROCESS_LOCAL, 11075 bytes)\n",
      "23/01/17 18:35:23 INFO TaskSetManager: Finished task 445.0 in stage 11.0 (TID 41863) in 11922 ms on ip-172-31-1-104.us-west-2.compute.internal (executor 6) (446/466)\n",
      "23/01/17 18:35:24 INFO TaskSetManager: Starting task 458.0 in stage 11.0 (TID 41876, ip-172-31-1-104.us-west-2.compute.internal, executor 6, partition 458, PROCESS_LOCAL, 11075 bytes)\n",
      "23/01/17 18:35:24 INFO TaskSetManager: Finished task 447.0 in stage 11.0 (TID 41865) in 12123 ms on ip-172-31-1-104.us-west-2.compute.internal (executor 6) (447/466)\n",
      "23/01/17 18:35:24 INFO TaskSetManager: Starting task 459.0 in stage 11.0 (TID 41877, ip-172-31-9-35.us-west-2.compute.internal, executor 5, partition 459, PROCESS_LOCAL, 11075 bytes)\n",
      "23/01/17 18:35:24 INFO TaskSetManager: Finished task 446.0 in stage 11.0 (TID 41864) in 12510 ms on ip-172-31-9-35.us-west-2.compute.internal (executor 5) (448/466)\n"
     ]
    }
   ],
   "source": [
    "# # extract columns for users table    \n",
    "# users_table = df.select('userId','firstName','lastName','gender','level')\n",
    "# users_table.show(5)"
   ]
  },
  {
   "cell_type": "code",
   "execution_count": 14,
   "id": "fc163abf-7ff3-44af-a9b6-adb1a71bf2d3",
   "metadata": {
    "execution": {
     "iopub.execute_input": "2023-01-17T19:16:30.832191Z",
     "iopub.status.busy": "2023-01-17T19:16:30.831573Z",
     "iopub.status.idle": "2023-01-17T19:16:31.251742Z",
     "shell.execute_reply": "2023-01-17T19:16:31.250769Z",
     "shell.execute_reply.started": "2023-01-17T19:16:30.832151Z"
    },
    "tags": []
   },
   "outputs": [
    {
     "data": {
      "application/vnd.jupyter.widget-view+json": {
       "model_id": "258f3a17e2ee4d7590f8a0262558a8db",
       "version_major": 2,
       "version_minor": 0
      },
      "text/plain": [
       "VBox()"
      ]
     },
     "metadata": {},
     "output_type": "display_data"
    },
    {
     "name": "stderr",
     "output_type": "stream",
     "text": [
      "An error was encountered:\n",
      "Session 2 unexpectedly reached final status 'dead'. See logs:\n",
      "stdout: \n",
      "\n",
      "stderr: \n",
      "23/01/17 18:34:38 INFO TaskSetManager: Starting task 411.0 in stage 11.0 (TID 41829, ip-172-31-1-104.us-west-2.compute.internal, executor 6, partition 411, PROCESS_LOCAL, 11075 bytes)\n",
      "23/01/17 18:34:38 INFO TaskSetManager: Finished task 399.0 in stage 11.0 (TID 41817) in 11841 ms on ip-172-31-1-104.us-west-2.compute.internal (executor 6) (400/466)\n",
      "23/01/17 18:34:42 INFO TaskSetManager: Starting task 412.0 in stage 11.0 (TID 41830, ip-172-31-9-35.us-west-2.compute.internal, executor 5, partition 412, PROCESS_LOCAL, 11075 bytes)\n",
      "23/01/17 18:34:42 INFO TaskSetManager: Finished task 400.0 in stage 11.0 (TID 41818) in 11574 ms on ip-172-31-9-35.us-west-2.compute.internal (executor 5) (401/466)\n",
      "23/01/17 18:34:43 INFO TaskSetManager: Starting task 413.0 in stage 11.0 (TID 41831, ip-172-31-9-35.us-west-2.compute.internal, executor 5, partition 413, PROCESS_LOCAL, 11075 bytes)\n",
      "23/01/17 18:34:43 INFO TaskSetManager: Finished task 401.0 in stage 11.0 (TID 41819) in 11232 ms on ip-172-31-9-35.us-west-2.compute.internal (executor 5) (402/466)\n",
      "23/01/17 18:34:45 INFO TaskSetManager: Starting task 414.0 in stage 11.0 (TID 41832, ip-172-31-9-35.us-west-2.compute.internal, executor 5, partition 414, PROCESS_LOCAL, 11075 bytes)\n",
      "23/01/17 18:34:45 INFO TaskSetManager: Finished task 402.0 in stage 11.0 (TID 41820) in 11017 ms on ip-172-31-9-35.us-west-2.compute.internal (executor 5) (403/466)\n",
      "23/01/17 18:34:45 INFO TaskSetManager: Starting task 415.0 in stage 11.0 (TID 41833, ip-172-31-1-104.us-west-2.compute.internal, executor 7, partition 415, PROCESS_LOCAL, 11075 bytes)\n",
      "23/01/17 18:34:45 INFO TaskSetManager: Finished task 403.0 in stage 11.0 (TID 41821) in 10661 ms on ip-172-31-1-104.us-west-2.compute.internal (executor 7) (404/466)\n",
      "23/01/17 18:34:45 INFO TaskSetManager: Starting task 416.0 in stage 11.0 (TID 41834, ip-172-31-1-104.us-west-2.compute.internal, executor 7, partition 416, PROCESS_LOCAL, 11075 bytes)\n",
      "23/01/17 18:34:45 INFO TaskSetManager: Finished task 404.0 in stage 11.0 (TID 41822) in 10601 ms on ip-172-31-1-104.us-west-2.compute.internal (executor 7) (405/466)\n",
      "23/01/17 18:34:46 INFO TaskSetManager: Starting task 417.0 in stage 11.0 (TID 41835, ip-172-31-1-104.us-west-2.compute.internal, executor 7, partition 417, PROCESS_LOCAL, 11075 bytes)\n",
      "23/01/17 18:34:46 INFO TaskSetManager: Finished task 405.0 in stage 11.0 (TID 41823) in 10445 ms on ip-172-31-1-104.us-west-2.compute.internal (executor 7) (406/466)\n",
      "23/01/17 18:34:46 INFO TaskSetManager: Starting task 418.0 in stage 11.0 (TID 41836, ip-172-31-1-104.us-west-2.compute.internal, executor 7, partition 418, PROCESS_LOCAL, 11075 bytes)\n",
      "23/01/17 18:34:46 INFO TaskSetManager: Finished task 406.0 in stage 11.0 (TID 41824) in 10663 ms on ip-172-31-1-104.us-west-2.compute.internal (executor 7) (407/466)\n",
      "23/01/17 18:34:47 INFO TaskSetManager: Starting task 419.0 in stage 11.0 (TID 41837, ip-172-31-9-35.us-west-2.compute.internal, executor 5, partition 419, PROCESS_LOCAL, 11075 bytes)\n",
      "23/01/17 18:34:47 INFO TaskSetManager: Finished task 407.0 in stage 11.0 (TID 41825) in 11364 ms on ip-172-31-9-35.us-west-2.compute.internal (executor 5) (408/466)\n",
      "23/01/17 18:34:47 INFO TaskSetManager: Starting task 420.0 in stage 11.0 (TID 41838, ip-172-31-1-104.us-west-2.compute.internal, executor 6, partition 420, PROCESS_LOCAL, 11075 bytes)\n",
      "23/01/17 18:34:47 INFO TaskSetManager: Finished task 409.0 in stage 11.0 (TID 41827) in 11282 ms on ip-172-31-1-104.us-west-2.compute.internal (executor 6) (409/466)\n",
      "23/01/17 18:34:48 INFO TaskSetManager: Starting task 421.0 in stage 11.0 (TID 41839, ip-172-31-1-104.us-west-2.compute.internal, executor 6, partition 421, PROCESS_LOCAL, 11075 bytes)\n",
      "23/01/17 18:34:48 INFO TaskSetManager: Finished task 408.0 in stage 11.0 (TID 41826) in 11594 ms on ip-172-31-1-104.us-west-2.compute.internal (executor 6) (410/466)\n",
      "23/01/17 18:34:48 INFO TaskSetManager: Starting task 422.0 in stage 11.0 (TID 41840, ip-172-31-1-104.us-west-2.compute.internal, executor 6, partition 422, PROCESS_LOCAL, 11075 bytes)\n",
      "23/01/17 18:34:48 INFO TaskSetManager: Finished task 410.0 in stage 11.0 (TID 41828) in 11385 ms on ip-172-31-1-104.us-west-2.compute.internal (executor 6) (411/466)\n",
      "23/01/17 18:34:49 INFO TaskSetManager: Starting task 423.0 in stage 11.0 (TID 41841, ip-172-31-1-104.us-west-2.compute.internal, executor 6, partition 423, PROCESS_LOCAL, 11075 bytes)\n",
      "23/01/17 18:34:49 INFO TaskSetManager: Finished task 411.0 in stage 11.0 (TID 41829) in 11198 ms on ip-172-31-1-104.us-west-2.compute.internal (executor 6) (412/466)\n",
      "23/01/17 18:34:53 INFO TaskSetManager: Starting task 424.0 in stage 11.0 (TID 41842, ip-172-31-9-35.us-west-2.compute.internal, executor 5, partition 424, PROCESS_LOCAL, 11075 bytes)\n",
      "23/01/17 18:34:53 INFO TaskSetManager: Finished task 412.0 in stage 11.0 (TID 41830) in 11275 ms on ip-172-31-9-35.us-west-2.compute.internal (executor 5) (413/466)\n",
      "23/01/17 18:34:54 INFO TaskSetManager: Starting task 425.0 in stage 11.0 (TID 41843, ip-172-31-9-35.us-west-2.compute.internal, executor 5, partition 425, PROCESS_LOCAL, 11075 bytes)\n",
      "23/01/17 18:34:54 INFO TaskSetManager: Finished task 413.0 in stage 11.0 (TID 41831) in 11106 ms on ip-172-31-9-35.us-west-2.compute.internal (executor 5) (414/466)\n",
      "23/01/17 18:34:56 INFO TaskSetManager: Starting task 426.0 in stage 11.0 (TID 41844, ip-172-31-1-104.us-west-2.compute.internal, executor 7, partition 426, PROCESS_LOCAL, 11075 bytes)\n",
      "23/01/17 18:34:56 INFO TaskSetManager: Finished task 415.0 in stage 11.0 (TID 41833) in 10930 ms on ip-172-31-1-104.us-west-2.compute.internal (executor 7) (415/466)\n",
      "23/01/17 18:34:56 INFO TaskSetManager: Starting task 427.0 in stage 11.0 (TID 41845, ip-172-31-9-35.us-west-2.compute.internal, executor 5, partition 427, PROCESS_LOCAL, 11075 bytes)\n",
      "23/01/17 18:34:56 INFO TaskSetManager: Finished task 414.0 in stage 11.0 (TID 41832) in 11596 ms on ip-172-31-9-35.us-west-2.compute.internal (executor 5) (416/466)\n",
      "23/01/17 18:34:56 INFO TaskSetManager: Starting task 428.0 in stage 11.0 (TID 41846, ip-172-31-1-104.us-west-2.compute.internal, executor 7, partition 428, PROCESS_LOCAL, 11075 bytes)\n",
      "23/01/17 18:34:56 INFO TaskSetManager: Finished task 417.0 in stage 11.0 (TID 41835) in 10684 ms on ip-172-31-1-104.us-west-2.compute.internal (executor 7) (417/466)\n",
      "23/01/17 18:34:57 INFO TaskSetManager: Starting task 429.0 in stage 11.0 (TID 41847, ip-172-31-1-104.us-west-2.compute.internal, executor 7, partition 429, PROCESS_LOCAL, 11075 bytes)\n",
      "23/01/17 18:34:57 INFO TaskSetManager: Finished task 416.0 in stage 11.0 (TID 41834) in 11117 ms on ip-172-31-1-104.us-west-2.compute.internal (executor 7) (418/466)\n",
      "23/01/17 18:34:57 INFO TaskSetManager: Starting task 430.0 in stage 11.0 (TID 41848, ip-172-31-1-104.us-west-2.compute.internal, executor 7, partition 430, PROCESS_LOCAL, 11075 bytes)\n",
      "23/01/17 18:34:57 INFO TaskSetManager: Finished task 418.0 in stage 11.0 (TID 41836) in 10716 ms on ip-172-31-1-104.us-west-2.compute.internal (executor 7) (419/466)\n",
      "23/01/17 18:34:58 INFO TaskSetManager: Starting task 431.0 in stage 11.0 (TID 41849, ip-172-31-9-35.us-west-2.compute.internal, executor 5, partition 431, PROCESS_LOCAL, 11075 bytes)\n",
      "23/01/17 18:34:58 INFO TaskSetManager: Finished task 419.0 in stage 11.0 (TID 41837) in 11219 ms on ip-172-31-9-35.us-west-2.compute.internal (executor 5) (420/466)\n",
      "23/01/17 18:34:58 INFO TaskSetManager: Starting task 432.0 in stage 11.0 (TID 41850, ip-172-31-1-104.us-west-2.compute.internal, executor 6, partition 432, PROCESS_LOCAL, 11075 bytes)\n",
      "23/01/17 18:34:58 INFO TaskSetManager: Finished task 420.0 in stage 11.0 (TID 41838) in 11160 ms on ip-172-31-1-104.us-west-2.compute.internal (executor 6) (421/466)\n",
      "23/01/17 18:34:59 INFO TaskSetManager: Starting task 433.0 in stage 11.0 (TID 41851, ip-172-31-1-104.us-west-2.compute.internal, executor 6, partition 433, PROCESS_LOCAL, 11075 bytes)\n",
      "23/01/17 18:34:59 INFO TaskSetManager: Finished task 422.0 in stage 11.0 (TID 41840) in 10933 ms on ip-172-31-1-104.us-west-2.compute.internal (executor 6) (422/466)\n",
      "23/01/17 18:34:59 INFO TaskSetManager: Starting task 434.0 in stage 11.0 (TID 41852, ip-172-31-1-104.us-west-2.compute.internal, executor 6, partition 434, PROCESS_LOCAL, 11075 bytes)\n",
      "23/01/17 18:34:59 INFO TaskSetManager: Finished task 421.0 in stage 11.0 (TID 41839) in 11017 ms on ip-172-31-1-104.us-west-2.compute.internal (executor 6) (423/466)\n",
      "23/01/17 18:35:00 INFO TaskSetManager: Starting task 435.0 in stage 11.0 (TID 41853, ip-172-31-1-104.us-west-2.compute.internal, executor 6, partition 435, PROCESS_LOCAL, 11075 bytes)\n",
      "23/01/17 18:35:00 INFO TaskSetManager: Finished task 423.0 in stage 11.0 (TID 41841) in 10647 ms on ip-172-31-1-104.us-west-2.compute.internal (executor 6) (424/466)\n",
      "23/01/17 18:35:05 INFO TaskSetManager: Starting task 436.0 in stage 11.0 (TID 41854, ip-172-31-9-35.us-west-2.compute.internal, executor 5, partition 436, PROCESS_LOCAL, 11075 bytes)\n",
      "23/01/17 18:35:05 INFO TaskSetManager: Finished task 424.0 in stage 11.0 (TID 41842) in 12557 ms on ip-172-31-9-35.us-west-2.compute.internal (executor 5) (425/466)\n",
      "23/01/17 18:35:06 INFO TaskSetManager: Starting task 437.0 in stage 11.0 (TID 41855, ip-172-31-9-35.us-west-2.compute.internal, executor 5, partition 437, PROCESS_LOCAL, 11075 bytes)\n",
      "23/01/17 18:35:06 INFO TaskSetManager: Finished task 425.0 in stage 11.0 (TID 41843) in 12661 ms on ip-172-31-9-35.us-west-2.compute.internal (executor 5) (426/466)\n",
      "23/01/17 18:35:08 INFO TaskSetManager: Starting task 438.0 in stage 11.0 (TID 41856, ip-172-31-1-104.us-west-2.compute.internal, executor 7, partition 438, PROCESS_LOCAL, 11075 bytes)\n",
      "23/01/17 18:35:08 INFO TaskSetManager: Finished task 428.0 in stage 11.0 (TID 41846) in 11922 ms on ip-172-31-1-104.us-west-2.compute.internal (executor 7) (427/466)\n",
      "23/01/17 18:35:08 INFO TaskSetManager: Starting task 439.0 in stage 11.0 (TID 41857, ip-172-31-1-104.us-west-2.compute.internal, executor 7, partition 439, PROCESS_LOCAL, 11075 bytes)\n",
      "23/01/17 18:35:08 INFO TaskSetManager: Finished task 429.0 in stage 11.0 (TID 41847) in 11868 ms on ip-172-31-1-104.us-west-2.compute.internal (executor 7) (428/466)\n",
      "23/01/17 18:35:09 INFO TaskSetManager: Starting task 440.0 in stage 11.0 (TID 41858, ip-172-31-9-35.us-west-2.compute.internal, executor 5, partition 440, PROCESS_LOCAL, 11075 bytes)\n",
      "23/01/17 18:35:09 INFO TaskSetManager: Finished task 427.0 in stage 11.0 (TID 41845) in 12856 ms on ip-172-31-9-35.us-west-2.compute.internal (executor 5) (429/466)\n",
      "23/01/17 18:35:09 INFO TaskSetManager: Starting task 441.0 in stage 11.0 (TID 41859, ip-172-31-1-104.us-west-2.compute.internal, executor 7, partition 441, PROCESS_LOCAL, 11075 bytes)\n",
      "23/01/17 18:35:09 INFO TaskSetManager: Finished task 430.0 in stage 11.0 (TID 41848) in 12024 ms on ip-172-31-1-104.us-west-2.compute.internal (executor 7) (430/466)\n",
      "23/01/17 18:35:10 INFO TaskSetManager: Starting task 442.0 in stage 11.0 (TID 41860, ip-172-31-1-104.us-west-2.compute.internal, executor 7, partition 442, PROCESS_LOCAL, 11075 bytes)\n",
      "23/01/17 18:35:10 INFO TaskSetManager: Finished task 426.0 in stage 11.0 (TID 41844) in 13797 ms on ip-172-31-1-104.us-west-2.compute.internal (executor 7) (431/466)\n",
      "23/01/17 18:35:10 INFO TaskSetManager: Starting task 443.0 in stage 11.0 (TID 41861, ip-172-31-1-104.us-west-2.compute.internal, executor 6, partition 443, PROCESS_LOCAL, 11075 bytes)\n",
      "23/01/17 18:35:10 INFO TaskSetManager: Finished task 432.0 in stage 11.0 (TID 41850) in 11823 ms on ip-172-31-1-104.us-west-2.compute.internal (executor 6) (432/466)\n",
      "23/01/17 18:35:10 INFO TaskSetManager: Starting task 444.0 in stage 11.0 (TID 41862, ip-172-31-1-104.us-west-2.compute.internal, executor 6, partition 444, PROCESS_LOCAL, 11075 bytes)\n",
      "23/01/17 18:35:10 INFO TaskSetManager: Finished task 433.0 in stage 11.0 (TID 41851) in 11918 ms on ip-172-31-1-104.us-west-2.compute.internal (executor 6) (433/466)\n",
      "23/01/17 18:35:11 INFO TaskSetManager: Starting task 445.0 in stage 11.0 (TID 41863, ip-172-31-1-104.us-west-2.compute.internal, executor 6, partition 445, PROCESS_LOCAL, 11075 bytes)\n",
      "23/01/17 18:35:11 INFO TaskSetManager: Finished task 434.0 in stage 11.0 (TID 41852) in 12060 ms on ip-172-31-1-104.us-west-2.compute.internal (executor 6) (434/466)\n",
      "23/01/17 18:35:12 INFO TaskSetManager: Starting task 446.0 in stage 11.0 (TID 41864, ip-172-31-9-35.us-west-2.compute.internal, executor 5, partition 446, PROCESS_LOCAL, 11075 bytes)\n",
      "23/01/17 18:35:12 INFO TaskSetManager: Finished task 431.0 in stage 11.0 (TID 41849) in 13466 ms on ip-172-31-9-35.us-west-2.compute.internal (executor 5) (435/466)\n",
      "23/01/17 18:35:12 INFO TaskSetManager: Starting task 447.0 in stage 11.0 (TID 41865, ip-172-31-1-104.us-west-2.compute.internal, executor 6, partition 447, PROCESS_LOCAL, 11075 bytes)\n",
      "23/01/17 18:35:12 INFO TaskSetManager: Finished task 435.0 in stage 11.0 (TID 41853) in 12221 ms on ip-172-31-1-104.us-west-2.compute.internal (executor 6) (436/466)\n",
      "23/01/17 18:35:17 INFO TaskSetManager: Starting task 448.0 in stage 11.0 (TID 41866, ip-172-31-9-35.us-west-2.compute.internal, executor 5, partition 448, PROCESS_LOCAL, 11075 bytes)\n",
      "23/01/17 18:35:17 INFO TaskSetManager: Finished task 436.0 in stage 11.0 (TID 41854) in 11933 ms on ip-172-31-9-35.us-west-2.compute.internal (executor 5) (437/466)\n",
      "23/01/17 18:35:18 INFO TaskSetManager: Starting task 449.0 in stage 11.0 (TID 41867, ip-172-31-9-35.us-west-2.compute.internal, executor 5, partition 449, PROCESS_LOCAL, 11075 bytes)\n",
      "23/01/17 18:35:18 INFO TaskSetManager: Finished task 437.0 in stage 11.0 (TID 41855) in 12075 ms on ip-172-31-9-35.us-west-2.compute.internal (executor 5) (438/466)\n",
      "23/01/17 18:35:21 INFO TaskSetManager: Starting task 450.0 in stage 11.0 (TID 41868, ip-172-31-1-104.us-west-2.compute.internal, executor 7, partition 450, PROCESS_LOCAL, 11075 bytes)\n",
      "23/01/17 18:35:21 INFO TaskSetManager: Finished task 438.0 in stage 11.0 (TID 41856) in 12792 ms on ip-172-31-1-104.us-west-2.compute.internal (executor 7) (439/466)\n",
      "23/01/17 18:35:21 INFO TaskSetManager: Starting task 451.0 in stage 11.0 (TID 41869, ip-172-31-9-35.us-west-2.compute.internal, executor 5, partition 451, PROCESS_LOCAL, 11075 bytes)\n",
      "23/01/17 18:35:21 INFO TaskSetManager: Finished task 440.0 in stage 11.0 (TID 41858) in 12348 ms on ip-172-31-9-35.us-west-2.compute.internal (executor 5) (440/466)\n",
      "23/01/17 18:35:22 INFO TaskSetManager: Starting task 452.0 in stage 11.0 (TID 41870, ip-172-31-1-104.us-west-2.compute.internal, executor 7, partition 452, PROCESS_LOCAL, 11075 bytes)\n",
      "23/01/17 18:35:22 INFO TaskSetManager: Finished task 439.0 in stage 11.0 (TID 41857) in 13185 ms on ip-172-31-1-104.us-west-2.compute.internal (executor 7) (441/466)\n",
      "23/01/17 18:35:22 INFO TaskSetManager: Starting task 453.0 in stage 11.0 (TID 41871, ip-172-31-1-104.us-west-2.compute.internal, executor 7, partition 453, PROCESS_LOCAL, 11075 bytes)\n",
      "23/01/17 18:35:22 INFO TaskSetManager: Finished task 441.0 in stage 11.0 (TID 41859) in 12589 ms on ip-172-31-1-104.us-west-2.compute.internal (executor 7) (442/466)\n",
      "23/01/17 18:35:22 INFO TaskSetManager: Starting task 454.0 in stage 11.0 (TID 41872, ip-172-31-1-104.us-west-2.compute.internal, executor 7, partition 454, PROCESS_LOCAL, 11075 bytes)\n",
      "23/01/17 18:35:22 INFO TaskSetManager: Finished task 442.0 in stage 11.0 (TID 41860) in 12103 ms on ip-172-31-1-104.us-west-2.compute.internal (executor 7) (443/466)\n",
      "23/01/17 18:35:22 INFO TaskSetManager: Starting task 455.0 in stage 11.0 (TID 41873, ip-172-31-1-104.us-west-2.compute.internal, executor 6, partition 455, PROCESS_LOCAL, 11075 bytes)\n",
      "23/01/17 18:35:22 INFO TaskSetManager: Finished task 443.0 in stage 11.0 (TID 41861) in 11934 ms on ip-172-31-1-104.us-west-2.compute.internal (executor 6) (444/466)\n",
      "23/01/17 18:35:22 INFO TaskSetManager: Starting task 456.0 in stage 11.0 (TID 41874, ip-172-31-1-104.us-west-2.compute.internal, executor 6, partition 456, PROCESS_LOCAL, 11075 bytes)\n",
      "23/01/17 18:35:22 INFO TaskSetManager: Finished task 444.0 in stage 11.0 (TID 41862) in 11748 ms on ip-172-31-1-104.us-west-2.compute.internal (executor 6) (445/466)\n",
      "23/01/17 18:35:23 INFO TaskSetManager: Starting task 457.0 in stage 11.0 (TID 41875, ip-172-31-1-104.us-west-2.compute.internal, executor 6, partition 457, PROCESS_LOCAL, 11075 bytes)\n",
      "23/01/17 18:35:23 INFO TaskSetManager: Finished task 445.0 in stage 11.0 (TID 41863) in 11922 ms on ip-172-31-1-104.us-west-2.compute.internal (executor 6) (446/466)\n",
      "23/01/17 18:35:24 INFO TaskSetManager: Starting task 458.0 in stage 11.0 (TID 41876, ip-172-31-1-104.us-west-2.compute.internal, executor 6, partition 458, PROCESS_LOCAL, 11075 bytes)\n",
      "23/01/17 18:35:24 INFO TaskSetManager: Finished task 447.0 in stage 11.0 (TID 41865) in 12123 ms on ip-172-31-1-104.us-west-2.compute.internal (executor 6) (447/466)\n",
      "23/01/17 18:35:24 INFO TaskSetManager: Starting task 459.0 in stage 11.0 (TID 41877, ip-172-31-9-35.us-west-2.compute.internal, executor 5, partition 459, PROCESS_LOCAL, 11075 bytes)\n",
      "23/01/17 18:35:24 INFO TaskSetManager: Finished task 446.0 in stage 11.0 (TID 41864) in 12510 ms on ip-172-31-9-35.us-west-2.compute.internal (executor 5) (448/466)\n"
     ]
    }
   ],
   "source": [
    "# # write users table to parquet files\n",
    "# users_table.write.mode('overwrite').parquet(output_data + \"users/\")"
   ]
  },
  {
   "cell_type": "code",
   "execution_count": 15,
   "id": "26f07db9-2419-4dd0-b429-3400917d5c61",
   "metadata": {
    "execution": {
     "iopub.execute_input": "2023-01-17T19:16:31.256778Z",
     "iopub.status.busy": "2023-01-17T19:16:31.252952Z",
     "iopub.status.idle": "2023-01-17T19:16:31.641239Z",
     "shell.execute_reply": "2023-01-17T19:16:31.640304Z",
     "shell.execute_reply.started": "2023-01-17T19:16:31.256730Z"
    },
    "tags": []
   },
   "outputs": [
    {
     "data": {
      "application/vnd.jupyter.widget-view+json": {
       "model_id": "97edb2a94c0c495b805489758a4398c5",
       "version_major": 2,
       "version_minor": 0
      },
      "text/plain": [
       "VBox()"
      ]
     },
     "metadata": {},
     "output_type": "display_data"
    },
    {
     "name": "stderr",
     "output_type": "stream",
     "text": [
      "An error was encountered:\n",
      "Session 2 unexpectedly reached final status 'dead'. See logs:\n",
      "stdout: \n",
      "\n",
      "stderr: \n",
      "23/01/17 18:34:38 INFO TaskSetManager: Starting task 411.0 in stage 11.0 (TID 41829, ip-172-31-1-104.us-west-2.compute.internal, executor 6, partition 411, PROCESS_LOCAL, 11075 bytes)\n",
      "23/01/17 18:34:38 INFO TaskSetManager: Finished task 399.0 in stage 11.0 (TID 41817) in 11841 ms on ip-172-31-1-104.us-west-2.compute.internal (executor 6) (400/466)\n",
      "23/01/17 18:34:42 INFO TaskSetManager: Starting task 412.0 in stage 11.0 (TID 41830, ip-172-31-9-35.us-west-2.compute.internal, executor 5, partition 412, PROCESS_LOCAL, 11075 bytes)\n",
      "23/01/17 18:34:42 INFO TaskSetManager: Finished task 400.0 in stage 11.0 (TID 41818) in 11574 ms on ip-172-31-9-35.us-west-2.compute.internal (executor 5) (401/466)\n",
      "23/01/17 18:34:43 INFO TaskSetManager: Starting task 413.0 in stage 11.0 (TID 41831, ip-172-31-9-35.us-west-2.compute.internal, executor 5, partition 413, PROCESS_LOCAL, 11075 bytes)\n",
      "23/01/17 18:34:43 INFO TaskSetManager: Finished task 401.0 in stage 11.0 (TID 41819) in 11232 ms on ip-172-31-9-35.us-west-2.compute.internal (executor 5) (402/466)\n",
      "23/01/17 18:34:45 INFO TaskSetManager: Starting task 414.0 in stage 11.0 (TID 41832, ip-172-31-9-35.us-west-2.compute.internal, executor 5, partition 414, PROCESS_LOCAL, 11075 bytes)\n",
      "23/01/17 18:34:45 INFO TaskSetManager: Finished task 402.0 in stage 11.0 (TID 41820) in 11017 ms on ip-172-31-9-35.us-west-2.compute.internal (executor 5) (403/466)\n",
      "23/01/17 18:34:45 INFO TaskSetManager: Starting task 415.0 in stage 11.0 (TID 41833, ip-172-31-1-104.us-west-2.compute.internal, executor 7, partition 415, PROCESS_LOCAL, 11075 bytes)\n",
      "23/01/17 18:34:45 INFO TaskSetManager: Finished task 403.0 in stage 11.0 (TID 41821) in 10661 ms on ip-172-31-1-104.us-west-2.compute.internal (executor 7) (404/466)\n",
      "23/01/17 18:34:45 INFO TaskSetManager: Starting task 416.0 in stage 11.0 (TID 41834, ip-172-31-1-104.us-west-2.compute.internal, executor 7, partition 416, PROCESS_LOCAL, 11075 bytes)\n",
      "23/01/17 18:34:45 INFO TaskSetManager: Finished task 404.0 in stage 11.0 (TID 41822) in 10601 ms on ip-172-31-1-104.us-west-2.compute.internal (executor 7) (405/466)\n",
      "23/01/17 18:34:46 INFO TaskSetManager: Starting task 417.0 in stage 11.0 (TID 41835, ip-172-31-1-104.us-west-2.compute.internal, executor 7, partition 417, PROCESS_LOCAL, 11075 bytes)\n",
      "23/01/17 18:34:46 INFO TaskSetManager: Finished task 405.0 in stage 11.0 (TID 41823) in 10445 ms on ip-172-31-1-104.us-west-2.compute.internal (executor 7) (406/466)\n",
      "23/01/17 18:34:46 INFO TaskSetManager: Starting task 418.0 in stage 11.0 (TID 41836, ip-172-31-1-104.us-west-2.compute.internal, executor 7, partition 418, PROCESS_LOCAL, 11075 bytes)\n",
      "23/01/17 18:34:46 INFO TaskSetManager: Finished task 406.0 in stage 11.0 (TID 41824) in 10663 ms on ip-172-31-1-104.us-west-2.compute.internal (executor 7) (407/466)\n",
      "23/01/17 18:34:47 INFO TaskSetManager: Starting task 419.0 in stage 11.0 (TID 41837, ip-172-31-9-35.us-west-2.compute.internal, executor 5, partition 419, PROCESS_LOCAL, 11075 bytes)\n",
      "23/01/17 18:34:47 INFO TaskSetManager: Finished task 407.0 in stage 11.0 (TID 41825) in 11364 ms on ip-172-31-9-35.us-west-2.compute.internal (executor 5) (408/466)\n",
      "23/01/17 18:34:47 INFO TaskSetManager: Starting task 420.0 in stage 11.0 (TID 41838, ip-172-31-1-104.us-west-2.compute.internal, executor 6, partition 420, PROCESS_LOCAL, 11075 bytes)\n",
      "23/01/17 18:34:47 INFO TaskSetManager: Finished task 409.0 in stage 11.0 (TID 41827) in 11282 ms on ip-172-31-1-104.us-west-2.compute.internal (executor 6) (409/466)\n",
      "23/01/17 18:34:48 INFO TaskSetManager: Starting task 421.0 in stage 11.0 (TID 41839, ip-172-31-1-104.us-west-2.compute.internal, executor 6, partition 421, PROCESS_LOCAL, 11075 bytes)\n",
      "23/01/17 18:34:48 INFO TaskSetManager: Finished task 408.0 in stage 11.0 (TID 41826) in 11594 ms on ip-172-31-1-104.us-west-2.compute.internal (executor 6) (410/466)\n",
      "23/01/17 18:34:48 INFO TaskSetManager: Starting task 422.0 in stage 11.0 (TID 41840, ip-172-31-1-104.us-west-2.compute.internal, executor 6, partition 422, PROCESS_LOCAL, 11075 bytes)\n",
      "23/01/17 18:34:48 INFO TaskSetManager: Finished task 410.0 in stage 11.0 (TID 41828) in 11385 ms on ip-172-31-1-104.us-west-2.compute.internal (executor 6) (411/466)\n",
      "23/01/17 18:34:49 INFO TaskSetManager: Starting task 423.0 in stage 11.0 (TID 41841, ip-172-31-1-104.us-west-2.compute.internal, executor 6, partition 423, PROCESS_LOCAL, 11075 bytes)\n",
      "23/01/17 18:34:49 INFO TaskSetManager: Finished task 411.0 in stage 11.0 (TID 41829) in 11198 ms on ip-172-31-1-104.us-west-2.compute.internal (executor 6) (412/466)\n",
      "23/01/17 18:34:53 INFO TaskSetManager: Starting task 424.0 in stage 11.0 (TID 41842, ip-172-31-9-35.us-west-2.compute.internal, executor 5, partition 424, PROCESS_LOCAL, 11075 bytes)\n",
      "23/01/17 18:34:53 INFO TaskSetManager: Finished task 412.0 in stage 11.0 (TID 41830) in 11275 ms on ip-172-31-9-35.us-west-2.compute.internal (executor 5) (413/466)\n",
      "23/01/17 18:34:54 INFO TaskSetManager: Starting task 425.0 in stage 11.0 (TID 41843, ip-172-31-9-35.us-west-2.compute.internal, executor 5, partition 425, PROCESS_LOCAL, 11075 bytes)\n",
      "23/01/17 18:34:54 INFO TaskSetManager: Finished task 413.0 in stage 11.0 (TID 41831) in 11106 ms on ip-172-31-9-35.us-west-2.compute.internal (executor 5) (414/466)\n",
      "23/01/17 18:34:56 INFO TaskSetManager: Starting task 426.0 in stage 11.0 (TID 41844, ip-172-31-1-104.us-west-2.compute.internal, executor 7, partition 426, PROCESS_LOCAL, 11075 bytes)\n",
      "23/01/17 18:34:56 INFO TaskSetManager: Finished task 415.0 in stage 11.0 (TID 41833) in 10930 ms on ip-172-31-1-104.us-west-2.compute.internal (executor 7) (415/466)\n",
      "23/01/17 18:34:56 INFO TaskSetManager: Starting task 427.0 in stage 11.0 (TID 41845, ip-172-31-9-35.us-west-2.compute.internal, executor 5, partition 427, PROCESS_LOCAL, 11075 bytes)\n",
      "23/01/17 18:34:56 INFO TaskSetManager: Finished task 414.0 in stage 11.0 (TID 41832) in 11596 ms on ip-172-31-9-35.us-west-2.compute.internal (executor 5) (416/466)\n",
      "23/01/17 18:34:56 INFO TaskSetManager: Starting task 428.0 in stage 11.0 (TID 41846, ip-172-31-1-104.us-west-2.compute.internal, executor 7, partition 428, PROCESS_LOCAL, 11075 bytes)\n",
      "23/01/17 18:34:56 INFO TaskSetManager: Finished task 417.0 in stage 11.0 (TID 41835) in 10684 ms on ip-172-31-1-104.us-west-2.compute.internal (executor 7) (417/466)\n",
      "23/01/17 18:34:57 INFO TaskSetManager: Starting task 429.0 in stage 11.0 (TID 41847, ip-172-31-1-104.us-west-2.compute.internal, executor 7, partition 429, PROCESS_LOCAL, 11075 bytes)\n",
      "23/01/17 18:34:57 INFO TaskSetManager: Finished task 416.0 in stage 11.0 (TID 41834) in 11117 ms on ip-172-31-1-104.us-west-2.compute.internal (executor 7) (418/466)\n",
      "23/01/17 18:34:57 INFO TaskSetManager: Starting task 430.0 in stage 11.0 (TID 41848, ip-172-31-1-104.us-west-2.compute.internal, executor 7, partition 430, PROCESS_LOCAL, 11075 bytes)\n",
      "23/01/17 18:34:57 INFO TaskSetManager: Finished task 418.0 in stage 11.0 (TID 41836) in 10716 ms on ip-172-31-1-104.us-west-2.compute.internal (executor 7) (419/466)\n",
      "23/01/17 18:34:58 INFO TaskSetManager: Starting task 431.0 in stage 11.0 (TID 41849, ip-172-31-9-35.us-west-2.compute.internal, executor 5, partition 431, PROCESS_LOCAL, 11075 bytes)\n",
      "23/01/17 18:34:58 INFO TaskSetManager: Finished task 419.0 in stage 11.0 (TID 41837) in 11219 ms on ip-172-31-9-35.us-west-2.compute.internal (executor 5) (420/466)\n",
      "23/01/17 18:34:58 INFO TaskSetManager: Starting task 432.0 in stage 11.0 (TID 41850, ip-172-31-1-104.us-west-2.compute.internal, executor 6, partition 432, PROCESS_LOCAL, 11075 bytes)\n",
      "23/01/17 18:34:58 INFO TaskSetManager: Finished task 420.0 in stage 11.0 (TID 41838) in 11160 ms on ip-172-31-1-104.us-west-2.compute.internal (executor 6) (421/466)\n",
      "23/01/17 18:34:59 INFO TaskSetManager: Starting task 433.0 in stage 11.0 (TID 41851, ip-172-31-1-104.us-west-2.compute.internal, executor 6, partition 433, PROCESS_LOCAL, 11075 bytes)\n",
      "23/01/17 18:34:59 INFO TaskSetManager: Finished task 422.0 in stage 11.0 (TID 41840) in 10933 ms on ip-172-31-1-104.us-west-2.compute.internal (executor 6) (422/466)\n",
      "23/01/17 18:34:59 INFO TaskSetManager: Starting task 434.0 in stage 11.0 (TID 41852, ip-172-31-1-104.us-west-2.compute.internal, executor 6, partition 434, PROCESS_LOCAL, 11075 bytes)\n",
      "23/01/17 18:34:59 INFO TaskSetManager: Finished task 421.0 in stage 11.0 (TID 41839) in 11017 ms on ip-172-31-1-104.us-west-2.compute.internal (executor 6) (423/466)\n",
      "23/01/17 18:35:00 INFO TaskSetManager: Starting task 435.0 in stage 11.0 (TID 41853, ip-172-31-1-104.us-west-2.compute.internal, executor 6, partition 435, PROCESS_LOCAL, 11075 bytes)\n",
      "23/01/17 18:35:00 INFO TaskSetManager: Finished task 423.0 in stage 11.0 (TID 41841) in 10647 ms on ip-172-31-1-104.us-west-2.compute.internal (executor 6) (424/466)\n",
      "23/01/17 18:35:05 INFO TaskSetManager: Starting task 436.0 in stage 11.0 (TID 41854, ip-172-31-9-35.us-west-2.compute.internal, executor 5, partition 436, PROCESS_LOCAL, 11075 bytes)\n",
      "23/01/17 18:35:05 INFO TaskSetManager: Finished task 424.0 in stage 11.0 (TID 41842) in 12557 ms on ip-172-31-9-35.us-west-2.compute.internal (executor 5) (425/466)\n",
      "23/01/17 18:35:06 INFO TaskSetManager: Starting task 437.0 in stage 11.0 (TID 41855, ip-172-31-9-35.us-west-2.compute.internal, executor 5, partition 437, PROCESS_LOCAL, 11075 bytes)\n",
      "23/01/17 18:35:06 INFO TaskSetManager: Finished task 425.0 in stage 11.0 (TID 41843) in 12661 ms on ip-172-31-9-35.us-west-2.compute.internal (executor 5) (426/466)\n",
      "23/01/17 18:35:08 INFO TaskSetManager: Starting task 438.0 in stage 11.0 (TID 41856, ip-172-31-1-104.us-west-2.compute.internal, executor 7, partition 438, PROCESS_LOCAL, 11075 bytes)\n",
      "23/01/17 18:35:08 INFO TaskSetManager: Finished task 428.0 in stage 11.0 (TID 41846) in 11922 ms on ip-172-31-1-104.us-west-2.compute.internal (executor 7) (427/466)\n",
      "23/01/17 18:35:08 INFO TaskSetManager: Starting task 439.0 in stage 11.0 (TID 41857, ip-172-31-1-104.us-west-2.compute.internal, executor 7, partition 439, PROCESS_LOCAL, 11075 bytes)\n",
      "23/01/17 18:35:08 INFO TaskSetManager: Finished task 429.0 in stage 11.0 (TID 41847) in 11868 ms on ip-172-31-1-104.us-west-2.compute.internal (executor 7) (428/466)\n",
      "23/01/17 18:35:09 INFO TaskSetManager: Starting task 440.0 in stage 11.0 (TID 41858, ip-172-31-9-35.us-west-2.compute.internal, executor 5, partition 440, PROCESS_LOCAL, 11075 bytes)\n",
      "23/01/17 18:35:09 INFO TaskSetManager: Finished task 427.0 in stage 11.0 (TID 41845) in 12856 ms on ip-172-31-9-35.us-west-2.compute.internal (executor 5) (429/466)\n",
      "23/01/17 18:35:09 INFO TaskSetManager: Starting task 441.0 in stage 11.0 (TID 41859, ip-172-31-1-104.us-west-2.compute.internal, executor 7, partition 441, PROCESS_LOCAL, 11075 bytes)\n",
      "23/01/17 18:35:09 INFO TaskSetManager: Finished task 430.0 in stage 11.0 (TID 41848) in 12024 ms on ip-172-31-1-104.us-west-2.compute.internal (executor 7) (430/466)\n",
      "23/01/17 18:35:10 INFO TaskSetManager: Starting task 442.0 in stage 11.0 (TID 41860, ip-172-31-1-104.us-west-2.compute.internal, executor 7, partition 442, PROCESS_LOCAL, 11075 bytes)\n",
      "23/01/17 18:35:10 INFO TaskSetManager: Finished task 426.0 in stage 11.0 (TID 41844) in 13797 ms on ip-172-31-1-104.us-west-2.compute.internal (executor 7) (431/466)\n",
      "23/01/17 18:35:10 INFO TaskSetManager: Starting task 443.0 in stage 11.0 (TID 41861, ip-172-31-1-104.us-west-2.compute.internal, executor 6, partition 443, PROCESS_LOCAL, 11075 bytes)\n",
      "23/01/17 18:35:10 INFO TaskSetManager: Finished task 432.0 in stage 11.0 (TID 41850) in 11823 ms on ip-172-31-1-104.us-west-2.compute.internal (executor 6) (432/466)\n",
      "23/01/17 18:35:10 INFO TaskSetManager: Starting task 444.0 in stage 11.0 (TID 41862, ip-172-31-1-104.us-west-2.compute.internal, executor 6, partition 444, PROCESS_LOCAL, 11075 bytes)\n",
      "23/01/17 18:35:10 INFO TaskSetManager: Finished task 433.0 in stage 11.0 (TID 41851) in 11918 ms on ip-172-31-1-104.us-west-2.compute.internal (executor 6) (433/466)\n",
      "23/01/17 18:35:11 INFO TaskSetManager: Starting task 445.0 in stage 11.0 (TID 41863, ip-172-31-1-104.us-west-2.compute.internal, executor 6, partition 445, PROCESS_LOCAL, 11075 bytes)\n",
      "23/01/17 18:35:11 INFO TaskSetManager: Finished task 434.0 in stage 11.0 (TID 41852) in 12060 ms on ip-172-31-1-104.us-west-2.compute.internal (executor 6) (434/466)\n",
      "23/01/17 18:35:12 INFO TaskSetManager: Starting task 446.0 in stage 11.0 (TID 41864, ip-172-31-9-35.us-west-2.compute.internal, executor 5, partition 446, PROCESS_LOCAL, 11075 bytes)\n",
      "23/01/17 18:35:12 INFO TaskSetManager: Finished task 431.0 in stage 11.0 (TID 41849) in 13466 ms on ip-172-31-9-35.us-west-2.compute.internal (executor 5) (435/466)\n",
      "23/01/17 18:35:12 INFO TaskSetManager: Starting task 447.0 in stage 11.0 (TID 41865, ip-172-31-1-104.us-west-2.compute.internal, executor 6, partition 447, PROCESS_LOCAL, 11075 bytes)\n",
      "23/01/17 18:35:12 INFO TaskSetManager: Finished task 435.0 in stage 11.0 (TID 41853) in 12221 ms on ip-172-31-1-104.us-west-2.compute.internal (executor 6) (436/466)\n",
      "23/01/17 18:35:17 INFO TaskSetManager: Starting task 448.0 in stage 11.0 (TID 41866, ip-172-31-9-35.us-west-2.compute.internal, executor 5, partition 448, PROCESS_LOCAL, 11075 bytes)\n",
      "23/01/17 18:35:17 INFO TaskSetManager: Finished task 436.0 in stage 11.0 (TID 41854) in 11933 ms on ip-172-31-9-35.us-west-2.compute.internal (executor 5) (437/466)\n",
      "23/01/17 18:35:18 INFO TaskSetManager: Starting task 449.0 in stage 11.0 (TID 41867, ip-172-31-9-35.us-west-2.compute.internal, executor 5, partition 449, PROCESS_LOCAL, 11075 bytes)\n",
      "23/01/17 18:35:18 INFO TaskSetManager: Finished task 437.0 in stage 11.0 (TID 41855) in 12075 ms on ip-172-31-9-35.us-west-2.compute.internal (executor 5) (438/466)\n",
      "23/01/17 18:35:21 INFO TaskSetManager: Starting task 450.0 in stage 11.0 (TID 41868, ip-172-31-1-104.us-west-2.compute.internal, executor 7, partition 450, PROCESS_LOCAL, 11075 bytes)\n",
      "23/01/17 18:35:21 INFO TaskSetManager: Finished task 438.0 in stage 11.0 (TID 41856) in 12792 ms on ip-172-31-1-104.us-west-2.compute.internal (executor 7) (439/466)\n",
      "23/01/17 18:35:21 INFO TaskSetManager: Starting task 451.0 in stage 11.0 (TID 41869, ip-172-31-9-35.us-west-2.compute.internal, executor 5, partition 451, PROCESS_LOCAL, 11075 bytes)\n",
      "23/01/17 18:35:21 INFO TaskSetManager: Finished task 440.0 in stage 11.0 (TID 41858) in 12348 ms on ip-172-31-9-35.us-west-2.compute.internal (executor 5) (440/466)\n",
      "23/01/17 18:35:22 INFO TaskSetManager: Starting task 452.0 in stage 11.0 (TID 41870, ip-172-31-1-104.us-west-2.compute.internal, executor 7, partition 452, PROCESS_LOCAL, 11075 bytes)\n",
      "23/01/17 18:35:22 INFO TaskSetManager: Finished task 439.0 in stage 11.0 (TID 41857) in 13185 ms on ip-172-31-1-104.us-west-2.compute.internal (executor 7) (441/466)\n",
      "23/01/17 18:35:22 INFO TaskSetManager: Starting task 453.0 in stage 11.0 (TID 41871, ip-172-31-1-104.us-west-2.compute.internal, executor 7, partition 453, PROCESS_LOCAL, 11075 bytes)\n",
      "23/01/17 18:35:22 INFO TaskSetManager: Finished task 441.0 in stage 11.0 (TID 41859) in 12589 ms on ip-172-31-1-104.us-west-2.compute.internal (executor 7) (442/466)\n",
      "23/01/17 18:35:22 INFO TaskSetManager: Starting task 454.0 in stage 11.0 (TID 41872, ip-172-31-1-104.us-west-2.compute.internal, executor 7, partition 454, PROCESS_LOCAL, 11075 bytes)\n",
      "23/01/17 18:35:22 INFO TaskSetManager: Finished task 442.0 in stage 11.0 (TID 41860) in 12103 ms on ip-172-31-1-104.us-west-2.compute.internal (executor 7) (443/466)\n",
      "23/01/17 18:35:22 INFO TaskSetManager: Starting task 455.0 in stage 11.0 (TID 41873, ip-172-31-1-104.us-west-2.compute.internal, executor 6, partition 455, PROCESS_LOCAL, 11075 bytes)\n",
      "23/01/17 18:35:22 INFO TaskSetManager: Finished task 443.0 in stage 11.0 (TID 41861) in 11934 ms on ip-172-31-1-104.us-west-2.compute.internal (executor 6) (444/466)\n",
      "23/01/17 18:35:22 INFO TaskSetManager: Starting task 456.0 in stage 11.0 (TID 41874, ip-172-31-1-104.us-west-2.compute.internal, executor 6, partition 456, PROCESS_LOCAL, 11075 bytes)\n",
      "23/01/17 18:35:22 INFO TaskSetManager: Finished task 444.0 in stage 11.0 (TID 41862) in 11748 ms on ip-172-31-1-104.us-west-2.compute.internal (executor 6) (445/466)\n",
      "23/01/17 18:35:23 INFO TaskSetManager: Starting task 457.0 in stage 11.0 (TID 41875, ip-172-31-1-104.us-west-2.compute.internal, executor 6, partition 457, PROCESS_LOCAL, 11075 bytes)\n",
      "23/01/17 18:35:23 INFO TaskSetManager: Finished task 445.0 in stage 11.0 (TID 41863) in 11922 ms on ip-172-31-1-104.us-west-2.compute.internal (executor 6) (446/466)\n",
      "23/01/17 18:35:24 INFO TaskSetManager: Starting task 458.0 in stage 11.0 (TID 41876, ip-172-31-1-104.us-west-2.compute.internal, executor 6, partition 458, PROCESS_LOCAL, 11075 bytes)\n",
      "23/01/17 18:35:24 INFO TaskSetManager: Finished task 447.0 in stage 11.0 (TID 41865) in 12123 ms on ip-172-31-1-104.us-west-2.compute.internal (executor 6) (447/466)\n",
      "23/01/17 18:35:24 INFO TaskSetManager: Starting task 459.0 in stage 11.0 (TID 41877, ip-172-31-9-35.us-west-2.compute.internal, executor 5, partition 459, PROCESS_LOCAL, 11075 bytes)\n",
      "23/01/17 18:35:24 INFO TaskSetManager: Finished task 446.0 in stage 11.0 (TID 41864) in 12510 ms on ip-172-31-9-35.us-west-2.compute.internal (executor 5) (448/466)\n"
     ]
    }
   ],
   "source": [
    "# # create timestamp column from original timestamp column\n",
    "# get_timestamp = udf(lambda x: datetime.fromtimestamp(x/1000), TS.TimestampType())\n",
    "# df = df.withColumn('ts_timestamp',get_timestamp('ts'))\n",
    "# df.select('ts_timestamp').show(5)"
   ]
  },
  {
   "cell_type": "code",
   "execution_count": 16,
   "id": "8b973d5c-235a-41a6-a5c9-b570f0ab0b72",
   "metadata": {
    "execution": {
     "iopub.execute_input": "2023-01-17T19:16:31.646754Z",
     "iopub.status.busy": "2023-01-17T19:16:31.642528Z",
     "iopub.status.idle": "2023-01-17T19:16:32.095566Z",
     "shell.execute_reply": "2023-01-17T19:16:32.093807Z",
     "shell.execute_reply.started": "2023-01-17T19:16:31.646708Z"
    },
    "tags": []
   },
   "outputs": [
    {
     "data": {
      "application/vnd.jupyter.widget-view+json": {
       "model_id": "792fab088d5643d2ac8f478fe27c26f8",
       "version_major": 2,
       "version_minor": 0
      },
      "text/plain": [
       "VBox()"
      ]
     },
     "metadata": {},
     "output_type": "display_data"
    },
    {
     "name": "stderr",
     "output_type": "stream",
     "text": [
      "An error was encountered:\n",
      "Session 2 unexpectedly reached final status 'dead'. See logs:\n",
      "stdout: \n",
      "\n",
      "stderr: \n",
      "23/01/17 18:34:38 INFO TaskSetManager: Starting task 411.0 in stage 11.0 (TID 41829, ip-172-31-1-104.us-west-2.compute.internal, executor 6, partition 411, PROCESS_LOCAL, 11075 bytes)\n",
      "23/01/17 18:34:38 INFO TaskSetManager: Finished task 399.0 in stage 11.0 (TID 41817) in 11841 ms on ip-172-31-1-104.us-west-2.compute.internal (executor 6) (400/466)\n",
      "23/01/17 18:34:42 INFO TaskSetManager: Starting task 412.0 in stage 11.0 (TID 41830, ip-172-31-9-35.us-west-2.compute.internal, executor 5, partition 412, PROCESS_LOCAL, 11075 bytes)\n",
      "23/01/17 18:34:42 INFO TaskSetManager: Finished task 400.0 in stage 11.0 (TID 41818) in 11574 ms on ip-172-31-9-35.us-west-2.compute.internal (executor 5) (401/466)\n",
      "23/01/17 18:34:43 INFO TaskSetManager: Starting task 413.0 in stage 11.0 (TID 41831, ip-172-31-9-35.us-west-2.compute.internal, executor 5, partition 413, PROCESS_LOCAL, 11075 bytes)\n",
      "23/01/17 18:34:43 INFO TaskSetManager: Finished task 401.0 in stage 11.0 (TID 41819) in 11232 ms on ip-172-31-9-35.us-west-2.compute.internal (executor 5) (402/466)\n",
      "23/01/17 18:34:45 INFO TaskSetManager: Starting task 414.0 in stage 11.0 (TID 41832, ip-172-31-9-35.us-west-2.compute.internal, executor 5, partition 414, PROCESS_LOCAL, 11075 bytes)\n",
      "23/01/17 18:34:45 INFO TaskSetManager: Finished task 402.0 in stage 11.0 (TID 41820) in 11017 ms on ip-172-31-9-35.us-west-2.compute.internal (executor 5) (403/466)\n",
      "23/01/17 18:34:45 INFO TaskSetManager: Starting task 415.0 in stage 11.0 (TID 41833, ip-172-31-1-104.us-west-2.compute.internal, executor 7, partition 415, PROCESS_LOCAL, 11075 bytes)\n",
      "23/01/17 18:34:45 INFO TaskSetManager: Finished task 403.0 in stage 11.0 (TID 41821) in 10661 ms on ip-172-31-1-104.us-west-2.compute.internal (executor 7) (404/466)\n",
      "23/01/17 18:34:45 INFO TaskSetManager: Starting task 416.0 in stage 11.0 (TID 41834, ip-172-31-1-104.us-west-2.compute.internal, executor 7, partition 416, PROCESS_LOCAL, 11075 bytes)\n",
      "23/01/17 18:34:45 INFO TaskSetManager: Finished task 404.0 in stage 11.0 (TID 41822) in 10601 ms on ip-172-31-1-104.us-west-2.compute.internal (executor 7) (405/466)\n",
      "23/01/17 18:34:46 INFO TaskSetManager: Starting task 417.0 in stage 11.0 (TID 41835, ip-172-31-1-104.us-west-2.compute.internal, executor 7, partition 417, PROCESS_LOCAL, 11075 bytes)\n",
      "23/01/17 18:34:46 INFO TaskSetManager: Finished task 405.0 in stage 11.0 (TID 41823) in 10445 ms on ip-172-31-1-104.us-west-2.compute.internal (executor 7) (406/466)\n",
      "23/01/17 18:34:46 INFO TaskSetManager: Starting task 418.0 in stage 11.0 (TID 41836, ip-172-31-1-104.us-west-2.compute.internal, executor 7, partition 418, PROCESS_LOCAL, 11075 bytes)\n",
      "23/01/17 18:34:46 INFO TaskSetManager: Finished task 406.0 in stage 11.0 (TID 41824) in 10663 ms on ip-172-31-1-104.us-west-2.compute.internal (executor 7) (407/466)\n",
      "23/01/17 18:34:47 INFO TaskSetManager: Starting task 419.0 in stage 11.0 (TID 41837, ip-172-31-9-35.us-west-2.compute.internal, executor 5, partition 419, PROCESS_LOCAL, 11075 bytes)\n",
      "23/01/17 18:34:47 INFO TaskSetManager: Finished task 407.0 in stage 11.0 (TID 41825) in 11364 ms on ip-172-31-9-35.us-west-2.compute.internal (executor 5) (408/466)\n",
      "23/01/17 18:34:47 INFO TaskSetManager: Starting task 420.0 in stage 11.0 (TID 41838, ip-172-31-1-104.us-west-2.compute.internal, executor 6, partition 420, PROCESS_LOCAL, 11075 bytes)\n",
      "23/01/17 18:34:47 INFO TaskSetManager: Finished task 409.0 in stage 11.0 (TID 41827) in 11282 ms on ip-172-31-1-104.us-west-2.compute.internal (executor 6) (409/466)\n",
      "23/01/17 18:34:48 INFO TaskSetManager: Starting task 421.0 in stage 11.0 (TID 41839, ip-172-31-1-104.us-west-2.compute.internal, executor 6, partition 421, PROCESS_LOCAL, 11075 bytes)\n",
      "23/01/17 18:34:48 INFO TaskSetManager: Finished task 408.0 in stage 11.0 (TID 41826) in 11594 ms on ip-172-31-1-104.us-west-2.compute.internal (executor 6) (410/466)\n",
      "23/01/17 18:34:48 INFO TaskSetManager: Starting task 422.0 in stage 11.0 (TID 41840, ip-172-31-1-104.us-west-2.compute.internal, executor 6, partition 422, PROCESS_LOCAL, 11075 bytes)\n",
      "23/01/17 18:34:48 INFO TaskSetManager: Finished task 410.0 in stage 11.0 (TID 41828) in 11385 ms on ip-172-31-1-104.us-west-2.compute.internal (executor 6) (411/466)\n",
      "23/01/17 18:34:49 INFO TaskSetManager: Starting task 423.0 in stage 11.0 (TID 41841, ip-172-31-1-104.us-west-2.compute.internal, executor 6, partition 423, PROCESS_LOCAL, 11075 bytes)\n",
      "23/01/17 18:34:49 INFO TaskSetManager: Finished task 411.0 in stage 11.0 (TID 41829) in 11198 ms on ip-172-31-1-104.us-west-2.compute.internal (executor 6) (412/466)\n",
      "23/01/17 18:34:53 INFO TaskSetManager: Starting task 424.0 in stage 11.0 (TID 41842, ip-172-31-9-35.us-west-2.compute.internal, executor 5, partition 424, PROCESS_LOCAL, 11075 bytes)\n",
      "23/01/17 18:34:53 INFO TaskSetManager: Finished task 412.0 in stage 11.0 (TID 41830) in 11275 ms on ip-172-31-9-35.us-west-2.compute.internal (executor 5) (413/466)\n",
      "23/01/17 18:34:54 INFO TaskSetManager: Starting task 425.0 in stage 11.0 (TID 41843, ip-172-31-9-35.us-west-2.compute.internal, executor 5, partition 425, PROCESS_LOCAL, 11075 bytes)\n",
      "23/01/17 18:34:54 INFO TaskSetManager: Finished task 413.0 in stage 11.0 (TID 41831) in 11106 ms on ip-172-31-9-35.us-west-2.compute.internal (executor 5) (414/466)\n",
      "23/01/17 18:34:56 INFO TaskSetManager: Starting task 426.0 in stage 11.0 (TID 41844, ip-172-31-1-104.us-west-2.compute.internal, executor 7, partition 426, PROCESS_LOCAL, 11075 bytes)\n",
      "23/01/17 18:34:56 INFO TaskSetManager: Finished task 415.0 in stage 11.0 (TID 41833) in 10930 ms on ip-172-31-1-104.us-west-2.compute.internal (executor 7) (415/466)\n",
      "23/01/17 18:34:56 INFO TaskSetManager: Starting task 427.0 in stage 11.0 (TID 41845, ip-172-31-9-35.us-west-2.compute.internal, executor 5, partition 427, PROCESS_LOCAL, 11075 bytes)\n",
      "23/01/17 18:34:56 INFO TaskSetManager: Finished task 414.0 in stage 11.0 (TID 41832) in 11596 ms on ip-172-31-9-35.us-west-2.compute.internal (executor 5) (416/466)\n",
      "23/01/17 18:34:56 INFO TaskSetManager: Starting task 428.0 in stage 11.0 (TID 41846, ip-172-31-1-104.us-west-2.compute.internal, executor 7, partition 428, PROCESS_LOCAL, 11075 bytes)\n",
      "23/01/17 18:34:56 INFO TaskSetManager: Finished task 417.0 in stage 11.0 (TID 41835) in 10684 ms on ip-172-31-1-104.us-west-2.compute.internal (executor 7) (417/466)\n",
      "23/01/17 18:34:57 INFO TaskSetManager: Starting task 429.0 in stage 11.0 (TID 41847, ip-172-31-1-104.us-west-2.compute.internal, executor 7, partition 429, PROCESS_LOCAL, 11075 bytes)\n",
      "23/01/17 18:34:57 INFO TaskSetManager: Finished task 416.0 in stage 11.0 (TID 41834) in 11117 ms on ip-172-31-1-104.us-west-2.compute.internal (executor 7) (418/466)\n",
      "23/01/17 18:34:57 INFO TaskSetManager: Starting task 430.0 in stage 11.0 (TID 41848, ip-172-31-1-104.us-west-2.compute.internal, executor 7, partition 430, PROCESS_LOCAL, 11075 bytes)\n",
      "23/01/17 18:34:57 INFO TaskSetManager: Finished task 418.0 in stage 11.0 (TID 41836) in 10716 ms on ip-172-31-1-104.us-west-2.compute.internal (executor 7) (419/466)\n",
      "23/01/17 18:34:58 INFO TaskSetManager: Starting task 431.0 in stage 11.0 (TID 41849, ip-172-31-9-35.us-west-2.compute.internal, executor 5, partition 431, PROCESS_LOCAL, 11075 bytes)\n",
      "23/01/17 18:34:58 INFO TaskSetManager: Finished task 419.0 in stage 11.0 (TID 41837) in 11219 ms on ip-172-31-9-35.us-west-2.compute.internal (executor 5) (420/466)\n",
      "23/01/17 18:34:58 INFO TaskSetManager: Starting task 432.0 in stage 11.0 (TID 41850, ip-172-31-1-104.us-west-2.compute.internal, executor 6, partition 432, PROCESS_LOCAL, 11075 bytes)\n",
      "23/01/17 18:34:58 INFO TaskSetManager: Finished task 420.0 in stage 11.0 (TID 41838) in 11160 ms on ip-172-31-1-104.us-west-2.compute.internal (executor 6) (421/466)\n",
      "23/01/17 18:34:59 INFO TaskSetManager: Starting task 433.0 in stage 11.0 (TID 41851, ip-172-31-1-104.us-west-2.compute.internal, executor 6, partition 433, PROCESS_LOCAL, 11075 bytes)\n",
      "23/01/17 18:34:59 INFO TaskSetManager: Finished task 422.0 in stage 11.0 (TID 41840) in 10933 ms on ip-172-31-1-104.us-west-2.compute.internal (executor 6) (422/466)\n",
      "23/01/17 18:34:59 INFO TaskSetManager: Starting task 434.0 in stage 11.0 (TID 41852, ip-172-31-1-104.us-west-2.compute.internal, executor 6, partition 434, PROCESS_LOCAL, 11075 bytes)\n",
      "23/01/17 18:34:59 INFO TaskSetManager: Finished task 421.0 in stage 11.0 (TID 41839) in 11017 ms on ip-172-31-1-104.us-west-2.compute.internal (executor 6) (423/466)\n",
      "23/01/17 18:35:00 INFO TaskSetManager: Starting task 435.0 in stage 11.0 (TID 41853, ip-172-31-1-104.us-west-2.compute.internal, executor 6, partition 435, PROCESS_LOCAL, 11075 bytes)\n",
      "23/01/17 18:35:00 INFO TaskSetManager: Finished task 423.0 in stage 11.0 (TID 41841) in 10647 ms on ip-172-31-1-104.us-west-2.compute.internal (executor 6) (424/466)\n",
      "23/01/17 18:35:05 INFO TaskSetManager: Starting task 436.0 in stage 11.0 (TID 41854, ip-172-31-9-35.us-west-2.compute.internal, executor 5, partition 436, PROCESS_LOCAL, 11075 bytes)\n",
      "23/01/17 18:35:05 INFO TaskSetManager: Finished task 424.0 in stage 11.0 (TID 41842) in 12557 ms on ip-172-31-9-35.us-west-2.compute.internal (executor 5) (425/466)\n",
      "23/01/17 18:35:06 INFO TaskSetManager: Starting task 437.0 in stage 11.0 (TID 41855, ip-172-31-9-35.us-west-2.compute.internal, executor 5, partition 437, PROCESS_LOCAL, 11075 bytes)\n",
      "23/01/17 18:35:06 INFO TaskSetManager: Finished task 425.0 in stage 11.0 (TID 41843) in 12661 ms on ip-172-31-9-35.us-west-2.compute.internal (executor 5) (426/466)\n",
      "23/01/17 18:35:08 INFO TaskSetManager: Starting task 438.0 in stage 11.0 (TID 41856, ip-172-31-1-104.us-west-2.compute.internal, executor 7, partition 438, PROCESS_LOCAL, 11075 bytes)\n",
      "23/01/17 18:35:08 INFO TaskSetManager: Finished task 428.0 in stage 11.0 (TID 41846) in 11922 ms on ip-172-31-1-104.us-west-2.compute.internal (executor 7) (427/466)\n",
      "23/01/17 18:35:08 INFO TaskSetManager: Starting task 439.0 in stage 11.0 (TID 41857, ip-172-31-1-104.us-west-2.compute.internal, executor 7, partition 439, PROCESS_LOCAL, 11075 bytes)\n",
      "23/01/17 18:35:08 INFO TaskSetManager: Finished task 429.0 in stage 11.0 (TID 41847) in 11868 ms on ip-172-31-1-104.us-west-2.compute.internal (executor 7) (428/466)\n",
      "23/01/17 18:35:09 INFO TaskSetManager: Starting task 440.0 in stage 11.0 (TID 41858, ip-172-31-9-35.us-west-2.compute.internal, executor 5, partition 440, PROCESS_LOCAL, 11075 bytes)\n",
      "23/01/17 18:35:09 INFO TaskSetManager: Finished task 427.0 in stage 11.0 (TID 41845) in 12856 ms on ip-172-31-9-35.us-west-2.compute.internal (executor 5) (429/466)\n",
      "23/01/17 18:35:09 INFO TaskSetManager: Starting task 441.0 in stage 11.0 (TID 41859, ip-172-31-1-104.us-west-2.compute.internal, executor 7, partition 441, PROCESS_LOCAL, 11075 bytes)\n",
      "23/01/17 18:35:09 INFO TaskSetManager: Finished task 430.0 in stage 11.0 (TID 41848) in 12024 ms on ip-172-31-1-104.us-west-2.compute.internal (executor 7) (430/466)\n",
      "23/01/17 18:35:10 INFO TaskSetManager: Starting task 442.0 in stage 11.0 (TID 41860, ip-172-31-1-104.us-west-2.compute.internal, executor 7, partition 442, PROCESS_LOCAL, 11075 bytes)\n",
      "23/01/17 18:35:10 INFO TaskSetManager: Finished task 426.0 in stage 11.0 (TID 41844) in 13797 ms on ip-172-31-1-104.us-west-2.compute.internal (executor 7) (431/466)\n",
      "23/01/17 18:35:10 INFO TaskSetManager: Starting task 443.0 in stage 11.0 (TID 41861, ip-172-31-1-104.us-west-2.compute.internal, executor 6, partition 443, PROCESS_LOCAL, 11075 bytes)\n",
      "23/01/17 18:35:10 INFO TaskSetManager: Finished task 432.0 in stage 11.0 (TID 41850) in 11823 ms on ip-172-31-1-104.us-west-2.compute.internal (executor 6) (432/466)\n",
      "23/01/17 18:35:10 INFO TaskSetManager: Starting task 444.0 in stage 11.0 (TID 41862, ip-172-31-1-104.us-west-2.compute.internal, executor 6, partition 444, PROCESS_LOCAL, 11075 bytes)\n",
      "23/01/17 18:35:10 INFO TaskSetManager: Finished task 433.0 in stage 11.0 (TID 41851) in 11918 ms on ip-172-31-1-104.us-west-2.compute.internal (executor 6) (433/466)\n",
      "23/01/17 18:35:11 INFO TaskSetManager: Starting task 445.0 in stage 11.0 (TID 41863, ip-172-31-1-104.us-west-2.compute.internal, executor 6, partition 445, PROCESS_LOCAL, 11075 bytes)\n",
      "23/01/17 18:35:11 INFO TaskSetManager: Finished task 434.0 in stage 11.0 (TID 41852) in 12060 ms on ip-172-31-1-104.us-west-2.compute.internal (executor 6) (434/466)\n",
      "23/01/17 18:35:12 INFO TaskSetManager: Starting task 446.0 in stage 11.0 (TID 41864, ip-172-31-9-35.us-west-2.compute.internal, executor 5, partition 446, PROCESS_LOCAL, 11075 bytes)\n",
      "23/01/17 18:35:12 INFO TaskSetManager: Finished task 431.0 in stage 11.0 (TID 41849) in 13466 ms on ip-172-31-9-35.us-west-2.compute.internal (executor 5) (435/466)\n",
      "23/01/17 18:35:12 INFO TaskSetManager: Starting task 447.0 in stage 11.0 (TID 41865, ip-172-31-1-104.us-west-2.compute.internal, executor 6, partition 447, PROCESS_LOCAL, 11075 bytes)\n",
      "23/01/17 18:35:12 INFO TaskSetManager: Finished task 435.0 in stage 11.0 (TID 41853) in 12221 ms on ip-172-31-1-104.us-west-2.compute.internal (executor 6) (436/466)\n",
      "23/01/17 18:35:17 INFO TaskSetManager: Starting task 448.0 in stage 11.0 (TID 41866, ip-172-31-9-35.us-west-2.compute.internal, executor 5, partition 448, PROCESS_LOCAL, 11075 bytes)\n",
      "23/01/17 18:35:17 INFO TaskSetManager: Finished task 436.0 in stage 11.0 (TID 41854) in 11933 ms on ip-172-31-9-35.us-west-2.compute.internal (executor 5) (437/466)\n",
      "23/01/17 18:35:18 INFO TaskSetManager: Starting task 449.0 in stage 11.0 (TID 41867, ip-172-31-9-35.us-west-2.compute.internal, executor 5, partition 449, PROCESS_LOCAL, 11075 bytes)\n",
      "23/01/17 18:35:18 INFO TaskSetManager: Finished task 437.0 in stage 11.0 (TID 41855) in 12075 ms on ip-172-31-9-35.us-west-2.compute.internal (executor 5) (438/466)\n",
      "23/01/17 18:35:21 INFO TaskSetManager: Starting task 450.0 in stage 11.0 (TID 41868, ip-172-31-1-104.us-west-2.compute.internal, executor 7, partition 450, PROCESS_LOCAL, 11075 bytes)\n",
      "23/01/17 18:35:21 INFO TaskSetManager: Finished task 438.0 in stage 11.0 (TID 41856) in 12792 ms on ip-172-31-1-104.us-west-2.compute.internal (executor 7) (439/466)\n",
      "23/01/17 18:35:21 INFO TaskSetManager: Starting task 451.0 in stage 11.0 (TID 41869, ip-172-31-9-35.us-west-2.compute.internal, executor 5, partition 451, PROCESS_LOCAL, 11075 bytes)\n",
      "23/01/17 18:35:21 INFO TaskSetManager: Finished task 440.0 in stage 11.0 (TID 41858) in 12348 ms on ip-172-31-9-35.us-west-2.compute.internal (executor 5) (440/466)\n",
      "23/01/17 18:35:22 INFO TaskSetManager: Starting task 452.0 in stage 11.0 (TID 41870, ip-172-31-1-104.us-west-2.compute.internal, executor 7, partition 452, PROCESS_LOCAL, 11075 bytes)\n",
      "23/01/17 18:35:22 INFO TaskSetManager: Finished task 439.0 in stage 11.0 (TID 41857) in 13185 ms on ip-172-31-1-104.us-west-2.compute.internal (executor 7) (441/466)\n",
      "23/01/17 18:35:22 INFO TaskSetManager: Starting task 453.0 in stage 11.0 (TID 41871, ip-172-31-1-104.us-west-2.compute.internal, executor 7, partition 453, PROCESS_LOCAL, 11075 bytes)\n",
      "23/01/17 18:35:22 INFO TaskSetManager: Finished task 441.0 in stage 11.0 (TID 41859) in 12589 ms on ip-172-31-1-104.us-west-2.compute.internal (executor 7) (442/466)\n",
      "23/01/17 18:35:22 INFO TaskSetManager: Starting task 454.0 in stage 11.0 (TID 41872, ip-172-31-1-104.us-west-2.compute.internal, executor 7, partition 454, PROCESS_LOCAL, 11075 bytes)\n",
      "23/01/17 18:35:22 INFO TaskSetManager: Finished task 442.0 in stage 11.0 (TID 41860) in 12103 ms on ip-172-31-1-104.us-west-2.compute.internal (executor 7) (443/466)\n",
      "23/01/17 18:35:22 INFO TaskSetManager: Starting task 455.0 in stage 11.0 (TID 41873, ip-172-31-1-104.us-west-2.compute.internal, executor 6, partition 455, PROCESS_LOCAL, 11075 bytes)\n",
      "23/01/17 18:35:22 INFO TaskSetManager: Finished task 443.0 in stage 11.0 (TID 41861) in 11934 ms on ip-172-31-1-104.us-west-2.compute.internal (executor 6) (444/466)\n",
      "23/01/17 18:35:22 INFO TaskSetManager: Starting task 456.0 in stage 11.0 (TID 41874, ip-172-31-1-104.us-west-2.compute.internal, executor 6, partition 456, PROCESS_LOCAL, 11075 bytes)\n",
      "23/01/17 18:35:22 INFO TaskSetManager: Finished task 444.0 in stage 11.0 (TID 41862) in 11748 ms on ip-172-31-1-104.us-west-2.compute.internal (executor 6) (445/466)\n",
      "23/01/17 18:35:23 INFO TaskSetManager: Starting task 457.0 in stage 11.0 (TID 41875, ip-172-31-1-104.us-west-2.compute.internal, executor 6, partition 457, PROCESS_LOCAL, 11075 bytes)\n",
      "23/01/17 18:35:23 INFO TaskSetManager: Finished task 445.0 in stage 11.0 (TID 41863) in 11922 ms on ip-172-31-1-104.us-west-2.compute.internal (executor 6) (446/466)\n",
      "23/01/17 18:35:24 INFO TaskSetManager: Starting task 458.0 in stage 11.0 (TID 41876, ip-172-31-1-104.us-west-2.compute.internal, executor 6, partition 458, PROCESS_LOCAL, 11075 bytes)\n",
      "23/01/17 18:35:24 INFO TaskSetManager: Finished task 447.0 in stage 11.0 (TID 41865) in 12123 ms on ip-172-31-1-104.us-west-2.compute.internal (executor 6) (447/466)\n",
      "23/01/17 18:35:24 INFO TaskSetManager: Starting task 459.0 in stage 11.0 (TID 41877, ip-172-31-9-35.us-west-2.compute.internal, executor 5, partition 459, PROCESS_LOCAL, 11075 bytes)\n",
      "23/01/17 18:35:24 INFO TaskSetManager: Finished task 446.0 in stage 11.0 (TID 41864) in 12510 ms on ip-172-31-9-35.us-west-2.compute.internal (executor 5) (448/466)\n"
     ]
    }
   ],
   "source": [
    "# # extract columns to create time table\n",
    "# time_table = df.select('ts_timestamp', hour('ts_timestamp').alias('hour'), dayofmonth('ts_timestamp').alias('day'), weekofyear('ts_timestamp').alias('weekofyear'),\n",
    "#                            month('ts_timestamp').alias('month'), year('ts_timestamp').alias('year'), dayofweek('ts_timestamp').alias('dayofweek'))\n",
    "# time_table.show(5)"
   ]
  },
  {
   "cell_type": "code",
   "execution_count": 17,
   "id": "e3c32597-9914-45f0-8753-f7ba24dae29e",
   "metadata": {
    "execution": {
     "iopub.execute_input": "2023-01-17T19:16:32.117875Z",
     "iopub.status.busy": "2023-01-17T19:16:32.113436Z",
     "iopub.status.idle": "2023-01-17T19:16:32.384014Z",
     "shell.execute_reply": "2023-01-17T19:16:32.377542Z",
     "shell.execute_reply.started": "2023-01-17T19:16:32.117711Z"
    },
    "tags": []
   },
   "outputs": [
    {
     "data": {
      "application/vnd.jupyter.widget-view+json": {
       "model_id": "cea5db614bac487c92a12176b21cd7b3",
       "version_major": 2,
       "version_minor": 0
      },
      "text/plain": [
       "VBox()"
      ]
     },
     "metadata": {},
     "output_type": "display_data"
    },
    {
     "name": "stderr",
     "output_type": "stream",
     "text": [
      "An error was encountered:\n",
      "Session 2 unexpectedly reached final status 'dead'. See logs:\n",
      "stdout: \n",
      "\n",
      "stderr: \n",
      "23/01/17 18:34:38 INFO TaskSetManager: Starting task 411.0 in stage 11.0 (TID 41829, ip-172-31-1-104.us-west-2.compute.internal, executor 6, partition 411, PROCESS_LOCAL, 11075 bytes)\n",
      "23/01/17 18:34:38 INFO TaskSetManager: Finished task 399.0 in stage 11.0 (TID 41817) in 11841 ms on ip-172-31-1-104.us-west-2.compute.internal (executor 6) (400/466)\n",
      "23/01/17 18:34:42 INFO TaskSetManager: Starting task 412.0 in stage 11.0 (TID 41830, ip-172-31-9-35.us-west-2.compute.internal, executor 5, partition 412, PROCESS_LOCAL, 11075 bytes)\n",
      "23/01/17 18:34:42 INFO TaskSetManager: Finished task 400.0 in stage 11.0 (TID 41818) in 11574 ms on ip-172-31-9-35.us-west-2.compute.internal (executor 5) (401/466)\n",
      "23/01/17 18:34:43 INFO TaskSetManager: Starting task 413.0 in stage 11.0 (TID 41831, ip-172-31-9-35.us-west-2.compute.internal, executor 5, partition 413, PROCESS_LOCAL, 11075 bytes)\n",
      "23/01/17 18:34:43 INFO TaskSetManager: Finished task 401.0 in stage 11.0 (TID 41819) in 11232 ms on ip-172-31-9-35.us-west-2.compute.internal (executor 5) (402/466)\n",
      "23/01/17 18:34:45 INFO TaskSetManager: Starting task 414.0 in stage 11.0 (TID 41832, ip-172-31-9-35.us-west-2.compute.internal, executor 5, partition 414, PROCESS_LOCAL, 11075 bytes)\n",
      "23/01/17 18:34:45 INFO TaskSetManager: Finished task 402.0 in stage 11.0 (TID 41820) in 11017 ms on ip-172-31-9-35.us-west-2.compute.internal (executor 5) (403/466)\n",
      "23/01/17 18:34:45 INFO TaskSetManager: Starting task 415.0 in stage 11.0 (TID 41833, ip-172-31-1-104.us-west-2.compute.internal, executor 7, partition 415, PROCESS_LOCAL, 11075 bytes)\n",
      "23/01/17 18:34:45 INFO TaskSetManager: Finished task 403.0 in stage 11.0 (TID 41821) in 10661 ms on ip-172-31-1-104.us-west-2.compute.internal (executor 7) (404/466)\n",
      "23/01/17 18:34:45 INFO TaskSetManager: Starting task 416.0 in stage 11.0 (TID 41834, ip-172-31-1-104.us-west-2.compute.internal, executor 7, partition 416, PROCESS_LOCAL, 11075 bytes)\n",
      "23/01/17 18:34:45 INFO TaskSetManager: Finished task 404.0 in stage 11.0 (TID 41822) in 10601 ms on ip-172-31-1-104.us-west-2.compute.internal (executor 7) (405/466)\n",
      "23/01/17 18:34:46 INFO TaskSetManager: Starting task 417.0 in stage 11.0 (TID 41835, ip-172-31-1-104.us-west-2.compute.internal, executor 7, partition 417, PROCESS_LOCAL, 11075 bytes)\n",
      "23/01/17 18:34:46 INFO TaskSetManager: Finished task 405.0 in stage 11.0 (TID 41823) in 10445 ms on ip-172-31-1-104.us-west-2.compute.internal (executor 7) (406/466)\n",
      "23/01/17 18:34:46 INFO TaskSetManager: Starting task 418.0 in stage 11.0 (TID 41836, ip-172-31-1-104.us-west-2.compute.internal, executor 7, partition 418, PROCESS_LOCAL, 11075 bytes)\n",
      "23/01/17 18:34:46 INFO TaskSetManager: Finished task 406.0 in stage 11.0 (TID 41824) in 10663 ms on ip-172-31-1-104.us-west-2.compute.internal (executor 7) (407/466)\n",
      "23/01/17 18:34:47 INFO TaskSetManager: Starting task 419.0 in stage 11.0 (TID 41837, ip-172-31-9-35.us-west-2.compute.internal, executor 5, partition 419, PROCESS_LOCAL, 11075 bytes)\n",
      "23/01/17 18:34:47 INFO TaskSetManager: Finished task 407.0 in stage 11.0 (TID 41825) in 11364 ms on ip-172-31-9-35.us-west-2.compute.internal (executor 5) (408/466)\n",
      "23/01/17 18:34:47 INFO TaskSetManager: Starting task 420.0 in stage 11.0 (TID 41838, ip-172-31-1-104.us-west-2.compute.internal, executor 6, partition 420, PROCESS_LOCAL, 11075 bytes)\n",
      "23/01/17 18:34:47 INFO TaskSetManager: Finished task 409.0 in stage 11.0 (TID 41827) in 11282 ms on ip-172-31-1-104.us-west-2.compute.internal (executor 6) (409/466)\n",
      "23/01/17 18:34:48 INFO TaskSetManager: Starting task 421.0 in stage 11.0 (TID 41839, ip-172-31-1-104.us-west-2.compute.internal, executor 6, partition 421, PROCESS_LOCAL, 11075 bytes)\n",
      "23/01/17 18:34:48 INFO TaskSetManager: Finished task 408.0 in stage 11.0 (TID 41826) in 11594 ms on ip-172-31-1-104.us-west-2.compute.internal (executor 6) (410/466)\n",
      "23/01/17 18:34:48 INFO TaskSetManager: Starting task 422.0 in stage 11.0 (TID 41840, ip-172-31-1-104.us-west-2.compute.internal, executor 6, partition 422, PROCESS_LOCAL, 11075 bytes)\n",
      "23/01/17 18:34:48 INFO TaskSetManager: Finished task 410.0 in stage 11.0 (TID 41828) in 11385 ms on ip-172-31-1-104.us-west-2.compute.internal (executor 6) (411/466)\n",
      "23/01/17 18:34:49 INFO TaskSetManager: Starting task 423.0 in stage 11.0 (TID 41841, ip-172-31-1-104.us-west-2.compute.internal, executor 6, partition 423, PROCESS_LOCAL, 11075 bytes)\n",
      "23/01/17 18:34:49 INFO TaskSetManager: Finished task 411.0 in stage 11.0 (TID 41829) in 11198 ms on ip-172-31-1-104.us-west-2.compute.internal (executor 6) (412/466)\n",
      "23/01/17 18:34:53 INFO TaskSetManager: Starting task 424.0 in stage 11.0 (TID 41842, ip-172-31-9-35.us-west-2.compute.internal, executor 5, partition 424, PROCESS_LOCAL, 11075 bytes)\n",
      "23/01/17 18:34:53 INFO TaskSetManager: Finished task 412.0 in stage 11.0 (TID 41830) in 11275 ms on ip-172-31-9-35.us-west-2.compute.internal (executor 5) (413/466)\n",
      "23/01/17 18:34:54 INFO TaskSetManager: Starting task 425.0 in stage 11.0 (TID 41843, ip-172-31-9-35.us-west-2.compute.internal, executor 5, partition 425, PROCESS_LOCAL, 11075 bytes)\n",
      "23/01/17 18:34:54 INFO TaskSetManager: Finished task 413.0 in stage 11.0 (TID 41831) in 11106 ms on ip-172-31-9-35.us-west-2.compute.internal (executor 5) (414/466)\n",
      "23/01/17 18:34:56 INFO TaskSetManager: Starting task 426.0 in stage 11.0 (TID 41844, ip-172-31-1-104.us-west-2.compute.internal, executor 7, partition 426, PROCESS_LOCAL, 11075 bytes)\n",
      "23/01/17 18:34:56 INFO TaskSetManager: Finished task 415.0 in stage 11.0 (TID 41833) in 10930 ms on ip-172-31-1-104.us-west-2.compute.internal (executor 7) (415/466)\n",
      "23/01/17 18:34:56 INFO TaskSetManager: Starting task 427.0 in stage 11.0 (TID 41845, ip-172-31-9-35.us-west-2.compute.internal, executor 5, partition 427, PROCESS_LOCAL, 11075 bytes)\n",
      "23/01/17 18:34:56 INFO TaskSetManager: Finished task 414.0 in stage 11.0 (TID 41832) in 11596 ms on ip-172-31-9-35.us-west-2.compute.internal (executor 5) (416/466)\n",
      "23/01/17 18:34:56 INFO TaskSetManager: Starting task 428.0 in stage 11.0 (TID 41846, ip-172-31-1-104.us-west-2.compute.internal, executor 7, partition 428, PROCESS_LOCAL, 11075 bytes)\n",
      "23/01/17 18:34:56 INFO TaskSetManager: Finished task 417.0 in stage 11.0 (TID 41835) in 10684 ms on ip-172-31-1-104.us-west-2.compute.internal (executor 7) (417/466)\n",
      "23/01/17 18:34:57 INFO TaskSetManager: Starting task 429.0 in stage 11.0 (TID 41847, ip-172-31-1-104.us-west-2.compute.internal, executor 7, partition 429, PROCESS_LOCAL, 11075 bytes)\n",
      "23/01/17 18:34:57 INFO TaskSetManager: Finished task 416.0 in stage 11.0 (TID 41834) in 11117 ms on ip-172-31-1-104.us-west-2.compute.internal (executor 7) (418/466)\n",
      "23/01/17 18:34:57 INFO TaskSetManager: Starting task 430.0 in stage 11.0 (TID 41848, ip-172-31-1-104.us-west-2.compute.internal, executor 7, partition 430, PROCESS_LOCAL, 11075 bytes)\n",
      "23/01/17 18:34:57 INFO TaskSetManager: Finished task 418.0 in stage 11.0 (TID 41836) in 10716 ms on ip-172-31-1-104.us-west-2.compute.internal (executor 7) (419/466)\n",
      "23/01/17 18:34:58 INFO TaskSetManager: Starting task 431.0 in stage 11.0 (TID 41849, ip-172-31-9-35.us-west-2.compute.internal, executor 5, partition 431, PROCESS_LOCAL, 11075 bytes)\n",
      "23/01/17 18:34:58 INFO TaskSetManager: Finished task 419.0 in stage 11.0 (TID 41837) in 11219 ms on ip-172-31-9-35.us-west-2.compute.internal (executor 5) (420/466)\n",
      "23/01/17 18:34:58 INFO TaskSetManager: Starting task 432.0 in stage 11.0 (TID 41850, ip-172-31-1-104.us-west-2.compute.internal, executor 6, partition 432, PROCESS_LOCAL, 11075 bytes)\n",
      "23/01/17 18:34:58 INFO TaskSetManager: Finished task 420.0 in stage 11.0 (TID 41838) in 11160 ms on ip-172-31-1-104.us-west-2.compute.internal (executor 6) (421/466)\n",
      "23/01/17 18:34:59 INFO TaskSetManager: Starting task 433.0 in stage 11.0 (TID 41851, ip-172-31-1-104.us-west-2.compute.internal, executor 6, partition 433, PROCESS_LOCAL, 11075 bytes)\n",
      "23/01/17 18:34:59 INFO TaskSetManager: Finished task 422.0 in stage 11.0 (TID 41840) in 10933 ms on ip-172-31-1-104.us-west-2.compute.internal (executor 6) (422/466)\n",
      "23/01/17 18:34:59 INFO TaskSetManager: Starting task 434.0 in stage 11.0 (TID 41852, ip-172-31-1-104.us-west-2.compute.internal, executor 6, partition 434, PROCESS_LOCAL, 11075 bytes)\n",
      "23/01/17 18:34:59 INFO TaskSetManager: Finished task 421.0 in stage 11.0 (TID 41839) in 11017 ms on ip-172-31-1-104.us-west-2.compute.internal (executor 6) (423/466)\n",
      "23/01/17 18:35:00 INFO TaskSetManager: Starting task 435.0 in stage 11.0 (TID 41853, ip-172-31-1-104.us-west-2.compute.internal, executor 6, partition 435, PROCESS_LOCAL, 11075 bytes)\n",
      "23/01/17 18:35:00 INFO TaskSetManager: Finished task 423.0 in stage 11.0 (TID 41841) in 10647 ms on ip-172-31-1-104.us-west-2.compute.internal (executor 6) (424/466)\n",
      "23/01/17 18:35:05 INFO TaskSetManager: Starting task 436.0 in stage 11.0 (TID 41854, ip-172-31-9-35.us-west-2.compute.internal, executor 5, partition 436, PROCESS_LOCAL, 11075 bytes)\n",
      "23/01/17 18:35:05 INFO TaskSetManager: Finished task 424.0 in stage 11.0 (TID 41842) in 12557 ms on ip-172-31-9-35.us-west-2.compute.internal (executor 5) (425/466)\n",
      "23/01/17 18:35:06 INFO TaskSetManager: Starting task 437.0 in stage 11.0 (TID 41855, ip-172-31-9-35.us-west-2.compute.internal, executor 5, partition 437, PROCESS_LOCAL, 11075 bytes)\n",
      "23/01/17 18:35:06 INFO TaskSetManager: Finished task 425.0 in stage 11.0 (TID 41843) in 12661 ms on ip-172-31-9-35.us-west-2.compute.internal (executor 5) (426/466)\n",
      "23/01/17 18:35:08 INFO TaskSetManager: Starting task 438.0 in stage 11.0 (TID 41856, ip-172-31-1-104.us-west-2.compute.internal, executor 7, partition 438, PROCESS_LOCAL, 11075 bytes)\n",
      "23/01/17 18:35:08 INFO TaskSetManager: Finished task 428.0 in stage 11.0 (TID 41846) in 11922 ms on ip-172-31-1-104.us-west-2.compute.internal (executor 7) (427/466)\n",
      "23/01/17 18:35:08 INFO TaskSetManager: Starting task 439.0 in stage 11.0 (TID 41857, ip-172-31-1-104.us-west-2.compute.internal, executor 7, partition 439, PROCESS_LOCAL, 11075 bytes)\n",
      "23/01/17 18:35:08 INFO TaskSetManager: Finished task 429.0 in stage 11.0 (TID 41847) in 11868 ms on ip-172-31-1-104.us-west-2.compute.internal (executor 7) (428/466)\n",
      "23/01/17 18:35:09 INFO TaskSetManager: Starting task 440.0 in stage 11.0 (TID 41858, ip-172-31-9-35.us-west-2.compute.internal, executor 5, partition 440, PROCESS_LOCAL, 11075 bytes)\n",
      "23/01/17 18:35:09 INFO TaskSetManager: Finished task 427.0 in stage 11.0 (TID 41845) in 12856 ms on ip-172-31-9-35.us-west-2.compute.internal (executor 5) (429/466)\n",
      "23/01/17 18:35:09 INFO TaskSetManager: Starting task 441.0 in stage 11.0 (TID 41859, ip-172-31-1-104.us-west-2.compute.internal, executor 7, partition 441, PROCESS_LOCAL, 11075 bytes)\n",
      "23/01/17 18:35:09 INFO TaskSetManager: Finished task 430.0 in stage 11.0 (TID 41848) in 12024 ms on ip-172-31-1-104.us-west-2.compute.internal (executor 7) (430/466)\n",
      "23/01/17 18:35:10 INFO TaskSetManager: Starting task 442.0 in stage 11.0 (TID 41860, ip-172-31-1-104.us-west-2.compute.internal, executor 7, partition 442, PROCESS_LOCAL, 11075 bytes)\n",
      "23/01/17 18:35:10 INFO TaskSetManager: Finished task 426.0 in stage 11.0 (TID 41844) in 13797 ms on ip-172-31-1-104.us-west-2.compute.internal (executor 7) (431/466)\n",
      "23/01/17 18:35:10 INFO TaskSetManager: Starting task 443.0 in stage 11.0 (TID 41861, ip-172-31-1-104.us-west-2.compute.internal, executor 6, partition 443, PROCESS_LOCAL, 11075 bytes)\n",
      "23/01/17 18:35:10 INFO TaskSetManager: Finished task 432.0 in stage 11.0 (TID 41850) in 11823 ms on ip-172-31-1-104.us-west-2.compute.internal (executor 6) (432/466)\n",
      "23/01/17 18:35:10 INFO TaskSetManager: Starting task 444.0 in stage 11.0 (TID 41862, ip-172-31-1-104.us-west-2.compute.internal, executor 6, partition 444, PROCESS_LOCAL, 11075 bytes)\n",
      "23/01/17 18:35:10 INFO TaskSetManager: Finished task 433.0 in stage 11.0 (TID 41851) in 11918 ms on ip-172-31-1-104.us-west-2.compute.internal (executor 6) (433/466)\n",
      "23/01/17 18:35:11 INFO TaskSetManager: Starting task 445.0 in stage 11.0 (TID 41863, ip-172-31-1-104.us-west-2.compute.internal, executor 6, partition 445, PROCESS_LOCAL, 11075 bytes)\n",
      "23/01/17 18:35:11 INFO TaskSetManager: Finished task 434.0 in stage 11.0 (TID 41852) in 12060 ms on ip-172-31-1-104.us-west-2.compute.internal (executor 6) (434/466)\n",
      "23/01/17 18:35:12 INFO TaskSetManager: Starting task 446.0 in stage 11.0 (TID 41864, ip-172-31-9-35.us-west-2.compute.internal, executor 5, partition 446, PROCESS_LOCAL, 11075 bytes)\n",
      "23/01/17 18:35:12 INFO TaskSetManager: Finished task 431.0 in stage 11.0 (TID 41849) in 13466 ms on ip-172-31-9-35.us-west-2.compute.internal (executor 5) (435/466)\n",
      "23/01/17 18:35:12 INFO TaskSetManager: Starting task 447.0 in stage 11.0 (TID 41865, ip-172-31-1-104.us-west-2.compute.internal, executor 6, partition 447, PROCESS_LOCAL, 11075 bytes)\n",
      "23/01/17 18:35:12 INFO TaskSetManager: Finished task 435.0 in stage 11.0 (TID 41853) in 12221 ms on ip-172-31-1-104.us-west-2.compute.internal (executor 6) (436/466)\n",
      "23/01/17 18:35:17 INFO TaskSetManager: Starting task 448.0 in stage 11.0 (TID 41866, ip-172-31-9-35.us-west-2.compute.internal, executor 5, partition 448, PROCESS_LOCAL, 11075 bytes)\n",
      "23/01/17 18:35:17 INFO TaskSetManager: Finished task 436.0 in stage 11.0 (TID 41854) in 11933 ms on ip-172-31-9-35.us-west-2.compute.internal (executor 5) (437/466)\n",
      "23/01/17 18:35:18 INFO TaskSetManager: Starting task 449.0 in stage 11.0 (TID 41867, ip-172-31-9-35.us-west-2.compute.internal, executor 5, partition 449, PROCESS_LOCAL, 11075 bytes)\n",
      "23/01/17 18:35:18 INFO TaskSetManager: Finished task 437.0 in stage 11.0 (TID 41855) in 12075 ms on ip-172-31-9-35.us-west-2.compute.internal (executor 5) (438/466)\n",
      "23/01/17 18:35:21 INFO TaskSetManager: Starting task 450.0 in stage 11.0 (TID 41868, ip-172-31-1-104.us-west-2.compute.internal, executor 7, partition 450, PROCESS_LOCAL, 11075 bytes)\n",
      "23/01/17 18:35:21 INFO TaskSetManager: Finished task 438.0 in stage 11.0 (TID 41856) in 12792 ms on ip-172-31-1-104.us-west-2.compute.internal (executor 7) (439/466)\n",
      "23/01/17 18:35:21 INFO TaskSetManager: Starting task 451.0 in stage 11.0 (TID 41869, ip-172-31-9-35.us-west-2.compute.internal, executor 5, partition 451, PROCESS_LOCAL, 11075 bytes)\n",
      "23/01/17 18:35:21 INFO TaskSetManager: Finished task 440.0 in stage 11.0 (TID 41858) in 12348 ms on ip-172-31-9-35.us-west-2.compute.internal (executor 5) (440/466)\n",
      "23/01/17 18:35:22 INFO TaskSetManager: Starting task 452.0 in stage 11.0 (TID 41870, ip-172-31-1-104.us-west-2.compute.internal, executor 7, partition 452, PROCESS_LOCAL, 11075 bytes)\n",
      "23/01/17 18:35:22 INFO TaskSetManager: Finished task 439.0 in stage 11.0 (TID 41857) in 13185 ms on ip-172-31-1-104.us-west-2.compute.internal (executor 7) (441/466)\n",
      "23/01/17 18:35:22 INFO TaskSetManager: Starting task 453.0 in stage 11.0 (TID 41871, ip-172-31-1-104.us-west-2.compute.internal, executor 7, partition 453, PROCESS_LOCAL, 11075 bytes)\n",
      "23/01/17 18:35:22 INFO TaskSetManager: Finished task 441.0 in stage 11.0 (TID 41859) in 12589 ms on ip-172-31-1-104.us-west-2.compute.internal (executor 7) (442/466)\n",
      "23/01/17 18:35:22 INFO TaskSetManager: Starting task 454.0 in stage 11.0 (TID 41872, ip-172-31-1-104.us-west-2.compute.internal, executor 7, partition 454, PROCESS_LOCAL, 11075 bytes)\n",
      "23/01/17 18:35:22 INFO TaskSetManager: Finished task 442.0 in stage 11.0 (TID 41860) in 12103 ms on ip-172-31-1-104.us-west-2.compute.internal (executor 7) (443/466)\n",
      "23/01/17 18:35:22 INFO TaskSetManager: Starting task 455.0 in stage 11.0 (TID 41873, ip-172-31-1-104.us-west-2.compute.internal, executor 6, partition 455, PROCESS_LOCAL, 11075 bytes)\n",
      "23/01/17 18:35:22 INFO TaskSetManager: Finished task 443.0 in stage 11.0 (TID 41861) in 11934 ms on ip-172-31-1-104.us-west-2.compute.internal (executor 6) (444/466)\n",
      "23/01/17 18:35:22 INFO TaskSetManager: Starting task 456.0 in stage 11.0 (TID 41874, ip-172-31-1-104.us-west-2.compute.internal, executor 6, partition 456, PROCESS_LOCAL, 11075 bytes)\n",
      "23/01/17 18:35:22 INFO TaskSetManager: Finished task 444.0 in stage 11.0 (TID 41862) in 11748 ms on ip-172-31-1-104.us-west-2.compute.internal (executor 6) (445/466)\n",
      "23/01/17 18:35:23 INFO TaskSetManager: Starting task 457.0 in stage 11.0 (TID 41875, ip-172-31-1-104.us-west-2.compute.internal, executor 6, partition 457, PROCESS_LOCAL, 11075 bytes)\n",
      "23/01/17 18:35:23 INFO TaskSetManager: Finished task 445.0 in stage 11.0 (TID 41863) in 11922 ms on ip-172-31-1-104.us-west-2.compute.internal (executor 6) (446/466)\n",
      "23/01/17 18:35:24 INFO TaskSetManager: Starting task 458.0 in stage 11.0 (TID 41876, ip-172-31-1-104.us-west-2.compute.internal, executor 6, partition 458, PROCESS_LOCAL, 11075 bytes)\n",
      "23/01/17 18:35:24 INFO TaskSetManager: Finished task 447.0 in stage 11.0 (TID 41865) in 12123 ms on ip-172-31-1-104.us-west-2.compute.internal (executor 6) (447/466)\n",
      "23/01/17 18:35:24 INFO TaskSetManager: Starting task 459.0 in stage 11.0 (TID 41877, ip-172-31-9-35.us-west-2.compute.internal, executor 5, partition 459, PROCESS_LOCAL, 11075 bytes)\n",
      "23/01/17 18:35:24 INFO TaskSetManager: Finished task 446.0 in stage 11.0 (TID 41864) in 12510 ms on ip-172-31-9-35.us-west-2.compute.internal (executor 5) (448/466)\n"
     ]
    }
   ],
   "source": [
    "# # write time table to parquet files partitioned by year and month\n",
    "# time_table.write.partitionBy('year', 'month').mode('overwrite').parquet(output_data + \"time/\")"
   ]
  },
  {
   "cell_type": "code",
   "execution_count": 18,
   "id": "261382ee-dc22-466f-baab-cc37b94ec8b2",
   "metadata": {
    "execution": {
     "iopub.execute_input": "2023-01-17T19:16:32.387161Z",
     "iopub.status.busy": "2023-01-17T19:16:32.386290Z",
     "iopub.status.idle": "2023-01-17T19:16:32.705382Z",
     "shell.execute_reply": "2023-01-17T19:16:32.704066Z",
     "shell.execute_reply.started": "2023-01-17T19:16:32.387095Z"
    },
    "tags": []
   },
   "outputs": [
    {
     "data": {
      "application/vnd.jupyter.widget-view+json": {
       "model_id": "09ddccfe054b490c98ba3d3016ce72cb",
       "version_major": 2,
       "version_minor": 0
      },
      "text/plain": [
       "VBox()"
      ]
     },
     "metadata": {},
     "output_type": "display_data"
    },
    {
     "name": "stderr",
     "output_type": "stream",
     "text": [
      "An error was encountered:\n",
      "Session 2 unexpectedly reached final status 'dead'. See logs:\n",
      "stdout: \n",
      "\n",
      "stderr: \n",
      "23/01/17 18:34:38 INFO TaskSetManager: Starting task 411.0 in stage 11.0 (TID 41829, ip-172-31-1-104.us-west-2.compute.internal, executor 6, partition 411, PROCESS_LOCAL, 11075 bytes)\n",
      "23/01/17 18:34:38 INFO TaskSetManager: Finished task 399.0 in stage 11.0 (TID 41817) in 11841 ms on ip-172-31-1-104.us-west-2.compute.internal (executor 6) (400/466)\n",
      "23/01/17 18:34:42 INFO TaskSetManager: Starting task 412.0 in stage 11.0 (TID 41830, ip-172-31-9-35.us-west-2.compute.internal, executor 5, partition 412, PROCESS_LOCAL, 11075 bytes)\n",
      "23/01/17 18:34:42 INFO TaskSetManager: Finished task 400.0 in stage 11.0 (TID 41818) in 11574 ms on ip-172-31-9-35.us-west-2.compute.internal (executor 5) (401/466)\n",
      "23/01/17 18:34:43 INFO TaskSetManager: Starting task 413.0 in stage 11.0 (TID 41831, ip-172-31-9-35.us-west-2.compute.internal, executor 5, partition 413, PROCESS_LOCAL, 11075 bytes)\n",
      "23/01/17 18:34:43 INFO TaskSetManager: Finished task 401.0 in stage 11.0 (TID 41819) in 11232 ms on ip-172-31-9-35.us-west-2.compute.internal (executor 5) (402/466)\n",
      "23/01/17 18:34:45 INFO TaskSetManager: Starting task 414.0 in stage 11.0 (TID 41832, ip-172-31-9-35.us-west-2.compute.internal, executor 5, partition 414, PROCESS_LOCAL, 11075 bytes)\n",
      "23/01/17 18:34:45 INFO TaskSetManager: Finished task 402.0 in stage 11.0 (TID 41820) in 11017 ms on ip-172-31-9-35.us-west-2.compute.internal (executor 5) (403/466)\n",
      "23/01/17 18:34:45 INFO TaskSetManager: Starting task 415.0 in stage 11.0 (TID 41833, ip-172-31-1-104.us-west-2.compute.internal, executor 7, partition 415, PROCESS_LOCAL, 11075 bytes)\n",
      "23/01/17 18:34:45 INFO TaskSetManager: Finished task 403.0 in stage 11.0 (TID 41821) in 10661 ms on ip-172-31-1-104.us-west-2.compute.internal (executor 7) (404/466)\n",
      "23/01/17 18:34:45 INFO TaskSetManager: Starting task 416.0 in stage 11.0 (TID 41834, ip-172-31-1-104.us-west-2.compute.internal, executor 7, partition 416, PROCESS_LOCAL, 11075 bytes)\n",
      "23/01/17 18:34:45 INFO TaskSetManager: Finished task 404.0 in stage 11.0 (TID 41822) in 10601 ms on ip-172-31-1-104.us-west-2.compute.internal (executor 7) (405/466)\n",
      "23/01/17 18:34:46 INFO TaskSetManager: Starting task 417.0 in stage 11.0 (TID 41835, ip-172-31-1-104.us-west-2.compute.internal, executor 7, partition 417, PROCESS_LOCAL, 11075 bytes)\n",
      "23/01/17 18:34:46 INFO TaskSetManager: Finished task 405.0 in stage 11.0 (TID 41823) in 10445 ms on ip-172-31-1-104.us-west-2.compute.internal (executor 7) (406/466)\n",
      "23/01/17 18:34:46 INFO TaskSetManager: Starting task 418.0 in stage 11.0 (TID 41836, ip-172-31-1-104.us-west-2.compute.internal, executor 7, partition 418, PROCESS_LOCAL, 11075 bytes)\n",
      "23/01/17 18:34:46 INFO TaskSetManager: Finished task 406.0 in stage 11.0 (TID 41824) in 10663 ms on ip-172-31-1-104.us-west-2.compute.internal (executor 7) (407/466)\n",
      "23/01/17 18:34:47 INFO TaskSetManager: Starting task 419.0 in stage 11.0 (TID 41837, ip-172-31-9-35.us-west-2.compute.internal, executor 5, partition 419, PROCESS_LOCAL, 11075 bytes)\n",
      "23/01/17 18:34:47 INFO TaskSetManager: Finished task 407.0 in stage 11.0 (TID 41825) in 11364 ms on ip-172-31-9-35.us-west-2.compute.internal (executor 5) (408/466)\n",
      "23/01/17 18:34:47 INFO TaskSetManager: Starting task 420.0 in stage 11.0 (TID 41838, ip-172-31-1-104.us-west-2.compute.internal, executor 6, partition 420, PROCESS_LOCAL, 11075 bytes)\n",
      "23/01/17 18:34:47 INFO TaskSetManager: Finished task 409.0 in stage 11.0 (TID 41827) in 11282 ms on ip-172-31-1-104.us-west-2.compute.internal (executor 6) (409/466)\n",
      "23/01/17 18:34:48 INFO TaskSetManager: Starting task 421.0 in stage 11.0 (TID 41839, ip-172-31-1-104.us-west-2.compute.internal, executor 6, partition 421, PROCESS_LOCAL, 11075 bytes)\n",
      "23/01/17 18:34:48 INFO TaskSetManager: Finished task 408.0 in stage 11.0 (TID 41826) in 11594 ms on ip-172-31-1-104.us-west-2.compute.internal (executor 6) (410/466)\n",
      "23/01/17 18:34:48 INFO TaskSetManager: Starting task 422.0 in stage 11.0 (TID 41840, ip-172-31-1-104.us-west-2.compute.internal, executor 6, partition 422, PROCESS_LOCAL, 11075 bytes)\n",
      "23/01/17 18:34:48 INFO TaskSetManager: Finished task 410.0 in stage 11.0 (TID 41828) in 11385 ms on ip-172-31-1-104.us-west-2.compute.internal (executor 6) (411/466)\n",
      "23/01/17 18:34:49 INFO TaskSetManager: Starting task 423.0 in stage 11.0 (TID 41841, ip-172-31-1-104.us-west-2.compute.internal, executor 6, partition 423, PROCESS_LOCAL, 11075 bytes)\n",
      "23/01/17 18:34:49 INFO TaskSetManager: Finished task 411.0 in stage 11.0 (TID 41829) in 11198 ms on ip-172-31-1-104.us-west-2.compute.internal (executor 6) (412/466)\n",
      "23/01/17 18:34:53 INFO TaskSetManager: Starting task 424.0 in stage 11.0 (TID 41842, ip-172-31-9-35.us-west-2.compute.internal, executor 5, partition 424, PROCESS_LOCAL, 11075 bytes)\n",
      "23/01/17 18:34:53 INFO TaskSetManager: Finished task 412.0 in stage 11.0 (TID 41830) in 11275 ms on ip-172-31-9-35.us-west-2.compute.internal (executor 5) (413/466)\n",
      "23/01/17 18:34:54 INFO TaskSetManager: Starting task 425.0 in stage 11.0 (TID 41843, ip-172-31-9-35.us-west-2.compute.internal, executor 5, partition 425, PROCESS_LOCAL, 11075 bytes)\n",
      "23/01/17 18:34:54 INFO TaskSetManager: Finished task 413.0 in stage 11.0 (TID 41831) in 11106 ms on ip-172-31-9-35.us-west-2.compute.internal (executor 5) (414/466)\n",
      "23/01/17 18:34:56 INFO TaskSetManager: Starting task 426.0 in stage 11.0 (TID 41844, ip-172-31-1-104.us-west-2.compute.internal, executor 7, partition 426, PROCESS_LOCAL, 11075 bytes)\n",
      "23/01/17 18:34:56 INFO TaskSetManager: Finished task 415.0 in stage 11.0 (TID 41833) in 10930 ms on ip-172-31-1-104.us-west-2.compute.internal (executor 7) (415/466)\n",
      "23/01/17 18:34:56 INFO TaskSetManager: Starting task 427.0 in stage 11.0 (TID 41845, ip-172-31-9-35.us-west-2.compute.internal, executor 5, partition 427, PROCESS_LOCAL, 11075 bytes)\n",
      "23/01/17 18:34:56 INFO TaskSetManager: Finished task 414.0 in stage 11.0 (TID 41832) in 11596 ms on ip-172-31-9-35.us-west-2.compute.internal (executor 5) (416/466)\n",
      "23/01/17 18:34:56 INFO TaskSetManager: Starting task 428.0 in stage 11.0 (TID 41846, ip-172-31-1-104.us-west-2.compute.internal, executor 7, partition 428, PROCESS_LOCAL, 11075 bytes)\n",
      "23/01/17 18:34:56 INFO TaskSetManager: Finished task 417.0 in stage 11.0 (TID 41835) in 10684 ms on ip-172-31-1-104.us-west-2.compute.internal (executor 7) (417/466)\n",
      "23/01/17 18:34:57 INFO TaskSetManager: Starting task 429.0 in stage 11.0 (TID 41847, ip-172-31-1-104.us-west-2.compute.internal, executor 7, partition 429, PROCESS_LOCAL, 11075 bytes)\n",
      "23/01/17 18:34:57 INFO TaskSetManager: Finished task 416.0 in stage 11.0 (TID 41834) in 11117 ms on ip-172-31-1-104.us-west-2.compute.internal (executor 7) (418/466)\n",
      "23/01/17 18:34:57 INFO TaskSetManager: Starting task 430.0 in stage 11.0 (TID 41848, ip-172-31-1-104.us-west-2.compute.internal, executor 7, partition 430, PROCESS_LOCAL, 11075 bytes)\n",
      "23/01/17 18:34:57 INFO TaskSetManager: Finished task 418.0 in stage 11.0 (TID 41836) in 10716 ms on ip-172-31-1-104.us-west-2.compute.internal (executor 7) (419/466)\n",
      "23/01/17 18:34:58 INFO TaskSetManager: Starting task 431.0 in stage 11.0 (TID 41849, ip-172-31-9-35.us-west-2.compute.internal, executor 5, partition 431, PROCESS_LOCAL, 11075 bytes)\n",
      "23/01/17 18:34:58 INFO TaskSetManager: Finished task 419.0 in stage 11.0 (TID 41837) in 11219 ms on ip-172-31-9-35.us-west-2.compute.internal (executor 5) (420/466)\n",
      "23/01/17 18:34:58 INFO TaskSetManager: Starting task 432.0 in stage 11.0 (TID 41850, ip-172-31-1-104.us-west-2.compute.internal, executor 6, partition 432, PROCESS_LOCAL, 11075 bytes)\n",
      "23/01/17 18:34:58 INFO TaskSetManager: Finished task 420.0 in stage 11.0 (TID 41838) in 11160 ms on ip-172-31-1-104.us-west-2.compute.internal (executor 6) (421/466)\n",
      "23/01/17 18:34:59 INFO TaskSetManager: Starting task 433.0 in stage 11.0 (TID 41851, ip-172-31-1-104.us-west-2.compute.internal, executor 6, partition 433, PROCESS_LOCAL, 11075 bytes)\n",
      "23/01/17 18:34:59 INFO TaskSetManager: Finished task 422.0 in stage 11.0 (TID 41840) in 10933 ms on ip-172-31-1-104.us-west-2.compute.internal (executor 6) (422/466)\n",
      "23/01/17 18:34:59 INFO TaskSetManager: Starting task 434.0 in stage 11.0 (TID 41852, ip-172-31-1-104.us-west-2.compute.internal, executor 6, partition 434, PROCESS_LOCAL, 11075 bytes)\n",
      "23/01/17 18:34:59 INFO TaskSetManager: Finished task 421.0 in stage 11.0 (TID 41839) in 11017 ms on ip-172-31-1-104.us-west-2.compute.internal (executor 6) (423/466)\n",
      "23/01/17 18:35:00 INFO TaskSetManager: Starting task 435.0 in stage 11.0 (TID 41853, ip-172-31-1-104.us-west-2.compute.internal, executor 6, partition 435, PROCESS_LOCAL, 11075 bytes)\n",
      "23/01/17 18:35:00 INFO TaskSetManager: Finished task 423.0 in stage 11.0 (TID 41841) in 10647 ms on ip-172-31-1-104.us-west-2.compute.internal (executor 6) (424/466)\n",
      "23/01/17 18:35:05 INFO TaskSetManager: Starting task 436.0 in stage 11.0 (TID 41854, ip-172-31-9-35.us-west-2.compute.internal, executor 5, partition 436, PROCESS_LOCAL, 11075 bytes)\n",
      "23/01/17 18:35:05 INFO TaskSetManager: Finished task 424.0 in stage 11.0 (TID 41842) in 12557 ms on ip-172-31-9-35.us-west-2.compute.internal (executor 5) (425/466)\n",
      "23/01/17 18:35:06 INFO TaskSetManager: Starting task 437.0 in stage 11.0 (TID 41855, ip-172-31-9-35.us-west-2.compute.internal, executor 5, partition 437, PROCESS_LOCAL, 11075 bytes)\n",
      "23/01/17 18:35:06 INFO TaskSetManager: Finished task 425.0 in stage 11.0 (TID 41843) in 12661 ms on ip-172-31-9-35.us-west-2.compute.internal (executor 5) (426/466)\n",
      "23/01/17 18:35:08 INFO TaskSetManager: Starting task 438.0 in stage 11.0 (TID 41856, ip-172-31-1-104.us-west-2.compute.internal, executor 7, partition 438, PROCESS_LOCAL, 11075 bytes)\n",
      "23/01/17 18:35:08 INFO TaskSetManager: Finished task 428.0 in stage 11.0 (TID 41846) in 11922 ms on ip-172-31-1-104.us-west-2.compute.internal (executor 7) (427/466)\n",
      "23/01/17 18:35:08 INFO TaskSetManager: Starting task 439.0 in stage 11.0 (TID 41857, ip-172-31-1-104.us-west-2.compute.internal, executor 7, partition 439, PROCESS_LOCAL, 11075 bytes)\n",
      "23/01/17 18:35:08 INFO TaskSetManager: Finished task 429.0 in stage 11.0 (TID 41847) in 11868 ms on ip-172-31-1-104.us-west-2.compute.internal (executor 7) (428/466)\n",
      "23/01/17 18:35:09 INFO TaskSetManager: Starting task 440.0 in stage 11.0 (TID 41858, ip-172-31-9-35.us-west-2.compute.internal, executor 5, partition 440, PROCESS_LOCAL, 11075 bytes)\n",
      "23/01/17 18:35:09 INFO TaskSetManager: Finished task 427.0 in stage 11.0 (TID 41845) in 12856 ms on ip-172-31-9-35.us-west-2.compute.internal (executor 5) (429/466)\n",
      "23/01/17 18:35:09 INFO TaskSetManager: Starting task 441.0 in stage 11.0 (TID 41859, ip-172-31-1-104.us-west-2.compute.internal, executor 7, partition 441, PROCESS_LOCAL, 11075 bytes)\n",
      "23/01/17 18:35:09 INFO TaskSetManager: Finished task 430.0 in stage 11.0 (TID 41848) in 12024 ms on ip-172-31-1-104.us-west-2.compute.internal (executor 7) (430/466)\n",
      "23/01/17 18:35:10 INFO TaskSetManager: Starting task 442.0 in stage 11.0 (TID 41860, ip-172-31-1-104.us-west-2.compute.internal, executor 7, partition 442, PROCESS_LOCAL, 11075 bytes)\n",
      "23/01/17 18:35:10 INFO TaskSetManager: Finished task 426.0 in stage 11.0 (TID 41844) in 13797 ms on ip-172-31-1-104.us-west-2.compute.internal (executor 7) (431/466)\n",
      "23/01/17 18:35:10 INFO TaskSetManager: Starting task 443.0 in stage 11.0 (TID 41861, ip-172-31-1-104.us-west-2.compute.internal, executor 6, partition 443, PROCESS_LOCAL, 11075 bytes)\n",
      "23/01/17 18:35:10 INFO TaskSetManager: Finished task 432.0 in stage 11.0 (TID 41850) in 11823 ms on ip-172-31-1-104.us-west-2.compute.internal (executor 6) (432/466)\n",
      "23/01/17 18:35:10 INFO TaskSetManager: Starting task 444.0 in stage 11.0 (TID 41862, ip-172-31-1-104.us-west-2.compute.internal, executor 6, partition 444, PROCESS_LOCAL, 11075 bytes)\n",
      "23/01/17 18:35:10 INFO TaskSetManager: Finished task 433.0 in stage 11.0 (TID 41851) in 11918 ms on ip-172-31-1-104.us-west-2.compute.internal (executor 6) (433/466)\n",
      "23/01/17 18:35:11 INFO TaskSetManager: Starting task 445.0 in stage 11.0 (TID 41863, ip-172-31-1-104.us-west-2.compute.internal, executor 6, partition 445, PROCESS_LOCAL, 11075 bytes)\n",
      "23/01/17 18:35:11 INFO TaskSetManager: Finished task 434.0 in stage 11.0 (TID 41852) in 12060 ms on ip-172-31-1-104.us-west-2.compute.internal (executor 6) (434/466)\n",
      "23/01/17 18:35:12 INFO TaskSetManager: Starting task 446.0 in stage 11.0 (TID 41864, ip-172-31-9-35.us-west-2.compute.internal, executor 5, partition 446, PROCESS_LOCAL, 11075 bytes)\n",
      "23/01/17 18:35:12 INFO TaskSetManager: Finished task 431.0 in stage 11.0 (TID 41849) in 13466 ms on ip-172-31-9-35.us-west-2.compute.internal (executor 5) (435/466)\n",
      "23/01/17 18:35:12 INFO TaskSetManager: Starting task 447.0 in stage 11.0 (TID 41865, ip-172-31-1-104.us-west-2.compute.internal, executor 6, partition 447, PROCESS_LOCAL, 11075 bytes)\n",
      "23/01/17 18:35:12 INFO TaskSetManager: Finished task 435.0 in stage 11.0 (TID 41853) in 12221 ms on ip-172-31-1-104.us-west-2.compute.internal (executor 6) (436/466)\n",
      "23/01/17 18:35:17 INFO TaskSetManager: Starting task 448.0 in stage 11.0 (TID 41866, ip-172-31-9-35.us-west-2.compute.internal, executor 5, partition 448, PROCESS_LOCAL, 11075 bytes)\n",
      "23/01/17 18:35:17 INFO TaskSetManager: Finished task 436.0 in stage 11.0 (TID 41854) in 11933 ms on ip-172-31-9-35.us-west-2.compute.internal (executor 5) (437/466)\n",
      "23/01/17 18:35:18 INFO TaskSetManager: Starting task 449.0 in stage 11.0 (TID 41867, ip-172-31-9-35.us-west-2.compute.internal, executor 5, partition 449, PROCESS_LOCAL, 11075 bytes)\n",
      "23/01/17 18:35:18 INFO TaskSetManager: Finished task 437.0 in stage 11.0 (TID 41855) in 12075 ms on ip-172-31-9-35.us-west-2.compute.internal (executor 5) (438/466)\n",
      "23/01/17 18:35:21 INFO TaskSetManager: Starting task 450.0 in stage 11.0 (TID 41868, ip-172-31-1-104.us-west-2.compute.internal, executor 7, partition 450, PROCESS_LOCAL, 11075 bytes)\n",
      "23/01/17 18:35:21 INFO TaskSetManager: Finished task 438.0 in stage 11.0 (TID 41856) in 12792 ms on ip-172-31-1-104.us-west-2.compute.internal (executor 7) (439/466)\n",
      "23/01/17 18:35:21 INFO TaskSetManager: Starting task 451.0 in stage 11.0 (TID 41869, ip-172-31-9-35.us-west-2.compute.internal, executor 5, partition 451, PROCESS_LOCAL, 11075 bytes)\n",
      "23/01/17 18:35:21 INFO TaskSetManager: Finished task 440.0 in stage 11.0 (TID 41858) in 12348 ms on ip-172-31-9-35.us-west-2.compute.internal (executor 5) (440/466)\n",
      "23/01/17 18:35:22 INFO TaskSetManager: Starting task 452.0 in stage 11.0 (TID 41870, ip-172-31-1-104.us-west-2.compute.internal, executor 7, partition 452, PROCESS_LOCAL, 11075 bytes)\n",
      "23/01/17 18:35:22 INFO TaskSetManager: Finished task 439.0 in stage 11.0 (TID 41857) in 13185 ms on ip-172-31-1-104.us-west-2.compute.internal (executor 7) (441/466)\n",
      "23/01/17 18:35:22 INFO TaskSetManager: Starting task 453.0 in stage 11.0 (TID 41871, ip-172-31-1-104.us-west-2.compute.internal, executor 7, partition 453, PROCESS_LOCAL, 11075 bytes)\n",
      "23/01/17 18:35:22 INFO TaskSetManager: Finished task 441.0 in stage 11.0 (TID 41859) in 12589 ms on ip-172-31-1-104.us-west-2.compute.internal (executor 7) (442/466)\n",
      "23/01/17 18:35:22 INFO TaskSetManager: Starting task 454.0 in stage 11.0 (TID 41872, ip-172-31-1-104.us-west-2.compute.internal, executor 7, partition 454, PROCESS_LOCAL, 11075 bytes)\n",
      "23/01/17 18:35:22 INFO TaskSetManager: Finished task 442.0 in stage 11.0 (TID 41860) in 12103 ms on ip-172-31-1-104.us-west-2.compute.internal (executor 7) (443/466)\n",
      "23/01/17 18:35:22 INFO TaskSetManager: Starting task 455.0 in stage 11.0 (TID 41873, ip-172-31-1-104.us-west-2.compute.internal, executor 6, partition 455, PROCESS_LOCAL, 11075 bytes)\n",
      "23/01/17 18:35:22 INFO TaskSetManager: Finished task 443.0 in stage 11.0 (TID 41861) in 11934 ms on ip-172-31-1-104.us-west-2.compute.internal (executor 6) (444/466)\n",
      "23/01/17 18:35:22 INFO TaskSetManager: Starting task 456.0 in stage 11.0 (TID 41874, ip-172-31-1-104.us-west-2.compute.internal, executor 6, partition 456, PROCESS_LOCAL, 11075 bytes)\n",
      "23/01/17 18:35:22 INFO TaskSetManager: Finished task 444.0 in stage 11.0 (TID 41862) in 11748 ms on ip-172-31-1-104.us-west-2.compute.internal (executor 6) (445/466)\n",
      "23/01/17 18:35:23 INFO TaskSetManager: Starting task 457.0 in stage 11.0 (TID 41875, ip-172-31-1-104.us-west-2.compute.internal, executor 6, partition 457, PROCESS_LOCAL, 11075 bytes)\n",
      "23/01/17 18:35:23 INFO TaskSetManager: Finished task 445.0 in stage 11.0 (TID 41863) in 11922 ms on ip-172-31-1-104.us-west-2.compute.internal (executor 6) (446/466)\n",
      "23/01/17 18:35:24 INFO TaskSetManager: Starting task 458.0 in stage 11.0 (TID 41876, ip-172-31-1-104.us-west-2.compute.internal, executor 6, partition 458, PROCESS_LOCAL, 11075 bytes)\n",
      "23/01/17 18:35:24 INFO TaskSetManager: Finished task 447.0 in stage 11.0 (TID 41865) in 12123 ms on ip-172-31-1-104.us-west-2.compute.internal (executor 6) (447/466)\n",
      "23/01/17 18:35:24 INFO TaskSetManager: Starting task 459.0 in stage 11.0 (TID 41877, ip-172-31-9-35.us-west-2.compute.internal, executor 5, partition 459, PROCESS_LOCAL, 11075 bytes)\n",
      "23/01/17 18:35:24 INFO TaskSetManager: Finished task 446.0 in stage 11.0 (TID 41864) in 12510 ms on ip-172-31-9-35.us-west-2.compute.internal (executor 5) (448/466)\n"
     ]
    }
   ],
   "source": [
    "# # read in song data to use for songplays table\n",
    "# song_df = spark.read.json(song_data)"
   ]
  },
  {
   "cell_type": "code",
   "execution_count": 19,
   "id": "1bf8094b-f0b7-44ec-8e89-bd2267d34e99",
   "metadata": {
    "execution": {
     "iopub.execute_input": "2023-01-17T19:16:32.707286Z",
     "iopub.status.busy": "2023-01-17T19:16:32.707018Z",
     "iopub.status.idle": "2023-01-17T19:16:32.953987Z",
     "shell.execute_reply": "2023-01-17T19:16:32.949889Z",
     "shell.execute_reply.started": "2023-01-17T19:16:32.707261Z"
    },
    "tags": []
   },
   "outputs": [
    {
     "data": {
      "application/vnd.jupyter.widget-view+json": {
       "model_id": "e7d68895dbc0447c9e52283056dcb963",
       "version_major": 2,
       "version_minor": 0
      },
      "text/plain": [
       "VBox()"
      ]
     },
     "metadata": {},
     "output_type": "display_data"
    },
    {
     "name": "stderr",
     "output_type": "stream",
     "text": [
      "An error was encountered:\n",
      "Session 2 unexpectedly reached final status 'dead'. See logs:\n",
      "stdout: \n",
      "\n",
      "stderr: \n",
      "23/01/17 18:34:38 INFO TaskSetManager: Starting task 411.0 in stage 11.0 (TID 41829, ip-172-31-1-104.us-west-2.compute.internal, executor 6, partition 411, PROCESS_LOCAL, 11075 bytes)\n",
      "23/01/17 18:34:38 INFO TaskSetManager: Finished task 399.0 in stage 11.0 (TID 41817) in 11841 ms on ip-172-31-1-104.us-west-2.compute.internal (executor 6) (400/466)\n",
      "23/01/17 18:34:42 INFO TaskSetManager: Starting task 412.0 in stage 11.0 (TID 41830, ip-172-31-9-35.us-west-2.compute.internal, executor 5, partition 412, PROCESS_LOCAL, 11075 bytes)\n",
      "23/01/17 18:34:42 INFO TaskSetManager: Finished task 400.0 in stage 11.0 (TID 41818) in 11574 ms on ip-172-31-9-35.us-west-2.compute.internal (executor 5) (401/466)\n",
      "23/01/17 18:34:43 INFO TaskSetManager: Starting task 413.0 in stage 11.0 (TID 41831, ip-172-31-9-35.us-west-2.compute.internal, executor 5, partition 413, PROCESS_LOCAL, 11075 bytes)\n",
      "23/01/17 18:34:43 INFO TaskSetManager: Finished task 401.0 in stage 11.0 (TID 41819) in 11232 ms on ip-172-31-9-35.us-west-2.compute.internal (executor 5) (402/466)\n",
      "23/01/17 18:34:45 INFO TaskSetManager: Starting task 414.0 in stage 11.0 (TID 41832, ip-172-31-9-35.us-west-2.compute.internal, executor 5, partition 414, PROCESS_LOCAL, 11075 bytes)\n",
      "23/01/17 18:34:45 INFO TaskSetManager: Finished task 402.0 in stage 11.0 (TID 41820) in 11017 ms on ip-172-31-9-35.us-west-2.compute.internal (executor 5) (403/466)\n",
      "23/01/17 18:34:45 INFO TaskSetManager: Starting task 415.0 in stage 11.0 (TID 41833, ip-172-31-1-104.us-west-2.compute.internal, executor 7, partition 415, PROCESS_LOCAL, 11075 bytes)\n",
      "23/01/17 18:34:45 INFO TaskSetManager: Finished task 403.0 in stage 11.0 (TID 41821) in 10661 ms on ip-172-31-1-104.us-west-2.compute.internal (executor 7) (404/466)\n",
      "23/01/17 18:34:45 INFO TaskSetManager: Starting task 416.0 in stage 11.0 (TID 41834, ip-172-31-1-104.us-west-2.compute.internal, executor 7, partition 416, PROCESS_LOCAL, 11075 bytes)\n",
      "23/01/17 18:34:45 INFO TaskSetManager: Finished task 404.0 in stage 11.0 (TID 41822) in 10601 ms on ip-172-31-1-104.us-west-2.compute.internal (executor 7) (405/466)\n",
      "23/01/17 18:34:46 INFO TaskSetManager: Starting task 417.0 in stage 11.0 (TID 41835, ip-172-31-1-104.us-west-2.compute.internal, executor 7, partition 417, PROCESS_LOCAL, 11075 bytes)\n",
      "23/01/17 18:34:46 INFO TaskSetManager: Finished task 405.0 in stage 11.0 (TID 41823) in 10445 ms on ip-172-31-1-104.us-west-2.compute.internal (executor 7) (406/466)\n",
      "23/01/17 18:34:46 INFO TaskSetManager: Starting task 418.0 in stage 11.0 (TID 41836, ip-172-31-1-104.us-west-2.compute.internal, executor 7, partition 418, PROCESS_LOCAL, 11075 bytes)\n",
      "23/01/17 18:34:46 INFO TaskSetManager: Finished task 406.0 in stage 11.0 (TID 41824) in 10663 ms on ip-172-31-1-104.us-west-2.compute.internal (executor 7) (407/466)\n",
      "23/01/17 18:34:47 INFO TaskSetManager: Starting task 419.0 in stage 11.0 (TID 41837, ip-172-31-9-35.us-west-2.compute.internal, executor 5, partition 419, PROCESS_LOCAL, 11075 bytes)\n",
      "23/01/17 18:34:47 INFO TaskSetManager: Finished task 407.0 in stage 11.0 (TID 41825) in 11364 ms on ip-172-31-9-35.us-west-2.compute.internal (executor 5) (408/466)\n",
      "23/01/17 18:34:47 INFO TaskSetManager: Starting task 420.0 in stage 11.0 (TID 41838, ip-172-31-1-104.us-west-2.compute.internal, executor 6, partition 420, PROCESS_LOCAL, 11075 bytes)\n",
      "23/01/17 18:34:47 INFO TaskSetManager: Finished task 409.0 in stage 11.0 (TID 41827) in 11282 ms on ip-172-31-1-104.us-west-2.compute.internal (executor 6) (409/466)\n",
      "23/01/17 18:34:48 INFO TaskSetManager: Starting task 421.0 in stage 11.0 (TID 41839, ip-172-31-1-104.us-west-2.compute.internal, executor 6, partition 421, PROCESS_LOCAL, 11075 bytes)\n",
      "23/01/17 18:34:48 INFO TaskSetManager: Finished task 408.0 in stage 11.0 (TID 41826) in 11594 ms on ip-172-31-1-104.us-west-2.compute.internal (executor 6) (410/466)\n",
      "23/01/17 18:34:48 INFO TaskSetManager: Starting task 422.0 in stage 11.0 (TID 41840, ip-172-31-1-104.us-west-2.compute.internal, executor 6, partition 422, PROCESS_LOCAL, 11075 bytes)\n",
      "23/01/17 18:34:48 INFO TaskSetManager: Finished task 410.0 in stage 11.0 (TID 41828) in 11385 ms on ip-172-31-1-104.us-west-2.compute.internal (executor 6) (411/466)\n",
      "23/01/17 18:34:49 INFO TaskSetManager: Starting task 423.0 in stage 11.0 (TID 41841, ip-172-31-1-104.us-west-2.compute.internal, executor 6, partition 423, PROCESS_LOCAL, 11075 bytes)\n",
      "23/01/17 18:34:49 INFO TaskSetManager: Finished task 411.0 in stage 11.0 (TID 41829) in 11198 ms on ip-172-31-1-104.us-west-2.compute.internal (executor 6) (412/466)\n",
      "23/01/17 18:34:53 INFO TaskSetManager: Starting task 424.0 in stage 11.0 (TID 41842, ip-172-31-9-35.us-west-2.compute.internal, executor 5, partition 424, PROCESS_LOCAL, 11075 bytes)\n",
      "23/01/17 18:34:53 INFO TaskSetManager: Finished task 412.0 in stage 11.0 (TID 41830) in 11275 ms on ip-172-31-9-35.us-west-2.compute.internal (executor 5) (413/466)\n",
      "23/01/17 18:34:54 INFO TaskSetManager: Starting task 425.0 in stage 11.0 (TID 41843, ip-172-31-9-35.us-west-2.compute.internal, executor 5, partition 425, PROCESS_LOCAL, 11075 bytes)\n",
      "23/01/17 18:34:54 INFO TaskSetManager: Finished task 413.0 in stage 11.0 (TID 41831) in 11106 ms on ip-172-31-9-35.us-west-2.compute.internal (executor 5) (414/466)\n",
      "23/01/17 18:34:56 INFO TaskSetManager: Starting task 426.0 in stage 11.0 (TID 41844, ip-172-31-1-104.us-west-2.compute.internal, executor 7, partition 426, PROCESS_LOCAL, 11075 bytes)\n",
      "23/01/17 18:34:56 INFO TaskSetManager: Finished task 415.0 in stage 11.0 (TID 41833) in 10930 ms on ip-172-31-1-104.us-west-2.compute.internal (executor 7) (415/466)\n",
      "23/01/17 18:34:56 INFO TaskSetManager: Starting task 427.0 in stage 11.0 (TID 41845, ip-172-31-9-35.us-west-2.compute.internal, executor 5, partition 427, PROCESS_LOCAL, 11075 bytes)\n",
      "23/01/17 18:34:56 INFO TaskSetManager: Finished task 414.0 in stage 11.0 (TID 41832) in 11596 ms on ip-172-31-9-35.us-west-2.compute.internal (executor 5) (416/466)\n",
      "23/01/17 18:34:56 INFO TaskSetManager: Starting task 428.0 in stage 11.0 (TID 41846, ip-172-31-1-104.us-west-2.compute.internal, executor 7, partition 428, PROCESS_LOCAL, 11075 bytes)\n",
      "23/01/17 18:34:56 INFO TaskSetManager: Finished task 417.0 in stage 11.0 (TID 41835) in 10684 ms on ip-172-31-1-104.us-west-2.compute.internal (executor 7) (417/466)\n",
      "23/01/17 18:34:57 INFO TaskSetManager: Starting task 429.0 in stage 11.0 (TID 41847, ip-172-31-1-104.us-west-2.compute.internal, executor 7, partition 429, PROCESS_LOCAL, 11075 bytes)\n",
      "23/01/17 18:34:57 INFO TaskSetManager: Finished task 416.0 in stage 11.0 (TID 41834) in 11117 ms on ip-172-31-1-104.us-west-2.compute.internal (executor 7) (418/466)\n",
      "23/01/17 18:34:57 INFO TaskSetManager: Starting task 430.0 in stage 11.0 (TID 41848, ip-172-31-1-104.us-west-2.compute.internal, executor 7, partition 430, PROCESS_LOCAL, 11075 bytes)\n",
      "23/01/17 18:34:57 INFO TaskSetManager: Finished task 418.0 in stage 11.0 (TID 41836) in 10716 ms on ip-172-31-1-104.us-west-2.compute.internal (executor 7) (419/466)\n",
      "23/01/17 18:34:58 INFO TaskSetManager: Starting task 431.0 in stage 11.0 (TID 41849, ip-172-31-9-35.us-west-2.compute.internal, executor 5, partition 431, PROCESS_LOCAL, 11075 bytes)\n",
      "23/01/17 18:34:58 INFO TaskSetManager: Finished task 419.0 in stage 11.0 (TID 41837) in 11219 ms on ip-172-31-9-35.us-west-2.compute.internal (executor 5) (420/466)\n",
      "23/01/17 18:34:58 INFO TaskSetManager: Starting task 432.0 in stage 11.0 (TID 41850, ip-172-31-1-104.us-west-2.compute.internal, executor 6, partition 432, PROCESS_LOCAL, 11075 bytes)\n",
      "23/01/17 18:34:58 INFO TaskSetManager: Finished task 420.0 in stage 11.0 (TID 41838) in 11160 ms on ip-172-31-1-104.us-west-2.compute.internal (executor 6) (421/466)\n",
      "23/01/17 18:34:59 INFO TaskSetManager: Starting task 433.0 in stage 11.0 (TID 41851, ip-172-31-1-104.us-west-2.compute.internal, executor 6, partition 433, PROCESS_LOCAL, 11075 bytes)\n",
      "23/01/17 18:34:59 INFO TaskSetManager: Finished task 422.0 in stage 11.0 (TID 41840) in 10933 ms on ip-172-31-1-104.us-west-2.compute.internal (executor 6) (422/466)\n",
      "23/01/17 18:34:59 INFO TaskSetManager: Starting task 434.0 in stage 11.0 (TID 41852, ip-172-31-1-104.us-west-2.compute.internal, executor 6, partition 434, PROCESS_LOCAL, 11075 bytes)\n",
      "23/01/17 18:34:59 INFO TaskSetManager: Finished task 421.0 in stage 11.0 (TID 41839) in 11017 ms on ip-172-31-1-104.us-west-2.compute.internal (executor 6) (423/466)\n",
      "23/01/17 18:35:00 INFO TaskSetManager: Starting task 435.0 in stage 11.0 (TID 41853, ip-172-31-1-104.us-west-2.compute.internal, executor 6, partition 435, PROCESS_LOCAL, 11075 bytes)\n",
      "23/01/17 18:35:00 INFO TaskSetManager: Finished task 423.0 in stage 11.0 (TID 41841) in 10647 ms on ip-172-31-1-104.us-west-2.compute.internal (executor 6) (424/466)\n",
      "23/01/17 18:35:05 INFO TaskSetManager: Starting task 436.0 in stage 11.0 (TID 41854, ip-172-31-9-35.us-west-2.compute.internal, executor 5, partition 436, PROCESS_LOCAL, 11075 bytes)\n",
      "23/01/17 18:35:05 INFO TaskSetManager: Finished task 424.0 in stage 11.0 (TID 41842) in 12557 ms on ip-172-31-9-35.us-west-2.compute.internal (executor 5) (425/466)\n",
      "23/01/17 18:35:06 INFO TaskSetManager: Starting task 437.0 in stage 11.0 (TID 41855, ip-172-31-9-35.us-west-2.compute.internal, executor 5, partition 437, PROCESS_LOCAL, 11075 bytes)\n",
      "23/01/17 18:35:06 INFO TaskSetManager: Finished task 425.0 in stage 11.0 (TID 41843) in 12661 ms on ip-172-31-9-35.us-west-2.compute.internal (executor 5) (426/466)\n",
      "23/01/17 18:35:08 INFO TaskSetManager: Starting task 438.0 in stage 11.0 (TID 41856, ip-172-31-1-104.us-west-2.compute.internal, executor 7, partition 438, PROCESS_LOCAL, 11075 bytes)\n",
      "23/01/17 18:35:08 INFO TaskSetManager: Finished task 428.0 in stage 11.0 (TID 41846) in 11922 ms on ip-172-31-1-104.us-west-2.compute.internal (executor 7) (427/466)\n",
      "23/01/17 18:35:08 INFO TaskSetManager: Starting task 439.0 in stage 11.0 (TID 41857, ip-172-31-1-104.us-west-2.compute.internal, executor 7, partition 439, PROCESS_LOCAL, 11075 bytes)\n",
      "23/01/17 18:35:08 INFO TaskSetManager: Finished task 429.0 in stage 11.0 (TID 41847) in 11868 ms on ip-172-31-1-104.us-west-2.compute.internal (executor 7) (428/466)\n",
      "23/01/17 18:35:09 INFO TaskSetManager: Starting task 440.0 in stage 11.0 (TID 41858, ip-172-31-9-35.us-west-2.compute.internal, executor 5, partition 440, PROCESS_LOCAL, 11075 bytes)\n",
      "23/01/17 18:35:09 INFO TaskSetManager: Finished task 427.0 in stage 11.0 (TID 41845) in 12856 ms on ip-172-31-9-35.us-west-2.compute.internal (executor 5) (429/466)\n",
      "23/01/17 18:35:09 INFO TaskSetManager: Starting task 441.0 in stage 11.0 (TID 41859, ip-172-31-1-104.us-west-2.compute.internal, executor 7, partition 441, PROCESS_LOCAL, 11075 bytes)\n",
      "23/01/17 18:35:09 INFO TaskSetManager: Finished task 430.0 in stage 11.0 (TID 41848) in 12024 ms on ip-172-31-1-104.us-west-2.compute.internal (executor 7) (430/466)\n",
      "23/01/17 18:35:10 INFO TaskSetManager: Starting task 442.0 in stage 11.0 (TID 41860, ip-172-31-1-104.us-west-2.compute.internal, executor 7, partition 442, PROCESS_LOCAL, 11075 bytes)\n",
      "23/01/17 18:35:10 INFO TaskSetManager: Finished task 426.0 in stage 11.0 (TID 41844) in 13797 ms on ip-172-31-1-104.us-west-2.compute.internal (executor 7) (431/466)\n",
      "23/01/17 18:35:10 INFO TaskSetManager: Starting task 443.0 in stage 11.0 (TID 41861, ip-172-31-1-104.us-west-2.compute.internal, executor 6, partition 443, PROCESS_LOCAL, 11075 bytes)\n",
      "23/01/17 18:35:10 INFO TaskSetManager: Finished task 432.0 in stage 11.0 (TID 41850) in 11823 ms on ip-172-31-1-104.us-west-2.compute.internal (executor 6) (432/466)\n",
      "23/01/17 18:35:10 INFO TaskSetManager: Starting task 444.0 in stage 11.0 (TID 41862, ip-172-31-1-104.us-west-2.compute.internal, executor 6, partition 444, PROCESS_LOCAL, 11075 bytes)\n",
      "23/01/17 18:35:10 INFO TaskSetManager: Finished task 433.0 in stage 11.0 (TID 41851) in 11918 ms on ip-172-31-1-104.us-west-2.compute.internal (executor 6) (433/466)\n",
      "23/01/17 18:35:11 INFO TaskSetManager: Starting task 445.0 in stage 11.0 (TID 41863, ip-172-31-1-104.us-west-2.compute.internal, executor 6, partition 445, PROCESS_LOCAL, 11075 bytes)\n",
      "23/01/17 18:35:11 INFO TaskSetManager: Finished task 434.0 in stage 11.0 (TID 41852) in 12060 ms on ip-172-31-1-104.us-west-2.compute.internal (executor 6) (434/466)\n",
      "23/01/17 18:35:12 INFO TaskSetManager: Starting task 446.0 in stage 11.0 (TID 41864, ip-172-31-9-35.us-west-2.compute.internal, executor 5, partition 446, PROCESS_LOCAL, 11075 bytes)\n",
      "23/01/17 18:35:12 INFO TaskSetManager: Finished task 431.0 in stage 11.0 (TID 41849) in 13466 ms on ip-172-31-9-35.us-west-2.compute.internal (executor 5) (435/466)\n",
      "23/01/17 18:35:12 INFO TaskSetManager: Starting task 447.0 in stage 11.0 (TID 41865, ip-172-31-1-104.us-west-2.compute.internal, executor 6, partition 447, PROCESS_LOCAL, 11075 bytes)\n",
      "23/01/17 18:35:12 INFO TaskSetManager: Finished task 435.0 in stage 11.0 (TID 41853) in 12221 ms on ip-172-31-1-104.us-west-2.compute.internal (executor 6) (436/466)\n",
      "23/01/17 18:35:17 INFO TaskSetManager: Starting task 448.0 in stage 11.0 (TID 41866, ip-172-31-9-35.us-west-2.compute.internal, executor 5, partition 448, PROCESS_LOCAL, 11075 bytes)\n",
      "23/01/17 18:35:17 INFO TaskSetManager: Finished task 436.0 in stage 11.0 (TID 41854) in 11933 ms on ip-172-31-9-35.us-west-2.compute.internal (executor 5) (437/466)\n",
      "23/01/17 18:35:18 INFO TaskSetManager: Starting task 449.0 in stage 11.0 (TID 41867, ip-172-31-9-35.us-west-2.compute.internal, executor 5, partition 449, PROCESS_LOCAL, 11075 bytes)\n",
      "23/01/17 18:35:18 INFO TaskSetManager: Finished task 437.0 in stage 11.0 (TID 41855) in 12075 ms on ip-172-31-9-35.us-west-2.compute.internal (executor 5) (438/466)\n",
      "23/01/17 18:35:21 INFO TaskSetManager: Starting task 450.0 in stage 11.0 (TID 41868, ip-172-31-1-104.us-west-2.compute.internal, executor 7, partition 450, PROCESS_LOCAL, 11075 bytes)\n",
      "23/01/17 18:35:21 INFO TaskSetManager: Finished task 438.0 in stage 11.0 (TID 41856) in 12792 ms on ip-172-31-1-104.us-west-2.compute.internal (executor 7) (439/466)\n",
      "23/01/17 18:35:21 INFO TaskSetManager: Starting task 451.0 in stage 11.0 (TID 41869, ip-172-31-9-35.us-west-2.compute.internal, executor 5, partition 451, PROCESS_LOCAL, 11075 bytes)\n",
      "23/01/17 18:35:21 INFO TaskSetManager: Finished task 440.0 in stage 11.0 (TID 41858) in 12348 ms on ip-172-31-9-35.us-west-2.compute.internal (executor 5) (440/466)\n",
      "23/01/17 18:35:22 INFO TaskSetManager: Starting task 452.0 in stage 11.0 (TID 41870, ip-172-31-1-104.us-west-2.compute.internal, executor 7, partition 452, PROCESS_LOCAL, 11075 bytes)\n",
      "23/01/17 18:35:22 INFO TaskSetManager: Finished task 439.0 in stage 11.0 (TID 41857) in 13185 ms on ip-172-31-1-104.us-west-2.compute.internal (executor 7) (441/466)\n",
      "23/01/17 18:35:22 INFO TaskSetManager: Starting task 453.0 in stage 11.0 (TID 41871, ip-172-31-1-104.us-west-2.compute.internal, executor 7, partition 453, PROCESS_LOCAL, 11075 bytes)\n",
      "23/01/17 18:35:22 INFO TaskSetManager: Finished task 441.0 in stage 11.0 (TID 41859) in 12589 ms on ip-172-31-1-104.us-west-2.compute.internal (executor 7) (442/466)\n",
      "23/01/17 18:35:22 INFO TaskSetManager: Starting task 454.0 in stage 11.0 (TID 41872, ip-172-31-1-104.us-west-2.compute.internal, executor 7, partition 454, PROCESS_LOCAL, 11075 bytes)\n",
      "23/01/17 18:35:22 INFO TaskSetManager: Finished task 442.0 in stage 11.0 (TID 41860) in 12103 ms on ip-172-31-1-104.us-west-2.compute.internal (executor 7) (443/466)\n",
      "23/01/17 18:35:22 INFO TaskSetManager: Starting task 455.0 in stage 11.0 (TID 41873, ip-172-31-1-104.us-west-2.compute.internal, executor 6, partition 455, PROCESS_LOCAL, 11075 bytes)\n",
      "23/01/17 18:35:22 INFO TaskSetManager: Finished task 443.0 in stage 11.0 (TID 41861) in 11934 ms on ip-172-31-1-104.us-west-2.compute.internal (executor 6) (444/466)\n",
      "23/01/17 18:35:22 INFO TaskSetManager: Starting task 456.0 in stage 11.0 (TID 41874, ip-172-31-1-104.us-west-2.compute.internal, executor 6, partition 456, PROCESS_LOCAL, 11075 bytes)\n",
      "23/01/17 18:35:22 INFO TaskSetManager: Finished task 444.0 in stage 11.0 (TID 41862) in 11748 ms on ip-172-31-1-104.us-west-2.compute.internal (executor 6) (445/466)\n",
      "23/01/17 18:35:23 INFO TaskSetManager: Starting task 457.0 in stage 11.0 (TID 41875, ip-172-31-1-104.us-west-2.compute.internal, executor 6, partition 457, PROCESS_LOCAL, 11075 bytes)\n",
      "23/01/17 18:35:23 INFO TaskSetManager: Finished task 445.0 in stage 11.0 (TID 41863) in 11922 ms on ip-172-31-1-104.us-west-2.compute.internal (executor 6) (446/466)\n",
      "23/01/17 18:35:24 INFO TaskSetManager: Starting task 458.0 in stage 11.0 (TID 41876, ip-172-31-1-104.us-west-2.compute.internal, executor 6, partition 458, PROCESS_LOCAL, 11075 bytes)\n",
      "23/01/17 18:35:24 INFO TaskSetManager: Finished task 447.0 in stage 11.0 (TID 41865) in 12123 ms on ip-172-31-1-104.us-west-2.compute.internal (executor 6) (447/466)\n",
      "23/01/17 18:35:24 INFO TaskSetManager: Starting task 459.0 in stage 11.0 (TID 41877, ip-172-31-9-35.us-west-2.compute.internal, executor 5, partition 459, PROCESS_LOCAL, 11075 bytes)\n",
      "23/01/17 18:35:24 INFO TaskSetManager: Finished task 446.0 in stage 11.0 (TID 41864) in 12510 ms on ip-172-31-9-35.us-west-2.compute.internal (executor 5) (448/466)\n"
     ]
    }
   ],
   "source": [
    "# # extract columns from joined song and log datasets to create songplays table \n",
    "# songplays_table = df.join(song_df, df['song'] == song_df['title']).drop('title')\n",
    "# songplays_table = songplays_table.withColumn('songplay_id', monotonically_increasing_id()).select('songplay_id','ts_timestamp', 'userId', 'level',\n",
    "#                                                                                                     'song_id', 'artist_id', 'sessionId', 'location', 'userAgent')\n",
    "# songplays_table.show(5)"
   ]
  },
  {
   "cell_type": "code",
   "execution_count": 20,
   "id": "7f980588-7d49-4762-8347-de83e3369597",
   "metadata": {
    "execution": {
     "iopub.execute_input": "2023-01-17T19:16:32.958699Z",
     "iopub.status.busy": "2023-01-17T19:16:32.956946Z",
     "iopub.status.idle": "2023-01-17T19:16:33.434151Z",
     "shell.execute_reply": "2023-01-17T19:16:33.432979Z",
     "shell.execute_reply.started": "2023-01-17T19:16:32.958663Z"
    },
    "tags": []
   },
   "outputs": [
    {
     "data": {
      "application/vnd.jupyter.widget-view+json": {
       "model_id": "ec38e18c9ef340c293b2f369103e9efe",
       "version_major": 2,
       "version_minor": 0
      },
      "text/plain": [
       "VBox()"
      ]
     },
     "metadata": {},
     "output_type": "display_data"
    },
    {
     "name": "stderr",
     "output_type": "stream",
     "text": [
      "An error was encountered:\n",
      "Session 2 unexpectedly reached final status 'dead'. See logs:\n",
      "stdout: \n",
      "\n",
      "stderr: \n",
      "23/01/17 18:34:38 INFO TaskSetManager: Starting task 411.0 in stage 11.0 (TID 41829, ip-172-31-1-104.us-west-2.compute.internal, executor 6, partition 411, PROCESS_LOCAL, 11075 bytes)\n",
      "23/01/17 18:34:38 INFO TaskSetManager: Finished task 399.0 in stage 11.0 (TID 41817) in 11841 ms on ip-172-31-1-104.us-west-2.compute.internal (executor 6) (400/466)\n",
      "23/01/17 18:34:42 INFO TaskSetManager: Starting task 412.0 in stage 11.0 (TID 41830, ip-172-31-9-35.us-west-2.compute.internal, executor 5, partition 412, PROCESS_LOCAL, 11075 bytes)\n",
      "23/01/17 18:34:42 INFO TaskSetManager: Finished task 400.0 in stage 11.0 (TID 41818) in 11574 ms on ip-172-31-9-35.us-west-2.compute.internal (executor 5) (401/466)\n",
      "23/01/17 18:34:43 INFO TaskSetManager: Starting task 413.0 in stage 11.0 (TID 41831, ip-172-31-9-35.us-west-2.compute.internal, executor 5, partition 413, PROCESS_LOCAL, 11075 bytes)\n",
      "23/01/17 18:34:43 INFO TaskSetManager: Finished task 401.0 in stage 11.0 (TID 41819) in 11232 ms on ip-172-31-9-35.us-west-2.compute.internal (executor 5) (402/466)\n",
      "23/01/17 18:34:45 INFO TaskSetManager: Starting task 414.0 in stage 11.0 (TID 41832, ip-172-31-9-35.us-west-2.compute.internal, executor 5, partition 414, PROCESS_LOCAL, 11075 bytes)\n",
      "23/01/17 18:34:45 INFO TaskSetManager: Finished task 402.0 in stage 11.0 (TID 41820) in 11017 ms on ip-172-31-9-35.us-west-2.compute.internal (executor 5) (403/466)\n",
      "23/01/17 18:34:45 INFO TaskSetManager: Starting task 415.0 in stage 11.0 (TID 41833, ip-172-31-1-104.us-west-2.compute.internal, executor 7, partition 415, PROCESS_LOCAL, 11075 bytes)\n",
      "23/01/17 18:34:45 INFO TaskSetManager: Finished task 403.0 in stage 11.0 (TID 41821) in 10661 ms on ip-172-31-1-104.us-west-2.compute.internal (executor 7) (404/466)\n",
      "23/01/17 18:34:45 INFO TaskSetManager: Starting task 416.0 in stage 11.0 (TID 41834, ip-172-31-1-104.us-west-2.compute.internal, executor 7, partition 416, PROCESS_LOCAL, 11075 bytes)\n",
      "23/01/17 18:34:45 INFO TaskSetManager: Finished task 404.0 in stage 11.0 (TID 41822) in 10601 ms on ip-172-31-1-104.us-west-2.compute.internal (executor 7) (405/466)\n",
      "23/01/17 18:34:46 INFO TaskSetManager: Starting task 417.0 in stage 11.0 (TID 41835, ip-172-31-1-104.us-west-2.compute.internal, executor 7, partition 417, PROCESS_LOCAL, 11075 bytes)\n",
      "23/01/17 18:34:46 INFO TaskSetManager: Finished task 405.0 in stage 11.0 (TID 41823) in 10445 ms on ip-172-31-1-104.us-west-2.compute.internal (executor 7) (406/466)\n",
      "23/01/17 18:34:46 INFO TaskSetManager: Starting task 418.0 in stage 11.0 (TID 41836, ip-172-31-1-104.us-west-2.compute.internal, executor 7, partition 418, PROCESS_LOCAL, 11075 bytes)\n",
      "23/01/17 18:34:46 INFO TaskSetManager: Finished task 406.0 in stage 11.0 (TID 41824) in 10663 ms on ip-172-31-1-104.us-west-2.compute.internal (executor 7) (407/466)\n",
      "23/01/17 18:34:47 INFO TaskSetManager: Starting task 419.0 in stage 11.0 (TID 41837, ip-172-31-9-35.us-west-2.compute.internal, executor 5, partition 419, PROCESS_LOCAL, 11075 bytes)\n",
      "23/01/17 18:34:47 INFO TaskSetManager: Finished task 407.0 in stage 11.0 (TID 41825) in 11364 ms on ip-172-31-9-35.us-west-2.compute.internal (executor 5) (408/466)\n",
      "23/01/17 18:34:47 INFO TaskSetManager: Starting task 420.0 in stage 11.0 (TID 41838, ip-172-31-1-104.us-west-2.compute.internal, executor 6, partition 420, PROCESS_LOCAL, 11075 bytes)\n",
      "23/01/17 18:34:47 INFO TaskSetManager: Finished task 409.0 in stage 11.0 (TID 41827) in 11282 ms on ip-172-31-1-104.us-west-2.compute.internal (executor 6) (409/466)\n",
      "23/01/17 18:34:48 INFO TaskSetManager: Starting task 421.0 in stage 11.0 (TID 41839, ip-172-31-1-104.us-west-2.compute.internal, executor 6, partition 421, PROCESS_LOCAL, 11075 bytes)\n",
      "23/01/17 18:34:48 INFO TaskSetManager: Finished task 408.0 in stage 11.0 (TID 41826) in 11594 ms on ip-172-31-1-104.us-west-2.compute.internal (executor 6) (410/466)\n",
      "23/01/17 18:34:48 INFO TaskSetManager: Starting task 422.0 in stage 11.0 (TID 41840, ip-172-31-1-104.us-west-2.compute.internal, executor 6, partition 422, PROCESS_LOCAL, 11075 bytes)\n",
      "23/01/17 18:34:48 INFO TaskSetManager: Finished task 410.0 in stage 11.0 (TID 41828) in 11385 ms on ip-172-31-1-104.us-west-2.compute.internal (executor 6) (411/466)\n",
      "23/01/17 18:34:49 INFO TaskSetManager: Starting task 423.0 in stage 11.0 (TID 41841, ip-172-31-1-104.us-west-2.compute.internal, executor 6, partition 423, PROCESS_LOCAL, 11075 bytes)\n",
      "23/01/17 18:34:49 INFO TaskSetManager: Finished task 411.0 in stage 11.0 (TID 41829) in 11198 ms on ip-172-31-1-104.us-west-2.compute.internal (executor 6) (412/466)\n",
      "23/01/17 18:34:53 INFO TaskSetManager: Starting task 424.0 in stage 11.0 (TID 41842, ip-172-31-9-35.us-west-2.compute.internal, executor 5, partition 424, PROCESS_LOCAL, 11075 bytes)\n",
      "23/01/17 18:34:53 INFO TaskSetManager: Finished task 412.0 in stage 11.0 (TID 41830) in 11275 ms on ip-172-31-9-35.us-west-2.compute.internal (executor 5) (413/466)\n",
      "23/01/17 18:34:54 INFO TaskSetManager: Starting task 425.0 in stage 11.0 (TID 41843, ip-172-31-9-35.us-west-2.compute.internal, executor 5, partition 425, PROCESS_LOCAL, 11075 bytes)\n",
      "23/01/17 18:34:54 INFO TaskSetManager: Finished task 413.0 in stage 11.0 (TID 41831) in 11106 ms on ip-172-31-9-35.us-west-2.compute.internal (executor 5) (414/466)\n",
      "23/01/17 18:34:56 INFO TaskSetManager: Starting task 426.0 in stage 11.0 (TID 41844, ip-172-31-1-104.us-west-2.compute.internal, executor 7, partition 426, PROCESS_LOCAL, 11075 bytes)\n",
      "23/01/17 18:34:56 INFO TaskSetManager: Finished task 415.0 in stage 11.0 (TID 41833) in 10930 ms on ip-172-31-1-104.us-west-2.compute.internal (executor 7) (415/466)\n",
      "23/01/17 18:34:56 INFO TaskSetManager: Starting task 427.0 in stage 11.0 (TID 41845, ip-172-31-9-35.us-west-2.compute.internal, executor 5, partition 427, PROCESS_LOCAL, 11075 bytes)\n",
      "23/01/17 18:34:56 INFO TaskSetManager: Finished task 414.0 in stage 11.0 (TID 41832) in 11596 ms on ip-172-31-9-35.us-west-2.compute.internal (executor 5) (416/466)\n",
      "23/01/17 18:34:56 INFO TaskSetManager: Starting task 428.0 in stage 11.0 (TID 41846, ip-172-31-1-104.us-west-2.compute.internal, executor 7, partition 428, PROCESS_LOCAL, 11075 bytes)\n",
      "23/01/17 18:34:56 INFO TaskSetManager: Finished task 417.0 in stage 11.0 (TID 41835) in 10684 ms on ip-172-31-1-104.us-west-2.compute.internal (executor 7) (417/466)\n",
      "23/01/17 18:34:57 INFO TaskSetManager: Starting task 429.0 in stage 11.0 (TID 41847, ip-172-31-1-104.us-west-2.compute.internal, executor 7, partition 429, PROCESS_LOCAL, 11075 bytes)\n",
      "23/01/17 18:34:57 INFO TaskSetManager: Finished task 416.0 in stage 11.0 (TID 41834) in 11117 ms on ip-172-31-1-104.us-west-2.compute.internal (executor 7) (418/466)\n",
      "23/01/17 18:34:57 INFO TaskSetManager: Starting task 430.0 in stage 11.0 (TID 41848, ip-172-31-1-104.us-west-2.compute.internal, executor 7, partition 430, PROCESS_LOCAL, 11075 bytes)\n",
      "23/01/17 18:34:57 INFO TaskSetManager: Finished task 418.0 in stage 11.0 (TID 41836) in 10716 ms on ip-172-31-1-104.us-west-2.compute.internal (executor 7) (419/466)\n",
      "23/01/17 18:34:58 INFO TaskSetManager: Starting task 431.0 in stage 11.0 (TID 41849, ip-172-31-9-35.us-west-2.compute.internal, executor 5, partition 431, PROCESS_LOCAL, 11075 bytes)\n",
      "23/01/17 18:34:58 INFO TaskSetManager: Finished task 419.0 in stage 11.0 (TID 41837) in 11219 ms on ip-172-31-9-35.us-west-2.compute.internal (executor 5) (420/466)\n",
      "23/01/17 18:34:58 INFO TaskSetManager: Starting task 432.0 in stage 11.0 (TID 41850, ip-172-31-1-104.us-west-2.compute.internal, executor 6, partition 432, PROCESS_LOCAL, 11075 bytes)\n",
      "23/01/17 18:34:58 INFO TaskSetManager: Finished task 420.0 in stage 11.0 (TID 41838) in 11160 ms on ip-172-31-1-104.us-west-2.compute.internal (executor 6) (421/466)\n",
      "23/01/17 18:34:59 INFO TaskSetManager: Starting task 433.0 in stage 11.0 (TID 41851, ip-172-31-1-104.us-west-2.compute.internal, executor 6, partition 433, PROCESS_LOCAL, 11075 bytes)\n",
      "23/01/17 18:34:59 INFO TaskSetManager: Finished task 422.0 in stage 11.0 (TID 41840) in 10933 ms on ip-172-31-1-104.us-west-2.compute.internal (executor 6) (422/466)\n",
      "23/01/17 18:34:59 INFO TaskSetManager: Starting task 434.0 in stage 11.0 (TID 41852, ip-172-31-1-104.us-west-2.compute.internal, executor 6, partition 434, PROCESS_LOCAL, 11075 bytes)\n",
      "23/01/17 18:34:59 INFO TaskSetManager: Finished task 421.0 in stage 11.0 (TID 41839) in 11017 ms on ip-172-31-1-104.us-west-2.compute.internal (executor 6) (423/466)\n",
      "23/01/17 18:35:00 INFO TaskSetManager: Starting task 435.0 in stage 11.0 (TID 41853, ip-172-31-1-104.us-west-2.compute.internal, executor 6, partition 435, PROCESS_LOCAL, 11075 bytes)\n",
      "23/01/17 18:35:00 INFO TaskSetManager: Finished task 423.0 in stage 11.0 (TID 41841) in 10647 ms on ip-172-31-1-104.us-west-2.compute.internal (executor 6) (424/466)\n",
      "23/01/17 18:35:05 INFO TaskSetManager: Starting task 436.0 in stage 11.0 (TID 41854, ip-172-31-9-35.us-west-2.compute.internal, executor 5, partition 436, PROCESS_LOCAL, 11075 bytes)\n",
      "23/01/17 18:35:05 INFO TaskSetManager: Finished task 424.0 in stage 11.0 (TID 41842) in 12557 ms on ip-172-31-9-35.us-west-2.compute.internal (executor 5) (425/466)\n",
      "23/01/17 18:35:06 INFO TaskSetManager: Starting task 437.0 in stage 11.0 (TID 41855, ip-172-31-9-35.us-west-2.compute.internal, executor 5, partition 437, PROCESS_LOCAL, 11075 bytes)\n",
      "23/01/17 18:35:06 INFO TaskSetManager: Finished task 425.0 in stage 11.0 (TID 41843) in 12661 ms on ip-172-31-9-35.us-west-2.compute.internal (executor 5) (426/466)\n",
      "23/01/17 18:35:08 INFO TaskSetManager: Starting task 438.0 in stage 11.0 (TID 41856, ip-172-31-1-104.us-west-2.compute.internal, executor 7, partition 438, PROCESS_LOCAL, 11075 bytes)\n",
      "23/01/17 18:35:08 INFO TaskSetManager: Finished task 428.0 in stage 11.0 (TID 41846) in 11922 ms on ip-172-31-1-104.us-west-2.compute.internal (executor 7) (427/466)\n",
      "23/01/17 18:35:08 INFO TaskSetManager: Starting task 439.0 in stage 11.0 (TID 41857, ip-172-31-1-104.us-west-2.compute.internal, executor 7, partition 439, PROCESS_LOCAL, 11075 bytes)\n",
      "23/01/17 18:35:08 INFO TaskSetManager: Finished task 429.0 in stage 11.0 (TID 41847) in 11868 ms on ip-172-31-1-104.us-west-2.compute.internal (executor 7) (428/466)\n",
      "23/01/17 18:35:09 INFO TaskSetManager: Starting task 440.0 in stage 11.0 (TID 41858, ip-172-31-9-35.us-west-2.compute.internal, executor 5, partition 440, PROCESS_LOCAL, 11075 bytes)\n",
      "23/01/17 18:35:09 INFO TaskSetManager: Finished task 427.0 in stage 11.0 (TID 41845) in 12856 ms on ip-172-31-9-35.us-west-2.compute.internal (executor 5) (429/466)\n",
      "23/01/17 18:35:09 INFO TaskSetManager: Starting task 441.0 in stage 11.0 (TID 41859, ip-172-31-1-104.us-west-2.compute.internal, executor 7, partition 441, PROCESS_LOCAL, 11075 bytes)\n",
      "23/01/17 18:35:09 INFO TaskSetManager: Finished task 430.0 in stage 11.0 (TID 41848) in 12024 ms on ip-172-31-1-104.us-west-2.compute.internal (executor 7) (430/466)\n",
      "23/01/17 18:35:10 INFO TaskSetManager: Starting task 442.0 in stage 11.0 (TID 41860, ip-172-31-1-104.us-west-2.compute.internal, executor 7, partition 442, PROCESS_LOCAL, 11075 bytes)\n",
      "23/01/17 18:35:10 INFO TaskSetManager: Finished task 426.0 in stage 11.0 (TID 41844) in 13797 ms on ip-172-31-1-104.us-west-2.compute.internal (executor 7) (431/466)\n",
      "23/01/17 18:35:10 INFO TaskSetManager: Starting task 443.0 in stage 11.0 (TID 41861, ip-172-31-1-104.us-west-2.compute.internal, executor 6, partition 443, PROCESS_LOCAL, 11075 bytes)\n",
      "23/01/17 18:35:10 INFO TaskSetManager: Finished task 432.0 in stage 11.0 (TID 41850) in 11823 ms on ip-172-31-1-104.us-west-2.compute.internal (executor 6) (432/466)\n",
      "23/01/17 18:35:10 INFO TaskSetManager: Starting task 444.0 in stage 11.0 (TID 41862, ip-172-31-1-104.us-west-2.compute.internal, executor 6, partition 444, PROCESS_LOCAL, 11075 bytes)\n",
      "23/01/17 18:35:10 INFO TaskSetManager: Finished task 433.0 in stage 11.0 (TID 41851) in 11918 ms on ip-172-31-1-104.us-west-2.compute.internal (executor 6) (433/466)\n",
      "23/01/17 18:35:11 INFO TaskSetManager: Starting task 445.0 in stage 11.0 (TID 41863, ip-172-31-1-104.us-west-2.compute.internal, executor 6, partition 445, PROCESS_LOCAL, 11075 bytes)\n",
      "23/01/17 18:35:11 INFO TaskSetManager: Finished task 434.0 in stage 11.0 (TID 41852) in 12060 ms on ip-172-31-1-104.us-west-2.compute.internal (executor 6) (434/466)\n",
      "23/01/17 18:35:12 INFO TaskSetManager: Starting task 446.0 in stage 11.0 (TID 41864, ip-172-31-9-35.us-west-2.compute.internal, executor 5, partition 446, PROCESS_LOCAL, 11075 bytes)\n",
      "23/01/17 18:35:12 INFO TaskSetManager: Finished task 431.0 in stage 11.0 (TID 41849) in 13466 ms on ip-172-31-9-35.us-west-2.compute.internal (executor 5) (435/466)\n",
      "23/01/17 18:35:12 INFO TaskSetManager: Starting task 447.0 in stage 11.0 (TID 41865, ip-172-31-1-104.us-west-2.compute.internal, executor 6, partition 447, PROCESS_LOCAL, 11075 bytes)\n",
      "23/01/17 18:35:12 INFO TaskSetManager: Finished task 435.0 in stage 11.0 (TID 41853) in 12221 ms on ip-172-31-1-104.us-west-2.compute.internal (executor 6) (436/466)\n",
      "23/01/17 18:35:17 INFO TaskSetManager: Starting task 448.0 in stage 11.0 (TID 41866, ip-172-31-9-35.us-west-2.compute.internal, executor 5, partition 448, PROCESS_LOCAL, 11075 bytes)\n",
      "23/01/17 18:35:17 INFO TaskSetManager: Finished task 436.0 in stage 11.0 (TID 41854) in 11933 ms on ip-172-31-9-35.us-west-2.compute.internal (executor 5) (437/466)\n",
      "23/01/17 18:35:18 INFO TaskSetManager: Starting task 449.0 in stage 11.0 (TID 41867, ip-172-31-9-35.us-west-2.compute.internal, executor 5, partition 449, PROCESS_LOCAL, 11075 bytes)\n",
      "23/01/17 18:35:18 INFO TaskSetManager: Finished task 437.0 in stage 11.0 (TID 41855) in 12075 ms on ip-172-31-9-35.us-west-2.compute.internal (executor 5) (438/466)\n",
      "23/01/17 18:35:21 INFO TaskSetManager: Starting task 450.0 in stage 11.0 (TID 41868, ip-172-31-1-104.us-west-2.compute.internal, executor 7, partition 450, PROCESS_LOCAL, 11075 bytes)\n",
      "23/01/17 18:35:21 INFO TaskSetManager: Finished task 438.0 in stage 11.0 (TID 41856) in 12792 ms on ip-172-31-1-104.us-west-2.compute.internal (executor 7) (439/466)\n",
      "23/01/17 18:35:21 INFO TaskSetManager: Starting task 451.0 in stage 11.0 (TID 41869, ip-172-31-9-35.us-west-2.compute.internal, executor 5, partition 451, PROCESS_LOCAL, 11075 bytes)\n",
      "23/01/17 18:35:21 INFO TaskSetManager: Finished task 440.0 in stage 11.0 (TID 41858) in 12348 ms on ip-172-31-9-35.us-west-2.compute.internal (executor 5) (440/466)\n",
      "23/01/17 18:35:22 INFO TaskSetManager: Starting task 452.0 in stage 11.0 (TID 41870, ip-172-31-1-104.us-west-2.compute.internal, executor 7, partition 452, PROCESS_LOCAL, 11075 bytes)\n",
      "23/01/17 18:35:22 INFO TaskSetManager: Finished task 439.0 in stage 11.0 (TID 41857) in 13185 ms on ip-172-31-1-104.us-west-2.compute.internal (executor 7) (441/466)\n",
      "23/01/17 18:35:22 INFO TaskSetManager: Starting task 453.0 in stage 11.0 (TID 41871, ip-172-31-1-104.us-west-2.compute.internal, executor 7, partition 453, PROCESS_LOCAL, 11075 bytes)\n",
      "23/01/17 18:35:22 INFO TaskSetManager: Finished task 441.0 in stage 11.0 (TID 41859) in 12589 ms on ip-172-31-1-104.us-west-2.compute.internal (executor 7) (442/466)\n",
      "23/01/17 18:35:22 INFO TaskSetManager: Starting task 454.0 in stage 11.0 (TID 41872, ip-172-31-1-104.us-west-2.compute.internal, executor 7, partition 454, PROCESS_LOCAL, 11075 bytes)\n",
      "23/01/17 18:35:22 INFO TaskSetManager: Finished task 442.0 in stage 11.0 (TID 41860) in 12103 ms on ip-172-31-1-104.us-west-2.compute.internal (executor 7) (443/466)\n",
      "23/01/17 18:35:22 INFO TaskSetManager: Starting task 455.0 in stage 11.0 (TID 41873, ip-172-31-1-104.us-west-2.compute.internal, executor 6, partition 455, PROCESS_LOCAL, 11075 bytes)\n",
      "23/01/17 18:35:22 INFO TaskSetManager: Finished task 443.0 in stage 11.0 (TID 41861) in 11934 ms on ip-172-31-1-104.us-west-2.compute.internal (executor 6) (444/466)\n",
      "23/01/17 18:35:22 INFO TaskSetManager: Starting task 456.0 in stage 11.0 (TID 41874, ip-172-31-1-104.us-west-2.compute.internal, executor 6, partition 456, PROCESS_LOCAL, 11075 bytes)\n",
      "23/01/17 18:35:22 INFO TaskSetManager: Finished task 444.0 in stage 11.0 (TID 41862) in 11748 ms on ip-172-31-1-104.us-west-2.compute.internal (executor 6) (445/466)\n",
      "23/01/17 18:35:23 INFO TaskSetManager: Starting task 457.0 in stage 11.0 (TID 41875, ip-172-31-1-104.us-west-2.compute.internal, executor 6, partition 457, PROCESS_LOCAL, 11075 bytes)\n",
      "23/01/17 18:35:23 INFO TaskSetManager: Finished task 445.0 in stage 11.0 (TID 41863) in 11922 ms on ip-172-31-1-104.us-west-2.compute.internal (executor 6) (446/466)\n",
      "23/01/17 18:35:24 INFO TaskSetManager: Starting task 458.0 in stage 11.0 (TID 41876, ip-172-31-1-104.us-west-2.compute.internal, executor 6, partition 458, PROCESS_LOCAL, 11075 bytes)\n",
      "23/01/17 18:35:24 INFO TaskSetManager: Finished task 447.0 in stage 11.0 (TID 41865) in 12123 ms on ip-172-31-1-104.us-west-2.compute.internal (executor 6) (447/466)\n",
      "23/01/17 18:35:24 INFO TaskSetManager: Starting task 459.0 in stage 11.0 (TID 41877, ip-172-31-9-35.us-west-2.compute.internal, executor 5, partition 459, PROCESS_LOCAL, 11075 bytes)\n",
      "23/01/17 18:35:24 INFO TaskSetManager: Finished task 446.0 in stage 11.0 (TID 41864) in 12510 ms on ip-172-31-9-35.us-west-2.compute.internal (executor 5) (448/466)\n"
     ]
    }
   ],
   "source": [
    "# # create year and month columns for the partition \n",
    "# songplays_table = songplays_table.withColumn('year', year('ts_timestamp')).withColumn('month', month('ts_timestamp'))\n",
    "# songplays_table.show(5)"
   ]
  },
  {
   "cell_type": "code",
   "execution_count": 21,
   "id": "0e166f38-7124-4fdb-8d67-cd517b34b5bd",
   "metadata": {
    "execution": {
     "iopub.execute_input": "2023-01-17T19:16:33.436569Z",
     "iopub.status.busy": "2023-01-17T19:16:33.435849Z",
     "iopub.status.idle": "2023-01-17T19:16:33.844134Z",
     "shell.execute_reply": "2023-01-17T19:16:33.843082Z",
     "shell.execute_reply.started": "2023-01-17T19:16:33.436526Z"
    },
    "tags": []
   },
   "outputs": [
    {
     "data": {
      "application/vnd.jupyter.widget-view+json": {
       "model_id": "527d5e3af7eb4c51bfa79ad70eb5d066",
       "version_major": 2,
       "version_minor": 0
      },
      "text/plain": [
       "VBox()"
      ]
     },
     "metadata": {},
     "output_type": "display_data"
    },
    {
     "name": "stderr",
     "output_type": "stream",
     "text": [
      "An error was encountered:\n",
      "Session 2 unexpectedly reached final status 'dead'. See logs:\n",
      "stdout: \n",
      "\n",
      "stderr: \n",
      "23/01/17 18:34:38 INFO TaskSetManager: Starting task 411.0 in stage 11.0 (TID 41829, ip-172-31-1-104.us-west-2.compute.internal, executor 6, partition 411, PROCESS_LOCAL, 11075 bytes)\n",
      "23/01/17 18:34:38 INFO TaskSetManager: Finished task 399.0 in stage 11.0 (TID 41817) in 11841 ms on ip-172-31-1-104.us-west-2.compute.internal (executor 6) (400/466)\n",
      "23/01/17 18:34:42 INFO TaskSetManager: Starting task 412.0 in stage 11.0 (TID 41830, ip-172-31-9-35.us-west-2.compute.internal, executor 5, partition 412, PROCESS_LOCAL, 11075 bytes)\n",
      "23/01/17 18:34:42 INFO TaskSetManager: Finished task 400.0 in stage 11.0 (TID 41818) in 11574 ms on ip-172-31-9-35.us-west-2.compute.internal (executor 5) (401/466)\n",
      "23/01/17 18:34:43 INFO TaskSetManager: Starting task 413.0 in stage 11.0 (TID 41831, ip-172-31-9-35.us-west-2.compute.internal, executor 5, partition 413, PROCESS_LOCAL, 11075 bytes)\n",
      "23/01/17 18:34:43 INFO TaskSetManager: Finished task 401.0 in stage 11.0 (TID 41819) in 11232 ms on ip-172-31-9-35.us-west-2.compute.internal (executor 5) (402/466)\n",
      "23/01/17 18:34:45 INFO TaskSetManager: Starting task 414.0 in stage 11.0 (TID 41832, ip-172-31-9-35.us-west-2.compute.internal, executor 5, partition 414, PROCESS_LOCAL, 11075 bytes)\n",
      "23/01/17 18:34:45 INFO TaskSetManager: Finished task 402.0 in stage 11.0 (TID 41820) in 11017 ms on ip-172-31-9-35.us-west-2.compute.internal (executor 5) (403/466)\n",
      "23/01/17 18:34:45 INFO TaskSetManager: Starting task 415.0 in stage 11.0 (TID 41833, ip-172-31-1-104.us-west-2.compute.internal, executor 7, partition 415, PROCESS_LOCAL, 11075 bytes)\n",
      "23/01/17 18:34:45 INFO TaskSetManager: Finished task 403.0 in stage 11.0 (TID 41821) in 10661 ms on ip-172-31-1-104.us-west-2.compute.internal (executor 7) (404/466)\n",
      "23/01/17 18:34:45 INFO TaskSetManager: Starting task 416.0 in stage 11.0 (TID 41834, ip-172-31-1-104.us-west-2.compute.internal, executor 7, partition 416, PROCESS_LOCAL, 11075 bytes)\n",
      "23/01/17 18:34:45 INFO TaskSetManager: Finished task 404.0 in stage 11.0 (TID 41822) in 10601 ms on ip-172-31-1-104.us-west-2.compute.internal (executor 7) (405/466)\n",
      "23/01/17 18:34:46 INFO TaskSetManager: Starting task 417.0 in stage 11.0 (TID 41835, ip-172-31-1-104.us-west-2.compute.internal, executor 7, partition 417, PROCESS_LOCAL, 11075 bytes)\n",
      "23/01/17 18:34:46 INFO TaskSetManager: Finished task 405.0 in stage 11.0 (TID 41823) in 10445 ms on ip-172-31-1-104.us-west-2.compute.internal (executor 7) (406/466)\n",
      "23/01/17 18:34:46 INFO TaskSetManager: Starting task 418.0 in stage 11.0 (TID 41836, ip-172-31-1-104.us-west-2.compute.internal, executor 7, partition 418, PROCESS_LOCAL, 11075 bytes)\n",
      "23/01/17 18:34:46 INFO TaskSetManager: Finished task 406.0 in stage 11.0 (TID 41824) in 10663 ms on ip-172-31-1-104.us-west-2.compute.internal (executor 7) (407/466)\n",
      "23/01/17 18:34:47 INFO TaskSetManager: Starting task 419.0 in stage 11.0 (TID 41837, ip-172-31-9-35.us-west-2.compute.internal, executor 5, partition 419, PROCESS_LOCAL, 11075 bytes)\n",
      "23/01/17 18:34:47 INFO TaskSetManager: Finished task 407.0 in stage 11.0 (TID 41825) in 11364 ms on ip-172-31-9-35.us-west-2.compute.internal (executor 5) (408/466)\n",
      "23/01/17 18:34:47 INFO TaskSetManager: Starting task 420.0 in stage 11.0 (TID 41838, ip-172-31-1-104.us-west-2.compute.internal, executor 6, partition 420, PROCESS_LOCAL, 11075 bytes)\n",
      "23/01/17 18:34:47 INFO TaskSetManager: Finished task 409.0 in stage 11.0 (TID 41827) in 11282 ms on ip-172-31-1-104.us-west-2.compute.internal (executor 6) (409/466)\n",
      "23/01/17 18:34:48 INFO TaskSetManager: Starting task 421.0 in stage 11.0 (TID 41839, ip-172-31-1-104.us-west-2.compute.internal, executor 6, partition 421, PROCESS_LOCAL, 11075 bytes)\n",
      "23/01/17 18:34:48 INFO TaskSetManager: Finished task 408.0 in stage 11.0 (TID 41826) in 11594 ms on ip-172-31-1-104.us-west-2.compute.internal (executor 6) (410/466)\n",
      "23/01/17 18:34:48 INFO TaskSetManager: Starting task 422.0 in stage 11.0 (TID 41840, ip-172-31-1-104.us-west-2.compute.internal, executor 6, partition 422, PROCESS_LOCAL, 11075 bytes)\n",
      "23/01/17 18:34:48 INFO TaskSetManager: Finished task 410.0 in stage 11.0 (TID 41828) in 11385 ms on ip-172-31-1-104.us-west-2.compute.internal (executor 6) (411/466)\n",
      "23/01/17 18:34:49 INFO TaskSetManager: Starting task 423.0 in stage 11.0 (TID 41841, ip-172-31-1-104.us-west-2.compute.internal, executor 6, partition 423, PROCESS_LOCAL, 11075 bytes)\n",
      "23/01/17 18:34:49 INFO TaskSetManager: Finished task 411.0 in stage 11.0 (TID 41829) in 11198 ms on ip-172-31-1-104.us-west-2.compute.internal (executor 6) (412/466)\n",
      "23/01/17 18:34:53 INFO TaskSetManager: Starting task 424.0 in stage 11.0 (TID 41842, ip-172-31-9-35.us-west-2.compute.internal, executor 5, partition 424, PROCESS_LOCAL, 11075 bytes)\n",
      "23/01/17 18:34:53 INFO TaskSetManager: Finished task 412.0 in stage 11.0 (TID 41830) in 11275 ms on ip-172-31-9-35.us-west-2.compute.internal (executor 5) (413/466)\n",
      "23/01/17 18:34:54 INFO TaskSetManager: Starting task 425.0 in stage 11.0 (TID 41843, ip-172-31-9-35.us-west-2.compute.internal, executor 5, partition 425, PROCESS_LOCAL, 11075 bytes)\n",
      "23/01/17 18:34:54 INFO TaskSetManager: Finished task 413.0 in stage 11.0 (TID 41831) in 11106 ms on ip-172-31-9-35.us-west-2.compute.internal (executor 5) (414/466)\n",
      "23/01/17 18:34:56 INFO TaskSetManager: Starting task 426.0 in stage 11.0 (TID 41844, ip-172-31-1-104.us-west-2.compute.internal, executor 7, partition 426, PROCESS_LOCAL, 11075 bytes)\n",
      "23/01/17 18:34:56 INFO TaskSetManager: Finished task 415.0 in stage 11.0 (TID 41833) in 10930 ms on ip-172-31-1-104.us-west-2.compute.internal (executor 7) (415/466)\n",
      "23/01/17 18:34:56 INFO TaskSetManager: Starting task 427.0 in stage 11.0 (TID 41845, ip-172-31-9-35.us-west-2.compute.internal, executor 5, partition 427, PROCESS_LOCAL, 11075 bytes)\n",
      "23/01/17 18:34:56 INFO TaskSetManager: Finished task 414.0 in stage 11.0 (TID 41832) in 11596 ms on ip-172-31-9-35.us-west-2.compute.internal (executor 5) (416/466)\n",
      "23/01/17 18:34:56 INFO TaskSetManager: Starting task 428.0 in stage 11.0 (TID 41846, ip-172-31-1-104.us-west-2.compute.internal, executor 7, partition 428, PROCESS_LOCAL, 11075 bytes)\n",
      "23/01/17 18:34:56 INFO TaskSetManager: Finished task 417.0 in stage 11.0 (TID 41835) in 10684 ms on ip-172-31-1-104.us-west-2.compute.internal (executor 7) (417/466)\n",
      "23/01/17 18:34:57 INFO TaskSetManager: Starting task 429.0 in stage 11.0 (TID 41847, ip-172-31-1-104.us-west-2.compute.internal, executor 7, partition 429, PROCESS_LOCAL, 11075 bytes)\n",
      "23/01/17 18:34:57 INFO TaskSetManager: Finished task 416.0 in stage 11.0 (TID 41834) in 11117 ms on ip-172-31-1-104.us-west-2.compute.internal (executor 7) (418/466)\n",
      "23/01/17 18:34:57 INFO TaskSetManager: Starting task 430.0 in stage 11.0 (TID 41848, ip-172-31-1-104.us-west-2.compute.internal, executor 7, partition 430, PROCESS_LOCAL, 11075 bytes)\n",
      "23/01/17 18:34:57 INFO TaskSetManager: Finished task 418.0 in stage 11.0 (TID 41836) in 10716 ms on ip-172-31-1-104.us-west-2.compute.internal (executor 7) (419/466)\n",
      "23/01/17 18:34:58 INFO TaskSetManager: Starting task 431.0 in stage 11.0 (TID 41849, ip-172-31-9-35.us-west-2.compute.internal, executor 5, partition 431, PROCESS_LOCAL, 11075 bytes)\n",
      "23/01/17 18:34:58 INFO TaskSetManager: Finished task 419.0 in stage 11.0 (TID 41837) in 11219 ms on ip-172-31-9-35.us-west-2.compute.internal (executor 5) (420/466)\n",
      "23/01/17 18:34:58 INFO TaskSetManager: Starting task 432.0 in stage 11.0 (TID 41850, ip-172-31-1-104.us-west-2.compute.internal, executor 6, partition 432, PROCESS_LOCAL, 11075 bytes)\n",
      "23/01/17 18:34:58 INFO TaskSetManager: Finished task 420.0 in stage 11.0 (TID 41838) in 11160 ms on ip-172-31-1-104.us-west-2.compute.internal (executor 6) (421/466)\n",
      "23/01/17 18:34:59 INFO TaskSetManager: Starting task 433.0 in stage 11.0 (TID 41851, ip-172-31-1-104.us-west-2.compute.internal, executor 6, partition 433, PROCESS_LOCAL, 11075 bytes)\n",
      "23/01/17 18:34:59 INFO TaskSetManager: Finished task 422.0 in stage 11.0 (TID 41840) in 10933 ms on ip-172-31-1-104.us-west-2.compute.internal (executor 6) (422/466)\n",
      "23/01/17 18:34:59 INFO TaskSetManager: Starting task 434.0 in stage 11.0 (TID 41852, ip-172-31-1-104.us-west-2.compute.internal, executor 6, partition 434, PROCESS_LOCAL, 11075 bytes)\n",
      "23/01/17 18:34:59 INFO TaskSetManager: Finished task 421.0 in stage 11.0 (TID 41839) in 11017 ms on ip-172-31-1-104.us-west-2.compute.internal (executor 6) (423/466)\n",
      "23/01/17 18:35:00 INFO TaskSetManager: Starting task 435.0 in stage 11.0 (TID 41853, ip-172-31-1-104.us-west-2.compute.internal, executor 6, partition 435, PROCESS_LOCAL, 11075 bytes)\n",
      "23/01/17 18:35:00 INFO TaskSetManager: Finished task 423.0 in stage 11.0 (TID 41841) in 10647 ms on ip-172-31-1-104.us-west-2.compute.internal (executor 6) (424/466)\n",
      "23/01/17 18:35:05 INFO TaskSetManager: Starting task 436.0 in stage 11.0 (TID 41854, ip-172-31-9-35.us-west-2.compute.internal, executor 5, partition 436, PROCESS_LOCAL, 11075 bytes)\n",
      "23/01/17 18:35:05 INFO TaskSetManager: Finished task 424.0 in stage 11.0 (TID 41842) in 12557 ms on ip-172-31-9-35.us-west-2.compute.internal (executor 5) (425/466)\n",
      "23/01/17 18:35:06 INFO TaskSetManager: Starting task 437.0 in stage 11.0 (TID 41855, ip-172-31-9-35.us-west-2.compute.internal, executor 5, partition 437, PROCESS_LOCAL, 11075 bytes)\n",
      "23/01/17 18:35:06 INFO TaskSetManager: Finished task 425.0 in stage 11.0 (TID 41843) in 12661 ms on ip-172-31-9-35.us-west-2.compute.internal (executor 5) (426/466)\n",
      "23/01/17 18:35:08 INFO TaskSetManager: Starting task 438.0 in stage 11.0 (TID 41856, ip-172-31-1-104.us-west-2.compute.internal, executor 7, partition 438, PROCESS_LOCAL, 11075 bytes)\n",
      "23/01/17 18:35:08 INFO TaskSetManager: Finished task 428.0 in stage 11.0 (TID 41846) in 11922 ms on ip-172-31-1-104.us-west-2.compute.internal (executor 7) (427/466)\n",
      "23/01/17 18:35:08 INFO TaskSetManager: Starting task 439.0 in stage 11.0 (TID 41857, ip-172-31-1-104.us-west-2.compute.internal, executor 7, partition 439, PROCESS_LOCAL, 11075 bytes)\n",
      "23/01/17 18:35:08 INFO TaskSetManager: Finished task 429.0 in stage 11.0 (TID 41847) in 11868 ms on ip-172-31-1-104.us-west-2.compute.internal (executor 7) (428/466)\n",
      "23/01/17 18:35:09 INFO TaskSetManager: Starting task 440.0 in stage 11.0 (TID 41858, ip-172-31-9-35.us-west-2.compute.internal, executor 5, partition 440, PROCESS_LOCAL, 11075 bytes)\n",
      "23/01/17 18:35:09 INFO TaskSetManager: Finished task 427.0 in stage 11.0 (TID 41845) in 12856 ms on ip-172-31-9-35.us-west-2.compute.internal (executor 5) (429/466)\n",
      "23/01/17 18:35:09 INFO TaskSetManager: Starting task 441.0 in stage 11.0 (TID 41859, ip-172-31-1-104.us-west-2.compute.internal, executor 7, partition 441, PROCESS_LOCAL, 11075 bytes)\n",
      "23/01/17 18:35:09 INFO TaskSetManager: Finished task 430.0 in stage 11.0 (TID 41848) in 12024 ms on ip-172-31-1-104.us-west-2.compute.internal (executor 7) (430/466)\n",
      "23/01/17 18:35:10 INFO TaskSetManager: Starting task 442.0 in stage 11.0 (TID 41860, ip-172-31-1-104.us-west-2.compute.internal, executor 7, partition 442, PROCESS_LOCAL, 11075 bytes)\n",
      "23/01/17 18:35:10 INFO TaskSetManager: Finished task 426.0 in stage 11.0 (TID 41844) in 13797 ms on ip-172-31-1-104.us-west-2.compute.internal (executor 7) (431/466)\n",
      "23/01/17 18:35:10 INFO TaskSetManager: Starting task 443.0 in stage 11.0 (TID 41861, ip-172-31-1-104.us-west-2.compute.internal, executor 6, partition 443, PROCESS_LOCAL, 11075 bytes)\n",
      "23/01/17 18:35:10 INFO TaskSetManager: Finished task 432.0 in stage 11.0 (TID 41850) in 11823 ms on ip-172-31-1-104.us-west-2.compute.internal (executor 6) (432/466)\n",
      "23/01/17 18:35:10 INFO TaskSetManager: Starting task 444.0 in stage 11.0 (TID 41862, ip-172-31-1-104.us-west-2.compute.internal, executor 6, partition 444, PROCESS_LOCAL, 11075 bytes)\n",
      "23/01/17 18:35:10 INFO TaskSetManager: Finished task 433.0 in stage 11.0 (TID 41851) in 11918 ms on ip-172-31-1-104.us-west-2.compute.internal (executor 6) (433/466)\n",
      "23/01/17 18:35:11 INFO TaskSetManager: Starting task 445.0 in stage 11.0 (TID 41863, ip-172-31-1-104.us-west-2.compute.internal, executor 6, partition 445, PROCESS_LOCAL, 11075 bytes)\n",
      "23/01/17 18:35:11 INFO TaskSetManager: Finished task 434.0 in stage 11.0 (TID 41852) in 12060 ms on ip-172-31-1-104.us-west-2.compute.internal (executor 6) (434/466)\n",
      "23/01/17 18:35:12 INFO TaskSetManager: Starting task 446.0 in stage 11.0 (TID 41864, ip-172-31-9-35.us-west-2.compute.internal, executor 5, partition 446, PROCESS_LOCAL, 11075 bytes)\n",
      "23/01/17 18:35:12 INFO TaskSetManager: Finished task 431.0 in stage 11.0 (TID 41849) in 13466 ms on ip-172-31-9-35.us-west-2.compute.internal (executor 5) (435/466)\n",
      "23/01/17 18:35:12 INFO TaskSetManager: Starting task 447.0 in stage 11.0 (TID 41865, ip-172-31-1-104.us-west-2.compute.internal, executor 6, partition 447, PROCESS_LOCAL, 11075 bytes)\n",
      "23/01/17 18:35:12 INFO TaskSetManager: Finished task 435.0 in stage 11.0 (TID 41853) in 12221 ms on ip-172-31-1-104.us-west-2.compute.internal (executor 6) (436/466)\n",
      "23/01/17 18:35:17 INFO TaskSetManager: Starting task 448.0 in stage 11.0 (TID 41866, ip-172-31-9-35.us-west-2.compute.internal, executor 5, partition 448, PROCESS_LOCAL, 11075 bytes)\n",
      "23/01/17 18:35:17 INFO TaskSetManager: Finished task 436.0 in stage 11.0 (TID 41854) in 11933 ms on ip-172-31-9-35.us-west-2.compute.internal (executor 5) (437/466)\n",
      "23/01/17 18:35:18 INFO TaskSetManager: Starting task 449.0 in stage 11.0 (TID 41867, ip-172-31-9-35.us-west-2.compute.internal, executor 5, partition 449, PROCESS_LOCAL, 11075 bytes)\n",
      "23/01/17 18:35:18 INFO TaskSetManager: Finished task 437.0 in stage 11.0 (TID 41855) in 12075 ms on ip-172-31-9-35.us-west-2.compute.internal (executor 5) (438/466)\n",
      "23/01/17 18:35:21 INFO TaskSetManager: Starting task 450.0 in stage 11.0 (TID 41868, ip-172-31-1-104.us-west-2.compute.internal, executor 7, partition 450, PROCESS_LOCAL, 11075 bytes)\n",
      "23/01/17 18:35:21 INFO TaskSetManager: Finished task 438.0 in stage 11.0 (TID 41856) in 12792 ms on ip-172-31-1-104.us-west-2.compute.internal (executor 7) (439/466)\n",
      "23/01/17 18:35:21 INFO TaskSetManager: Starting task 451.0 in stage 11.0 (TID 41869, ip-172-31-9-35.us-west-2.compute.internal, executor 5, partition 451, PROCESS_LOCAL, 11075 bytes)\n",
      "23/01/17 18:35:21 INFO TaskSetManager: Finished task 440.0 in stage 11.0 (TID 41858) in 12348 ms on ip-172-31-9-35.us-west-2.compute.internal (executor 5) (440/466)\n",
      "23/01/17 18:35:22 INFO TaskSetManager: Starting task 452.0 in stage 11.0 (TID 41870, ip-172-31-1-104.us-west-2.compute.internal, executor 7, partition 452, PROCESS_LOCAL, 11075 bytes)\n",
      "23/01/17 18:35:22 INFO TaskSetManager: Finished task 439.0 in stage 11.0 (TID 41857) in 13185 ms on ip-172-31-1-104.us-west-2.compute.internal (executor 7) (441/466)\n",
      "23/01/17 18:35:22 INFO TaskSetManager: Starting task 453.0 in stage 11.0 (TID 41871, ip-172-31-1-104.us-west-2.compute.internal, executor 7, partition 453, PROCESS_LOCAL, 11075 bytes)\n",
      "23/01/17 18:35:22 INFO TaskSetManager: Finished task 441.0 in stage 11.0 (TID 41859) in 12589 ms on ip-172-31-1-104.us-west-2.compute.internal (executor 7) (442/466)\n",
      "23/01/17 18:35:22 INFO TaskSetManager: Starting task 454.0 in stage 11.0 (TID 41872, ip-172-31-1-104.us-west-2.compute.internal, executor 7, partition 454, PROCESS_LOCAL, 11075 bytes)\n",
      "23/01/17 18:35:22 INFO TaskSetManager: Finished task 442.0 in stage 11.0 (TID 41860) in 12103 ms on ip-172-31-1-104.us-west-2.compute.internal (executor 7) (443/466)\n",
      "23/01/17 18:35:22 INFO TaskSetManager: Starting task 455.0 in stage 11.0 (TID 41873, ip-172-31-1-104.us-west-2.compute.internal, executor 6, partition 455, PROCESS_LOCAL, 11075 bytes)\n",
      "23/01/17 18:35:22 INFO TaskSetManager: Finished task 443.0 in stage 11.0 (TID 41861) in 11934 ms on ip-172-31-1-104.us-west-2.compute.internal (executor 6) (444/466)\n",
      "23/01/17 18:35:22 INFO TaskSetManager: Starting task 456.0 in stage 11.0 (TID 41874, ip-172-31-1-104.us-west-2.compute.internal, executor 6, partition 456, PROCESS_LOCAL, 11075 bytes)\n",
      "23/01/17 18:35:22 INFO TaskSetManager: Finished task 444.0 in stage 11.0 (TID 41862) in 11748 ms on ip-172-31-1-104.us-west-2.compute.internal (executor 6) (445/466)\n",
      "23/01/17 18:35:23 INFO TaskSetManager: Starting task 457.0 in stage 11.0 (TID 41875, ip-172-31-1-104.us-west-2.compute.internal, executor 6, partition 457, PROCESS_LOCAL, 11075 bytes)\n",
      "23/01/17 18:35:23 INFO TaskSetManager: Finished task 445.0 in stage 11.0 (TID 41863) in 11922 ms on ip-172-31-1-104.us-west-2.compute.internal (executor 6) (446/466)\n",
      "23/01/17 18:35:24 INFO TaskSetManager: Starting task 458.0 in stage 11.0 (TID 41876, ip-172-31-1-104.us-west-2.compute.internal, executor 6, partition 458, PROCESS_LOCAL, 11075 bytes)\n",
      "23/01/17 18:35:24 INFO TaskSetManager: Finished task 447.0 in stage 11.0 (TID 41865) in 12123 ms on ip-172-31-1-104.us-west-2.compute.internal (executor 6) (447/466)\n",
      "23/01/17 18:35:24 INFO TaskSetManager: Starting task 459.0 in stage 11.0 (TID 41877, ip-172-31-9-35.us-west-2.compute.internal, executor 5, partition 459, PROCESS_LOCAL, 11075 bytes)\n",
      "23/01/17 18:35:24 INFO TaskSetManager: Finished task 446.0 in stage 11.0 (TID 41864) in 12510 ms on ip-172-31-9-35.us-west-2.compute.internal (executor 5) (448/466)\n"
     ]
    }
   ],
   "source": [
    "# # write songplays table to parquet files partitioned by year and month\n",
    "# songplays_table.write.partitionBy('year', 'month').mode('overwrite').parquet(output_data + \"songplays/\")"
   ]
  }
 ],
 "metadata": {
  "kernelspec": {
   "display_name": "PySpark",
   "language": "",
   "name": "pysparkkernel"
  },
  "language_info": {
   "codemirror_mode": {
    "name": "python",
    "version": 2
   },
   "mimetype": "text/x-python",
   "name": "pyspark",
   "pygments_lexer": "python2"
  }
 },
 "nbformat": 4,
 "nbformat_minor": 5
}

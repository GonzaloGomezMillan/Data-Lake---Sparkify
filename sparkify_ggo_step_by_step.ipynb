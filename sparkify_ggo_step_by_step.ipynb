{
 "cells": [
  {
   "cell_type": "code",
   "execution_count": 1,
   "id": "a4e96669-6525-4808-a165-95c52235f304",
   "metadata": {
    "execution": {
     "iopub.execute_input": "2023-01-02T12:24:54.062076Z",
     "iopub.status.busy": "2023-01-02T12:24:53.985331Z",
     "iopub.status.idle": "2023-01-02T12:25:28.131100Z",
     "shell.execute_reply": "2023-01-02T12:25:28.129837Z",
     "shell.execute_reply.started": "2023-01-02T12:24:54.062009Z"
    },
    "tags": []
   },
   "outputs": [
    {
     "data": {
      "application/vnd.jupyter.widget-view+json": {
       "model_id": "4ae71b8ffb2c43789348d97329859b6d",
       "version_major": 2,
       "version_minor": 0
      },
      "text/plain": [
       "VBox()"
      ]
     },
     "metadata": {},
     "output_type": "display_data"
    },
    {
     "name": "stdout",
     "output_type": "stream",
     "text": [
      "Starting Spark application\n"
     ]
    },
    {
     "data": {
      "text/html": [
       "<table>\n",
       "<tr><th>ID</th><th>YARN Application ID</th><th>Kind</th><th>State</th><th>Spark UI</th><th>Driver log</th><th>Current session?</th></tr><tr><td>11</td><td>application_1672655428168_0012</td><td>pyspark</td><td>idle</td><td><a target=\"_blank\" href=\"http://ip-172-31-17-93.us-west-2.compute.internal:20888/proxy/application_1672655428168_0012/\">Link</a></td><td><a target=\"_blank\" href=\"http://ip-172-31-21-120.us-west-2.compute.internal:8042/node/containerlogs/container_1672655428168_0012_01_000001/livy\">Link</a></td><td>✔</td></tr></table>"
      ],
      "text/plain": [
       "<IPython.core.display.HTML object>"
      ]
     },
     "metadata": {},
     "output_type": "display_data"
    },
    {
     "data": {
      "application/vnd.jupyter.widget-view+json": {
       "model_id": "",
       "version_major": 2,
       "version_minor": 0
      },
      "text/plain": [
       "FloatProgress(value=0.0, bar_style='info', description='Progress:', layout=Layout(height='25px', width='50%'),…"
      ]
     },
     "metadata": {},
     "output_type": "display_data"
    },
    {
     "name": "stdout",
     "output_type": "stream",
     "text": [
      "SparkSession available as 'spark'.\n"
     ]
    },
    {
     "data": {
      "application/vnd.jupyter.widget-view+json": {
       "model_id": "",
       "version_major": 2,
       "version_minor": 0
      },
      "text/plain": [
       "FloatProgress(value=0.0, bar_style='info', description='Progress:', layout=Layout(height='25px', width='50%'),…"
      ]
     },
     "metadata": {},
     "output_type": "display_data"
    }
   ],
   "source": [
    "import configparser\n",
    "from datetime import datetime\n",
    "import os\n",
    "from pyspark.sql import SparkSession\n",
    "from pyspark.sql.functions import udf, col\n",
    "from pyspark.sql.functions import year, month, dayofmonth, hour, weekofyear, date_format\n",
    "import pyspark.sql.types as TS\n",
    "from pyspark.sql.functions import dayofweek\n",
    "from pyspark.sql.functions import monotonically_increasing_id"
   ]
  },
  {
   "cell_type": "code",
   "execution_count": 2,
   "id": "74b9473b-4055-4731-9adf-ca2485d6553a",
   "metadata": {
    "execution": {
     "iopub.execute_input": "2023-01-02T12:25:28.134911Z",
     "iopub.status.busy": "2023-01-02T12:25:28.133521Z",
     "iopub.status.idle": "2023-01-02T12:25:29.723387Z",
     "shell.execute_reply": "2023-01-02T12:25:29.721759Z",
     "shell.execute_reply.started": "2023-01-02T12:25:28.134864Z"
    }
   },
   "outputs": [
    {
     "data": {
      "application/vnd.jupyter.widget-view+json": {
       "model_id": "7b946379590e4cf2842a1a3bb58095b8",
       "version_major": 2,
       "version_minor": 0
      },
      "text/plain": [
       "VBox()"
      ]
     },
     "metadata": {},
     "output_type": "display_data"
    },
    {
     "data": {
      "application/vnd.jupyter.widget-view+json": {
       "model_id": "",
       "version_major": 2,
       "version_minor": 0
      },
      "text/plain": [
       "FloatProgress(value=0.0, bar_style='info', description='Progress:', layout=Layout(height='25px', width='50%'),…"
      ]
     },
     "metadata": {},
     "output_type": "display_data"
    }
   ],
   "source": [
    "spark = SparkSession \\\n",
    "        .builder \\\n",
    "        .config(\"spark.jars.packages\", \"org.apache.hadoop:hadoop-aws:2.7.0\") \\\n",
    "        .getOrCreate()"
   ]
  },
  {
   "cell_type": "code",
   "execution_count": 3,
   "id": "6d9e82f1-c202-4070-b632-9c5fa0bbfa4a",
   "metadata": {
    "execution": {
     "iopub.execute_input": "2023-01-02T12:25:29.727317Z",
     "iopub.status.busy": "2023-01-02T12:25:29.726460Z",
     "iopub.status.idle": "2023-01-02T12:25:29.990290Z",
     "shell.execute_reply": "2023-01-02T12:25:29.989350Z",
     "shell.execute_reply.started": "2023-01-02T12:25:29.727269Z"
    }
   },
   "outputs": [
    {
     "data": {
      "application/vnd.jupyter.widget-view+json": {
       "model_id": "67d004b12e8648ad9270f7dfb5efbf5d",
       "version_major": 2,
       "version_minor": 0
      },
      "text/plain": [
       "VBox()"
      ]
     },
     "metadata": {},
     "output_type": "display_data"
    },
    {
     "data": {
      "application/vnd.jupyter.widget-view+json": {
       "model_id": "",
       "version_major": 2,
       "version_minor": 0
      },
      "text/plain": [
       "FloatProgress(value=0.0, bar_style='info', description='Progress:', layout=Layout(height='25px', width='50%'),…"
      ]
     },
     "metadata": {},
     "output_type": "display_data"
    }
   ],
   "source": [
    "input_data = \"s3a://udacity-dend/\"\n",
    "output_data = \"s3a://sparkifyggo/\""
   ]
  },
  {
   "cell_type": "code",
   "execution_count": 4,
   "id": "1c3b630b-3564-408f-a13e-2abc944f27fb",
   "metadata": {
    "execution": {
     "iopub.execute_input": "2023-01-02T12:25:29.993224Z",
     "iopub.status.busy": "2023-01-02T12:25:29.992446Z",
     "iopub.status.idle": "2023-01-02T12:25:30.278939Z",
     "shell.execute_reply": "2023-01-02T12:25:30.277662Z",
     "shell.execute_reply.started": "2023-01-02T12:25:29.993126Z"
    }
   },
   "outputs": [
    {
     "data": {
      "application/vnd.jupyter.widget-view+json": {
       "model_id": "f3978527203344fd9af494603ac4e3ba",
       "version_major": 2,
       "version_minor": 0
      },
      "text/plain": [
       "VBox()"
      ]
     },
     "metadata": {},
     "output_type": "display_data"
    },
    {
     "data": {
      "application/vnd.jupyter.widget-view+json": {
       "model_id": "",
       "version_major": 2,
       "version_minor": 0
      },
      "text/plain": [
       "FloatProgress(value=0.0, bar_style='info', description='Progress:', layout=Layout(height='25px', width='50%'),…"
      ]
     },
     "metadata": {},
     "output_type": "display_data"
    }
   ],
   "source": [
    "# get filepath to song data file\n",
    "song_data = '{}{}'.format(input_data, 'song_data/*/*/*/*.json')"
   ]
  },
  {
   "cell_type": "code",
   "execution_count": 5,
   "id": "d075cdcc-6c8d-4e73-81f8-03bc4f44bc54",
   "metadata": {
    "execution": {
     "iopub.execute_input": "2023-01-02T12:25:30.281066Z",
     "iopub.status.busy": "2023-01-02T12:25:30.280640Z",
     "iopub.status.idle": "2023-01-02T12:29:07.164249Z",
     "shell.execute_reply": "2023-01-02T12:29:07.163252Z",
     "shell.execute_reply.started": "2023-01-02T12:25:30.281033Z"
    },
    "tags": []
   },
   "outputs": [
    {
     "data": {
      "application/vnd.jupyter.widget-view+json": {
       "model_id": "19f9507372e04385879daeaa2ae6a902",
       "version_major": 2,
       "version_minor": 0
      },
      "text/plain": [
       "VBox()"
      ]
     },
     "metadata": {},
     "output_type": "display_data"
    },
    {
     "data": {
      "application/vnd.jupyter.widget-view+json": {
       "model_id": "",
       "version_major": 2,
       "version_minor": 0
      },
      "text/plain": [
       "FloatProgress(value=0.0, bar_style='info', description='Progress:', layout=Layout(height='25px', width='50%'),…"
      ]
     },
     "metadata": {},
     "output_type": "display_data"
    }
   ],
   "source": [
    "# read song data file\n",
    "df = spark.read.json(song_data)    # extract columns to create songs table\n",
    "songs_table = df.select('song_id','title','artist_id','year','duration')"
   ]
  },
  {
   "cell_type": "code",
   "execution_count": 6,
   "id": "6eaa8482-87ce-4f79-8257-e9216e7c3b95",
   "metadata": {
    "execution": {
     "iopub.execute_input": "2023-01-02T12:29:07.166688Z",
     "iopub.status.busy": "2023-01-02T12:29:07.165918Z",
     "iopub.status.idle": "2023-01-02T12:29:07.419074Z",
     "shell.execute_reply": "2023-01-02T12:29:07.416964Z",
     "shell.execute_reply.started": "2023-01-02T12:29:07.166643Z"
    }
   },
   "outputs": [
    {
     "data": {
      "application/vnd.jupyter.widget-view+json": {
       "model_id": "699ec03318824fa8b783987137495b77",
       "version_major": 2,
       "version_minor": 0
      },
      "text/plain": [
       "VBox()"
      ]
     },
     "metadata": {},
     "output_type": "display_data"
    },
    {
     "data": {
      "application/vnd.jupyter.widget-view+json": {
       "model_id": "",
       "version_major": 2,
       "version_minor": 0
      },
      "text/plain": [
       "FloatProgress(value=0.0, bar_style='info', description='Progress:', layout=Layout(height='25px', width='50%'),…"
      ]
     },
     "metadata": {},
     "output_type": "display_data"
    },
    {
     "name": "stdout",
     "output_type": "stream",
     "text": [
      "Done"
     ]
    }
   ],
   "source": [
    "print('Done')"
   ]
  },
  {
   "cell_type": "code",
   "execution_count": 7,
   "id": "922fd376-0033-4bf4-8042-db59770ef181",
   "metadata": {
    "execution": {
     "iopub.execute_input": "2023-01-02T12:29:07.471462Z",
     "iopub.status.busy": "2023-01-02T12:29:07.465143Z",
     "iopub.status.idle": "2023-01-02T12:55:31.312199Z",
     "shell.execute_reply": "2023-01-02T12:55:31.311205Z",
     "shell.execute_reply.started": "2023-01-02T12:29:07.471039Z"
    },
    "tags": []
   },
   "outputs": [
    {
     "data": {
      "application/vnd.jupyter.widget-view+json": {
       "model_id": "f11494386372413792bb162af03ce8c1",
       "version_major": 2,
       "version_minor": 0
      },
      "text/plain": [
       "VBox()"
      ]
     },
     "metadata": {},
     "output_type": "display_data"
    },
    {
     "data": {
      "application/vnd.jupyter.widget-view+json": {
       "model_id": "38286f2742624f3896de53d4416e1892",
       "version_major": 2,
       "version_minor": 0
      },
      "text/plain": [
       "FloatProgress(value=0.0, bar_style='info', description='Progress:', layout=Layout(height='25px', width='50%'),…"
      ]
     },
     "metadata": {},
     "output_type": "display_data"
    },
    {
     "name": "stderr",
     "output_type": "stream",
     "text": [
      "An error was encountered:\n",
      "Error sending http request and maximum retry encountered.\n"
     ]
    }
   ],
   "source": [
    "# write songs table to parquet files partitioned by year and artist\n",
    "songs_table.write.partitionBy('year','artist_id').mode('overwrite').parquet(output_data + \"songs/\")"
   ]
  },
  {
   "cell_type": "code",
   "execution_count": 8,
   "id": "71babf52-b2d2-46a5-88c7-906d2f6d623e",
   "metadata": {
    "execution": {
     "iopub.execute_input": "2023-01-02T12:55:31.317844Z",
     "iopub.status.busy": "2023-01-02T12:55:31.316836Z",
     "iopub.status.idle": "2023-01-02T12:55:31.368151Z",
     "shell.execute_reply": "2023-01-02T12:55:31.365127Z",
     "shell.execute_reply.started": "2023-01-02T12:55:31.317798Z"
    }
   },
   "outputs": [
    {
     "data": {
      "application/vnd.jupyter.widget-view+json": {
       "model_id": "4344b325b5b4476bbf3ccf526741dcc9",
       "version_major": 2,
       "version_minor": 0
      },
      "text/plain": [
       "VBox()"
      ]
     },
     "metadata": {},
     "output_type": "display_data"
    },
    {
     "name": "stderr",
     "output_type": "stream",
     "text": [
      "An error was encountered:\n",
      "Error sending http request and maximum retry encountered.\n"
     ]
    }
   ],
   "source": [
    "print('Done')"
   ]
  },
  {
   "cell_type": "code",
   "execution_count": 9,
   "id": "ae0c03d7-a377-4016-be75-28673e924a73",
   "metadata": {
    "execution": {
     "iopub.execute_input": "2023-01-02T12:55:31.372299Z",
     "iopub.status.busy": "2023-01-02T12:55:31.371893Z",
     "iopub.status.idle": "2023-01-02T12:55:31.479958Z",
     "shell.execute_reply": "2023-01-02T12:55:31.478328Z",
     "shell.execute_reply.started": "2023-01-02T12:55:31.372255Z"
    }
   },
   "outputs": [
    {
     "data": {
      "application/vnd.jupyter.widget-view+json": {
       "model_id": "b7ebdea4d2144bf5bc7e760b53a1ab69",
       "version_major": 2,
       "version_minor": 0
      },
      "text/plain": [
       "VBox()"
      ]
     },
     "metadata": {},
     "output_type": "display_data"
    },
    {
     "name": "stderr",
     "output_type": "stream",
     "text": [
      "An error was encountered:\n",
      "Error sending http request and maximum retry encountered.\n"
     ]
    }
   ],
   "source": [
    "# extract columns to create artists table\n",
    "artists_table = df.select('artist_id','artist_name','artist_location',\n",
    "                                   'artist_latitude','artist_longitude')"
   ]
  },
  {
   "cell_type": "code",
   "execution_count": 10,
   "id": "55a96853-d274-42fd-b5d6-0372095490f4",
   "metadata": {
    "execution": {
     "iopub.execute_input": "2023-01-02T12:55:31.482049Z",
     "iopub.status.busy": "2023-01-02T12:55:31.481675Z",
     "iopub.status.idle": "2023-01-02T12:55:31.672421Z",
     "shell.execute_reply": "2023-01-02T12:55:31.667473Z",
     "shell.execute_reply.started": "2023-01-02T12:55:31.482011Z"
    }
   },
   "outputs": [
    {
     "data": {
      "application/vnd.jupyter.widget-view+json": {
       "model_id": "d1bb04195c964b9a9bff8e3760ee609e",
       "version_major": 2,
       "version_minor": 0
      },
      "text/plain": [
       "VBox()"
      ]
     },
     "metadata": {},
     "output_type": "display_data"
    },
    {
     "name": "stderr",
     "output_type": "stream",
     "text": [
      "An error was encountered:\n",
      "Error sending http request and maximum retry encountered.\n"
     ]
    }
   ],
   "source": [
    "print('Done')"
   ]
  },
  {
   "cell_type": "code",
   "execution_count": 11,
   "id": "66ea7abd-d94d-479d-b8c3-dff7efe4b5e7",
   "metadata": {
    "execution": {
     "iopub.execute_input": "2023-01-02T12:55:31.678510Z",
     "iopub.status.busy": "2023-01-02T12:55:31.676271Z",
     "iopub.status.idle": "2023-01-02T12:55:31.789641Z",
     "shell.execute_reply": "2023-01-02T12:55:31.788372Z",
     "shell.execute_reply.started": "2023-01-02T12:55:31.678466Z"
    }
   },
   "outputs": [
    {
     "data": {
      "application/vnd.jupyter.widget-view+json": {
       "model_id": "b7fb2696141c482991ede246d98467f3",
       "version_major": 2,
       "version_minor": 0
      },
      "text/plain": [
       "VBox()"
      ]
     },
     "metadata": {},
     "output_type": "display_data"
    },
    {
     "name": "stderr",
     "output_type": "stream",
     "text": [
      "An error was encountered:\n",
      "Error sending http request and maximum retry encountered.\n"
     ]
    }
   ],
   "source": [
    "# write artists table to parquet files\n",
    "artists_table.write.mode('overwrite').parquet(output_data + \"artists/\")"
   ]
  },
  {
   "cell_type": "code",
   "execution_count": 12,
   "id": "c17e4f8a-4dad-469d-8dad-9eda75083e0e",
   "metadata": {
    "execution": {
     "iopub.execute_input": "2023-01-02T12:55:31.791626Z",
     "iopub.status.busy": "2023-01-02T12:55:31.791081Z",
     "iopub.status.idle": "2023-01-02T12:55:31.964513Z",
     "shell.execute_reply": "2023-01-02T12:55:31.963495Z",
     "shell.execute_reply.started": "2023-01-02T12:55:31.791586Z"
    }
   },
   "outputs": [
    {
     "data": {
      "application/vnd.jupyter.widget-view+json": {
       "model_id": "43acdda3f72a455db26b2de046363eaa",
       "version_major": 2,
       "version_minor": 0
      },
      "text/plain": [
       "VBox()"
      ]
     },
     "metadata": {},
     "output_type": "display_data"
    },
    {
     "name": "stderr",
     "output_type": "stream",
     "text": [
      "An error was encountered:\n",
      "Error sending http request and maximum retry encountered.\n"
     ]
    }
   ],
   "source": [
    "print('Done')"
   ]
  },
  {
   "cell_type": "code",
   "execution_count": 13,
   "id": "358d7f31-ccc4-4eb1-8e67-f5f2d7cf4a17",
   "metadata": {
    "execution": {
     "iopub.execute_input": "2023-01-02T12:55:31.972894Z",
     "iopub.status.busy": "2023-01-02T12:55:31.967657Z",
     "iopub.status.idle": "2023-01-02T12:55:32.081702Z",
     "shell.execute_reply": "2023-01-02T12:55:32.079844Z",
     "shell.execute_reply.started": "2023-01-02T12:55:31.972850Z"
    }
   },
   "outputs": [
    {
     "data": {
      "application/vnd.jupyter.widget-view+json": {
       "model_id": "da4ccddee2de48119b1a7a6d905d7b14",
       "version_major": 2,
       "version_minor": 0
      },
      "text/plain": [
       "VBox()"
      ]
     },
     "metadata": {},
     "output_type": "display_data"
    },
    {
     "name": "stderr",
     "output_type": "stream",
     "text": [
      "An error was encountered:\n",
      "Error sending http request and maximum retry encountered.\n"
     ]
    }
   ],
   "source": [
    "log_data = '{}{}'.format(input_data, 'log_data/*/*/*.json')\n",
    "song_data = '{}{}'.format(input_data, 'song_data/*/*/*/*.json')"
   ]
  },
  {
   "cell_type": "code",
   "execution_count": 14,
   "id": "a86d8446-0e46-4dd6-a915-d5ff0fecd052",
   "metadata": {
    "execution": {
     "iopub.execute_input": "2023-01-02T12:55:32.085934Z",
     "iopub.status.busy": "2023-01-02T12:55:32.083474Z",
     "iopub.status.idle": "2023-01-02T12:55:32.188981Z",
     "shell.execute_reply": "2023-01-02T12:55:32.187940Z",
     "shell.execute_reply.started": "2023-01-02T12:55:32.085891Z"
    }
   },
   "outputs": [
    {
     "data": {
      "application/vnd.jupyter.widget-view+json": {
       "model_id": "1f35adad219c40b7a3db9b4929ca352e",
       "version_major": 2,
       "version_minor": 0
      },
      "text/plain": [
       "VBox()"
      ]
     },
     "metadata": {},
     "output_type": "display_data"
    },
    {
     "name": "stderr",
     "output_type": "stream",
     "text": [
      "An error was encountered:\n",
      "Error sending http request and maximum retry encountered.\n"
     ]
    }
   ],
   "source": [
    "print('Done')"
   ]
  },
  {
   "cell_type": "code",
   "execution_count": 15,
   "id": "6cf2aca0-f4ac-4815-93d7-d9a8c6d4c6f6",
   "metadata": {
    "execution": {
     "iopub.execute_input": "2023-01-02T12:55:32.263467Z",
     "iopub.status.busy": "2023-01-02T12:55:32.190585Z",
     "iopub.status.idle": "2023-01-02T12:55:32.386700Z",
     "shell.execute_reply": "2023-01-02T12:55:32.385547Z",
     "shell.execute_reply.started": "2023-01-02T12:55:32.263418Z"
    }
   },
   "outputs": [
    {
     "data": {
      "application/vnd.jupyter.widget-view+json": {
       "model_id": "de3e5b61c8e749b9b7c7157391f2c3e7",
       "version_major": 2,
       "version_minor": 0
      },
      "text/plain": [
       "VBox()"
      ]
     },
     "metadata": {},
     "output_type": "display_data"
    },
    {
     "name": "stderr",
     "output_type": "stream",
     "text": [
      "An error was encountered:\n",
      "Error sending http request and maximum retry encountered.\n"
     ]
    }
   ],
   "source": [
    "# read log data file\n",
    "df = spark.read.json(log_data)"
   ]
  },
  {
   "cell_type": "code",
   "execution_count": 16,
   "id": "c533d8c9-1b21-420b-85ff-fa4083fd2212",
   "metadata": {
    "execution": {
     "iopub.execute_input": "2023-01-02T12:55:32.388333Z",
     "iopub.status.busy": "2023-01-02T12:55:32.387874Z",
     "iopub.status.idle": "2023-01-02T12:55:32.482068Z",
     "shell.execute_reply": "2023-01-02T12:55:32.481076Z",
     "shell.execute_reply.started": "2023-01-02T12:55:32.388295Z"
    }
   },
   "outputs": [
    {
     "data": {
      "application/vnd.jupyter.widget-view+json": {
       "model_id": "250b41a5cc5e4083968197f0c1129dc1",
       "version_major": 2,
       "version_minor": 0
      },
      "text/plain": [
       "VBox()"
      ]
     },
     "metadata": {},
     "output_type": "display_data"
    },
    {
     "name": "stderr",
     "output_type": "stream",
     "text": [
      "An error was encountered:\n",
      "Error sending http request and maximum retry encountered.\n"
     ]
    }
   ],
   "source": [
    "print('Done')"
   ]
  },
  {
   "cell_type": "code",
   "execution_count": 17,
   "id": "d2593496-f3db-467a-aaca-d0828ab1a0ee",
   "metadata": {
    "execution": {
     "iopub.execute_input": "2023-01-02T12:55:32.484493Z",
     "iopub.status.busy": "2023-01-02T12:55:32.483826Z",
     "iopub.status.idle": "2023-01-02T12:55:32.588991Z",
     "shell.execute_reply": "2023-01-02T12:55:32.586411Z",
     "shell.execute_reply.started": "2023-01-02T12:55:32.484453Z"
    }
   },
   "outputs": [
    {
     "data": {
      "application/vnd.jupyter.widget-view+json": {
       "model_id": "75ed57cda7834848991634aea1c68539",
       "version_major": 2,
       "version_minor": 0
      },
      "text/plain": [
       "VBox()"
      ]
     },
     "metadata": {},
     "output_type": "display_data"
    },
    {
     "name": "stderr",
     "output_type": "stream",
     "text": [
      "An error was encountered:\n",
      "Error sending http request and maximum retry encountered.\n"
     ]
    }
   ],
   "source": [
    "# filter by actions for song plays\n",
    "df = df.where(df.page == 'NextSong')"
   ]
  },
  {
   "cell_type": "code",
   "execution_count": 18,
   "id": "61a7b41b-79f2-4077-acc6-2dfc3e11e114",
   "metadata": {
    "execution": {
     "iopub.execute_input": "2023-01-02T12:55:32.669148Z",
     "iopub.status.busy": "2023-01-02T12:55:32.663682Z",
     "iopub.status.idle": "2023-01-02T12:55:32.778305Z",
     "shell.execute_reply": "2023-01-02T12:55:32.773434Z",
     "shell.execute_reply.started": "2023-01-02T12:55:32.669095Z"
    }
   },
   "outputs": [
    {
     "data": {
      "application/vnd.jupyter.widget-view+json": {
       "model_id": "9d071fab71e84b33a432492dc8465b2c",
       "version_major": 2,
       "version_minor": 0
      },
      "text/plain": [
       "VBox()"
      ]
     },
     "metadata": {},
     "output_type": "display_data"
    },
    {
     "name": "stderr",
     "output_type": "stream",
     "text": [
      "An error was encountered:\n",
      "Error sending http request and maximum retry encountered.\n"
     ]
    }
   ],
   "source": [
    "print('Done')"
   ]
  },
  {
   "cell_type": "code",
   "execution_count": 19,
   "id": "42107f69-90eb-4d81-8766-4282bce38b9a",
   "metadata": {
    "execution": {
     "iopub.execute_input": "2023-01-02T12:55:32.785648Z",
     "iopub.status.busy": "2023-01-02T12:55:32.781805Z",
     "iopub.status.idle": "2023-01-02T12:55:32.880404Z",
     "shell.execute_reply": "2023-01-02T12:55:32.878967Z",
     "shell.execute_reply.started": "2023-01-02T12:55:32.785562Z"
    }
   },
   "outputs": [
    {
     "data": {
      "application/vnd.jupyter.widget-view+json": {
       "model_id": "fc4aa08a649f4bbdab391ac590090c9a",
       "version_major": 2,
       "version_minor": 0
      },
      "text/plain": [
       "VBox()"
      ]
     },
     "metadata": {},
     "output_type": "display_data"
    },
    {
     "name": "stderr",
     "output_type": "stream",
     "text": [
      "An error was encountered:\n",
      "Error sending http request and maximum retry encountered.\n"
     ]
    }
   ],
   "source": [
    "# extract columns for users table    \n",
    "users_table = df.select('userId','firstName','lastName','gender','level')"
   ]
  },
  {
   "cell_type": "code",
   "execution_count": 20,
   "id": "4beca97f-ed30-40b4-a242-a08372ce283d",
   "metadata": {
    "execution": {
     "iopub.execute_input": "2023-01-02T12:55:32.883578Z",
     "iopub.status.busy": "2023-01-02T12:55:32.882693Z",
     "iopub.status.idle": "2023-01-02T12:55:32.979381Z",
     "shell.execute_reply": "2023-01-02T12:55:32.978308Z",
     "shell.execute_reply.started": "2023-01-02T12:55:32.883534Z"
    }
   },
   "outputs": [
    {
     "data": {
      "application/vnd.jupyter.widget-view+json": {
       "model_id": "2eb00965fe7649daae8750ada4994f7f",
       "version_major": 2,
       "version_minor": 0
      },
      "text/plain": [
       "VBox()"
      ]
     },
     "metadata": {},
     "output_type": "display_data"
    },
    {
     "name": "stderr",
     "output_type": "stream",
     "text": [
      "An error was encountered:\n",
      "Error sending http request and maximum retry encountered.\n"
     ]
    }
   ],
   "source": [
    "print('Done')"
   ]
  },
  {
   "cell_type": "code",
   "execution_count": 21,
   "id": "c0589386-7c71-42f7-b2fd-02f4a371a777",
   "metadata": {
    "execution": {
     "iopub.execute_input": "2023-01-02T12:55:32.982839Z",
     "iopub.status.busy": "2023-01-02T12:55:32.980685Z",
     "iopub.status.idle": "2023-01-02T12:55:33.086551Z",
     "shell.execute_reply": "2023-01-02T12:55:33.085056Z",
     "shell.execute_reply.started": "2023-01-02T12:55:32.982798Z"
    }
   },
   "outputs": [
    {
     "data": {
      "application/vnd.jupyter.widget-view+json": {
       "model_id": "8278fb20cfe047bb857cbca12da11507",
       "version_major": 2,
       "version_minor": 0
      },
      "text/plain": [
       "VBox()"
      ]
     },
     "metadata": {},
     "output_type": "display_data"
    },
    {
     "name": "stderr",
     "output_type": "stream",
     "text": [
      "An error was encountered:\n",
      "Error sending http request and maximum retry encountered.\n"
     ]
    }
   ],
   "source": [
    "# write users table to parquet files\n",
    "users_table.write.mode('overwrite').parquet(output_data + \"users/\")"
   ]
  },
  {
   "cell_type": "code",
   "execution_count": 22,
   "id": "06606eb2-97ab-47fc-ad4f-aeee8ee2fe3e",
   "metadata": {
    "execution": {
     "iopub.execute_input": "2023-01-02T12:55:33.090833Z",
     "iopub.status.busy": "2023-01-02T12:55:33.088309Z",
     "iopub.status.idle": "2023-01-02T12:55:33.264510Z",
     "shell.execute_reply": "2023-01-02T12:55:33.263354Z",
     "shell.execute_reply.started": "2023-01-02T12:55:33.090802Z"
    }
   },
   "outputs": [
    {
     "data": {
      "application/vnd.jupyter.widget-view+json": {
       "model_id": "c875306efc15432094e9e4e07b513d4d",
       "version_major": 2,
       "version_minor": 0
      },
      "text/plain": [
       "VBox()"
      ]
     },
     "metadata": {},
     "output_type": "display_data"
    },
    {
     "name": "stderr",
     "output_type": "stream",
     "text": [
      "An error was encountered:\n",
      "Error sending http request and maximum retry encountered.\n"
     ]
    }
   ],
   "source": [
    "print('Done')"
   ]
  },
  {
   "cell_type": "code",
   "execution_count": 23,
   "id": "4c78c494-fbcc-422d-8ef9-0178b101cf76",
   "metadata": {
    "execution": {
     "iopub.execute_input": "2023-01-02T12:55:33.281554Z",
     "iopub.status.busy": "2023-01-02T12:55:33.277747Z",
     "iopub.status.idle": "2023-01-02T12:55:33.386245Z",
     "shell.execute_reply": "2023-01-02T12:55:33.378183Z",
     "shell.execute_reply.started": "2023-01-02T12:55:33.281511Z"
    }
   },
   "outputs": [
    {
     "data": {
      "application/vnd.jupyter.widget-view+json": {
       "model_id": "a54af2cc19634885bf5f30dd421cefaa",
       "version_major": 2,
       "version_minor": 0
      },
      "text/plain": [
       "VBox()"
      ]
     },
     "metadata": {},
     "output_type": "display_data"
    },
    {
     "name": "stderr",
     "output_type": "stream",
     "text": [
      "An error was encountered:\n",
      "Error sending http request and maximum retry encountered.\n"
     ]
    }
   ],
   "source": [
    "# create timestamp column from original timestamp column\n",
    "get_timestamp = udf(lambda x: datetime.fromtimestamp(x/1000), TS.TimestampType())\n",
    "df = df.withColumn('ts_timestamp',get_timestamp('ts'))"
   ]
  },
  {
   "cell_type": "code",
   "execution_count": 24,
   "id": "fe776b75-570b-4d1f-8676-f5e56d196de7",
   "metadata": {
    "execution": {
     "iopub.execute_input": "2023-01-02T12:55:33.390047Z",
     "iopub.status.busy": "2023-01-02T12:55:33.389544Z",
     "iopub.status.idle": "2023-01-02T12:55:33.506924Z",
     "shell.execute_reply": "2023-01-02T12:55:33.506256Z",
     "shell.execute_reply.started": "2023-01-02T12:55:33.390000Z"
    }
   },
   "outputs": [
    {
     "data": {
      "application/vnd.jupyter.widget-view+json": {
       "model_id": "a37aa7a8737c446e84873d71b5504a58",
       "version_major": 2,
       "version_minor": 0
      },
      "text/plain": [
       "VBox()"
      ]
     },
     "metadata": {},
     "output_type": "display_data"
    },
    {
     "name": "stderr",
     "output_type": "stream",
     "text": [
      "An error was encountered:\n",
      "Error sending http request and maximum retry encountered.\n"
     ]
    }
   ],
   "source": [
    "print('Done')"
   ]
  },
  {
   "cell_type": "code",
   "execution_count": 25,
   "id": "8ef35857-5e22-459f-8878-ae490863ba46",
   "metadata": {
    "execution": {
     "iopub.execute_input": "2023-01-02T12:55:33.508405Z",
     "iopub.status.busy": "2023-01-02T12:55:33.508141Z",
     "iopub.status.idle": "2023-01-02T12:55:33.580884Z",
     "shell.execute_reply": "2023-01-02T12:55:33.580053Z",
     "shell.execute_reply.started": "2023-01-02T12:55:33.508379Z"
    }
   },
   "outputs": [
    {
     "data": {
      "application/vnd.jupyter.widget-view+json": {
       "model_id": "0452e996fc4148ec9ca8dd42906b32c9",
       "version_major": 2,
       "version_minor": 0
      },
      "text/plain": [
       "VBox()"
      ]
     },
     "metadata": {},
     "output_type": "display_data"
    },
    {
     "name": "stderr",
     "output_type": "stream",
     "text": [
      "An error was encountered:\n",
      "Error sending http request and maximum retry encountered.\n"
     ]
    }
   ],
   "source": [
    "# extract columns to create time table\n",
    "time_table = df.select('ts_timestamp', hour('ts_timestamp').alias('hour'), dayofmonth('ts_timestamp').alias('day'), weekofyear('ts_timestamp').alias('weekofyear'),\n",
    "                        month('ts_timestamp').alias('month'), year('ts_timestamp').alias('year'), dayofweek('ts_timestamp').alias('dayofweek'))"
   ]
  },
  {
   "cell_type": "code",
   "execution_count": 26,
   "id": "c29cfdbc-d01a-4a7b-b0e8-7eb70e2e97f7",
   "metadata": {
    "execution": {
     "iopub.execute_input": "2023-01-02T12:55:33.582365Z",
     "iopub.status.busy": "2023-01-02T12:55:33.582107Z",
     "iopub.status.idle": "2023-01-02T12:55:33.607791Z",
     "shell.execute_reply": "2023-01-02T12:55:33.607136Z",
     "shell.execute_reply.started": "2023-01-02T12:55:33.582339Z"
    }
   },
   "outputs": [
    {
     "data": {
      "application/vnd.jupyter.widget-view+json": {
       "model_id": "a283271ceca54c2daee421322ae74960",
       "version_major": 2,
       "version_minor": 0
      },
      "text/plain": [
       "VBox()"
      ]
     },
     "metadata": {},
     "output_type": "display_data"
    },
    {
     "name": "stderr",
     "output_type": "stream",
     "text": [
      "An error was encountered:\n",
      "Error sending http request and maximum retry encountered.\n"
     ]
    }
   ],
   "source": [
    "print('Done')"
   ]
  },
  {
   "cell_type": "code",
   "execution_count": 27,
   "id": "66996b0d-54e5-4acb-abe7-c7ed428b444d",
   "metadata": {
    "execution": {
     "iopub.execute_input": "2023-01-02T12:55:33.662020Z",
     "iopub.status.busy": "2023-01-02T12:55:33.608795Z",
     "iopub.status.idle": "2023-01-02T12:55:33.688707Z",
     "shell.execute_reply": "2023-01-02T12:55:33.687979Z",
     "shell.execute_reply.started": "2023-01-02T12:55:33.661956Z"
    }
   },
   "outputs": [
    {
     "data": {
      "application/vnd.jupyter.widget-view+json": {
       "model_id": "305313946c1f4b4e8c73af4df2468345",
       "version_major": 2,
       "version_minor": 0
      },
      "text/plain": [
       "VBox()"
      ]
     },
     "metadata": {},
     "output_type": "display_data"
    },
    {
     "name": "stderr",
     "output_type": "stream",
     "text": [
      "An error was encountered:\n",
      "Error sending http request and maximum retry encountered.\n"
     ]
    }
   ],
   "source": [
    "# write time table to parquet files partitioned by year and month\n",
    "time_table.write.partitionBy('year', 'month').mode('overwrite').parquet(output_data + \"time/\")"
   ]
  },
  {
   "cell_type": "code",
   "execution_count": 28,
   "id": "0f7e5563-11cf-41da-89c9-1b163485af4d",
   "metadata": {
    "execution": {
     "iopub.execute_input": "2023-01-02T12:55:33.690278Z",
     "iopub.status.busy": "2023-01-02T12:55:33.689777Z",
     "iopub.status.idle": "2023-01-02T12:55:33.765651Z",
     "shell.execute_reply": "2023-01-02T12:55:33.764981Z",
     "shell.execute_reply.started": "2023-01-02T12:55:33.690250Z"
    }
   },
   "outputs": [
    {
     "data": {
      "application/vnd.jupyter.widget-view+json": {
       "model_id": "7988cf71aadb47ed90441b434470efc7",
       "version_major": 2,
       "version_minor": 0
      },
      "text/plain": [
       "VBox()"
      ]
     },
     "metadata": {},
     "output_type": "display_data"
    },
    {
     "name": "stderr",
     "output_type": "stream",
     "text": [
      "An error was encountered:\n",
      "Error sending http request and maximum retry encountered.\n"
     ]
    }
   ],
   "source": [
    "print('Done')"
   ]
  },
  {
   "cell_type": "code",
   "execution_count": 29,
   "id": "ca69d959-1814-49cf-9eac-90d438d41494",
   "metadata": {
    "execution": {
     "iopub.execute_input": "2023-01-02T12:55:33.767166Z",
     "iopub.status.busy": "2023-01-02T12:55:33.766701Z",
     "iopub.status.idle": "2023-01-02T12:55:33.792254Z",
     "shell.execute_reply": "2023-01-02T12:55:33.791633Z",
     "shell.execute_reply.started": "2023-01-02T12:55:33.767138Z"
    }
   },
   "outputs": [
    {
     "data": {
      "application/vnd.jupyter.widget-view+json": {
       "model_id": "21c5645b8c604b6ba181b1e419bef284",
       "version_major": 2,
       "version_minor": 0
      },
      "text/plain": [
       "VBox()"
      ]
     },
     "metadata": {},
     "output_type": "display_data"
    },
    {
     "name": "stderr",
     "output_type": "stream",
     "text": [
      "An error was encountered:\n",
      "Error sending http request and maximum retry encountered.\n"
     ]
    }
   ],
   "source": [
    "# read in song data to use for songplays table\n",
    "song_df = spark.read.json(song_data)"
   ]
  },
  {
   "cell_type": "code",
   "execution_count": 30,
   "id": "e53430e7-41ad-4c70-8e20-2ea8dcf18a44",
   "metadata": {
    "execution": {
     "iopub.execute_input": "2023-01-02T12:55:33.793721Z",
     "iopub.status.busy": "2023-01-02T12:55:33.793194Z",
     "iopub.status.idle": "2023-01-02T12:55:33.878849Z",
     "shell.execute_reply": "2023-01-02T12:55:33.878040Z",
     "shell.execute_reply.started": "2023-01-02T12:55:33.793692Z"
    }
   },
   "outputs": [
    {
     "data": {
      "application/vnd.jupyter.widget-view+json": {
       "model_id": "d0e86e0aad5f48329b0a986099b9a6b7",
       "version_major": 2,
       "version_minor": 0
      },
      "text/plain": [
       "VBox()"
      ]
     },
     "metadata": {},
     "output_type": "display_data"
    },
    {
     "name": "stderr",
     "output_type": "stream",
     "text": [
      "An error was encountered:\n",
      "Error sending http request and maximum retry encountered.\n"
     ]
    }
   ],
   "source": [
    "print('Done')"
   ]
  },
  {
   "cell_type": "code",
   "execution_count": 31,
   "id": "17255271-a464-4001-9a2d-097200c9c335",
   "metadata": {
    "execution": {
     "iopub.execute_input": "2023-01-02T12:55:33.880222Z",
     "iopub.status.busy": "2023-01-02T12:55:33.879961Z",
     "iopub.status.idle": "2023-01-02T12:55:33.973046Z",
     "shell.execute_reply": "2023-01-02T12:55:33.972419Z",
     "shell.execute_reply.started": "2023-01-02T12:55:33.880196Z"
    }
   },
   "outputs": [
    {
     "data": {
      "application/vnd.jupyter.widget-view+json": {
       "model_id": "e551e3902edb4b0c8b21ba6070f2f7cd",
       "version_major": 2,
       "version_minor": 0
      },
      "text/plain": [
       "VBox()"
      ]
     },
     "metadata": {},
     "output_type": "display_data"
    },
    {
     "name": "stderr",
     "output_type": "stream",
     "text": [
      "An error was encountered:\n",
      "Error sending http request and maximum retry encountered.\n"
     ]
    }
   ],
   "source": [
    "# extract columns from joined song and log datasets to create songplays table \n",
    "songplays_table = df.join(song_df, df['song'] == song_df['title']).drop('title')\n",
    "songplays_table = songplays_table.withColumn('songplay_id', monotonically_increasing_id()).select('songplay_id','ts_timestamp', 'userId', 'level',\n",
    "                                                                                                'song_id', 'artist_id', 'sessionId', 'location', 'userAgent')"
   ]
  },
  {
   "cell_type": "code",
   "execution_count": 32,
   "id": "552e124d-1ce6-4b59-96f0-f7e95dd7b0da",
   "metadata": {
    "execution": {
     "iopub.execute_input": "2023-01-02T12:55:33.974595Z",
     "iopub.status.busy": "2023-01-02T12:55:33.974143Z",
     "iopub.status.idle": "2023-01-02T12:55:34.030228Z",
     "shell.execute_reply": "2023-01-02T12:55:34.028877Z",
     "shell.execute_reply.started": "2023-01-02T12:55:33.974565Z"
    }
   },
   "outputs": [
    {
     "data": {
      "application/vnd.jupyter.widget-view+json": {
       "model_id": "a8bf2e2174894d7faba3096d74ad1bdf",
       "version_major": 2,
       "version_minor": 0
      },
      "text/plain": [
       "VBox()"
      ]
     },
     "metadata": {},
     "output_type": "display_data"
    },
    {
     "name": "stderr",
     "output_type": "stream",
     "text": [
      "An error was encountered:\n",
      "Error sending http request and maximum retry encountered.\n"
     ]
    }
   ],
   "source": [
    "print('Done')"
   ]
  },
  {
   "cell_type": "code",
   "execution_count": 33,
   "id": "9b4a581e-5b95-43b9-b347-4077723fbf74",
   "metadata": {
    "execution": {
     "iopub.execute_input": "2023-01-02T12:55:34.064310Z",
     "iopub.status.busy": "2023-01-02T12:55:34.033197Z",
     "iopub.status.idle": "2023-01-02T12:55:34.170471Z",
     "shell.execute_reply": "2023-01-02T12:55:34.169019Z",
     "shell.execute_reply.started": "2023-01-02T12:55:34.064262Z"
    }
   },
   "outputs": [
    {
     "data": {
      "application/vnd.jupyter.widget-view+json": {
       "model_id": "da65085dc2c44a539365067ea4a6e15d",
       "version_major": 2,
       "version_minor": 0
      },
      "text/plain": [
       "VBox()"
      ]
     },
     "metadata": {},
     "output_type": "display_data"
    },
    {
     "name": "stderr",
     "output_type": "stream",
     "text": [
      "An error was encountered:\n",
      "Error sending http request and maximum retry encountered.\n"
     ]
    }
   ],
   "source": [
    "# create year and month columns for the partition \n",
    "songplays_table = songplays_table.withColumn('year', year('ts_timestamp')).withColumn('month', month('ts_timestamp'))"
   ]
  },
  {
   "cell_type": "code",
   "execution_count": 34,
   "id": "98df63e9-786e-422e-a58f-9ec1d22484c1",
   "metadata": {
    "execution": {
     "iopub.execute_input": "2023-01-02T12:55:34.182331Z",
     "iopub.status.busy": "2023-01-02T12:55:34.173878Z",
     "iopub.status.idle": "2023-01-02T12:55:34.286125Z",
     "shell.execute_reply": "2023-01-02T12:55:34.285096Z",
     "shell.execute_reply.started": "2023-01-02T12:55:34.182281Z"
    }
   },
   "outputs": [
    {
     "data": {
      "application/vnd.jupyter.widget-view+json": {
       "model_id": "e2ef21d6ba324d6e8ea6f5df452dc390",
       "version_major": 2,
       "version_minor": 0
      },
      "text/plain": [
       "VBox()"
      ]
     },
     "metadata": {},
     "output_type": "display_data"
    },
    {
     "name": "stderr",
     "output_type": "stream",
     "text": [
      "An error was encountered:\n",
      "Error sending http request and maximum retry encountered.\n"
     ]
    }
   ],
   "source": [
    "print('Done')"
   ]
  },
  {
   "cell_type": "code",
   "execution_count": 35,
   "id": "7fe74ab6-8864-4f59-b226-310e644676d5",
   "metadata": {
    "execution": {
     "iopub.execute_input": "2023-01-02T12:55:34.288212Z",
     "iopub.status.busy": "2023-01-02T12:55:34.287460Z",
     "iopub.status.idle": "2023-01-02T12:55:34.463450Z",
     "shell.execute_reply": "2023-01-02T12:55:34.395692Z",
     "shell.execute_reply.started": "2023-01-02T12:55:34.288167Z"
    }
   },
   "outputs": [
    {
     "data": {
      "application/vnd.jupyter.widget-view+json": {
       "model_id": "30ef941bbb05452f9572dbaa06284751",
       "version_major": 2,
       "version_minor": 0
      },
      "text/plain": [
       "VBox()"
      ]
     },
     "metadata": {},
     "output_type": "display_data"
    },
    {
     "name": "stderr",
     "output_type": "stream",
     "text": [
      "An error was encountered:\n",
      "Error sending http request and maximum retry encountered.\n"
     ]
    }
   ],
   "source": [
    "# write songplays table to parquet files partitioned by year and month\n",
    "songplays_table.write.partitionBy('year', 'month').mode('overwrite').parquet(output_data + \"songplays/\")"
   ]
  },
  {
   "cell_type": "code",
   "execution_count": 36,
   "id": "876cc78f-fce0-42a2-ad8b-841ff44028d8",
   "metadata": {
    "execution": {
     "iopub.execute_input": "2023-01-02T12:55:34.468745Z",
     "iopub.status.busy": "2023-01-02T12:55:34.466980Z",
     "iopub.status.idle": "2023-01-02T12:55:34.597179Z",
     "shell.execute_reply": "2023-01-02T12:55:34.595944Z",
     "shell.execute_reply.started": "2023-01-02T12:55:34.468698Z"
    }
   },
   "outputs": [
    {
     "data": {
      "application/vnd.jupyter.widget-view+json": {
       "model_id": "f8272a1209e34f4eb7c8c3d872bf2eb9",
       "version_major": 2,
       "version_minor": 0
      },
      "text/plain": [
       "VBox()"
      ]
     },
     "metadata": {},
     "output_type": "display_data"
    },
    {
     "name": "stderr",
     "output_type": "stream",
     "text": [
      "An error was encountered:\n",
      "Error sending http request and maximum retry encountered.\n"
     ]
    }
   ],
   "source": [
    "print('Done')"
   ]
  },
  {
   "cell_type": "code",
   "execution_count": null,
   "id": "af8f65e0-bc0b-4aa7-869f-f97f3e96e791",
   "metadata": {},
   "outputs": [],
   "source": []
  },
  {
   "cell_type": "code",
   "execution_count": null,
   "id": "6ecffcc4-3cf3-4128-8af9-d80b73bb2d19",
   "metadata": {},
   "outputs": [],
   "source": []
  },
  {
   "cell_type": "code",
   "execution_count": null,
   "id": "c86fca72-c178-478c-9c4a-ef5a78afbc10",
   "metadata": {},
   "outputs": [],
   "source": []
  },
  {
   "cell_type": "code",
   "execution_count": null,
   "id": "96b3b4a4-42ae-43f2-8468-ca4413fd9d6d",
   "metadata": {},
   "outputs": [],
   "source": []
  },
  {
   "cell_type": "code",
   "execution_count": null,
   "id": "dc3f9e67-08d6-431b-9bdd-e3820dfbff39",
   "metadata": {},
   "outputs": [],
   "source": []
  }
 ],
 "metadata": {
  "kernelspec": {
   "display_name": "PySpark",
   "language": "",
   "name": "pysparkkernel"
  },
  "language_info": {
   "codemirror_mode": {
    "name": "python",
    "version": 2
   },
   "mimetype": "text/x-python",
   "name": "pyspark",
   "pygments_lexer": "python2"
  }
 },
 "nbformat": 4,
 "nbformat_minor": 5
}
